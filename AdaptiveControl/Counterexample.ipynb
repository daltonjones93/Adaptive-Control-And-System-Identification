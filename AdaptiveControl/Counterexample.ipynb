{
 "cells": [
  {
   "cell_type": "code",
   "execution_count": 2,
   "metadata": {},
   "outputs": [],
   "source": [
    "import numpy as np\n",
    "from scipy import linalg as la\n",
    "import matplotlib.pyplot as plt\n",
    "import os\n",
    "import pandas as pd\n",
    "import scipy.signal as sig\n"
   ]
  },
  {
   "cell_type": "code",
   "execution_count": 5,
   "metadata": {},
   "outputs": [],
   "source": [
    "#need to design a simple LTI system simulator with gaussian input and outout noise\n",
    "#we're just doing this for a SISO system\n",
    "\n",
    "\n",
    "class LTISim(object):\n",
    "    def __init__(self,A,B,C,Q,R,v1,v2):\n",
    "        self.A = A\n",
    "        self.B = B\n",
    "        self.C = C\n",
    "        self.var1 = v1\n",
    "        self.var2 = v2\n",
    "        self.state = np.zeros(A.shape[0])\n",
    "        self.output = self.C.dot(self.state)\n",
    "        self.Q = Q #set this to a parameter\n",
    "        self.R = R #quadratic cost for input I think we should just make this a fixed 1 too. \n",
    "        \n",
    "    def simulate(self,u):\n",
    "        states = []\n",
    "        outputs = []\n",
    "        \n",
    "        for i in range(len(u)):\n",
    "            self.state = self.A.dot(self.state) + self.B.dot(u[i]) + \\\n",
    "            np.random.multivariate_normal(mean = np.zeros(len(self.state)),cov = self.var1*np.eye(len(self.state)))\n",
    "            \n",
    "            self.output = self.C.dot(self.state)+ np.random.normal(loc = 0,scale = self.var2)\n",
    "            \n",
    "            states.append(self.state)\n",
    "            outputs.append(self.output)\n",
    "            \n",
    "            \n",
    "        \n",
    "        return u, np.array(outputs)\n",
    "    \n",
    "    def collectData(self,numRuns,runLen,inputNoise):\n",
    "        \n",
    "#         assert numRuns >= runLen\n",
    "        \n",
    "        outputVec = np.zeros(numRuns)\n",
    "        inputMatrix = np.zeros((numRuns,runLen))\n",
    "        for i in range(numRuns):\n",
    "            self.state = np.zeros(len(self.state))\n",
    "            self.output = 0\n",
    "            u = np.random.normal(loc = 0,scale = inputNoise, size = (runLen,))\n",
    "            inputMatrix[i,:] = u\n",
    "            u,outputs = self.simulate(u)\n",
    "            outputVec[i] = outputs[-1]\n",
    "        return inputMatrix, outputVec\n",
    "    \n",
    "    def estimateMarkovParamters(self,inputMatrix,outputVec):\n",
    "        return np.linalg.pinv(inputMatrix.T.dot(inputMatrix)).dot(inputMatrix.T.dot(outputVec))\n",
    "    \n",
    "    def createHankelMatrix(self,markovParameters,size):\n",
    "        assert 2*size < len(markovParameters)\n",
    "        markovParameters = np.flip(markovParameters)\n",
    "        \n",
    "        hankel = np.zeros((size,size))\n",
    "        \n",
    "        for i in range(size):\n",
    "            for j in range(size):\n",
    "                hankel[i,j] = markovParameters[i+j]\n",
    "                \n",
    "        return hankel\n",
    "    \n",
    "    def Hokalman2(self,H,n):\n",
    "    \n",
    "        u,s,vh = np.linalg.svd(H)\n",
    "\n",
    "        smat = np.sqrt(np.diag(s))\n",
    "        smat = smat[:n,:n]\n",
    "        D1 = u[:,:n].dot(smat)\n",
    "        D2 = smat.dot(vh[:n,:])\n",
    "\n",
    "        Cest = D1[0,:]\n",
    "        Best = D2[:,0]\n",
    "\n",
    "        Dminus = D2[:,:D2.shape[1]-1].T\n",
    "        Dplus = D2[:,1:D2.shape[1]].T\n",
    "\n",
    "        #then we have A*Dminus = Dplus\n",
    "        #or in other words Dminus^T A^T = Dplus.T right?\n",
    "        #so then the least squares solution should be \n",
    "        Aest = np.linalg.inv(Dminus.T.dot(Dminus)).dot(Dminus.T.dot(Dplus))\n",
    "        Aest = Aest.T\n",
    "        \n",
    "        return Aest,Best.reshape((len(Best),1)),Cest.reshape(1,len(Cest))\n",
    "    \n",
    "    def calculate_estimated_control(self,Aest,Best,Cest):\n",
    "        #here we need to use ricatti equations and then solve \n",
    "        #what happens if the ricatti equation solve throws an error?\n",
    "        #I suppose that won't happen as long as the eigenvalues of the estimated matrix have magnitude less than 1.\n",
    "        Q = np.eye(Aest.shape[0])*self.Q\n",
    "        R = np.array([[1]])*self.R\n",
    "        \n",
    "        S = la.solve_discrete_are(Aest, Best, Q, R)\n",
    "        P = la.solve_discrete_are(Aest.T,Cest.T,Q,R)\n",
    "        \n",
    "        L = (Aest.dot(P.dot(Cest.T))).dot(np.linalg.inv(Cest.dot(P.dot(Cest.T)) +np.array([[self.var2]])))\n",
    "        K = (np.linalg.inv(Best.T.dot(S.dot(Best))+R)).dot(Best.T.dot(S.dot(Aest)))\n",
    "        \n",
    "        return L,K\n",
    "\n",
    "    def determine_closed_loop_stability(self,Aest,Best,Cest,L,K):\n",
    "        \n",
    "        #we need to determine the transfer function of P and K and then\n",
    "        #put them together in a nice way\n",
    "        Pstatespace = sig.StateSpace(self.A,self.B.reshape(len(self.B),1),self.C.reshape(1,len(self.C)))\n",
    "        Ptr = sig.TransferFunction(Pstatespace)\n",
    "        \n",
    "        Ahat= Aest -Best.dot(K) -(L.dot(Cest)).dot(Aest-Best.dot(K))\n",
    "        \n",
    "        Kstatespace = sig.StateSpace(Ahat,L,-K)\n",
    "        Ktr = sig.TransferFunction(Kstatespace)\n",
    "        \n",
    "        a = np.poly1d(Ptr.num)\n",
    "        b = np.poly1d(Ptr.den)\n",
    "        c = np.poly1d(Ktr.num)\n",
    "        d = np.poly1d(Ktr.den)\n",
    "        \n",
    "        closedLoopDenom = b*d - a*c\n",
    "        \n",
    "        roots = closedLoopDenom.r\n",
    "        return np.max(np.abs(roots)) \n",
    "        \n",
    "        \n",
    "        \n",
    "        \n",
    "#         sysMat = np.zeros((self.A.shape[0]+Aest.shape[0],self.A.shape[0]+Aest.shape[0]))\n",
    "        \n",
    "#         sysMat[:self.A.shape[0],:self.A.shape[0]]= self.A\n",
    "#         sysMat[:self.A.shape[0],self.A.shape[0]:] = -self.B.reshape(len(self.B),1).dot(K)\n",
    "#         sysMat[self.A.shape[0]:,:self.A.shape[0]] = L.dot(C.reshape(1,len(C)))\n",
    "#         sysMat[self.A.shape[0]:,self.A.shape[0]:] = Aest-Best.dot(K)-Cest.dot(Aest)-Cest.dot(Best.dot(K))\n",
    "        \n",
    "#         return np.max(np.abs(np.linalg.eigvals(sysMat))) #this is the maximum eigenvalue magnitude\n",
    "        \n",
    "\n"
   ]
  },
  {
   "cell_type": "code",
   "execution_count": 53,
   "metadata": {},
   "outputs": [
    {
     "data": {
      "text/plain": [
       "0.4407761362484311"
      ]
     },
     "execution_count": 53,
     "metadata": {},
     "output_type": "execute_result"
    }
   ],
   "source": [
    "\n",
    "\n",
    "A = np.array([[.1,.2],[.11,.16]])\n",
    "B = np.random.rand(2).T\n",
    "C = np.random.rand(2)\n",
    "Q = .1\n",
    "R = np.array([[1]])\n",
    "v1 = .05\n",
    "v2 = .02\n",
    "\n",
    "\n",
    "sim = LTISim(A,B,C,Q,R,v1,v2)\n",
    "u = np.random.normal(loc= 0,scale =1,size = (20,))\n",
    "inputmatrix,outputvec = sim.collectData(numRuns=50,runLen=40,inputNoise=1)\n",
    "\n",
    "mkvParams = sim.estimateMarkovParamters(inputmatrix,outputvec)\n",
    "H = sim.createHankelMatrix(mkvParams,18)\n",
    "Aest,Best,Cest = sim.Hokalman2(H,2)\n",
    "\n",
    "L,K = sim.calculate_estimated_control(Aest,Best,Cest)\n",
    "\n",
    "sim.determine_closed_loop_stability(Aest,Best,Cest,L,K)\n"
   ]
  },
  {
   "cell_type": "code",
   "execution_count": 153,
   "metadata": {
    "scrolled": true
   },
   "outputs": [
    {
     "name": "stderr",
     "output_type": "stream",
     "text": [
      "\r",
      "  0%|          | 0/14 [00:00<?, ?it/s]"
     ]
    },
    {
     "name": "stdout",
     "output_type": "stream",
     "text": [
      "0.36324016068648696\n"
     ]
    },
    {
     "name": "stderr",
     "output_type": "stream",
     "text": [
      "100%|██████████| 14/14 [06:47<00:00, 29.07s/it]\n"
     ]
    }
   ],
   "source": [
    "A = np.random.rand(5,5)/5\n",
    "print(np.max(np.abs(np.linalg.eigvals(A))))\n",
    "\n",
    "B = np.zeros(5)\n",
    "B[0] = 1\n",
    "C = np.random.rand(5)\n",
    "\n",
    "C[0] = 0\n",
    "\n",
    "Q = .1\n",
    "R = np.array([[1]])\n",
    "v1 = .02\n",
    "v2 = .02\n",
    "\n",
    "#we want to simulate with more data\n",
    "\n",
    "xvals = np.arange(10,150,10)#this is numruns\n",
    "num_trials = 100\n",
    "prob_of_stability = np.zeros(len(xvals))\n",
    "\n",
    "for i in tqdm(range(len(xvals))):\n",
    "    numr = xvals[i]\n",
    "    for j in range(num_trials):\n",
    "        \n",
    "        sim = LTISim(A,B,C,Q,R,v1,v2)\n",
    "#         u = np.random.normal(loc= 0,scale =1,size = (20,))\n",
    "        inputmatrix,outputvec = sim.collectData(numRuns=numr,runLen=40,inputNoise=1)\n",
    "\n",
    "        mkvParams = sim.estimateMarkovParamters(inputmatrix,outputvec)\n",
    "        H = sim.createHankelMatrix(mkvParams,11)\n",
    "        Aest,Best,Cest = sim.Hokalman2(H,5)\n",
    "\n",
    "        L,K = sim.calculate_estimated_control(Aest,Best,Cest)\n",
    "\n",
    "        if sim.determine_closed_loop_stability(Aest,Best,Cest,L,K) <= 1:\n",
    "            prob_of_stability[i] +=1\n",
    "\n",
    "prob_of_stability /=num_trials\n",
    "\n",
    "\n",
    "        \n",
    "\n"
   ]
  },
  {
   "cell_type": "code",
   "execution_count": 155,
   "metadata": {},
   "outputs": [
    {
     "data": {
      "image/png": "[encoded data removed]",
      "text/plain": [
       "<Figure size 432x288 with 1 Axes>"
      ]
     },
     "metadata": {
      "needs_background": "light"
     },
     "output_type": "display_data"
    }
   ],
   "source": [
    "#plot this probability thing\n",
    "plt.figure()\n",
    "plt.xlabel('Quantity of Data')\n",
    "plt.ylabel('Probability of Closed Loop Stability')\n",
    "plt.scatter(xvals,prob_of_stability)\n",
    "plt.savefig('StabilityWithData.pdf')\n",
    "plt.show()\n",
    "\n"
   ]
  },
  {
   "cell_type": "code",
   "execution_count": 209,
   "metadata": {
    "scrolled": true
   },
   "outputs": [
    {
     "name": "stderr",
     "output_type": "stream",
     "text": [
      "  0%|          | 0/50 [00:00<?, ?it/s]/Users/daltonjones/opt/anaconda3/lib/python3.8/site-packages/scipy/signal/filter_design.py:1625: BadCoefficients: Badly conditioned filter coefficients (numerator): the results may be meaningless\n",
      "  warnings.warn(\"Badly conditioned filter coefficients (numerator): the \"\n",
      "100%|██████████| 50/50 [01:32<00:00,  1.85s/it]\n"
     ]
    }
   ],
   "source": [
    "mu = 1\n",
    "gamma = 1\n",
    "\n",
    "epsilon = .5\n",
    "\n",
    "#we have that $(x-(1-epsilon)^3)$ is the polynomial we care about\n",
    "#the coefficients in this case are given by 3*(1-epsilon),3*(1-epsilon)**2, and (1-epsilon)**3\n",
    "\n",
    "\n",
    "muvals = np.linspace(0,.25,50)\n",
    "\n",
    "num_trials = 100\n",
    "\n",
    "system_size = 11\n",
    "\n",
    "prob_stable10 = np.zeros(len(muvals))\n",
    "\n",
    "for i in tqdm(range(len(muvals))):\n",
    "    for j in range(num_trials):\n",
    "        mu = muvals[i]\n",
    "\n",
    "        A = np.zeros((system_size,system_size))\n",
    "        A[0,0] = -3*(1-epsilon)\n",
    "        A[0,1] = -3*(1-epsilon)**2\n",
    "        A[0,2] = -(1-epsilon)**3\n",
    "        A[1:,:system_size-1] = np.eye(system_size-1)\n",
    "        A[0,system_size-1] = mu\n",
    "\n",
    "        B = np.zeros(system_size)\n",
    "        B[0] = 1\n",
    "\n",
    "        C = np.zeros(system_size)\n",
    "        C[2] = gamma\n",
    "\n",
    "\n",
    "        Q = .1\n",
    "        R = np.array([[1]])\n",
    "        v1 = .01\n",
    "        v2 = .01\n",
    "\n",
    "        sim = LTISim(A,B,C,Q,R,v1,v2)\n",
    "#         u = np.random.normal(loc= 0,scale =1,size = (20,))\n",
    "        inputmatrix,outputvec = sim.collectData(numRuns=14,runLen=12,inputNoise=1)\n",
    "\n",
    "        mkvParams = sim.estimateMarkovParamters(inputmatrix,outputvec)\n",
    "        H = sim.createHankelMatrix(mkvParams,5)\n",
    "        Aest,Best,Cest = sim.Hokalman2(H,3)\n",
    "\n",
    "        L,K = sim.calculate_estimated_control(Aest,Best,Cest)\n",
    "\n",
    "        if sim.determine_closed_loop_stability(Aest,Best,Cest,L,K) <=1:\n",
    "            prob_stable10[i] +=1\n",
    "    \n",
    "prob_stable10/= num_trials\n",
    "\n",
    "\n",
    "\n",
    "\n",
    "\n",
    "\n"
   ]
  },
  {
   "cell_type": "code",
   "execution_count": 212,
   "metadata": {},
   "outputs": [
    {
     "data": {
      "image/png": "[encoded data removed]",
      "text/plain": [
       "<Figure size 432x288 with 1 Axes>"
      ]
     },
     "metadata": {
      "needs_background": "light"
     },
     "output_type": "display_data"
    }
   ],
   "source": [
    "plt.figure()\n",
    "plt.xlabel('Magnitude of Disturbance')\n",
    "plt.title('Stability Under Delay '+r'$P(z) = \\frac{1}{(z-\\frac{1}{2})^3}$',fontsize=20)\n",
    "plt.ylabel('Probability of Stability')\n",
    "plt.plot(muvals,prob_stable20, label = 'Delay = 20')\n",
    "# plt.plot(muvals,prob_stable10,label = 'Delay = 10')\n",
    "# plt.plot(muvals,prob_stable30,label = 'Delay = 30')\n",
    "plt.plot(muvals,prob_stable50,label = 'Delay = 50')\n",
    "# plt.plot(muvals,prob_stable60,label = 'Delay = 60')\n",
    "plt.plot(muvals,prob_stable70,label = 'Delay = 70')\n",
    "# plt.plot(muvals,prob_stable80,label = 'Delay = 80')\n",
    "plt.legend()\n",
    "plt.savefig('DelayStability.pdf')\n",
    "plt.show()"
   ]
  },
  {
   "cell_type": "code",
   "execution_count": 168,
   "metadata": {},
   "outputs": [
    {
     "data": {
      "image/png": "[encoded data removed]",
      "text/plain": [
       "<Figure size 432x288 with 1 Axes>"
      ]
     },
     "metadata": {
      "needs_background": "light"
     },
     "output_type": "display_data"
    }
   ],
   "source": [
    "plt.figure()\n",
    "plt.xlabel('Magnitude of Disturbance')\n",
    "plt.title('Delay = 50 \\n'+r'$P(z) = \\frac{1}{(z-.7)^3}$')\n",
    "plt.ylabel('Probability of Stability')\n",
    "plt.scatter(muvals,prob_stable)\n",
    "# plt.savefig('Delay20Stability.pdf')\n",
    "plt.show()"
   ]
  },
  {
   "cell_type": "code",
   "execution_count": 67,
   "metadata": {},
   "outputs": [
    {
     "data": {
      "text/plain": [
       "array([[0.08488042, 0.48416522],\n",
       "       [0.32134414, 0.24054103]])"
      ]
     },
     "execution_count": 67,
     "metadata": {},
     "output_type": "execute_result"
    }
   ],
   "source": [
    "np.random.rand(2,2)/2"
   ]
  },
  {
   "cell_type": "code",
   "execution_count": 17,
   "metadata": {},
   "outputs": [],
   "source": [
    "def create_delay_matrix(dim,delay_param):\n",
    "    A = np.diag(np.ones(dim-1),k=-1)\n",
    "    \n",
    "    A[:2,:2] = np.array([[0.3906748, 0.29431074],[0.28595016, 0.35416954]])\n",
    "    \n",
    "    \n",
    "    A[0,-1] = delay_param\n",
    "    B = np.zeros(dim)\n",
    "    C = np.zeros(dim)\n",
    "    B[0] =1\n",
    "    C[0] = 1\n",
    "    return A,B,C"
   ]
  },
  {
   "cell_type": "code",
   "execution_count": 108,
   "metadata": {},
   "outputs": [
    {
     "name": "stderr",
     "output_type": "stream",
     "text": [
      "100%|██████████| 20/20 [16:20<00:00, 49.04s/it]\n"
     ]
    }
   ],
   "source": [
    "from tqdm import tqdm\n",
    "\n",
    "xvals = np.linspace(.1,1,20) #spectral radius\n",
    "prob_of_stability = np.zeros(20)\n",
    "\n",
    "num_trials = 1000\n",
    "\n",
    "\n",
    "for j in tqdm(range(len(xvals))):\n",
    "    v = xvals[j]\n",
    "    \n",
    "    for i in range(num_trials):\n",
    "\n",
    "        A,B,C = create_delay_matrix(4,-.1)\n",
    "        # A = np.random.rand(20,20)/10\n",
    "        # B = np.random.rand(20).T\n",
    "        # C = np.random.rand(20)\n",
    "\n",
    "        H = orthTransform(4)\n",
    "        \n",
    "        d = np.random.rand(4)*v\n",
    "        d[0] = v\n",
    "\n",
    "        A = H.dot(np.diag(d).dot(H.T))\n",
    "\n",
    "        \n",
    "\n",
    "        Q = np.eye(4)\n",
    "        R = np.array([[1]])\n",
    "        v1 = .25\n",
    "        v2 = .25\n",
    "\n",
    "\n",
    "\n",
    "        sim = LTISim(A,B,C,Q,R,v1,v2)\n",
    "        # u = np.random.normal(loc= 0,scale =1,size = (10,))\n",
    "        inputmatrix,outputvec = sim.collectData(numRuns=25,runLen=20,inputNoise=1)\n",
    "\n",
    "        mkvParams = sim.estimateMarkovParamters(inputmatrix,outputvec)\n",
    "        H = sim.createHankelMatrix(mkvParams,9)\n",
    "        Aest,Best,Cest = sim.Hokalman2(H,3)\n",
    "\n",
    "        L,K = sim.calculate_estimated_control(Aest,Best,Cest)\n",
    "\n",
    "        norm = sim.determine_closed_loop_stability(Aest,Best,Cest,L,K)\n",
    "        \n",
    "        if norm<1:\n",
    "            prob_of_stability[j]+=1\n",
    "            \n",
    "prob_of_stability/=1000\n",
    "\n",
    "\n",
    "        \n"
   ]
  },
  {
   "cell_type": "code",
   "execution_count": 109,
   "metadata": {},
   "outputs": [
    {
     "data": {
      "image/png": "[encoded data removed]",
      "text/plain": [
       "<Figure size 432x288 with 1 Axes>"
      ]
     },
     "metadata": {
      "needs_background": "light"
     },
     "output_type": "display_data"
    }
   ],
   "source": [
    "plt.figure()\n",
    "plt.plot(xvals,prob_of_stability)\n",
    "plt.xlabel('Spectral Radius')\n",
    "plt.title('Exploration of Adaptive Control with Model Misspecification \\n True Dim = 4, Estimated Dimension = 3')\n",
    "plt.ylabel('Probability of Closed Loop Stability')\n",
    "# plt.savefig('CounterexamplePlot.pdf')\n",
    "plt.show()"
   ]
  },
  {
   "cell_type": "code",
   "execution_count": null,
   "metadata": {},
   "outputs": [],
   "source": [
    "## print(Best)\n",
    "Best.reshape((2,1))"
   ]
  },
  {
   "cell_type": "code",
   "execution_count": 55,
   "metadata": {},
   "outputs": [
    {
     "data": {
      "text/plain": [
       "1.0"
      ]
     },
     "execution_count": 55,
     "metadata": {},
     "output_type": "execute_result"
    }
   ],
   "source": [
    "a = np.array([[.5, 1], [0, -1]])\n",
    "b = np.array([[1, -1], [2, 1]])\n",
    "q = np.array([[-2, -4], [-4, 7]])\n",
    "r = np.array([[9, 3], [3, 1]])\n",
    "x = la.solve_discrete_are(a, b, q, r)\n",
    "x\n",
    "\n",
    "\n",
    "np.max(np.abs(np.linalg.eigvals(a)))\n",
    "\n",
    "# R = la.solve(r + b.T.dot(x).dot(b), b.T.dot(x).dot(a))\n",
    "# np.allclose(a.T.dot(x).dot(a) - x - a.T.dot(x).dot(b).dot(R), -q)\n"
   ]
  },
  {
   "cell_type": "code",
   "execution_count": 15,
   "metadata": {},
   "outputs": [
    {
     "name": "stdout",
     "output_type": "stream",
     "text": [
      "[ 0.75967204 -0.45967204]\n",
      "[-0.45967204  0.75967204]\n",
      "[[0.1  0.52]\n",
      " [0.71 0.2 ]]\n",
      "[[ 0.74252928  0.14355853]\n",
      " [ 0.14355853 -0.44252928]]\n"
     ]
    }
   ],
   "source": [
    "A = np.array([[.1,.52],[.71,.2]])\n",
    "B = np.array([1,1]).T\n",
    "C = np.array([[1,0]])\n",
    "\n",
    "H = np.zeros((30,30))\n",
    "\n",
    "for i in range(30):\n",
    "    for j in range(30):\n",
    "        H[i,j] = C.dot(np.linalg.matrix_power(A,i+j).dot(B))\n",
    "\n",
    "\n",
    "n = 2\n",
    "\n",
    "def Hokalman2(H,n):\n",
    "    \n",
    "    u,s,vh = np.linalg.svd(H)\n",
    "    \n",
    "    smat = np.sqrt(np.diag(s))\n",
    "    smat = smat[:n,:n]\n",
    "    D1 = u[:,:n].dot(smat)\n",
    "    D2 = smat.dot(vh[:n,:])\n",
    "    \n",
    "    Cest = D1[0,:]\n",
    "    Best = D2[:,0]\n",
    "    \n",
    "    Dminus = D2[:,:D2.shape[1]-1].T\n",
    "    Dplus = D2[:,1:D2.shape[1]].T\n",
    "    \n",
    "    #then we have A*Dminus = Dplus\n",
    "    #or in other words Dminus^T A^T = Dplus.T right?\n",
    "    #so then the least squares solution should be \n",
    "    Aest = np.linalg.inv(Dminus.T.dot(Dminus)).dot(Dminus.T.dot(Dplus))\n",
    "    Aest = Aest.T\n",
    "    return Aest,Best,Cest\n",
    "\n",
    "Aest,Best,Cest = Hokalman2(H,n)\n",
    "\n",
    "print(np.linalg.eigvals(Aest))\n",
    "print(np.linalg.eigvals(A))\n",
    "\n",
    "print(A)\n",
    "print(Aest)\n"
   ]
  },
  {
   "cell_type": "code",
   "execution_count": 132,
   "metadata": {},
   "outputs": [
    {
     "name": "stdout",
     "output_type": "stream",
     "text": [
      "[[0.75809316 0.61007785]\n",
      " [0.44697473 0.86588845]]\n"
     ]
    }
   ],
   "source": [
    "\n",
    "Atest = np.diag(np.ones(10),k=-1)\n",
    "Atest[:2,:2] = np.random.rand(2,2)/2\n",
    "Atest[0,10] = -.1\n",
    "\n",
    "\n",
    "np.max(np.abs(np.linalg.eigvals(Atest)))\n",
    "\n",
    "print(A[:2,:2])\n"
   ]
  },
  {
   "cell_type": "code",
   "execution_count": 18,
   "metadata": {},
   "outputs": [
    {
     "data": {
      "text/plain": [
       "array([0.9       , 0.85610648, 0.57386534, 0.81435368, 0.77463718,\n",
       "       0.60328804, 0.63421928, 0.6667364 , 0.7009207 , 0.73685768])"
      ]
     },
     "execution_count": 18,
     "metadata": {},
     "output_type": "execute_result"
    }
   ],
   "source": [
    "def orthTransform(dim=3):\n",
    "    random_state = np.random\n",
    "    H = np.eye(dim)\n",
    "    D = np.ones((dim,))\n",
    "    for n in range(1, dim):\n",
    "        x = random_state.normal(size=(dim-n+1,))\n",
    "        D[n-1] = np.sign(x[0])\n",
    "        x[0] -= D[n-1]*np.sqrt((x*x).sum())\n",
    "         # Householder transformation\n",
    "        Hx = (np.eye(dim-n+1) - 2.*np.outer(x, x)/(x*x).sum())\n",
    "        mat = np.eye(dim)\n",
    "        mat[n-1:, n-1:] = Hx\n",
    "        H = np.dot(H, mat)\n",
    "         # Fix the last sign such that the determinant is 1\n",
    "    D[-1] = (-1)**(1-(dim % 2))*D.prod()\n",
    "    # Equivalent to np.dot(np.diag(D), H) but faster, apparently\n",
    "    H = (D*H.T).T\n",
    "    return H\n",
    "\n",
    "H = orthTransform(10)\n",
    "\n",
    "mat = H.dot(np.diag(.9*np.exp(-.05*np.arange(10))).dot(H.T))\n",
    "np.linalg.eigvals(mat)\n",
    "\n"
   ]
  },
  {
   "cell_type": "code",
   "execution_count": 177,
   "metadata": {},
   "outputs": [
    {
     "data": {
      "text/plain": [
       "array([[ 1.00000000e+00, -2.27320600e-17, -7.17208583e-18],\n",
       "       [-2.27320600e-17,  1.00000000e+00, -8.86015291e-17],\n",
       "       [-7.17208583e-18, -8.86015291e-17,  1.00000000e+00]])"
      ]
     },
     "execution_count": 177,
     "metadata": {},
     "output_type": "execute_result"
    }
   ],
   "source": []
  },
  {
   "cell_type": "code",
   "execution_count": 96,
   "metadata": {},
   "outputs": [
    {
     "data": {
      "image/png": "[encoded data removed]",
      "text/plain": [
       "<Figure size 432x288 with 2 Axes>"
      ]
     },
     "metadata": {
      "needs_background": "light"
     },
     "output_type": "display_data"
    }
   ],
   "source": []
  },
  {
   "cell_type": "code",
   "execution_count": 110,
   "metadata": {},
   "outputs": [
    {
     "data": {
      "text/plain": [
       "array([10, 12, 14])"
      ]
     },
     "execution_count": 110,
     "metadata": {},
     "output_type": "execute_result"
    }
   ],
   "source": [
    "np.arange(10,15,2)"
   ]
  },
  {
   "cell_type": "code",
   "execution_count": 46,
   "metadata": {},
   "outputs": [
    {
     "name": "stderr",
     "output_type": "stream",
     "text": [
      "\r",
      "  0%|          | 0/38 [00:00<?, ?it/s]"
     ]
    },
    {
     "name": "stdout",
     "output_type": "stream",
     "text": [
      "0.8000000000000005\n"
     ]
    },
    {
     "name": "stderr",
     "output_type": "stream",
     "text": [
      "/Users/daltonjones/opt/anaconda3/lib/python3.8/site-packages/scipy/signal/filter_design.py:1625: BadCoefficients: Badly conditioned filter coefficients (numerator): the results may be meaningless\n",
      "  warnings.warn(\"Badly conditioned filter coefficients (numerator): the \"\n",
      "  3%|▎         | 1/38 [00:00<00:33,  1.12it/s]"
     ]
    },
    {
     "name": "stdout",
     "output_type": "stream",
     "text": [
      "[-0.07283105+0.93972868j -0.07283105-0.93972868j  0.01917393+0.j        ]\n",
      "[0.8 0.8 0.8 0.8 0.8 0.8 0.8 0.8 0.8 0.8]\n"
     ]
    },
    {
     "name": "stderr",
     "output_type": "stream",
     "text": [
      "\r",
      "  5%|▌         | 2/38 [00:01<00:34,  1.05it/s]"
     ]
    },
    {
     "name": "stdout",
     "output_type": "stream",
     "text": [
      "[ 0.88193226+0.j         -0.62022454+0.72676553j -0.62022454-0.72676553j]\n",
      "[0.8 0.8 0.8 0.8 0.8 0.8 0.8 0.8 0.8 0.8]\n"
     ]
    },
    {
     "name": "stderr",
     "output_type": "stream",
     "text": [
      "\r",
      "  8%|▊         | 3/38 [00:03<00:37,  1.06s/it]"
     ]
    },
    {
     "name": "stdout",
     "output_type": "stream",
     "text": [
      "[0.35456548+0.97596847j 0.35456548-0.97596847j 0.66034642+0.j        ]\n",
      "[0.8 0.8 0.8 0.8 0.8 0.8 0.8 0.8 0.8 0.8]\n"
     ]
    },
    {
     "name": "stderr",
     "output_type": "stream",
     "text": [
      "\r",
      " 11%|█         | 4/38 [00:04<00:41,  1.22s/it]"
     ]
    },
    {
     "name": "stdout",
     "output_type": "stream",
     "text": [
      "[0.65719468+0.j         0.24126438+0.81080362j 0.24126438-0.81080362j]\n",
      "[0.8 0.8 0.8 0.8 0.8 0.8 0.8 0.8 0.8 0.8]\n"
     ]
    },
    {
     "name": "stderr",
     "output_type": "stream",
     "text": [
      "\r",
      " 13%|█▎        | 5/38 [00:06<00:47,  1.44s/it]"
     ]
    },
    {
     "name": "stdout",
     "output_type": "stream",
     "text": [
      "[ 0.98474415+0.j         -0.16254263+0.98832067j -0.16254263-0.98832067j]\n",
      "[0.8 0.8 0.8 0.8 0.8 0.8 0.8 0.8 0.8 0.8]\n"
     ]
    },
    {
     "name": "stderr",
     "output_type": "stream",
     "text": [
      "\r",
      " 16%|█▌        | 6/38 [00:09<00:56,  1.77s/it]"
     ]
    },
    {
     "name": "stdout",
     "output_type": "stream",
     "text": [
      "[ 0.76883795+0.j         -0.50929877+0.69914163j -0.50929877-0.69914163j]\n",
      "[0.8 0.8 0.8 0.8 0.8 0.8 0.8 0.8 0.8 0.8]\n"
     ]
    },
    {
     "name": "stderr",
     "output_type": "stream",
     "text": [
      "\r",
      " 18%|█▊        | 7/38 [00:12<01:03,  2.06s/it]"
     ]
    },
    {
     "name": "stdout",
     "output_type": "stream",
     "text": [
      "[0.81029088+0.j         0.82664913+0.47994043j 0.82664913-0.47994043j]\n",
      "[0.8 0.8 0.8 0.8 0.8 0.8 0.8 0.8 0.8 0.8]\n"
     ]
    },
    {
     "name": "stderr",
     "output_type": "stream",
     "text": [
      "\r",
      " 21%|██        | 8/38 [00:14<01:08,  2.30s/it]"
     ]
    },
    {
     "name": "stdout",
     "output_type": "stream",
     "text": [
      "[0.73262861+0.j         0.31456804+0.82600334j 0.31456804-0.82600334j]\n",
      "[0.8 0.8 0.8 0.8 0.8 0.8 0.8 0.8 0.8 0.8]\n"
     ]
    },
    {
     "name": "stderr",
     "output_type": "stream",
     "text": [
      "\r",
      " 24%|██▎       | 9/38 [00:18<01:13,  2.55s/it]"
     ]
    },
    {
     "name": "stdout",
     "output_type": "stream",
     "text": [
      "[ 0.88886383+0.j         -0.81758589+0.59924232j -0.81758589-0.59924232j]\n",
      "[0.8 0.8 0.8 0.8 0.8 0.8 0.8 0.8 0.8 0.8]\n"
     ]
    },
    {
     "name": "stderr",
     "output_type": "stream",
     "text": [
      "\r",
      " 26%|██▋       | 10/38 [00:21<01:17,  2.77s/it]"
     ]
    },
    {
     "name": "stdout",
     "output_type": "stream",
     "text": [
      "[ 0.78048309+0.j         -0.13855012+0.22383481j -0.13855012-0.22383481j]\n",
      "[0.8 0.8 0.8 0.8 0.8 0.8 0.8 0.8 0.8 0.8]\n"
     ]
    },
    {
     "name": "stderr",
     "output_type": "stream",
     "text": [
      "\r",
      " 29%|██▉       | 11/38 [00:25<01:23,  3.09s/it]"
     ]
    },
    {
     "name": "stdout",
     "output_type": "stream",
     "text": [
      "[0.82165363+0.j         0.03506695+0.92167197j 0.03506695-0.92167197j]\n",
      "[0.8 0.8 0.8 0.8 0.8 0.8 0.8 0.8 0.8 0.8]\n"
     ]
    },
    {
     "name": "stderr",
     "output_type": "stream",
     "text": [
      "\r",
      " 32%|███▏      | 12/38 [00:29<01:27,  3.36s/it]"
     ]
    },
    {
     "name": "stdout",
     "output_type": "stream",
     "text": [
      "[ 0.78645175+0.j        -0.79144206+0.5295445j -0.79144206-0.5295445j]\n",
      "[0.8 0.8 0.8 0.8 0.8 0.8 0.8 0.8 0.8 0.8]\n"
     ]
    },
    {
     "name": "stderr",
     "output_type": "stream",
     "text": [
      "\r",
      " 34%|███▍      | 13/38 [00:33<01:31,  3.65s/it]"
     ]
    },
    {
     "name": "stdout",
     "output_type": "stream",
     "text": [
      "[ 0.79209451+0.j         -0.18872481+0.93891227j -0.18872481-0.93891227j]\n",
      "[0.8 0.8 0.8 0.8 0.8 0.8 0.8 0.8 0.8 0.8]\n"
     ]
    },
    {
     "name": "stderr",
     "output_type": "stream",
     "text": [
      "\r",
      " 37%|███▋      | 14/38 [00:38<01:34,  3.94s/it]"
     ]
    },
    {
     "name": "stdout",
     "output_type": "stream",
     "text": [
      "[0.8      +0.j         0.7562832+0.58572132j 0.7562832-0.58572132j]\n",
      "[0.8 0.8 0.8 0.8 0.8 0.8 0.8 0.8 0.8 0.8]\n"
     ]
    },
    {
     "name": "stderr",
     "output_type": "stream",
     "text": [
      "\r",
      " 39%|███▉      | 15/38 [00:43<01:38,  4.30s/it]"
     ]
    },
    {
     "name": "stdout",
     "output_type": "stream",
     "text": [
      "[ 0.8       +0.j         -0.49835305+0.72778171j -0.49835305-0.72778171j]\n",
      "[0.8 0.8 0.8 0.8 0.8 0.8 0.8 0.8 0.8 0.8]\n"
     ]
    },
    {
     "name": "stderr",
     "output_type": "stream",
     "text": [
      "\r",
      " 42%|████▏     | 16/38 [00:48<01:41,  4.61s/it]"
     ]
    },
    {
     "name": "stdout",
     "output_type": "stream",
     "text": [
      "[ 0.8        -0.06413886 -0.52340341]\n",
      "[0.8 0.8 0.8 0.8 0.8 0.8 0.8 0.8 0.8 0.8]\n"
     ]
    },
    {
     "name": "stderr",
     "output_type": "stream",
     "text": [
      "\r",
      " 45%|████▍     | 17/38 [00:54<01:43,  4.94s/it]"
     ]
    },
    {
     "name": "stdout",
     "output_type": "stream",
     "text": [
      "[ 0.8       +0.j         -0.77109077+0.61951065j -0.77109077-0.61951065j]\n",
      "[0.8 0.8 0.8 0.8 0.8 0.8 0.8 0.8 0.8 0.8]\n"
     ]
    },
    {
     "name": "stderr",
     "output_type": "stream",
     "text": [
      "\r",
      " 47%|████▋     | 18/38 [01:00<01:45,  5.30s/it]"
     ]
    },
    {
     "name": "stdout",
     "output_type": "stream",
     "text": [
      "[0.8       +0.j         0.50337194+0.73555174j 0.50337194-0.73555174j]\n",
      "[0.8 0.8 0.8 0.8 0.8 0.8 0.8 0.8 0.8 0.8]\n"
     ]
    },
    {
     "name": "stderr",
     "output_type": "stream",
     "text": [
      "\r",
      " 50%|█████     | 19/38 [01:06<01:45,  5.55s/it]"
     ]
    },
    {
     "name": "stdout",
     "output_type": "stream",
     "text": [
      "[0.8       +0.j         0.14619615+0.84890281j 0.14619615-0.84890281j]\n",
      "[0.8 0.8 0.8 0.8 0.8 0.8 0.8 0.8 0.8 0.8]\n"
     ]
    },
    {
     "name": "stderr",
     "output_type": "stream",
     "text": [
      "\r",
      " 53%|█████▎    | 20/38 [01:12<01:44,  5.79s/it]"
     ]
    },
    {
     "name": "stdout",
     "output_type": "stream",
     "text": [
      "[0.8      +0.j         0.6894555+0.21233574j 0.6894555-0.21233574j]\n",
      "[0.8 0.8 0.8 0.8 0.8 0.8 0.8 0.8 0.8 0.8]\n"
     ]
    },
    {
     "name": "stderr",
     "output_type": "stream",
     "text": [
      "\r",
      " 55%|█████▌    | 21/38 [01:19<01:44,  6.12s/it]"
     ]
    },
    {
     "name": "stdout",
     "output_type": "stream",
     "text": [
      "[ 0.8       +0.j         -0.32573654+0.61316297j -0.32573654-0.61316297j]\n",
      "[0.8 0.8 0.8 0.8 0.8 0.8 0.8 0.8 0.8 0.8]\n"
     ]
    },
    {
     "name": "stderr",
     "output_type": "stream",
     "text": [
      "\r",
      " 58%|█████▊    | 22/38 [01:27<01:43,  6.45s/it]"
     ]
    },
    {
     "name": "stdout",
     "output_type": "stream",
     "text": [
      "[ 0.8        -0.99565544  0.29091394]\n",
      "[0.8 0.8 0.8 0.8 0.8 0.8 0.8 0.8 0.8 0.8]\n"
     ]
    },
    {
     "name": "stderr",
     "output_type": "stream",
     "text": [
      "\r",
      " 61%|██████    | 23/38 [01:34<01:42,  6.86s/it]"
     ]
    },
    {
     "name": "stdout",
     "output_type": "stream",
     "text": [
      "[0.8      +0.j         0.6446187+0.61440466j 0.6446187-0.61440466j]\n",
      "[0.8 0.8 0.8 0.8 0.8 0.8 0.8 0.8 0.8 0.8]\n"
     ]
    },
    {
     "name": "stderr",
     "output_type": "stream",
     "text": [
      "\r",
      " 63%|██████▎   | 24/38 [01:43<01:43,  7.43s/it]"
     ]
    },
    {
     "name": "stdout",
     "output_type": "stream",
     "text": [
      "[ 0.8         0.70702944 -0.97121505]\n",
      "[0.8 0.8 0.8 0.8 0.8 0.8 0.8 0.8 0.8 0.8]\n"
     ]
    },
    {
     "name": "stderr",
     "output_type": "stream",
     "text": [
      "\r",
      " 66%|██████▌   | 25/38 [01:53<01:45,  8.11s/it]"
     ]
    },
    {
     "name": "stdout",
     "output_type": "stream",
     "text": [
      "[0.8       +0.j         0.19583569+0.73179494j 0.19583569-0.73179494j]\n",
      "[0.8 0.8 0.8 0.8 0.8 0.8 0.8 0.8 0.8 0.8]\n"
     ]
    },
    {
     "name": "stderr",
     "output_type": "stream",
     "text": [
      "\r",
      " 68%|██████▊   | 26/38 [02:03<01:43,  8.60s/it]"
     ]
    },
    {
     "name": "stdout",
     "output_type": "stream",
     "text": [
      "[ 0.8         0.17511245 -1.05651617]\n",
      "[0.8 0.8 0.8 0.8 0.8 0.8 0.8 0.8 0.8 0.8]\n"
     ]
    },
    {
     "name": "stderr",
     "output_type": "stream",
     "text": [
      "\r",
      " 71%|███████   | 27/38 [02:13<01:38,  9.00s/it]"
     ]
    },
    {
     "name": "stdout",
     "output_type": "stream",
     "text": [
      "[ 0.8       +0.j         -0.75351362+0.65074979j -0.75351362-0.65074979j]\n",
      "[0.8 0.8 0.8 0.8 0.8 0.8 0.8 0.8 0.8 0.8]\n"
     ]
    },
    {
     "name": "stderr",
     "output_type": "stream",
     "text": [
      "\r",
      " 74%|███████▎  | 28/38 [02:23<01:33,  9.36s/it]"
     ]
    },
    {
     "name": "stdout",
     "output_type": "stream",
     "text": [
      "[0.8       +0.j         0.09013711+0.76829933j 0.09013711-0.76829933j]\n",
      "[0.8 0.8 0.8 0.8 0.8 0.8 0.8 0.8 0.8 0.8]\n"
     ]
    },
    {
     "name": "stderr",
     "output_type": "stream",
     "text": [
      "\r",
      " 76%|███████▋  | 29/38 [02:34<01:28,  9.81s/it]"
     ]
    },
    {
     "name": "stdout",
     "output_type": "stream",
     "text": [
      "[ 0.8       +0.j         -0.33286617+0.91135679j -0.33286617-0.91135679j]\n",
      "[0.8 0.8 0.8 0.8 0.8 0.8 0.8 0.8 0.8 0.8]\n"
     ]
    },
    {
     "name": "stderr",
     "output_type": "stream",
     "text": [
      "\r",
      " 79%|███████▉  | 30/38 [02:44<01:20, 10.08s/it]"
     ]
    },
    {
     "name": "stdout",
     "output_type": "stream",
     "text": [
      "[ 0.8       +0.j         -0.66493954+0.43162821j -0.66493954-0.43162821j]\n",
      "[0.8 0.8 0.8 0.8 0.8 0.8 0.8 0.8 0.8 0.8]\n"
     ]
    },
    {
     "name": "stderr",
     "output_type": "stream",
     "text": [
      "\r",
      " 82%|████████▏ | 31/38 [02:55<01:12, 10.33s/it]"
     ]
    },
    {
     "name": "stdout",
     "output_type": "stream",
     "text": [
      "[ 0.8       +0.j         -0.68801433+0.49047191j -0.68801433-0.49047191j]\n",
      "[0.8 0.8 0.8 0.8 0.8 0.8 0.8 0.8 0.8 0.8]\n"
     ]
    },
    {
     "name": "stderr",
     "output_type": "stream",
     "text": [
      "\r",
      " 84%|████████▍ | 32/38 [03:07<01:04, 10.72s/it]"
     ]
    },
    {
     "name": "stdout",
     "output_type": "stream",
     "text": [
      "[ 0.8       +0.j         -0.56723837+0.80783042j -0.56723837-0.80783042j]\n",
      "[0.8 0.8 0.8 0.8 0.8 0.8 0.8 0.8 0.8 0.8]\n"
     ]
    },
    {
     "name": "stderr",
     "output_type": "stream",
     "text": [
      "\r",
      " 87%|████████▋ | 33/38 [03:19<00:55, 11.08s/it]"
     ]
    },
    {
     "name": "stdout",
     "output_type": "stream",
     "text": [
      "[0.8       +0.j         0.39724211+0.91159842j 0.39724211-0.91159842j]\n",
      "[0.8 0.8 0.8 0.8 0.8 0.8 0.8 0.8 0.8 0.8]\n"
     ]
    },
    {
     "name": "stderr",
     "output_type": "stream",
     "text": [
      "\r",
      " 89%|████████▉ | 34/38 [03:31<00:45, 11.31s/it]"
     ]
    },
    {
     "name": "stdout",
     "output_type": "stream",
     "text": [
      "[0.8       +0.j         0.13486498+0.74293098j 0.13486498-0.74293098j]\n",
      "[0.8 0.8 0.8 0.8 0.8 0.8 0.8 0.8 0.8 0.8]\n"
     ]
    },
    {
     "name": "stderr",
     "output_type": "stream",
     "text": [
      "\r",
      " 92%|█████████▏| 35/38 [03:43<00:35, 11.69s/it]"
     ]
    },
    {
     "name": "stdout",
     "output_type": "stream",
     "text": [
      "[ 0.8       +0.j         -0.66655717+0.73186234j -0.66655717-0.73186234j]\n",
      "[0.8 0.8 0.8 0.8 0.8 0.8 0.8 0.8 0.8 0.8]\n"
     ]
    },
    {
     "name": "stderr",
     "output_type": "stream",
     "text": [
      "\r",
      " 95%|█████████▍| 36/38 [03:56<00:23, 11.97s/it]"
     ]
    },
    {
     "name": "stdout",
     "output_type": "stream",
     "text": [
      "[ 0.8       +0.j         -0.82250553+0.27529249j -0.82250553-0.27529249j]\n",
      "[0.8 0.8 0.8 0.8 0.8 0.8 0.8 0.8 0.8 0.8]\n"
     ]
    },
    {
     "name": "stderr",
     "output_type": "stream",
     "text": [
      "\r",
      " 97%|█████████▋| 37/38 [04:09<00:12, 12.32s/it]"
     ]
    },
    {
     "name": "stdout",
     "output_type": "stream",
     "text": [
      "[ 0.8       +0.j        -0.56352057+0.2470593j -0.56352057-0.2470593j]\n",
      "[0.8 0.8 0.8 0.8 0.8 0.8 0.8 0.8 0.8 0.8]\n"
     ]
    },
    {
     "name": "stderr",
     "output_type": "stream",
     "text": [
      "100%|██████████| 38/38 [04:22<00:00,  6.92s/it]"
     ]
    },
    {
     "name": "stdout",
     "output_type": "stream",
     "text": [
      "[0.8       +0.j         0.76491297+0.56429803j 0.76491297-0.56429803j]\n",
      "[0.8 0.8 0.8 0.8 0.8 0.8 0.8 0.8 0.8 0.8]\n"
     ]
    },
    {
     "name": "stderr",
     "output_type": "stream",
     "text": [
      "\n"
     ]
    }
   ],
   "source": [
    "#let's plot how this looks with increasing data\n",
    "\n",
    "from tqdm import tqdm\n",
    "\n",
    "xvals = np.arange(5,80,2) #data\n",
    "prob_of_stability = np.zeros(len(xvals))\n",
    "\n",
    "num_trials = 50\n",
    "\n",
    "# # H = orthTransform(4)\n",
    "\n",
    "# # d = np.random.rand(4)*.3\n",
    "# # d[0] = .3\n",
    "\n",
    "# # A = H.dot(np.diag(d).dot(H.T))\n",
    "# # np.random.seed(1)\n",
    "\n",
    "\n",
    "\n",
    "\n",
    "# Q = 1\n",
    "# R = 1\n",
    "# v1 = 0\n",
    "# v2 = 0\n",
    "\n",
    "\n",
    "A,B,C = create_delay_matrix(10,-1)\n",
    "\n",
    "A= np.random.rand(10,10)/5\n",
    "\n",
    "H = orthTransform(10)\n",
    "D = .8*np.eye(10)\n",
    "A = H.dot(D.dot(H.T))\n",
    "\n",
    "# A= np.random.rand(3,3)/3\n",
    "# # print(np.max(np.abs(np.linalg)))\n",
    "\n",
    "# sim = LTISim(A,B,C,Q,R,v1,v2)\n",
    "\n",
    "# H = orthTransform(3)\n",
    "\n",
    "# L,K = sim.calculate_estimated_control(H.dot(A.dot(H.T)),H.dot(B.reshape(len(B),1)),(C.reshape(1,len(C))).dot(H.T))\n",
    "\n",
    "# norm = sim.determine_closed_loop_stability(H.dot(A.dot(H.T)),H.dot(B.reshape(len(B),1)),(C.reshape(1,len(C))).dot(H.T),L,K)\n",
    "# print(norm)\n",
    "\n",
    "# L,K = sim.calculate_estimated_control(A,B.reshape(len(B),1),C.reshape(1,len(C)))\n",
    "\n",
    "# norm = sim.determine_closed_loop_stability(A,B.reshape(len(B),1),C.reshape(1,len(C)),L,K)\n",
    "# print(norm)\n",
    "\n",
    "# assert False\n",
    "\n",
    "print(np.max(np.abs(np.linalg.eigvals(A))))\n",
    "\n",
    "\n",
    "\n",
    "for j in tqdm(range(len(xvals))):\n",
    "    \n",
    "    \n",
    "    for i in range(num_trials):\n",
    "\n",
    "        \n",
    "        # A = np.random.rand(20,20)/10\n",
    "        # B = np.random.rand(20).T\n",
    "        # C = np.random.rand(20)\n",
    "\n",
    "       \n",
    "\n",
    "        sim = LTISim(A,B,C,Q,R,v1,v2)\n",
    "        # u = np.random.normal(loc= 0,scale =1,size = (10,))\n",
    "        inputmatrix,outputvec = sim.collectData(xvals[j],runLen=30,inputNoise=1)\n",
    "\n",
    "        mkvParams = sim.estimateMarkovParamters(inputmatrix,outputvec)\n",
    "        H = sim.createHankelMatrix(mkvParams,14)\n",
    "        Aest,Best,Cest = sim.Hokalman2(H,3)\n",
    "        \n",
    "\n",
    "        L,K = sim.calculate_estimated_control(Aest,Best,Cest)\n",
    "\n",
    "        norm = sim.determine_closed_loop_stability(Aest,Best,Cest,L,K)\n",
    "        \n",
    "        if norm<1:\n",
    "            prob_of_stability[j]+=1\n",
    "    print(np.linalg.eigvals(Aest))\n",
    "    print(np.linalg.eigvals(A))\n",
    "            \n",
    "prob_of_stability/=50\n",
    "\n",
    "\n",
    "        "
   ]
  },
  {
   "cell_type": "code",
   "execution_count": 47,
   "metadata": {},
   "outputs": [
    {
     "data": {
      "image/png": "[encoded data removed]",
      "text/plain": [
       "<Figure size 432x288 with 1 Axes>"
      ]
     },
     "metadata": {
      "needs_background": "light"
     },
     "output_type": "display_data"
    }
   ],
   "source": [
    "plt.figure()\n",
    "plt.plot(xvals,prob_of_stability)\n",
    "plt.xlabel('data')\n",
    "plt.title('Exploration of Adaptive Control with Model Misspecification \\n True Dim = 4, Estimated Dimension = 3')\n",
    "plt.ylabel('Probability of Closed Loop Stability')\n",
    "# plt.savefig('CounterexamplePlot.pdf')\n",
    "plt.show()"
   ]
  },
  {
   "cell_type": "code",
   "execution_count": null,
   "metadata": {},
   "outputs": [],
   "source": []
  }
 ],
 "metadata": {
  "kernelspec": {
   "display_name": "Python 3",
   "language": "python",
   "name": "python3"
  },
  "language_info": {
   "codemirror_mode": {
    "name": "ipython",
    "version": 3
   },
   "file_extension": ".py",
   "mimetype": "text/x-python",
   "name": "python",
   "nbconvert_exporter": "python",
   "pygments_lexer": "ipython3",
   "version": "3.8.3"
  }
 },
 "nbformat": 4,
 "nbformat_minor": 4
}
