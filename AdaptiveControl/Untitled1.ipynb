{
 "cells": [
  {
   "cell_type": "code",
   "execution_count": 1,
   "metadata": {},
   "outputs": [],
   "source": [
    "import numpy as np\n"
   ]
  },
  {
   "cell_type": "code",
   "execution_count": 7,
   "metadata": {},
   "outputs": [],
   "source": [
    "p = np.poly1d([2,1,3,4])"
   ]
  },
  {
   "cell_type": "code",
   "execution_count": 10,
   "metadata": {},
   "outputs": [],
   "source": [
    "q = np.poly1d([4,5,2])"
   ]
  },
  {
   "cell_type": "code",
   "execution_count": 13,
   "metadata": {},
   "outputs": [],
   "source": [
    "h = p*q"
   ]
  },
  {
   "cell_type": "code",
   "execution_count": 14,
   "metadata": {},
   "outputs": [
    {
     "data": {
      "text/plain": [
       "array([ 0.25 +1.39194109j,  0.25 -1.39194109j, -1.   +0.j        ,\n",
       "       -0.625+0.33071891j, -0.625-0.33071891j])"
      ]
     },
     "execution_count": 14,
     "metadata": {},
     "output_type": "execute_result"
    }
   ],
   "source": [
    "h.r"
   ]
  },
  {
   "cell_type": "code",
   "execution_count": 15,
   "metadata": {},
   "outputs": [],
   "source": [
    "import scipy.signal as sig"
   ]
  },
  {
   "cell_type": "code",
   "execution_count": 64,
   "metadata": {},
   "outputs": [],
   "source": [
    "a = np.array([[-1, 1], [2, 1]])\n",
    "b = np.array([[1], [1]])\n",
    "c = np.array([[1., 0]])\n",
    "d = np.array([[0]])"
   ]
  },
  {
   "cell_type": "code",
   "execution_count": 65,
   "metadata": {},
   "outputs": [
    {
     "name": "stdout",
     "output_type": "stream",
     "text": [
      "StateSpaceContinuous(\n",
      "array([[-1,  1],\n",
      "       [ 2,  1]]),\n",
      "array([[1],\n",
      "       [1]]),\n",
      "array([[1., 0.]]),\n",
      "array([[0.]]),\n",
      "dt: None\n",
      ")\n"
     ]
    }
   ],
   "source": [
    "sys = sig.StateSpace(a, b, c)\n",
    "print(sys)\n",
    "\n",
    "tr = sig.TransferFunction(sys)"
   ]
  },
  {
   "cell_type": "code",
   "execution_count": 67,
   "metadata": {},
   "outputs": [
    {
     "data": {
      "text/plain": [
       "TransferFunctionContinuous(\n",
       "array([ 1.0000000e+00, -4.4408921e-16]),\n",
       "array([ 1.,  0., -3.]),\n",
       "dt: None\n",
       ")"
      ]
     },
     "execution_count": 67,
     "metadata": {},
     "output_type": "execute_result"
    }
   ],
   "source": [
    "tr\n",
    "#nice so this is actually right. Thats super. "
   ]
  },
  {
   "cell_type": "code",
   "execution_count": 63,
   "metadata": {},
   "outputs": [
    {
     "name": "stdout",
     "output_type": "stream",
     "text": [
      " \n",
      "1 x - 4.441e-16\n"
     ]
    }
   ],
   "source": [
    "print(num)"
   ]
  },
  {
   "cell_type": "code",
   "execution_count": 113,
   "metadata": {},
   "outputs": [
    {
     "name": "stdout",
     "output_type": "stream",
     "text": [
      "[ 1.   -0.5  -0.25  0.    0.    0.   -0.   -0.   -0.    0.    0.01]\n"
     ]
    }
   ],
   "source": [
    "num = np.array([1.])\n",
    "den = np.array([-.0001,0,0,0,0,0,0,0,0,0,0,0,0,0,0,0,.003,.002,.1])\n",
    "sys = sig.TransferFunction(num,den)\n",
    "sig.StateSpace(sys).A\n",
    "\n",
    "A = np.zeros((10,10))\n",
    "A[0,9] = -.01 #delay term\n",
    "A[1:,:9] = np.eye(9)\n",
    "# A[0,0] = -1\n",
    "A[0,0] = .5\n",
    "A[0,1] = .25\n",
    "\n",
    "A\n",
    "B =np.zeros(10)\n",
    "B[0]=1\n",
    "B=B.reshape(10,1)\n",
    "C = np.zeros((1,10))\n",
    "C[0,9] = 1\n",
    "\n",
    "sys = sig.StateSpace(A,B,C)\n",
    "systr = sig.TransferFunction(sys)\n",
    "print(np.round(systr.den,decimals=5))\n",
    "\n",
    "\n",
    "\n"
   ]
  },
  {
   "cell_type": "code",
   "execution_count": 224,
   "metadata": {},
   "outputs": [
    {
     "data": {
      "text/plain": [
       "poly1d([1])"
      ]
     },
     "execution_count": 224,
     "metadata": {},
     "output_type": "execute_result"
    }
   ],
   "source": [
    "#okay now I'm a little curious\n",
    "#specify polynomial in terms of roots using\n",
    "p = np.poly1d([.8,.8,.8,0,0,0,0,0,0,0,0,0,0,0],True)\n",
    "q = np.poly1d([1])\n",
    "q"
   ]
  },
  {
   "cell_type": "code",
   "execution_count": 225,
   "metadata": {},
   "outputs": [],
   "source": [
    "xvalues = np.linspace(0,.05,200)\n",
    "\n",
    "\n",
    "\n",
    "yvalues = [np.max(np.abs((p+xvalues[i]*q).r)) for i in range(len(xvalues))]"
   ]
  },
  {
   "cell_type": "code",
   "execution_count": 227,
   "metadata": {},
   "outputs": [
    {
     "data": {
      "image/png": "[encoded data removed]",
      "text/plain": [
       "<Figure size 432x288 with 1 Axes>"
      ]
     },
     "metadata": {
      "needs_background": "light"
     },
     "output_type": "display_data"
    }
   ],
   "source": [
    "import matplotlib.pyplot as plt\n",
    "plt.figure()\n",
    "plt.plot(xvalues,yvalues)\n",
    "plt.title('Magnitude of Largest Eigenvalue For perturbed polynomial \\n'+ r'$p(x) = x^{10}(x^3 + 2.4x^2 + 1.92x + .512)+\\epsilon$')\n",
    "plt.ylabel('Magnitude of largest eigenvalue')\n",
    "plt.xlabel('Perturbation Size')\n",
    "plt.savefig('EigenvaluePerturbation.pdf')\n",
    "plt.show()"
   ]
  },
  {
   "cell_type": "code",
   "execution_count": null,
   "metadata": {},
   "outputs": [],
   "source": []
  }
 ],
 "metadata": {
  "kernelspec": {
   "display_name": "Python 3",
   "language": "python",
   "name": "python3"
  },
  "language_info": {
   "codemirror_mode": {
    "name": "ipython",
    "version": 3
   },
   "file_extension": ".py",
   "mimetype": "text/x-python",
   "name": "python",
   "nbconvert_exporter": "python",
   "pygments_lexer": "ipython3",
   "version": "3.8.3"
  }
 },
 "nbformat": 4,
 "nbformat_minor": 4
}
