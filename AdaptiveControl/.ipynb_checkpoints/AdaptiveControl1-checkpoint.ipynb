{
 "cells": [
  {
   "cell_type": "code",
   "execution_count": 1,
   "metadata": {},
   "outputs": [],
   "source": [
    "#import relevant packages\n",
    "\n",
    "import numpy as np\n",
    "import pandas as pd\n",
    "import matplotlib.pyplot as plt\n",
    "print('n')"
   ]
  },
  {
   "cell_type": "markdown",
   "metadata": {},
   "source": [
    "Need to create an LTI simulator"
   ]
  },
  {
   "cell_type": "code",
   "execution_count": 2,
   "metadata": {},
   "outputs": [
    {
     "data": {
      "text/plain": [
       "(2,)"
      ]
     },
     "execution_count": 2,
     "metadata": {},
     "output_type": "execute_result"
    }
   ],
   "source": [
    "np.random.multivariate_normal(mean = np.zeros(2),cov=np.eye(2)).shape"
   ]
  },
  {
   "cell_type": "code",
   "execution_count": 82,
   "metadata": {},
   "outputs": [],
   "source": [
    "class LTISimulator(object):\n",
    "    def __init__(self,A,B,C,covW,covZ,x_init): \n",
    "        self.A = A\n",
    "        self.B = B\n",
    "        self.C = C\n",
    "        self.covW = covW\n",
    "        self.covZ= covZ\n",
    "        self.x = [x_init]\n",
    "        self.state = x_init\n",
    "        self.measurement = np.zeros(1)\n",
    "        \n",
    "        z = np.random.multivariate_normal(mean = np.zeros(self.C.shape[0]),cov=self.covZ)\n",
    "        \n",
    "        self.measurement = self.C.dot(self.state+z)\n",
    "        self.y = [self.measurement]\n",
    "    \n",
    "    def simulate(self,u):\n",
    "        self.u = u\n",
    "        \n",
    "        for i in range(len(u)):\n",
    "            w = np.random.multivariate_normal(mean = np.zeros(self.A.shape[0]),cov= self.covW)\n",
    "            self.state = self.A.dot(self.state) + self.B.dot(u[i]).flatten() + w\n",
    "            \n",
    "            self.x.append(self.state)\n",
    "            z = np.random.multivariate_normal(mean = np.zeros(self.C.shape[0]),cov = self.covZ)\n",
    "            \n",
    "            self.measurement = self.C.dot(self.state)+z\n",
    "\n",
    "            \n",
    "            self.y.append(self.measurement)\n",
    "    "
   ]
  },
  {
   "cell_type": "code",
   "execution_count": 68,
   "metadata": {},
   "outputs": [],
   "source": [
    "def SolveDTRicatti(A,B,Q,R,tol = 1e-5):\n",
    "    #we will need this to both implement control\n",
    "    #and to estimate parameters for the system\n",
    "    P = np.copy(Q)\n",
    "    \n",
    "    if np.max(np.linalg.eigvals(A).real) > 1:\n",
    "        print('This matrix is not stable, we cannot solve for the optimal controller using iteration. Try decomposing a symplectic matrix.')\n",
    "        return 1\n",
    "    \n",
    "    while True:\n",
    "        \n",
    "        Pnew = Q +A.T.dot(P.dot(A)) - (A.T.dot(P.dot(B))).dot(np.linalg.inv(R+B.T.dot(P.dot(B)))).dot(B.T.dot(P.dot(A)))\n",
    "        if np.linalg.norm(P-Pnew) <tol:\n",
    "            break\n",
    "        else:\n",
    "            P = Pnew\n",
    "    \n",
    "    return Pnew\n"
   ]
  },
  {
   "cell_type": "code",
   "execution_count": null,
   "metadata": {},
   "outputs": [],
   "source": []
  },
  {
   "cell_type": "code",
   "execution_count": 177,
   "metadata": {},
   "outputs": [
    {
     "data": {
      "text/plain": [
       "array([ 0.93327475, -0.96327475])"
      ]
     },
     "execution_count": 177,
     "metadata": {},
     "output_type": "execute_result"
    }
   ],
   "source": [
    "A = np.array([[.8,.94],[.25,-.83]])\n",
    "np.linalg.eigvals(A)\n",
    "\n",
    "#this is actually a stable matrix, let's just stick with this for testing our stuff\n",
    "\n",
    "# B = np.array([[1],[.2]])\n",
    "# Q = .1*np.eye(2)\n",
    "# R = np.array([.05])\n",
    "\n",
    "# P = SolveDTRicatti(A,B,Q,R,tol = 1e-5)"
   ]
  },
  {
   "cell_type": "code",
   "execution_count": 167,
   "metadata": {},
   "outputs": [],
   "source": [
    "def FIRCoefficientSolver(y,u,H):\n",
    "    #here we implement least squares on outputs, inputs and other outputs\n",
    "    #this assumes that we consider the system represented by the \"observer form\"\n",
    "    #or in other words a kalman filter in steady state\n",
    "    \n",
    "    assert len(y) > H\n",
    "    \n",
    "    #create outputs\n",
    "    y_train = y[H:]\n",
    "    x_train = np.zeros((len(y_train),2*H))\n",
    "    \n",
    "    for i in range(len(y_train)):\n",
    "        x_train[i,:H] = u[i:i+H]\n",
    "        x_train[i,H:] = y[i:i+H]\n",
    "    \n",
    "    FIRCoeffs = np.linalg.inv(x_train.T.dot(x_train)+10*np.eye(x_train.shape[1])).dot(x_train.T.dot(y_train))\n",
    "    \n",
    "#     plt.figure()\n",
    "#     plt.plot(x_train.dot(FIRCoeffs)[:20])\n",
    "#     plt.plot(y_train[:20])\n",
    "#     plt.show()\n",
    "    #okay so that's doing the right thing\n",
    "    return FIRCoeffs\n",
    "\n",
    "#now we need to recover estimates in the system\n",
    "\n",
    "def HoKalman(H,n,input_dim,output_dim):\n",
    "    u,s,vh = np.linalg.svd(H)\n",
    "    \n",
    "    smat = np.sqrt(np.diag(s))[:n,:n]\n",
    "    \n",
    "    D1 = u[:,:n].dot(smat)\n",
    "    D2 = smat.dot(vh[:n,:])\n",
    "    \n",
    "    Chat = D1[:output_dim,:]\n",
    "    Bhat = D2[:,input_dim]\n",
    "    \n",
    "    \n",
    "    Dminus = D1[:n-output_dim,:]\n",
    "    Dplus = D1[output_dim:n,:]\n",
    "    \n",
    "    Ahat = np.linalg.inv(Dminus.T.dot(Dminus)).dot(Dminus.T.dot(Dplus))\n",
    "    \n",
    "    return Ahat,Bhat,Chat\n",
    "    \n",
    "    \n",
    "    \n",
    "    \n",
    "def return_LTI_coeffs(FIRCoeffs,H,k,n):\n",
    "    #implement the ho kalman algorithm twice\n",
    "    #note that this algorithm assume a SISO system otherwise more complicated indexing will be required\n",
    "    \n",
    "    FIR1 = FIRCoeffs[:H]\n",
    "    FIR2 = FIRCoeffs[H:]\n",
    "    \n",
    "    Hmat = []\n",
    "    i = 0\n",
    "    while True:\n",
    "        Hmat.append(np.array(list(FIR1[i:k+i])+list(FIR2[i:k+i])))\n",
    "        \n",
    "        i+=1\n",
    "        if k+i >=H:\n",
    "            break\n",
    "    \n",
    "            \n",
    "    Hmat = np.array(Hmat)\n",
    "    Hmat = Hmat.reshape(Hmat.shape[0],Hmat.shape[1])\n",
    "    print(Hmat.shape)\n",
    "    \n",
    "    u,s,vh= np.linalg.svd(Hmat)\n",
    "    \n",
    "    smat = np.sqrt(np.diag(s))[:n,:n]\n",
    "    \n",
    "    u = u[:,:n]\n",
    "    vh = vh[:n,:]\n",
    "    \n",
    "    D1 = u.dot(smat)\n",
    "    D2 = smat.dot(vh)\n",
    "    \n",
    "    Chat = D1[:1,:]\n",
    "    Bhat = D2[:,:1]\n",
    "    \n",
    "    Fhat = D2[:,k]\n",
    "    \n",
    "    Dminus = D1[:n-1,:]\n",
    "    Dplus = D1[1:n,:]\n",
    "    \n",
    "    Ahatbar = np.linalg.inv(Dminus.T.dot(Dminus)).dot(Dminus.T.dot(Dplus))\n",
    "    \n",
    "    \n",
    "    Ahat = Ahatbar+ Fhat.reshape(-1,1).dot(Chat)\n",
    "    \n",
    "    return Ahat,Bhat,Chat,Fhat\n",
    "    \n",
    "    "
   ]
  },
  {
   "cell_type": "code",
   "execution_count": 148,
   "metadata": {},
   "outputs": [
    {
     "data": {
      "text/plain": [
       "array([1.])"
      ]
     },
     "execution_count": 148,
     "metadata": {},
     "output_type": "execute_result"
    }
   ],
   "source": [
    "#okay so now we need to test this system. Use existing value for A, B\n",
    "C = np.array([[1,0]])\n",
    "\n",
    "C.dot(np.ones(2))\n"
   ]
  },
  {
   "cell_type": "code",
   "execution_count": 149,
   "metadata": {},
   "outputs": [],
   "source": [
    "LTISim = LTISimulator(A,B,C,.1*np.eye(2),.1*np.eye(1),x_init = np.zeros(2))"
   ]
  },
  {
   "cell_type": "code",
   "execution_count": 150,
   "metadata": {},
   "outputs": [],
   "source": [
    "u = np.random.normal(size = 10000)\n",
    "LTISim.simulate(u)\n"
   ]
  },
  {
   "cell_type": "code",
   "execution_count": 169,
   "metadata": {},
   "outputs": [
    {
     "data": {
      "image/png": "[encoded data removed]",
      "text/plain": [
       "<Figure size 432x288 with 1 Axes>"
      ]
     },
     "metadata": {
      "needs_background": "light"
     },
     "output_type": "display_data"
    },
    {
     "data": {
      "image/png": "[encoded data removed]",
      "text/plain": [
       "<Figure size 432x288 with 1 Axes>"
      ]
     },
     "metadata": {
      "needs_background": "light"
     },
     "output_type": "display_data"
    },
    {
     "name": "stdout",
     "output_type": "stream",
     "text": [
      "(450, 100)\n"
     ]
    }
   ],
   "source": [
    "#okay now let's see how our hankel estimation works:\n",
    "FIRCoeffs = FIRCoefficientSolver(LTISim.y,u,H=500)\n",
    "plt.figure()\n",
    "plt.plot(FIRCoeffs)\n",
    "trueFIR = []\n",
    "for i in range(len(FIRCoeffs)):\n",
    "    trueFIR.append(C.dot(np.linalg.matrix_power(A,i).dot(B))[0,0])\n",
    "\n",
    "plt.plot(trueFIR)\n",
    "plt.show()\n",
    "\n",
    "\n",
    "Ahat,Bhat,Chat,Fhat = return_LTI_coeffs(FIRCoeffs,H=500,k=50,n=5)\n",
    "print(np.linalg.eigvals(A))"
   ]
  },
  {
   "cell_type": "code",
   "execution_count": 154,
   "metadata": {},
   "outputs": [
    {
     "data": {
      "image/png": "[encoded data removed]",
      "text/plain": [
       "<Figure size 432x288 with 1 Axes>"
      ]
     },
     "metadata": {
      "needs_background": "light"
     },
     "output_type": "display_data"
    }
   ],
   "source": [
    "LTISim2 = LTISimulator(Ahat,Bhat,Chat,.1*np.eye(5),.1*np.eye(1),x_init = np.zeros(5))\n",
    "LTISim2.simulate(u)\n",
    "\n",
    "\n",
    "plt.figure()\n",
    "plt.plot(LTISim.y[:10])\n",
    "plt.plot(LTISim2.y[:10])\n",
    "plt.show()"
   ]
  },
  {
   "cell_type": "code",
   "execution_count": 155,
   "metadata": {},
   "outputs": [
    {
     "data": {
      "image/png": "[encoded data removed]",
      "text/plain": [
       "<Figure size 432x288 with 1 Axes>"
      ]
     },
     "metadata": {
      "needs_background": "light"
     },
     "output_type": "display_data"
    },
    {
     "data": {
      "image/png": "[encoded data removed]",
      "text/plain": [
       "<Figure size 432x288 with 1 Axes>"
      ]
     },
     "metadata": {
      "needs_background": "light"
     },
     "output_type": "display_data"
    }
   ],
   "source": [
    "#maybe an easier way to measure similarity is through a bode plot\n",
    "\n",
    "\n",
    "\n",
    "def bode_plot(A,B,C,rng = 20):\n",
    "    \n",
    "    def func(A,B,C,z):\n",
    "        return np.abs(C.dot(np.linalg.inv(z*np.eye(A.shape[0])-A).dot(B)))[0,0]\n",
    "    \n",
    "    jwvals = np.linspace(0,rng,1000)\n",
    "    yvals = []\n",
    "    for v in jwvals:\n",
    "        yvals.append(func(A,B,C,1j*v))\n",
    "        \n",
    "    \n",
    "    plt.figure()\n",
    "    plt.plot(yvals)\n",
    "    plt.show()\n",
    "\n",
    "bode_plot(Ahat,Bhat,Chat)\n",
    "bode_plot(A,B,C)"
   ]
  },
  {
   "cell_type": "code",
   "execution_count": null,
   "metadata": {},
   "outputs": [],
   "source": []
  }
 ],
 "metadata": {
  "kernelspec": {
   "display_name": "Python 3",
   "language": "python",
   "name": "python3"
  },
  "language_info": {
   "codemirror_mode": {
    "name": "ipython",
    "version": 3
   },
   "file_extension": ".py",
   "mimetype": "text/x-python",
   "name": "python",
   "nbconvert_exporter": "python",
   "pygments_lexer": "ipython3",
   "version": "3.8.3"
  }
 },
 "nbformat": 4,
 "nbformat_minor": 4
}
