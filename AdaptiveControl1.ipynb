{
 "cells": [
  {
   "cell_type": "code",
   "execution_count": 1,
   "metadata": {},
   "outputs": [
    {
     "name": "stdout",
     "output_type": "stream",
     "text": [
      "n\n"
     ]
    }
   ],
   "source": [
    "#import relevant packages\n",
    "\n",
    "import numpy as np\n",
    "import pandas as pd\n",
    "import matplotlib.pyplot as plt\n",
    "print('n')"
   ]
  },
  {
   "cell_type": "markdown",
   "metadata": {},
   "source": [
    "Need to create an LTI simulator"
   ]
  },
  {
   "cell_type": "code",
   "execution_count": 2,
   "metadata": {},
   "outputs": [
    {
     "data": {
      "text/plain": [
       "(2,)"
      ]
     },
     "execution_count": 2,
     "metadata": {},
     "output_type": "execute_result"
    }
   ],
   "source": [
    "np.random.multivariate_normal(mean = np.zeros(2),cov=np.eye(2)).shape"
   ]
  },
  {
   "cell_type": "code",
   "execution_count": 280,
   "metadata": {},
   "outputs": [],
   "source": [
    "class LTISimulator(object):\n",
    "    def __init__(self,A,B,C,covW,covZ,x_init): \n",
    "        self.A = A\n",
    "        self.B = B\n",
    "        self.C = C\n",
    "        self.covW = covW\n",
    "        self.covZ= covZ\n",
    "        self.x = [x_init]\n",
    "        self.state = x_init\n",
    "        self.measurement = np.zeros(1)\n",
    "        self.zs = []\n",
    "        self.ws = []\n",
    "        \n",
    "        z = np.random.multivariate_normal(mean = np.zeros(self.C.shape[0]),cov=self.covZ)\n",
    "        self.zs.append(z)\n",
    "        \n",
    "        self.measurement = self.C.dot(self.state+z)\n",
    "        self.y = [self.measurement]\n",
    "    \n",
    "    def simulate(self,u):\n",
    "        self.u = u\n",
    "        \n",
    "        for i in range(len(u)):\n",
    "            w = np.random.multivariate_normal(mean = np.zeros(self.A.shape[0]),cov= self.covW)\n",
    "            self.state = self.A.dot(self.state) + self.B.dot(u[i]).flatten() + w\n",
    "            \n",
    "            self.ws.append(w)\n",
    "            \n",
    "            self.x.append(self.state)\n",
    "            z = np.random.multivariate_normal(mean = np.zeros(self.C.shape[0]),cov = self.covZ)\n",
    "            \n",
    "            self.measurement = self.C.dot(self.state)+z\n",
    "\n",
    "            \n",
    "            self.y.append(self.measurement)\n",
    "    "
   ]
  },
  {
   "cell_type": "code",
   "execution_count": 4,
   "metadata": {},
   "outputs": [],
   "source": [
    "def SolveDTRicatti(A,B,Q,R,tol = 1e-5):\n",
    "    #we will need this to both implement control\n",
    "    #and to estimate parameters for the system\n",
    "    P = np.copy(Q)\n",
    "    \n",
    "    if np.max(np.linalg.eigvals(A).real) > 1:\n",
    "        print('This matrix is not stable, we cannot solve for the optimal controller using iteration. Try decomposing a symplectic matrix.')\n",
    "        return 1\n",
    "    \n",
    "    while True:\n",
    "        \n",
    "        Pnew = Q +A.T.dot(P.dot(A)) - (A.T.dot(P.dot(B))).dot(np.linalg.inv(R+B.T.dot(P.dot(B)))).dot(B.T.dot(P.dot(A)))\n",
    "        if np.linalg.norm(P-Pnew) <tol:\n",
    "            break\n",
    "        else:\n",
    "            P = Pnew\n",
    "    \n",
    "    return Pnew\n"
   ]
  },
  {
   "cell_type": "code",
   "execution_count": null,
   "metadata": {},
   "outputs": [],
   "source": []
  },
  {
   "cell_type": "code",
   "execution_count": 36,
   "metadata": {},
   "outputs": [
    {
     "data": {
      "text/plain": [
       "array([ 0.09332747, -0.09632747])"
      ]
     },
     "execution_count": 36,
     "metadata": {},
     "output_type": "execute_result"
    }
   ],
   "source": [
    "A = np.array([[.8,.94],[.25,-.83]])\n",
    "A/=10\n",
    "np.linalg.eigvals(A)\n",
    "\n",
    "#this is actually a stable matrix, let's just stick with this for testing our stuff\n",
    "\n",
    "# B = np.array([[1],[.2]])\n",
    "# Q = .1*np.eye(2)\n",
    "# R = np.array([.05])\n",
    "\n",
    "# P = SolveDTRicatti(A,B,Q,R,tol = 1e-5)"
   ]
  },
  {
   "cell_type": "code",
   "execution_count": 238,
   "metadata": {},
   "outputs": [],
   "source": [
    "def FIRCoefficientSolver(y,u,H):\n",
    "    #here we implement least squares on outputs, inputs and other outputs\n",
    "    #this assumes that we consider the system represented by the \"observer form\"\n",
    "    #or in other words a kalman filter in steady state\n",
    "    \n",
    "    assert len(y) > H\n",
    "    \n",
    "    #create outputs\n",
    "    y_train = y[H:]\n",
    "    x_train = np.zeros((len(y_train),2*H))\n",
    "    \n",
    "    for i in range(len(y_train)):\n",
    "        x_train[i,:H] = np.flip(u[i:i+H])\n",
    "        x_train[i,H:] = np.flip(y[i:i+H]).flatten()\n",
    "    \n",
    "    FIRCoeffs = np.linalg.inv(x_train.T.dot(x_train)+10*np.eye(x_train.shape[1])).dot(x_train.T.dot(y_train))\n",
    "    \n",
    "#     plt.figure()\n",
    "#     plt.plot(x_train.dot(FIRCoeffs)[:20])\n",
    "#     plt.plot(y_train[:20])\n",
    "#     plt.show()\n",
    "    #okay so that's doing the right thing\n",
    "    return FIRCoeffs\n",
    "\n",
    "#now we need to recover estimates in the system\n",
    "\n",
    "def HoKalman(H,n,input_dim,output_dim):\n",
    "    u,s,vh = np.linalg.svd(H)\n",
    "    \n",
    "    smat = np.sqrt(np.diag(s))[:n,:n]\n",
    "    \n",
    "    D1 = u[:,:n].dot(smat)\n",
    "    D2 = smat.dot(vh[:n,:])\n",
    "    \n",
    "    Chat = D1[:output_dim,:]\n",
    "    Bhat = D2[:,input_dim]\n",
    "    \n",
    "    \n",
    "    Dminus = D1[:n-output_dim,:]\n",
    "    Dplus = D1[output_dim:n,:]\n",
    "    \n",
    "    Ahat = np.linalg.inv(Dminus.T.dot(Dminus)).dot(Dminus.T.dot(Dplus))\n",
    "    \n",
    "    return Ahat,Bhat,Chat\n",
    "    \n",
    "    \n",
    "    \n",
    "    \n",
    "def return_LTI_coeffs(FIRCoeffs,H,k,n):\n",
    "    #implement the ho kalman algorithm twice\n",
    "    #note that this algorithm assume a SISO system otherwise more complicated indexing will be required\n",
    "    \n",
    "    FIR1 = FIRCoeffs[:H]\n",
    "    FIR2 = FIRCoeffs[H:]\n",
    "    \n",
    "    Hmat = []\n",
    "    i = 0\n",
    "    while True:\n",
    "        Hmat.append(np.array(list(FIR1[i:k+i])+list(FIR2[i:k+i])))\n",
    "        \n",
    "        i+=1\n",
    "        if k+i >=H:\n",
    "            break\n",
    "    \n",
    "            \n",
    "    Hmat = np.array(Hmat)\n",
    "    Hmat = Hmat.reshape(Hmat.shape[0],Hmat.shape[1])\n",
    "    print(Hmat.shape)\n",
    "    \n",
    "    u,s,vh= np.linalg.svd(Hmat)\n",
    "    \n",
    "    smat = np.sqrt(np.diag(s))[:n,:n]\n",
    "    \n",
    "    u = u[:,:n]\n",
    "    vh = vh[:n,:]\n",
    "    \n",
    "    D1 = u.dot(smat)\n",
    "    D2 = smat.dot(vh)\n",
    "    \n",
    "    Chat = D1[:1,:]\n",
    "    Bhat = D2[:,:1]\n",
    "    \n",
    "    Fhat = D2[:,k]\n",
    "    \n",
    "    Dminus = D1[:n-1,:]\n",
    "    Dplus = D1[1:n,:]\n",
    "    \n",
    "    Ahatbar = np.linalg.inv(Dminus.T.dot(Dminus)).dot(Dminus.T.dot(Dplus))\n",
    "    \n",
    "    \n",
    "    Ahat = Ahatbar+ Fhat.reshape(-1,1).dot(Chat)\n",
    "#     Ahat /= (np.max(np.abs(np.linalg.eigvals(Ahat)))*1.001)\n",
    "    \n",
    "    return Ahat,Bhat,Chat,Fhat\n",
    "    \n",
    "    "
   ]
  },
  {
   "cell_type": "code",
   "execution_count": 239,
   "metadata": {},
   "outputs": [],
   "source": [
    "#okay so now we need to test this system. Use existing value for A, B\n",
    "C = np.array([[1,0]])\n",
    "\n",
    "C.dot(np.ones(2))\n",
    "B = np.array([1,2]).reshape(-1,1)\n"
   ]
  },
  {
   "cell_type": "code",
   "execution_count": 259,
   "metadata": {},
   "outputs": [],
   "source": [
    "LTISim = LTISimulator(A,B,C,.1*np.eye(5),.001*np.eye(1),x_init = np.zeros(5))"
   ]
  },
  {
   "cell_type": "code",
   "execution_count": 260,
   "metadata": {},
   "outputs": [],
   "source": [
    "u = np.random.normal(size = 10000)\n",
    "LTISim.simulate(u)\n"
   ]
  },
  {
   "cell_type": "code",
   "execution_count": 289,
   "metadata": {},
   "outputs": [
    {
     "data": {
      "image/png": "[encoded data removed]",
      "text/plain": [
       "<Figure size 432x288 with 1 Axes>"
      ]
     },
     "metadata": {
      "needs_background": "light"
     },
     "output_type": "display_data"
    },
    {
     "name": "stdout",
     "output_type": "stream",
     "text": [
      "[ 4.33259999e-01+0.j          3.19519157e-02+0.04503254j\n",
      "  3.19519157e-02-0.04503254j -6.69220680e-02+0.j\n",
      "  3.74512676e-04+0.j        ]\n"
     ]
    }
   ],
   "source": [
    "#okay now let's see how our hankel estimation works:\n",
    "FIRCoeffs = FIRCoefficientSolver(LTISim.y,u,H=500)\n",
    "plt.figure()\n",
    "plt.plot(FIRCoeffs)\n",
    "trueFIR = []\n",
    "for i in range(len(FIRCoeffs)):\n",
    "    trueFIR.append(C.dot(np.linalg.matrix_power(A,i).dot(B))[0,0])\n",
    "\n",
    "plt.plot(trueFIR)\n",
    "plt.show()\n",
    "\n",
    "\n",
    "Ahat,Bhat,Chat = HoKalmanObserverForm(FIRCoeffs,H=500,k=100,n=5)\n",
    "print(np.linalg.eigvals(Ahat))"
   ]
  },
  {
   "cell_type": "code",
   "execution_count": 295,
   "metadata": {},
   "outputs": [
    {
     "name": "stdout",
     "output_type": "stream",
     "text": [
      "[ 4.33259999e-01+0.j         -6.69220681e-02+0.j\n",
      "  3.19519157e-02+0.04503254j  3.19519157e-02-0.04503254j\n",
      "  3.74512684e-04+0.j        ]\n",
      "[ 4.33259999e-01+0.j          3.19519157e-02+0.04503254j\n",
      "  3.19519157e-02-0.04503254j -6.69220680e-02+0.j\n",
      "  3.74512676e-04+0.j        ]\n",
      "[[-0.35566477  0.1070948   0.13529015  0.11974219  0.03120376]\n",
      " [ 0.11424696  0.31056791 -0.15844377  0.12615386  0.14165807]\n",
      " [-0.00699174  0.52566097 -0.2230239   0.00818427  0.03610501]\n",
      " [ 0.03667041  0.06677931  0.13923484  0.18772123 -0.01538029]\n",
      " [ 0.12237061  0.02785522  0.05816895  0.14689849  0.08039952]]\n"
     ]
    }
   ],
   "source": [
    "print(np.linalg.eigvals(A))\n",
    "print(np.linalg.eigvals(Ahat))\n",
    "Chat = Chat.reshape(-1,1)\n",
    "Chat = Chat.T\n",
    "Chat.shape\n",
    "\n"
   ]
  },
  {
   "cell_type": "code",
   "execution_count": 291,
   "metadata": {},
   "outputs": [
    {
     "data": {
      "image/png": "[encoded data removed]",
      "text/plain": [
       "<Figure size 720x360 with 1 Axes>"
      ]
     },
     "metadata": {
      "needs_background": "light"
     },
     "output_type": "display_data"
    }
   ],
   "source": [
    "LTISim2 = LTISimulator(Ahat,Bhat,Chat,.0001*np.eye(5),.001*np.eye(1),x_init = np.zeros(5))\n",
    "LTISim2.simulate(u)\n",
    "\n",
    "\n",
    "plt.figure(figsize = (10,5))\n",
    "plt.plot(LTISim.y[:150])\n",
    "plt.plot(LTISim2.y[:150])\n",
    "plt.show()"
   ]
  },
  {
   "cell_type": "code",
   "execution_count": 294,
   "metadata": {},
   "outputs": [
    {
     "data": {
      "image/png": "[encoded data removed]",
      "text/plain": [
       "<Figure size 432x288 with 1 Axes>"
      ]
     },
     "metadata": {
      "needs_background": "light"
     },
     "output_type": "display_data"
    },
    {
     "data": {
      "image/png": "[encoded data removed]",
      "text/plain": [
       "<Figure size 432x288 with 1 Axes>"
      ]
     },
     "metadata": {
      "needs_background": "light"
     },
     "output_type": "display_data"
    }
   ],
   "source": [
    "#maybe an easier way to measure similarity is through a bode plot\n",
    "\n",
    "\n",
    "\n",
    "def bode_plot(A,B,C,rng = 20):\n",
    "    \n",
    "    def func(A,B,C,z):\n",
    "        return np.abs(C.dot(np.linalg.inv(z*np.eye(A.shape[0])-A).dot(B)))[0]\n",
    "    \n",
    "    jwvals = np.linspace(0,rng,1000)\n",
    "    yvals = []\n",
    "    for v in jwvals:\n",
    "        yvals.append(func(A,B,C,1j*v))\n",
    "        \n",
    "    \n",
    "    plt.figure()\n",
    "    plt.plot(yvals[1:50])\n",
    "    plt.show()\n",
    "\n",
    "bode_plot(Ahat,Bhat,Chat)\n",
    "bode_plot(A,B,C)\n",
    "\n",
    "\n",
    "#so indeed, sometimes this approach actually works. I wonder what Fhat is"
   ]
  },
  {
   "cell_type": "code",
   "execution_count": 214,
   "metadata": {},
   "outputs": [
    {
     "name": "stdout",
     "output_type": "stream",
     "text": [
      "[0.96861903 0.86138097]\n"
     ]
    }
   ],
   "source": [
    "#is the kalman ho algorithm working as expected?\n",
    "\n",
    "# hankelmat = np.zeros((200,200))\n",
    "\n",
    "A = np.array([[.94,.0225],[.1,.89]])\n",
    "print(np.linalg.eigvals(A))\n",
    "\n",
    "# for i in range(200):\n",
    "#     for j in range(200):\n",
    "#         hankelmat[i,j] = C.dot(np.linalg.matrix_power(A,i+j).dot(B))\n",
    "        \n",
    "# m1,m2,m3 = HoKalman(hankelmat,2,1,1)\n",
    "# print(np.linalg.eigvals(m1))\n",
    "\n",
    "#this is bad! the eigenvalues that are recovered from this matrix should be bounded by 1.\n"
   ]
  },
  {
   "cell_type": "code",
   "execution_count": 185,
   "metadata": {},
   "outputs": [
    {
     "data": {
      "text/plain": [
       "array([-0.39843456, -0.0658244 ])"
      ]
     },
     "execution_count": 185,
     "metadata": {},
     "output_type": "execute_result"
    }
   ],
   "source": [
    "\n",
    "\n",
    "#interesting so that's not zero as suggested by Munzer. "
   ]
  },
  {
   "cell_type": "code",
   "execution_count": 287,
   "metadata": {},
   "outputs": [
    {
     "name": "stdout",
     "output_type": "stream",
     "text": [
      "[ 4.33259999e-01+0.j         -6.69220681e-02+0.j\n",
      "  3.19519157e-02+0.04503254j  3.19519157e-02-0.04503254j\n",
      "  3.74512684e-04+0.j        ]\n"
     ]
    }
   ],
   "source": [
    "#let's see if we can't recode ho kalman to give proper results:\n",
    "np.random.seed(42)\n",
    "\n",
    "A= np.random.rand(5,5)/5\n",
    "\n",
    "B = np.random.rand(5,1)\n",
    "C = np.random.rand(1,5)\n",
    "\n",
    "#let's construct a hankel matrix\n",
    "# np.linalg.matrix_power(A,0)\n",
    "\n",
    "# h = np.zeros((1000,1000))\n",
    "# for i in range(1000):\n",
    "#     for j in range(1000):\n",
    "#         h[i,j] = C.dot(np.linalg.matrix_power(A,i+j).dot(B))\n",
    "\n",
    "\n",
    "\n",
    "def Hokalman2(H,n):\n",
    "    \n",
    "    u,s,vh = np.linalg.svd(H)\n",
    "    \n",
    "    smat = np.sqrt(np.diag(s))\n",
    "    smat = smat[:n,:n]\n",
    "    D1 = u[:,:n].dot(smat)\n",
    "    D2 = smat.dot(vh[:n,:])\n",
    "    \n",
    "    Cest = D1[0,:]\n",
    "    Best = D2[:,0]\n",
    "    \n",
    "    Dminus = D2[:,:D2.shape[1]-1].T\n",
    "    Dplus = D2[:,1:D2.shape[1]].T\n",
    "    \n",
    "    #then we have A*Dminus = Dplus\n",
    "    #or in other words Dminus^T A^T = Dplus.T right?\n",
    "    #so then the least squares solution should be \n",
    "    Aest = np.linalg.inv(Dminus.T.dot(Dminus)).dot(Dminus.T.dot(Dplus))\n",
    "    Aest = Aest.T\n",
    "    return Aest,Best,Cest\n",
    "\n",
    "def HoKalmanObserverForm(FIRCoeff,H,k,n):\n",
    "    #here H is the size of the FIR coefficients\n",
    "    #k is the dimension of the constructed hankel matrix\n",
    "    #n is the best guess for the dimension of the system\n",
    "    \n",
    "    FIR1 = FIRCoeffs[:H]\n",
    "    FIR2 = FIRCoeffs[H:]\n",
    "    \n",
    "    \n",
    "    Hmat = np.zeros((k,2*k))\n",
    "    \n",
    "    assert 2*k < H, 'Pick a smaller hankel size'\n",
    "    \n",
    "    for i in range(k):\n",
    "        for j in range(k):\n",
    "            Hmat[i,j] = FIR1[i+j]\n",
    "    \n",
    "    for i in range(k):\n",
    "        for j in range(k):\n",
    "            Hmat[i,j+k] = FIR2[i+j]\n",
    "            \n",
    "    Hmat = Hmat[:,:k]\n",
    "            \n",
    "            \n",
    "    u,s,vh = np.linalg.svd(Hmat)\n",
    "    \n",
    "    smat = np.sqrt(np.diag(s))\n",
    "    smat = smat[:n,:n]\n",
    "    D1 = u[:,:n].dot(smat)\n",
    "    D2 = smat.dot(vh[:n,:])\n",
    "    \n",
    "    Cest = D1[0,:]\n",
    "    Best = D2[:,0]\n",
    "#     Fest = D2[:,k]\n",
    "    \n",
    "    Dminus = D2[:,:D2.shape[1]-1].T\n",
    "    Dplus = D2[:,1:D2.shape[1]].T\n",
    "    \n",
    "    Ahatest = np.linalg.inv(Dminus.T.dot(Dminus)).dot(Dminus.T.dot(Dplus))\n",
    "    Ahatest = Ahatest.T\n",
    "    \n",
    "#     Aest = Ahatest+np.outer(Fest,Cest)\n",
    "    Ahat = Ahatest\n",
    "    \n",
    "    return Aest,Best,Cest#,Fest\n",
    "    \n",
    "    \n",
    "    \n",
    "    \n",
    "    \n",
    "    \n",
    "# Aest,Best,Cest = Hokalman2(h,5)\n",
    "\n",
    "print(np.linalg.eigvals(A))\n",
    "# print(np.linalg.eigvals(Aest))"
   ]
  },
  {
   "cell_type": "code",
   "execution_count": 311,
   "metadata": {},
   "outputs": [
    {
     "name": "stdout",
     "output_type": "stream",
     "text": [
      "     fun: 5.039584905997163e-17\n",
      "    info: {'x': array([1.30462132, 0.63661977, 0.88074357]), 'g': array([], dtype=float64), 'obj_val': 5.039584905997163e-17, 'mult_g': array([], dtype=float64), 'mult_x_L': array([0., 0., 0.]), 'mult_x_U': array([0., 0., 0.]), 'status': 0, 'status_msg': b'Algorithm terminated successfully at a locally optimal point, satisfying the convergence tolerances (can be specified by options).'}\n",
      " message: b'Algorithm terminated successfully at a locally optimal point, satisfying the convergence tolerances (can be specified by options).'\n",
      "    nfev: 12\n",
      "     nit: 6\n",
      "    njev: 8\n",
      "  status: 0\n",
      " success: True\n",
      "       x: array([1.30462132, 0.63661977, 0.88074357])\n"
     ]
    }
   ],
   "source": [
    "from scipy.optimize import rosen, rosen_der\n",
    "from ipopt import minimize_ipopt\n",
    "\n",
    "def dummyFunc(x):\n",
    "    return (np.sin(1/x[0])*2*np.cos(1/x[1])*np.cos(1/x[2]))**2\n",
    "\n",
    "\n",
    "x0 = [1.3, 0.7, 0.9]\n",
    "res = minimize_ipopt(dummyFunc, x0)\n",
    "print(res)\n",
    "\n",
    "\n",
    "\n",
    "\n"
   ]
  },
  {
   "cell_type": "code",
   "execution_count": 490,
   "metadata": {},
   "outputs": [],
   "source": [
    "def CalculateNaturesYs(Ahat,Bhat,Chat,w,z,t):\n",
    "    #assume that x0= 0 then calculate the impact of nature\n",
    "    assert t<= len(w)\n",
    "    if t ==0:   \n",
    "        b = z[0] \n",
    "    else:\n",
    "        b = 0\n",
    "        for i in range(t):\n",
    "            b+= Chat.dot(np.linalg.matrix_power(Ahat,i))*w[:,t-i]\n",
    "        b +=z[t]\n",
    "        \n",
    "    return b\n",
    "\n",
    "# def ObjectiveFunction(M):\n",
    "#     #these are all constants that are already specified before calling the optimization:\n",
    "#     # Q,R,Ahat,Bhat,Chat,w,z\n",
    "#     #here M is a sequence of H' number (approximating FIR coefficients..)\n",
    "#     bs = []\n",
    "#     for i in range(len(w)):\n",
    "#         bs.append(CalculateNaturesYs(Ahat,Bhat,Chat,W,z,t))\n",
    "        \n",
    "#     ys = []\n",
    "#     us = []\n",
    "#     for i in range(len(w)):\n",
    "#         #need to calculate \n",
    "#         u = 0\n",
    "#         for j in range(min([len(M),i])):\n",
    "# #             u = bs[i-j]* #should be a convolution..\n",
    "        \n",
    "        \n",
    "    \n",
    "        \n",
    "        \n",
    "        \n",
    "    #we actually want to optimize over a tensor M with shape (1,1,H'). In our case we will just use the scalar case.\n",
    "    \n",
    "    \n",
    "def CalculateControl(b,M):\n",
    "    \n",
    "    u = []\n",
    "    for i in range(len(b)):\n",
    "        utmp = 0\n",
    "        for j in range(min([i,len(M)])):\n",
    "            utmp = b[i-j]*M[j]\n",
    "        u.append(utmp)\n",
    "\n",
    "    return u\n",
    "\n",
    "    \n",
    "\n",
    "def CalculateB(Aest,Best,Cest,w,z):\n",
    "    \n",
    "    b = [z[0]] #assuming that x0= 0\n",
    "#     assert len(z) == len(w)+1\n",
    "    \n",
    "    for i in range(w.shape[1]):\n",
    "        btmp = z[i]\n",
    "        for j in range(i):\n",
    "            btmp += Cest.dot(np.linalg.matrix_power(Aest,j)).dot(w[:,i-j])\n",
    "        b.append(btmp)\n",
    "        \n",
    "    \n",
    "    return b\n",
    "\n",
    "def optimizeControl(M,Aest,Best,Cest,w,z,q,r):\n",
    "    \n",
    "    #need to calculate natures ys\n",
    "    b = CalculateB(Aest,Best,Cest,w,z)\n",
    "    def objective(M):\n",
    "        u = CalculateControl(b,M)\n",
    "        #assuming that x0= 0 we can calculate the state trajectory\n",
    "        yu = []\n",
    "        for i in range(len(b)):\n",
    "            ytmp = 0\n",
    "            for j in range(i):\n",
    "                ytmp += Cest.dot(np.linalg.matrix_power(Aest,j).dot(Best))[0,0]*u[i-j]\n",
    "            ytmp+=b[i]\n",
    "            yu.append(ytmp)\n",
    "            \n",
    "        yu = np.array(yu)\n",
    "        \n",
    "        objval = 0\n",
    "        for i in range(len(u)):\n",
    "            objval+=q*(yu[i]**2)+r*(u[i]**2)\n",
    "        objval+=q*(yu[-1]**2)\n",
    "        \n",
    "        return objval\n",
    "    \n",
    "    def calculate_gradient(M,eps = .0005,):\n",
    "        grad = np.zeros(len(M))\n",
    "        for i in range(len(M)):\n",
    "            Mnew = np.copy(M)\n",
    "            Mnew[i]+=eps\n",
    "            grad[i] = objective(Mnew)-objective(M)\n",
    "            \n",
    "        grad/=eps\n",
    "        \n",
    "        return grad\n",
    "    \n",
    "    def gradient_ascent(M,steps,stepsize):\n",
    "        obj = objective(M)\n",
    "        for i in range(steps):\n",
    "            grad = calculate_gradient(M)\n",
    "            grad += .005*(np.random.rand(len(M))-.5)\n",
    "            Mnew=M - stepsize*np.random.rand()*grad\n",
    "            objnew = objective(Mnew)\n",
    "            if objnew < obj:\n",
    "                print('improved by '+str(obj-objnew))\n",
    "                M=Mnew\n",
    "                obj = objnew\n",
    "        return M\n",
    "    \n",
    "    res = minimize_ipopt(objective, M)\n",
    "    Mnew = res.x\n",
    "    print(res)\n",
    "    \n",
    "    Mgrad = gradient_ascent(Mnew+(np.random.rand(len(M))-.5),500,.005)\n",
    "    print(objective(Mgrad))\n",
    "    \n",
    "    return Mnew,Mgrad\n",
    "    \n",
    "    \n",
    "    \n",
    "        \n",
    "        \n",
    "    "
   ]
  },
  {
   "cell_type": "code",
   "execution_count": 491,
   "metadata": {},
   "outputs": [
    {
     "name": "stdout",
     "output_type": "stream",
     "text": [
      "[-0.26699992  0.99872819]\n"
     ]
    }
   ],
   "source": [
    "#gotta make sure the dimensions work out. \n",
    "np.random.seed(42)\n",
    "A1 = np.random.rand(2,2)/1.33\n",
    "B1 = np.random.rand(2,1)\n",
    "C1 = np.random.rand(1,2)\n",
    "M1 = np.random.rand(3)\n",
    "w = np.random.multivariate_normal(mean = np.zeros(2),cov = np.eye(2),size = 40).T\n",
    "z = np.random.rand(41)\n",
    "q = 10\n",
    "r = 1\n",
    "\n",
    "print(np.linalg.eigvals(A1))\n",
    "\n"
   ]
  },
  {
   "cell_type": "code",
   "execution_count": 492,
   "metadata": {},
   "outputs": [
    {
     "name": "stdout",
     "output_type": "stream",
     "text": [
      "     fun: 583.6604049756145\n",
      "    info: {'x': array([30.14112749, 37.91182058,  0.11492098]), 'g': array([], dtype=float64), 'obj_val': 583.6604049756145, 'mult_g': array([], dtype=float64), 'mult_x_L': array([0., 0., 0.]), 'mult_x_U': array([0., 0., 0.]), 'status': 0, 'status_msg': b'Algorithm terminated successfully at a locally optimal point, satisfying the convergence tolerances (can be specified by options).'}\n",
      " message: b'Algorithm terminated successfully at a locally optimal point, satisfying the convergence tolerances (can be specified by options).'\n",
      "    nfev: 613\n",
      "     nit: 164\n",
      "    njev: 166\n",
      "  status: 0\n",
      " success: True\n",
      "       x: array([30.14112749, 37.91182058,  0.11492098])\n",
      "improved by [170.70358359]\n",
      "improved by [11.95370764]\n",
      "improved by [11.26851553]\n",
      "improved by [9.62367479]\n",
      "improved by [0.73896056]\n",
      "improved by [0.33688501]\n",
      "improved by [0.02897213]\n",
      "[583.66587043]\n"
     ]
    }
   ],
   "source": [
    "M100,Mgrad = optimizeControl(M1,A1,B1,C1,w,z,q,r)"
   ]
  },
  {
   "cell_type": "code",
   "execution_count": 478,
   "metadata": {},
   "outputs": [
    {
     "name": "stdout",
     "output_type": "stream",
     "text": [
      "[ 2.23410655  2.40173226 -0.26097801]\n"
     ]
    },
    {
     "data": {
      "text/plain": [
       "[<matplotlib.lines.Line2D at 0x7fb9c641bdc0>]"
      ]
     },
     "execution_count": 478,
     "metadata": {},
     "output_type": "execute_result"
    },
    {
     "data": {
      "image/png": "[encoded data removed]",
      "text/plain": [
       "<Figure size 432x288 with 1 Axes>"
      ]
     },
     "metadata": {
      "needs_background": "light"
     },
     "output_type": "display_data"
    }
   ],
   "source": [
    "#okay so now how do we compare the two trajectories? and does this M actually stabilize the system??\n",
    "#let's try er out...\n",
    "\n",
    "#b =CalculateB(Aest,Best,Cest,w,z)\n",
    "#u = CalculateControl(b,M)\n",
    "\n",
    "wnew = np.random.multivariate_normal(mean = np.zeros(2),cov = np.eye(2),size = 300).T\n",
    "znew = np.random.rand(301)\n",
    "\n",
    "def calculateTrajectory(Aest,Best,Cest,w,z,M):\n",
    "    \n",
    "    n= w.shape[1]\n",
    "    \n",
    "    b = CalculateB(Aest,Best,Cest,w,z)\n",
    "    u = CalculateControl(b,M)\n",
    "    \n",
    "    #calculate trajectory...\n",
    "    \n",
    "    ys = [z[0]]\n",
    "    for i in range(w.shape[1]):\n",
    "        #state at time i should be natures y plus the effect of control\n",
    "        tmpstate = 0\n",
    "        for j in range(i):\n",
    "            tmpstate += Cest.dot(np.linalg.matrix_power(Aest,j).dot(Best))[0,0]*u[i-j]\n",
    "            \n",
    "        ys.append(b[i]+tmpstate)\n",
    "    \n",
    "    return(ys)\n",
    "print(Mgrad)\n",
    "plt.plot(calculateTrajectory(A1,B1,C1,wnew,znew,M100))\n",
    "plt.plot(calculateTrajectory(A1,B1,C1,wnew,znew,Mgrad))\n"
   ]
  },
  {
   "cell_type": "code",
   "execution_count": null,
   "metadata": {},
   "outputs": [],
   "source": []
  }
 ],
 "metadata": {
  "kernelspec": {
   "display_name": "Python 3",
   "language": "python",
   "name": "python3"
  },
  "language_info": {
   "codemirror_mode": {
    "name": "ipython",
    "version": 3
   },
   "file_extension": ".py",
   "mimetype": "text/x-python",
   "name": "python",
   "nbconvert_exporter": "python",
   "pygments_lexer": "ipython3",
   "version": "3.8.3"
  }
 },
 "nbformat": 4,
 "nbformat_minor": 4
}
