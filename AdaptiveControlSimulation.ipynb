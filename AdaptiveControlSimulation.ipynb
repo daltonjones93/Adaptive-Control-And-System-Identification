{
 "cells": [
  {
   "cell_type": "code",
   "execution_count": 449,
   "metadata": {},
   "outputs": [],
   "source": [
    "import numpy as np\n",
    "import matplotlib.pyplot as plt\n",
    "import os\n",
    "import pandas as pd\n",
    "\n",
    "from scipy.signal import TransferFunction as tf\n",
    "\n",
    "from scipy.signal import StateSpace\n",
    "\n",
    "from scipy.optimize import minimize, shgo,basinhopping"
   ]
  },
  {
   "cell_type": "code",
   "execution_count": 458,
   "metadata": {},
   "outputs": [
    {
     "name": "stdout",
     "output_type": "stream",
     "text": [
      "open loop system has max eigenvalue 2.793380902535727\n",
      "Closed Loop max eigenvalue is: \n",
      "2.7988928341950094\n",
      "Closed Loop max eigenvalue is: \n",
      "2.7988928341950094\n"
     ]
    },
    {
     "name": "stderr",
     "output_type": "stream",
     "text": [
      "/Users/daltonjones/opt/anaconda3/lib/python3.8/site-packages/scipy/signal/filter_design.py:1625: BadCoefficients: Badly conditioned filter coefficients (numerator): the results may be meaningless\n",
      "  warnings.warn(\"Badly conditioned filter coefficients (numerator): the \"\n",
      "/Users/daltonjones/opt/anaconda3/lib/python3.8/site-packages/numpy/linalg/linalg.py:666: RuntimeWarning: overflow encountered in matmul\n",
      "  result = z if result is None else fmatmul(result, z)\n"
     ]
    },
    {
     "name": "stdout",
     "output_type": "stream",
     "text": [
      "Closed Loop max eigenvalue is: \n",
      "2.7988928341950094\n",
      "Closed Loop max eigenvalue is: \n",
      "2.7988928341950094\n",
      "Closed Loop max eigenvalue is: \n",
      "2.7988928341950094\n"
     ]
    },
    {
     "data": {
      "text/plain": [
       "<Figure size 432x288 with 0 Axes>"
      ]
     },
     "metadata": {},
     "output_type": "display_data"
    },
    {
     "data": {
      "text/plain": [
       "<Figure size 432x288 with 0 Axes>"
      ]
     },
     "metadata": {},
     "output_type": "display_data"
    },
    {
     "data": {
      "text/plain": [
       "<Figure size 432x288 with 0 Axes>"
      ]
     },
     "metadata": {},
     "output_type": "display_data"
    },
    {
     "data": {
      "text/plain": [
       "<Figure size 432x288 with 0 Axes>"
      ]
     },
     "metadata": {},
     "output_type": "display_data"
    },
    {
     "data": {
      "image/png": "[encoded data removed]",
      "text/plain": [
       "<Figure size 432x288 with 4 Axes>"
      ]
     },
     "metadata": {
      "needs_background": "light"
     },
     "output_type": "display_data"
    },
    {
     "data": {
      "text/plain": [
       "[<matplotlib.lines.Line2D at 0x7fb70d763760>]"
      ]
     },
     "execution_count": 458,
     "metadata": {},
     "output_type": "execute_result"
    },
    {
     "data": {
      "image/png": "[encoded data removed]",
      "text/plain": [
       "<Figure size 432x288 with 1 Axes>"
      ]
     },
     "metadata": {
      "needs_background": "light"
     },
     "output_type": "display_data"
    }
   ],
   "source": [
    "#need to do a simulation to determine how the emprical covariance scales....\n",
    "\n",
    "\n",
    "\n",
    "\n",
    "\n",
    "class LTISystem(object):\n",
    "    def __init__(self,A,B,C,f,sigma_w=1,sigma_v=1):\n",
    "        self.A = A\n",
    "        self.B = B\n",
    "        self.C = C\n",
    "        self.sigma_w = sigma_w\n",
    "        self.sigma_v = sigma_v\n",
    "        self.f = f\n",
    "        \n",
    "        self.x = np.zeros(len(A))\n",
    "        self.output = 0\n",
    "        \n",
    "        self.outputs = []\n",
    "        self.states = []\n",
    "        \n",
    "        sys = StateSpace(A, B.reshape(len(A),1), C.reshape(1,len(A)), np.array([[0]]))\n",
    "        \n",
    "        \n",
    "        transferFunction = tf(sys)\n",
    "        \n",
    "        num = transferFunction.num\n",
    "        den = transferFunction.den\n",
    "        \n",
    "        padded_num = np.zeros(len(den))\n",
    "        \n",
    "        padded_num[-len(num):] = num\n",
    "        \n",
    "        closed_loop_char_poly = f*padded_num+den\n",
    "        \n",
    "        print('Closed Loop max eigenvalue is: ')\n",
    "        print(np.max(np.abs(np.roots(closed_loop_char_poly))))\n",
    "        \n",
    "        \n",
    "        \n",
    "        \n",
    "#         assert np.max(np.abs(np.roots(closed_loop_char_poly))) < 1, \"closed loop system unstable. Readjust gain f or try again with a new system.\"\n",
    "        \n",
    "        \n",
    "        G = []\n",
    "        for i in range(1000):\n",
    "            G.append(C.dot(np.linalg.matrix_power(A,i).dot(B)))\n",
    "        G = np.array(G)*f\n",
    "        \n",
    "        self.markovParametersScaled = G\n",
    "        \n",
    "        \n",
    "        \n",
    "        \n",
    "#         assert np.max(np.abs(np.linalg.eigvals(A))) < 1, \"A unstable\"\n",
    "    \n",
    "    def set_variance(self,v):\n",
    "        self.sigma_w = v\n",
    "        self.sigma_v = v\n",
    "        \n",
    "    def wipe(self):\n",
    "        self.outputs = []\n",
    "        self.states = []\n",
    "        \n",
    "    def set_feedback(self,f):\n",
    "        self.f = f\n",
    "        \n",
    "        \n",
    "    def simulate_in_closed_loop(self,num_iter):\n",
    "        \n",
    "        for i in range(num_iter):\n",
    "            try:\n",
    "                self.x = self.A.dot(self.x) + self.B*self.f*self.output[-1] + np.random.normal(0,self.sigma_w,(len(self.A),))\n",
    "            except:\n",
    "                self.x = self.A.dot(self.x)+ np.random.normal(0,self.sigma_w,(len(self.A),))\n",
    "            self.output = self.C.dot(self.x) + np.random.normal(0,self.sigma_v)\n",
    "            \n",
    "            self.states.append(self.x)\n",
    "            self.outputs.append(self.output)\n",
    "            \n",
    "    \n",
    "    def estimate_markov_parameters(self,window,T,num_iter, run = True):\n",
    "        \n",
    "        if run:\n",
    "            self.wipe()\n",
    "            self.simulate_in_closed_loop(num_iter)\n",
    "        \n",
    "        \n",
    "        yvals = []\n",
    "        for i in range(len(self.outputs)-window):\n",
    "            yvals.append(self.outputs[i:i+window])\n",
    "            \n",
    "        yvals = np.array(yvals)\n",
    "        \n",
    "        assert T < len(yvals), 'Pick a smaller T or a larger num_iter'\n",
    "        yvals = yvals[:T,:]\n",
    "        \n",
    "        y = self.outputs[window:window+T]\n",
    "        \n",
    "        assert len(y) == len(yvals)\n",
    "        \n",
    "        try:\n",
    "            G_hat = np.linalg.inv(yvals.T.dot(yvals)+.05*np.eye(window)).dot(yvals.T.dot(y))\n",
    "#             print(\"least square solution worked\")\n",
    "        except:\n",
    "            G_hat = np.linalg.pinv(yvals.T.dot(yvals)+.05*np.eye(window)).dot(yvals.T.dot(y))\n",
    "#             print(\"least square solution non invertible, used pseudo inverse\")\n",
    "            \n",
    "        return G_hat, (np.linalg.norm(G_hat - self.markovParametersScaled[:window])**2)/window\n",
    "        \n",
    "        \n",
    "    \n",
    "    def calculate_empirical_variance(self,window,T,num_iter = 100, run = True):\n",
    "        if run:\n",
    "            self.simulate_in_closed_loop(num_iter)\n",
    "        \n",
    "        yvals = []\n",
    "        for i in range(len(self.outputs)-window):\n",
    "            yvals.append(self.outputs[i:i+window])\n",
    "            \n",
    "        yvals = np.array(yvals)\n",
    "        \n",
    "        #calculate covariance\n",
    "        \n",
    "        cov = np.zeros((window,window))\n",
    "        \n",
    "        \n",
    "        assert T < len(yvals), 'Pick a smaller T'\n",
    "        \n",
    "        for i in range(T):\n",
    "            cov+=np.outer(yvals[i,:],yvals[i,:])\n",
    "            \n",
    "        return cov, np.linalg.norm(cov)# np.min(np.abs(np.linalg.eigvals(cov)))\n",
    "    \n",
    "    \n",
    "    def cmin_calculator(self,Tmax=300,window = 10):\n",
    "        self.simulate_in_closed_loop(Tmax +100)\n",
    "        \n",
    "        normvals = []\n",
    "        Tvals = np.array(np.arange(window+50,Tmax+50))\n",
    "        \n",
    "        for T in Tvals:\n",
    "        \n",
    "            _,norm = self.calculate_empirical_variance(window,T,num_iter = Tmax+50, run = False)\n",
    "            \n",
    "            normvals.append(norm)\n",
    "            \n",
    "            \n",
    "        normvals = np.array(normvals)\n",
    "        \n",
    "        alpha = (Tvals.dot(normvals))/np.sum(Tvals**2)\n",
    "        \n",
    "\n",
    "        return alpha\n",
    "\n",
    "    def HinfinityNorm(self,A=None,B=None,C=None,f=None,closedLoop= False):\n",
    "        try:\n",
    "            if A == None:\n",
    "                A = self.A\n",
    "                B = self.B\n",
    "                C = self.C\n",
    "                f = self.f\n",
    "        except:\n",
    "            pass\n",
    "        #calculate markov parameters\n",
    "        \n",
    "        #need to verify if A is stable?\n",
    "        \n",
    "#         assert np.max(np.abs(np.linalg.eigvals(A))) <1, \"A is not stable\"\n",
    "        \n",
    "        if not closedLoop:\n",
    "            num_params = 200\n",
    "            mkvParams = []\n",
    "            for i in range(num_params):\n",
    "                mkvParams.append(C.dot(np.linalg.matrix_power(A,i).dot(B)))\n",
    "\n",
    "            mkvParams = np.array(mkvParams)\n",
    "\n",
    "            zvals = np.exp(1j*np.linspace(0,2*np.pi,200))\n",
    "\n",
    "            norms = []\n",
    "\n",
    "            for i in range(len(zvals)):\n",
    "                val = 0\n",
    "                z = zvals[i]\n",
    "                for j in range(num_params):\n",
    "                    val+= (1/(z**j))*mkvParams[j]\n",
    "                val= np.abs(val)\n",
    "                norms.append(val)\n",
    "\n",
    "            return max(norms)\n",
    "        else:\n",
    "            num_params = 80\n",
    "            mkvParams = []\n",
    "            for i in range(num_params):\n",
    "                mkvParams.append(C.dot(np.linalg.matrix_power(A+np.outer(B,C)*f,i)))\n",
    "            \n",
    "            zvals = np.exp(1j*np.linspace(0,2*np.pi,num_params))\n",
    "\n",
    "            norms = []\n",
    "\n",
    "            for i in range(len(zvals)):\n",
    "                val = 0\n",
    "                z = zvals[i]\n",
    "                for j in range(num_params):\n",
    "                    val+= (1/(z**j))*mkvParams[j]\n",
    "#                 val= np.abs(val)\n",
    "                norms.append(np.linalg.norm(val))\n",
    "            \n",
    "            return max(norms)\n",
    "                \n",
    "    \n",
    "    def optimalControlHinfinity(self,A=None,B=None,C=None,fmax = -20,fmin=-20):\n",
    "        \n",
    "        \n",
    "        \n",
    "        \n",
    "        \n",
    "        try:\n",
    "            if A == None:\n",
    "                A = self.A\n",
    "                B = self.B\n",
    "                C = self.C\n",
    "        except:\n",
    "            pass\n",
    "        \n",
    "#         def dummy_func(f):\n",
    "#             v = self.HinfinityNorm(A,B,C,f,closedLoop= False)\n",
    "#             return v\n",
    "            \n",
    "        \n",
    "#         res = minimize(dummy_func,bounds = [(-20,20)],x0 = np.array([-.1]))\n",
    "#         print(res.x)\n",
    "#         print(res.fun)\n",
    "#         assert False\n",
    "        \n",
    "        fvals = np.linspace(fmin,fmax,200)\n",
    "        \n",
    "        \n",
    "            \n",
    "        \n",
    "        norms = []\n",
    "        for f in fvals:\n",
    "            sys = StateSpace(A, B.reshape(len(A),1), C.reshape(1,len(A)), np.array([[0]]))\n",
    "\n",
    "\n",
    "            transferFunction = tf(sys)\n",
    "\n",
    "            num = transferFunction.num\n",
    "            den = transferFunction.den\n",
    "\n",
    "            padded_num = np.zeros(len(den))\n",
    "\n",
    "            padded_num[-len(num):] = num\n",
    "\n",
    "            closed_loop_char_poly = f*padded_num+den\n",
    "\n",
    "            \n",
    "            if np.max(np.abs(np.roots(closed_loop_char_poly))) > 1:\n",
    "                norms.append(np.inf)\n",
    "                continue\n",
    "            else:\n",
    "                normval = self.HinfinityNorm(A,B,C,f,closedLoop= True)\n",
    "                norms.append(min([normval,1000]))\n",
    "                \n",
    "                \n",
    "        if min(norms) == np.inf:\n",
    "            return 0, 1000\n",
    "        \n",
    "        fvalszipped = zip(list(fvals),norms)\n",
    "            \n",
    "                \n",
    "        fvalszipped = sorted(fvalszipped,key=lambda x:x[1])\n",
    "        \n",
    "#         plt.plot(fvals,norms)\n",
    "        \n",
    "        \n",
    "        return fvalszipped[0][0], fvalszipped[0][1]\n",
    "    \n",
    "    def constructHankel(self,G,hankelSize):\n",
    "        \n",
    "        assert hankelSize <2*len(G), \"make hankel matrix smaller\"\n",
    "        \n",
    "        hankel = np.zeros((hankelSize,hankelSize))\n",
    "        for i in range(hankelSize):\n",
    "            for j in range(hankelSize):\n",
    "                hankel[i,j] = G[i+j]\n",
    "                \n",
    "        return hankel\n",
    "    \n",
    "    def hoKalman(self,hankel,threshold = .0001,n=None):\n",
    "        \n",
    "        u, s, vh = np.linalg.svd(hankel,full_matrices = True)\n",
    "        \n",
    "        if n == None:\n",
    "            #calculate n using thresholding of hankel singular values\n",
    "            n =0\n",
    "            for i in range(len(s)):\n",
    "                if s[i]>threshold:\n",
    "                    n+=1\n",
    "        \n",
    "            \n",
    "        s = np.diag(s)\n",
    "        smat = np.sqrt(s)\n",
    "        \n",
    "        V1 = u.dot(smat)\n",
    "        V2 = (smat.dot(vh))\n",
    "        \n",
    "        V1 = V1[:,:n]\n",
    "        V2 = V2[:n,:]\n",
    "        \n",
    "        \n",
    "        \n",
    "        Best = V2[:,0]\n",
    "        Cest = V1[0,:]\n",
    "        V2minus = V2[:,:len(hankel)-1]\n",
    "        V2plus = V2[:,1:]\n",
    "        \n",
    "        V1minus = V1[:len(V1)-1,:]\n",
    "        V1plus = V1[1:,:]\n",
    "        \n",
    "#         Aest = np.linalg.inv(V2minus.dot(V2minus.T)).dot(V2minus.dot(V2plus.T))\n",
    "        Aest = (np.linalg.inv(V1minus.T.dot(V1minus))).dot(V1minus.T.dot(V1plus))\n",
    "        \n",
    "#         print(hankel[:3,:3])\n",
    "#         newhankel = np.zeros((3,3))\n",
    "#         for i in range(3):\n",
    "#             for j in range(3):\n",
    "#                 newhankel[i,j] = Cest.dot(np.linalg.matrix_power(Aest,i+j).dot(Best))\n",
    "                \n",
    "#         print(newhankel)\n",
    "        \n",
    "        return Aest,Best,Cest\n",
    "    \n",
    "    \n",
    "    def adaptiveControl(self,num_epochs,n=None,threshold = .0001,T=100,num_iter= 200,window = 20):\n",
    "        weighted_outputs = []\n",
    "        self.wipe()\n",
    "        yvals = []\n",
    "        \n",
    "#         feedbackgain,magnitude = self.optimalControlHinfinity()\n",
    "#         print(\"optimal feedback gain for true system is \"+str(feedbackgain))\n",
    "#         print(\"with gain of \"+str(magnitude))\n",
    "        \n",
    "        regret =[]\n",
    "        \n",
    "        fvals = []\n",
    "        \n",
    "        error_over_time = []\n",
    "        \n",
    "        for epoch in range(num_epochs):\n",
    "            \n",
    "            #how bad is the current feedback?\n",
    "            hinfnow = self.HinfinityNorm(closedLoop=True)\n",
    "            \n",
    "            if epoch ==0:\n",
    "                regret.append(np.abs(hinfnow))\n",
    "            else:\n",
    "                regret.append(np.abs(hinfnow)+regret[-1])\n",
    "                \n",
    "            \n",
    "            \n",
    "            \n",
    "            print(\"starting epoch \"+str(epoch))\n",
    "            \n",
    "            #first we run the system and collect relevant parameters\n",
    "            \n",
    "            self.simulate_in_closed_loop(num_iter)\n",
    "            \n",
    "            weighted_outputs += list((1/self.f)*np.array(self.outputs[(epoch)*num_iter+window:(epoch)*num_iter+window+T]))\n",
    "            #now need to collect relevant yvals\n",
    "            \n",
    "            for i in range(T):\n",
    "                yvals.append(self.outputs[epoch*num_iter+i :epoch*num_iter+window+i])\n",
    "                \n",
    "            \n",
    "            yvalsmat = np.array(yvals)\n",
    "            yplus = np.array(weighted_outputs)\n",
    "            #now we need to do least squares to get an estimate of G\n",
    "            \n",
    "            Ghat= np.linalg.inv(yvalsmat.T.dot(yvalsmat)).dot(yvalsmat.T.dot(yplus))\n",
    "            \n",
    "            error_over_time.append(np.linalg.norm(Ghat-(self.markovParametersScaled/self.f)[:window]))\n",
    "            \n",
    "            print(\"estimation error is \"+str(np.linalg.norm(Ghat-(self.markovParametersScaled/self.f)[:window])))\n",
    "            \n",
    "            hankel = self.constructHankel(Ghat,int((len(Ghat)/2)-2))\n",
    "            Aest,Best,Cest = self.hoKalman(hankel,threshold = threshold,n=n)\n",
    "            \n",
    "            print('calculating optimal controller for estimated system')\n",
    "            \n",
    "            \n",
    "            \n",
    "            newf, _=self.optimalControlHinfinity(A=Aest,B=Best,C=Cest,fmax = 50,fmin=-50)\n",
    "            newgain = self.HinfinityNorm(self.A,self.B,self.C,newf*.1+self.f*.9,closedLoop=True)\n",
    "            print(\"new feedback gain is \"+str(newf*.1+self.f*.9))\n",
    "            print(\"with cost of \"+str(newgain))\n",
    "            \n",
    "            self.set_feedback(newf*.1+self.f*.9)\n",
    "            \n",
    "            fvals.append(newf*.1+self.f*.9)\n",
    "            \n",
    "        return regret,fvals,error_over_time\n",
    "            \n",
    "            \n",
    "    \n",
    "        \n",
    "        \n",
    "\n",
    "        \n",
    "            \n",
    "            \n",
    "        \n",
    "        \n",
    "\n",
    "\n",
    "# np.random.seed(41)\n",
    "\n",
    "\n",
    "A = np.random.normal(0,1, (5,5))\n",
    "\n",
    "B = np.random.normal(0,1,(5,))*.2\n",
    "\n",
    "C = np.random.normal(0,1,(5,))*.2\n",
    "\n",
    "v = .3\n",
    "\n",
    "f= -.1\n",
    "\n",
    "\n",
    "print(\"open loop system has max eigenvalue \"+str(np.max(np.abs(np.linalg.eigvals(A)))))\n",
    "\n",
    "\n",
    "system = LTISystem(A,B,C,f,v,v)\n",
    "\n",
    "# hinf = system.HinfinityNorm(closedLoop=True)\n",
    "\n",
    "\n",
    "\n",
    "G = system.markovParametersScaled/system.f\n",
    "\n",
    "# hankel = system.constructHankel(G,20) + .1*np.random.normal(0,1,(20,20))\n",
    "\n",
    "\n",
    "# Aest,Best,Cest = system.hoKalman(hankel,n=5)\n",
    "\n",
    "# # feedbackvalue,gain = system.optimalControlHinfinity(Aest,Best,Cest)\n",
    "\n",
    "\n",
    "# regret,fvals = system.adaptiveControl(num_epochs = 10,n=5,threshold = .00001)\n",
    "\n",
    "\n",
    "\n",
    "\n",
    "\n",
    "\n",
    "# assert False\n",
    "\n",
    "\n",
    "\n",
    "# np.random.seed(30)\n",
    "\n",
    "def plot_error(plotName = 'ErrorPlot'):\n",
    "    windows = [10,15,20,30]\n",
    "    datalist = []\n",
    "\n",
    "    for w in windows:\n",
    "        \n",
    "# #         A *= v\n",
    "#         B *= v*2\n",
    "#         C *= v*2\n",
    "        \n",
    "        \n",
    "        system = LTISystem(A,B,C,f,v,v)\n",
    "#         B *=1.7\n",
    "#         C*=1.7\n",
    "        \n",
    "        \n",
    "        Tvals = np.arange(70,500)\n",
    "#         system.set_variance(v)\n",
    "        \n",
    "        system.wipe()\n",
    "\n",
    "        system.simulate_in_closed_loop(1000)\n",
    "\n",
    "        dataDict = []\n",
    "        plt.figure()\n",
    "\n",
    "        for T in Tvals:\n",
    "            _, err = system.estimate_markov_parameters(window = w,T=T,num_iter=1000, run = False)\n",
    "\n",
    "            dataDict.append(err)\n",
    "\n",
    "           \n",
    "        datalist.append(dataDict)\n",
    "        del dataDict\n",
    "        \n",
    "    \n",
    "    #make plot \n",
    "    \n",
    "#     print(datalist)\n",
    "    \n",
    "    fig, axis = plt.subplots(2, 2,sharex=True, sharey=True)\n",
    "    \n",
    "    for i in range(4):\n",
    "        if i < 2:\n",
    "\n",
    "            if i ==0:\n",
    "                axis[0, int(np.mod(i,2))].plot(Tvals, datalist[i])\n",
    "            else:\n",
    "                axis[0, int(np.mod(i,2))].plot(Tvals, datalist[i])\n",
    "            axis[0, int(np.mod(i,2))].set_title(\"Delay =\"+str(windows[i]))\n",
    "        else:\n",
    "            \n",
    "            axis[1, int(np.mod(i,2))].plot(Tvals, datalist[i])\n",
    "            axis[1, int(np.mod(i,2))].set_title(\"Delay =\"+str(windows[i]))\n",
    "\n",
    "    \n",
    "#     fig.legend(loc = 'lower right')\n",
    "\n",
    "#     plt.plot(Tvals,dataDict[r], label= 'Delay = '+str(r))\n",
    "    \n",
    "    fig.suptitle(\"Closed Loop Least Squares\\n Estimation Error\")\n",
    "    \n",
    "    plt.subplots_adjust(left=0.1,\n",
    "                    bottom=0.1, \n",
    "                    right=0.9, \n",
    "                    top=.8, \n",
    "                    wspace=0.4, \n",
    "                    hspace=0.4)\n",
    "\n",
    "    fig.text(0.5, -0.02, \"T (Sample Size)\", ha='center')\n",
    "    fig.text(-.05, 0.5, r\"$\\frac{||\\hat{G}_r-G_r||}{r}$\", fontsize = 18, va='center', rotation='vertical')\n",
    "\n",
    "\n",
    "#     plt.savefig(plotName+'.png',bbox_inches='tight')\n",
    "\n",
    "    \n",
    "    plt.show()\n",
    "    \n",
    "    return Tvals,datalist\n",
    "    \n",
    "    \n",
    "    \n",
    "\n",
    "# plotnames = ['ErrorPlot1','ErrorPlot2','ErrorPlot3','ErrorPlot4']\n",
    "# variances = [.1,.25,.5,1]\n",
    "\n",
    "\n",
    "Tvals, datalist = plot_error('DelayError5')\n",
    "        \n",
    "plt.plot(Tvals[:10],datalist[0][:10])     \n",
    "        \n",
    "\n",
    "        "
   ]
  },
  {
   "cell_type": "code",
   "execution_count": 429,
   "metadata": {},
   "outputs": [
    {
     "name": "stderr",
     "output_type": "stream",
     "text": [
      "/Users/daltonjones/opt/anaconda3/lib/python3.8/site-packages/scipy/signal/filter_design.py:1625: BadCoefficients: Badly conditioned filter coefficients (numerator): the results may be meaningless\n",
      "  warnings.warn(\"Badly conditioned filter coefficients (numerator): the \"\n",
      "\r",
      "  0%|          | 0/212 [00:00<?, ?it/s]"
     ]
    },
    {
     "name": "stdout",
     "output_type": "stream",
     "text": [
      "Closed Loop max eigenvalue is: \n",
      "0.19208610607102575\n"
     ]
    },
    {
     "name": "stderr",
     "output_type": "stream",
     "text": [
      "\r",
      "  0%|          | 1/212 [00:02<09:06,  2.59s/it]"
     ]
    },
    {
     "name": "stdout",
     "output_type": "stream",
     "text": [
      "0.6281407035175883 4.739698694961687\n"
     ]
    },
    {
     "name": "stderr",
     "output_type": "stream",
     "text": [
      "\r",
      "  1%|          | 2/212 [00:04<08:23,  2.40s/it]"
     ]
    },
    {
     "name": "stdout",
     "output_type": "stream",
     "text": [
      "0.3768844221105532 6.200546642518538\n"
     ]
    },
    {
     "name": "stderr",
     "output_type": "stream",
     "text": [
      "\r",
      "  1%|▏         | 3/212 [00:06<07:54,  2.27s/it]"
     ]
    },
    {
     "name": "stdout",
     "output_type": "stream",
     "text": [
      "0.3768844221105532 6.282128574987342\n"
     ]
    },
    {
     "name": "stderr",
     "output_type": "stream",
     "text": [
      "\r",
      "  2%|▏         | 4/212 [00:08<07:33,  2.18s/it]"
     ]
    },
    {
     "name": "stdout",
     "output_type": "stream",
     "text": [
      "0.4271356783919602 5.511767039499961\n"
     ]
    },
    {
     "name": "stderr",
     "output_type": "stream",
     "text": [
      "\r",
      "  2%|▏         | 5/212 [00:10<07:21,  2.13s/it]"
     ]
    },
    {
     "name": "stdout",
     "output_type": "stream",
     "text": [
      "0.47738693467336724 5.096930901163123\n"
     ]
    },
    {
     "name": "stderr",
     "output_type": "stream",
     "text": [
      "\r",
      "  3%|▎         | 6/212 [00:12<07:27,  2.17s/it]"
     ]
    },
    {
     "name": "stdout",
     "output_type": "stream",
     "text": [
      "0.47738693467336724 5.083852474236884\n"
     ]
    },
    {
     "name": "stderr",
     "output_type": "stream",
     "text": [
      "\r",
      "  3%|▎         | 7/212 [00:14<07:23,  2.16s/it]"
     ]
    },
    {
     "name": "stdout",
     "output_type": "stream",
     "text": [
      "0.47738693467336724 5.017279002334634\n"
     ]
    },
    {
     "name": "stderr",
     "output_type": "stream",
     "text": [
      "\r",
      "  4%|▍         | 8/212 [00:16<07:00,  2.06s/it]"
     ]
    },
    {
     "name": "stdout",
     "output_type": "stream",
     "text": [
      "0.4271356783919602 4.869019513546797\n"
     ]
    },
    {
     "name": "stderr",
     "output_type": "stream",
     "text": [
      "\r",
      "  4%|▍         | 9/212 [00:18<06:52,  2.03s/it]"
     ]
    },
    {
     "name": "stdout",
     "output_type": "stream",
     "text": [
      "0.3768844221105532 4.955358237684292\n"
     ]
    },
    {
     "name": "stderr",
     "output_type": "stream",
     "text": [
      "\r",
      "  5%|▍         | 10/212 [00:20<06:49,  2.02s/it]"
     ]
    },
    {
     "name": "stdout",
     "output_type": "stream",
     "text": [
      "0.5276381909547743 4.771684463920367\n"
     ]
    },
    {
     "name": "stderr",
     "output_type": "stream",
     "text": [
      "\r",
      "  5%|▌         | 11/212 [00:23<07:40,  2.29s/it]"
     ]
    },
    {
     "name": "stdout",
     "output_type": "stream",
     "text": [
      "0.8291457286432165 6.204953574757858\n"
     ]
    },
    {
     "name": "stderr",
     "output_type": "stream",
     "text": [
      "\r",
      "  6%|▌         | 12/212 [00:26<08:32,  2.56s/it]"
     ]
    },
    {
     "name": "stdout",
     "output_type": "stream",
     "text": [
      "0.17587939698492505 6.408417834473628\n"
     ]
    },
    {
     "name": "stderr",
     "output_type": "stream",
     "text": [
      "\r",
      "  6%|▌         | 13/212 [00:29<08:40,  2.62s/it]"
     ]
    },
    {
     "name": "stdout",
     "output_type": "stream",
     "text": [
      "0.2763819095477391 8.493584696758763\n"
     ]
    },
    {
     "name": "stderr",
     "output_type": "stream",
     "text": [
      "\r",
      "  7%|▋         | 14/212 [00:32<08:43,  2.65s/it]"
     ]
    },
    {
     "name": "stdout",
     "output_type": "stream",
     "text": [
      "0.17587939698492505 7.390983479545733\n"
     ]
    },
    {
     "name": "stderr",
     "output_type": "stream",
     "text": [
      "\r",
      "  7%|▋         | 15/212 [00:34<08:40,  2.64s/it]"
     ]
    },
    {
     "name": "stdout",
     "output_type": "stream",
     "text": [
      "0.2763819095477391 7.9436825802154445\n"
     ]
    },
    {
     "name": "stderr",
     "output_type": "stream",
     "text": [
      "\r",
      "  8%|▊         | 16/212 [00:35<06:53,  2.11s/it]"
     ]
    },
    {
     "name": "stdout",
     "output_type": "stream",
     "text": [
      "0.2763819095477391 8.257844555294621\n"
     ]
    },
    {
     "name": "stderr",
     "output_type": "stream",
     "text": [
      "\r",
      "  8%|▊         | 17/212 [00:37<06:09,  1.90s/it]"
     ]
    },
    {
     "name": "stdout",
     "output_type": "stream",
     "text": [
      "0.17587939698492505 9.718301057352043\n"
     ]
    },
    {
     "name": "stderr",
     "output_type": "stream",
     "text": [
      "\r",
      "  8%|▊         | 18/212 [00:38<05:54,  1.83s/it]"
     ]
    },
    {
     "name": "stdout",
     "output_type": "stream",
     "text": [
      "0.32663316582914614 7.593190841874306\n"
     ]
    },
    {
     "name": "stderr",
     "output_type": "stream",
     "text": [
      "\r",
      "  9%|▉         | 19/212 [00:40<05:28,  1.70s/it]"
     ]
    },
    {
     "name": "stdout",
     "output_type": "stream",
     "text": [
      "0.32663316582914614 7.727102013371498\n"
     ]
    },
    {
     "name": "stderr",
     "output_type": "stream",
     "text": [
      "\r",
      "  9%|▉         | 20/212 [00:41<05:24,  1.69s/it]"
     ]
    },
    {
     "name": "stdout",
     "output_type": "stream",
     "text": [
      "0.32663316582914614 7.786624122182057\n"
     ]
    },
    {
     "name": "stderr",
     "output_type": "stream",
     "text": [
      "\r",
      " 10%|▉         | 21/212 [00:43<05:06,  1.61s/it]"
     ]
    },
    {
     "name": "stdout",
     "output_type": "stream",
     "text": [
      "0.32663316582914614 6.542450198542251\n"
     ]
    },
    {
     "name": "stderr",
     "output_type": "stream",
     "text": [
      "\r",
      " 10%|█         | 22/212 [00:44<04:55,  1.55s/it]"
     ]
    },
    {
     "name": "stdout",
     "output_type": "stream",
     "text": [
      "0.5276381909547743 5.823680535956233\n"
     ]
    },
    {
     "name": "stderr",
     "output_type": "stream",
     "text": [
      "\r",
      " 11%|█         | 23/212 [00:45<04:17,  1.36s/it]"
     ]
    },
    {
     "name": "stdout",
     "output_type": "stream",
     "text": [
      "0.47738693467336724 6.42586311023527\n"
     ]
    },
    {
     "name": "stderr",
     "output_type": "stream",
     "text": [
      "\r",
      " 11%|█▏        | 24/212 [00:46<03:49,  1.22s/it]"
     ]
    },
    {
     "name": "stdout",
     "output_type": "stream",
     "text": [
      "0.3768844221105532 5.984117033793515\n"
     ]
    },
    {
     "name": "stderr",
     "output_type": "stream",
     "text": [
      "\r",
      " 12%|█▏        | 25/212 [00:48<04:29,  1.44s/it]"
     ]
    },
    {
     "name": "stdout",
     "output_type": "stream",
     "text": [
      "0.5778894472361813 5.910623944091126\n"
     ]
    },
    {
     "name": "stderr",
     "output_type": "stream",
     "text": [
      "\r",
      " 12%|█▏        | 26/212 [00:50<05:07,  1.65s/it]"
     ]
    },
    {
     "name": "stdout",
     "output_type": "stream",
     "text": [
      "0.7788944723618094 4.963770856450921\n"
     ]
    },
    {
     "name": "stderr",
     "output_type": "stream",
     "text": [
      "\r",
      " 13%|█▎        | 27/212 [00:52<05:25,  1.76s/it]"
     ]
    },
    {
     "name": "stdout",
     "output_type": "stream",
     "text": [
      "0.8291457286432165 4.445209830198527\n"
     ]
    },
    {
     "name": "stderr",
     "output_type": "stream",
     "text": [
      "\r",
      " 13%|█▎        | 28/212 [00:54<05:27,  1.78s/it]"
     ]
    },
    {
     "name": "stdout",
     "output_type": "stream",
     "text": [
      "0.9798994974874375 4.048589077796972\n"
     ]
    },
    {
     "name": "stderr",
     "output_type": "stream",
     "text": [
      "\r",
      " 14%|█▎        | 29/212 [00:55<05:07,  1.68s/it]"
     ]
    },
    {
     "name": "stdout",
     "output_type": "stream",
     "text": [
      "0.5778894472361813 6.8249648330302035\n"
     ]
    },
    {
     "name": "stderr",
     "output_type": "stream",
     "text": [
      "\r",
      " 14%|█▍        | 30/212 [00:57<04:52,  1.61s/it]"
     ]
    },
    {
     "name": "stdout",
     "output_type": "stream",
     "text": [
      "0.8291457286432165 5.214555937301048\n"
     ]
    },
    {
     "name": "stderr",
     "output_type": "stream",
     "text": [
      "\r",
      " 15%|█▍        | 31/212 [00:58<04:43,  1.56s/it]"
     ]
    },
    {
     "name": "stdout",
     "output_type": "stream",
     "text": [
      "0.8793969849246235 5.486450819284346\n"
     ]
    },
    {
     "name": "stderr",
     "output_type": "stream",
     "text": [
      "\r",
      " 15%|█▌        | 32/212 [01:00<04:26,  1.48s/it]"
     ]
    },
    {
     "name": "stdout",
     "output_type": "stream",
     "text": [
      "0.47738693467336724 7.347526968078614\n"
     ]
    },
    {
     "name": "stderr",
     "output_type": "stream",
     "text": [
      "\r",
      " 16%|█▌        | 33/212 [01:01<04:11,  1.40s/it]"
     ]
    },
    {
     "name": "stdout",
     "output_type": "stream",
     "text": [
      "0.47738693467336724 7.982604022390834\n"
     ]
    },
    {
     "name": "stderr",
     "output_type": "stream",
     "text": [
      "\r",
      " 16%|█▌        | 34/212 [01:02<04:06,  1.39s/it]"
     ]
    },
    {
     "name": "stdout",
     "output_type": "stream",
     "text": [
      "0.6783919597989954 6.933513198698871\n"
     ]
    },
    {
     "name": "stderr",
     "output_type": "stream",
     "text": [
      "\r",
      " 17%|█▋        | 35/212 [01:04<04:05,  1.39s/it]"
     ]
    },
    {
     "name": "stdout",
     "output_type": "stream",
     "text": [
      "0.9296482412060305 6.442391364648757\n"
     ]
    },
    {
     "name": "stderr",
     "output_type": "stream",
     "text": [
      "\r",
      " 17%|█▋        | 36/212 [01:05<04:17,  1.46s/it]"
     ]
    },
    {
     "name": "stdout",
     "output_type": "stream",
     "text": [
      "1.0301507537688446 6.066760547530791\n"
     ]
    },
    {
     "name": "stderr",
     "output_type": "stream",
     "text": [
      "\r",
      " 17%|█▋        | 37/212 [01:07<04:21,  1.49s/it]"
     ]
    },
    {
     "name": "stdout",
     "output_type": "stream",
     "text": [
      "0.8291457286432165 5.354490203593974\n"
     ]
    },
    {
     "name": "stderr",
     "output_type": "stream",
     "text": [
      "\r",
      " 18%|█▊        | 38/212 [01:08<04:20,  1.50s/it]"
     ]
    },
    {
     "name": "stdout",
     "output_type": "stream",
     "text": [
      "0.9296482412060305 5.861548773265852\n"
     ]
    },
    {
     "name": "stderr",
     "output_type": "stream",
     "text": [
      "\r",
      " 18%|█▊        | 39/212 [01:10<04:25,  1.53s/it]"
     ]
    },
    {
     "name": "stdout",
     "output_type": "stream",
     "text": [
      "0.9296482412060305 5.368901059551147\n"
     ]
    },
    {
     "name": "stderr",
     "output_type": "stream",
     "text": [
      "\r",
      " 19%|█▉        | 40/212 [01:12<04:32,  1.58s/it]"
     ]
    },
    {
     "name": "stdout",
     "output_type": "stream",
     "text": [
      "1.2311557788944727 5.328340035713632\n"
     ]
    },
    {
     "name": "stderr",
     "output_type": "stream",
     "text": [
      "\r",
      " 19%|█▉        | 41/212 [01:13<04:36,  1.62s/it]"
     ]
    },
    {
     "name": "stdout",
     "output_type": "stream",
     "text": [
      "1.3316582914572868 5.841894283915325\n"
     ]
    },
    {
     "name": "stderr",
     "output_type": "stream",
     "text": [
      "\r",
      " 20%|█▉        | 42/212 [01:15<04:28,  1.58s/it]"
     ]
    },
    {
     "name": "stdout",
     "output_type": "stream",
     "text": [
      "0.6281407035175883 7.591412752584496\n"
     ]
    },
    {
     "name": "stderr",
     "output_type": "stream",
     "text": [
      "\r",
      " 20%|██        | 43/212 [01:17<04:36,  1.63s/it]"
     ]
    },
    {
     "name": "stdout",
     "output_type": "stream",
     "text": [
      "1.1809045226130657 6.430549271682079\n"
     ]
    },
    {
     "name": "stderr",
     "output_type": "stream",
     "text": [
      "\r",
      " 21%|██        | 44/212 [01:18<04:35,  1.64s/it]"
     ]
    },
    {
     "name": "stdout",
     "output_type": "stream",
     "text": [
      "0.5276381909547743 7.994792271996451\n"
     ]
    },
    {
     "name": "stderr",
     "output_type": "stream",
     "text": [
      "\r",
      " 21%|██        | 45/212 [01:20<04:32,  1.63s/it]"
     ]
    },
    {
     "name": "stdout",
     "output_type": "stream",
     "text": [
      "0.9798994974874375 7.052290398670186\n"
     ]
    },
    {
     "name": "stderr",
     "output_type": "stream",
     "text": [
      "\r",
      " 22%|██▏       | 46/212 [01:22<04:50,  1.75s/it]"
     ]
    },
    {
     "name": "stdout",
     "output_type": "stream",
     "text": [
      "1.3316582914572868 6.067219466920535\n"
     ]
    },
    {
     "name": "stderr",
     "output_type": "stream",
     "text": [
      "\r",
      " 22%|██▏       | 47/212 [01:24<04:57,  1.80s/it]"
     ]
    },
    {
     "name": "stdout",
     "output_type": "stream",
     "text": [
      "1.2311557788944727 5.781881829917138\n"
     ]
    },
    {
     "name": "stderr",
     "output_type": "stream",
     "text": [
      "\r",
      " 23%|██▎       | 48/212 [01:25<04:47,  1.75s/it]"
     ]
    },
    {
     "name": "stdout",
     "output_type": "stream",
     "text": [
      "0.7788944723618094 5.59363777526103\n"
     ]
    },
    {
     "name": "stderr",
     "output_type": "stream",
     "text": [
      "\r",
      " 23%|██▎       | 49/212 [01:27<04:38,  1.71s/it]"
     ]
    },
    {
     "name": "stdout",
     "output_type": "stream",
     "text": [
      "-0.17587939698492416 4.062613287106645\n"
     ]
    },
    {
     "name": "stderr",
     "output_type": "stream",
     "text": [
      "\r",
      " 24%|██▎       | 50/212 [01:29<04:43,  1.75s/it]"
     ]
    },
    {
     "name": "stdout",
     "output_type": "stream",
     "text": [
      "-0.2261306532663312 4.163492175562548\n"
     ]
    },
    {
     "name": "stderr",
     "output_type": "stream",
     "text": [
      "\r",
      " 24%|██▍       | 51/212 [01:31<04:37,  1.72s/it]"
     ]
    },
    {
     "name": "stdout",
     "output_type": "stream",
     "text": [
      "-0.7286432160804015 5.990476281530908\n"
     ]
    },
    {
     "name": "stderr",
     "output_type": "stream",
     "text": [
      "\r",
      " 25%|██▍       | 52/212 [01:32<04:27,  1.67s/it]"
     ]
    },
    {
     "name": "stdout",
     "output_type": "stream",
     "text": [
      "0.47738693467336724 7.0062762804194385\n"
     ]
    },
    {
     "name": "stderr",
     "output_type": "stream",
     "text": [
      "\r",
      " 25%|██▌       | 53/212 [01:34<04:22,  1.65s/it]"
     ]
    },
    {
     "name": "stdout",
     "output_type": "stream",
     "text": [
      "-0.7788944723618085 5.858973686055907\n"
     ]
    },
    {
     "name": "stderr",
     "output_type": "stream",
     "text": [
      "\r",
      " 25%|██▌       | 54/212 [01:36<04:37,  1.76s/it]"
     ]
    },
    {
     "name": "stdout",
     "output_type": "stream",
     "text": [
      "-0.47738693467336635 3.886043024929868\n"
     ]
    },
    {
     "name": "stderr",
     "output_type": "stream",
     "text": [
      "\r",
      " 26%|██▌       | 55/212 [01:39<05:29,  2.10s/it]"
     ]
    },
    {
     "name": "stdout",
     "output_type": "stream",
     "text": [
      "-0.7788944723618085 4.540683367898558\n"
     ]
    },
    {
     "name": "stderr",
     "output_type": "stream",
     "text": [
      "\r",
      " 26%|██▋       | 56/212 [01:40<05:12,  2.01s/it]"
     ]
    },
    {
     "name": "stdout",
     "output_type": "stream",
     "text": [
      "-0.2763819095477382 3.886742982751093\n"
     ]
    },
    {
     "name": "stderr",
     "output_type": "stream",
     "text": [
      "\r",
      " 27%|██▋       | 57/212 [01:42<04:58,  1.93s/it]"
     ]
    },
    {
     "name": "stdout",
     "output_type": "stream",
     "text": [
      "-1.0804020100502512 4.241731067306038\n"
     ]
    },
    {
     "name": "stderr",
     "output_type": "stream",
     "text": [
      "\r",
      " 27%|██▋       | 58/212 [01:44<04:52,  1.90s/it]"
     ]
    },
    {
     "name": "stdout",
     "output_type": "stream",
     "text": [
      "-0.2261306532663312 3.6887991004831324\n"
     ]
    },
    {
     "name": "stderr",
     "output_type": "stream",
     "text": [
      "\r",
      " 28%|██▊       | 59/212 [01:46<04:54,  1.92s/it]"
     ]
    },
    {
     "name": "stdout",
     "output_type": "stream",
     "text": [
      "-0.2261306532663312 3.936368141381302\n"
     ]
    },
    {
     "name": "stderr",
     "output_type": "stream",
     "text": [
      "\r",
      " 28%|██▊       | 60/212 [01:48<04:45,  1.88s/it]"
     ]
    },
    {
     "name": "stdout",
     "output_type": "stream",
     "text": [
      "-0.12562814070351713 3.9780240373429145\n"
     ]
    },
    {
     "name": "stderr",
     "output_type": "stream",
     "text": [
      "\r",
      " 29%|██▉       | 61/212 [01:49<04:38,  1.85s/it]"
     ]
    },
    {
     "name": "stdout",
     "output_type": "stream",
     "text": [
      "-0.12562814070351713 3.997399013702745\n"
     ]
    },
    {
     "name": "stderr",
     "output_type": "stream",
     "text": [
      "\r",
      " 29%|██▉       | 62/212 [01:52<04:55,  1.97s/it]"
     ]
    },
    {
     "name": "stdout",
     "output_type": "stream",
     "text": [
      "0.5276381909547743 4.835687626624999\n"
     ]
    },
    {
     "name": "stderr",
     "output_type": "stream",
     "text": [
      "\r",
      " 30%|██▉       | 63/212 [01:53<04:41,  1.89s/it]"
     ]
    },
    {
     "name": "stdout",
     "output_type": "stream",
     "text": [
      "-0.9798994974874367 4.3144395960253545\n"
     ]
    },
    {
     "name": "stderr",
     "output_type": "stream",
     "text": [
      "\r",
      " 30%|███       | 64/212 [01:55<04:37,  1.87s/it]"
     ]
    },
    {
     "name": "stdout",
     "output_type": "stream",
     "text": [
      "-1.0301507537688441 4.2140306609010345\n"
     ]
    },
    {
     "name": "stderr",
     "output_type": "stream",
     "text": [
      "\r",
      " 31%|███       | 65/212 [01:57<04:34,  1.87s/it]"
     ]
    },
    {
     "name": "stdout",
     "output_type": "stream",
     "text": [
      "-0.9798994974874367 4.421825364483141\n"
     ]
    },
    {
     "name": "stderr",
     "output_type": "stream",
     "text": [
      "\r",
      " 31%|███       | 66/212 [01:59<04:31,  1.86s/it]"
     ]
    },
    {
     "name": "stdout",
     "output_type": "stream",
     "text": [
      "-0.9798994974874367 4.548149455360487\n"
     ]
    },
    {
     "name": "stderr",
     "output_type": "stream",
     "text": [
      "\r",
      " 32%|███▏      | 67/212 [02:01<04:26,  1.84s/it]"
     ]
    },
    {
     "name": "stdout",
     "output_type": "stream",
     "text": [
      "-1.0804020100502512 4.481445426998494\n"
     ]
    },
    {
     "name": "stderr",
     "output_type": "stream",
     "text": [
      "\r",
      " 32%|███▏      | 68/212 [02:02<04:16,  1.78s/it]"
     ]
    },
    {
     "name": "stdout",
     "output_type": "stream",
     "text": [
      "-0.2261306532663312 4.362172996653702\n"
     ]
    },
    {
     "name": "stderr",
     "output_type": "stream",
     "text": [
      "\r",
      " 33%|███▎      | 69/212 [02:04<03:59,  1.67s/it]"
     ]
    },
    {
     "name": "stdout",
     "output_type": "stream",
     "text": [
      "0.22613065326633208 5.617971940561114\n"
     ]
    },
    {
     "name": "stderr",
     "output_type": "stream",
     "text": [
      "\r",
      " 33%|███▎      | 70/212 [02:06<04:13,  1.79s/it]"
     ]
    },
    {
     "name": "stdout",
     "output_type": "stream",
     "text": [
      "0.7286432160804024 5.790962789915472\n"
     ]
    },
    {
     "name": "stderr",
     "output_type": "stream",
     "text": [
      "\r",
      " 33%|███▎      | 71/212 [02:08<04:19,  1.84s/it]"
     ]
    },
    {
     "name": "stdout",
     "output_type": "stream",
     "text": [
      "0.32663316582914614 5.0859165461335225\n"
     ]
    },
    {
     "name": "stderr",
     "output_type": "stream",
     "text": [
      "\r",
      " 34%|███▍      | 72/212 [02:10<04:46,  2.05s/it]"
     ]
    },
    {
     "name": "stdout",
     "output_type": "stream",
     "text": [
      "1.1306532663316586 4.337666470361423\n"
     ]
    },
    {
     "name": "stderr",
     "output_type": "stream",
     "text": [
      "\r",
      " 34%|███▍      | 73/212 [02:13<05:00,  2.16s/it]"
     ]
    },
    {
     "name": "stdout",
     "output_type": "stream",
     "text": [
      "0.9798994974874375 4.419401294340985\n"
     ]
    },
    {
     "name": "stderr",
     "output_type": "stream",
     "text": [
      "\r",
      " 35%|███▍      | 74/212 [02:16<05:36,  2.44s/it]"
     ]
    },
    {
     "name": "stdout",
     "output_type": "stream",
     "text": [
      "1.3819095477386938 4.007930032966368\n"
     ]
    },
    {
     "name": "stderr",
     "output_type": "stream",
     "text": [
      "\r",
      " 35%|███▌      | 75/212 [02:19<05:48,  2.54s/it]"
     ]
    },
    {
     "name": "stdout",
     "output_type": "stream",
     "text": [
      "1.1809045226130657 4.267431119515487\n"
     ]
    },
    {
     "name": "stderr",
     "output_type": "stream",
     "text": [
      "\r",
      " 36%|███▌      | 76/212 [02:21<05:50,  2.58s/it]"
     ]
    },
    {
     "name": "stdout",
     "output_type": "stream",
     "text": [
      "1.3316582914572868 4.176197950083642\n"
     ]
    },
    {
     "name": "stderr",
     "output_type": "stream",
     "text": [
      "\r",
      " 36%|███▋      | 77/212 [02:24<06:11,  2.75s/it]"
     ]
    },
    {
     "name": "stdout",
     "output_type": "stream",
     "text": [
      "1.884422110552764 3.32850280637077\n"
     ]
    },
    {
     "name": "stderr",
     "output_type": "stream",
     "text": [
      "\r",
      " 37%|███▋      | 78/212 [02:28<06:21,  2.85s/it]"
     ]
    },
    {
     "name": "stdout",
     "output_type": "stream",
     "text": [
      "1.3316582914572868 3.5091738162617525\n"
     ]
    },
    {
     "name": "stderr",
     "output_type": "stream",
     "text": [
      "\r",
      " 37%|███▋      | 79/212 [02:31<06:51,  3.09s/it]"
     ]
    },
    {
     "name": "stdout",
     "output_type": "stream",
     "text": [
      "1.4321608040201008 2.9555431161027528\n"
     ]
    },
    {
     "name": "stderr",
     "output_type": "stream",
     "text": [
      "\r",
      " 38%|███▊      | 80/212 [02:35<07:15,  3.30s/it]"
     ]
    },
    {
     "name": "stdout",
     "output_type": "stream",
     "text": [
      "1.5326633165829149 2.8529740040816214\n"
     ]
    },
    {
     "name": "stderr",
     "output_type": "stream",
     "text": [
      "\r",
      " 38%|███▊      | 81/212 [02:38<07:05,  3.25s/it]"
     ]
    },
    {
     "name": "stdout",
     "output_type": "stream",
     "text": [
      "1.4824120603015079 2.8287811582620797\n"
     ]
    },
    {
     "name": "stderr",
     "output_type": "stream",
     "text": [
      "\r",
      " 39%|███▊      | 82/212 [02:41<06:57,  3.21s/it]"
     ]
    },
    {
     "name": "stdout",
     "output_type": "stream",
     "text": [
      "1.633165829145729 2.9175360189047916\n"
     ]
    },
    {
     "name": "stderr",
     "output_type": "stream",
     "text": [
      "\r",
      " 39%|███▉      | 83/212 [02:44<06:51,  3.19s/it]"
     ]
    },
    {
     "name": "stdout",
     "output_type": "stream",
     "text": [
      "1.5326633165829149 3.068016374946287\n"
     ]
    },
    {
     "name": "stderr",
     "output_type": "stream",
     "text": [
      "\r",
      " 40%|███▉      | 84/212 [02:47<06:42,  3.14s/it]"
     ]
    },
    {
     "name": "stdout",
     "output_type": "stream",
     "text": [
      "1.4321608040201008 2.7468094334184494\n"
     ]
    },
    {
     "name": "stderr",
     "output_type": "stream",
     "text": [
      "\r",
      " 40%|████      | 85/212 [02:51<06:46,  3.20s/it]"
     ]
    },
    {
     "name": "stdout",
     "output_type": "stream",
     "text": [
      "1.683417085427136 3.022411681191411\n"
     ]
    },
    {
     "name": "stderr",
     "output_type": "stream",
     "text": [
      "\r",
      " 41%|████      | 86/212 [02:53<06:15,  2.98s/it]"
     ]
    },
    {
     "name": "stdout",
     "output_type": "stream",
     "text": [
      "1.2311557788944727 2.900753396365629\n"
     ]
    },
    {
     "name": "stderr",
     "output_type": "stream",
     "text": [
      "\r",
      " 41%|████      | 87/212 [02:57<06:30,  3.13s/it]"
     ]
    },
    {
     "name": "stdout",
     "output_type": "stream",
     "text": [
      "2.4371859296482414 3.4196271971186416\n"
     ]
    },
    {
     "name": "stderr",
     "output_type": "stream",
     "text": [
      "\r",
      " 42%|████▏     | 88/212 [02:59<06:10,  2.99s/it]"
     ]
    },
    {
     "name": "stdout",
     "output_type": "stream",
     "text": [
      "0.9798994974874375 3.0870838337822932\n"
     ]
    },
    {
     "name": "stderr",
     "output_type": "stream",
     "text": [
      "\r",
      " 42%|████▏     | 89/212 [03:02<06:06,  2.98s/it]"
     ]
    },
    {
     "name": "stdout",
     "output_type": "stream",
     "text": [
      "0.8291457286432165 3.9669105020026665\n"
     ]
    },
    {
     "name": "stderr",
     "output_type": "stream",
     "text": [
      "\r",
      " 42%|████▏     | 90/212 [03:05<05:57,  2.93s/it]"
     ]
    },
    {
     "name": "stdout",
     "output_type": "stream",
     "text": [
      "0.6783919597989954 4.914537371410574\n"
     ]
    },
    {
     "name": "stderr",
     "output_type": "stream",
     "text": [
      "\r",
      " 43%|████▎     | 91/212 [03:08<05:52,  2.91s/it]"
     ]
    },
    {
     "name": "stdout",
     "output_type": "stream",
     "text": [
      "0.7788944723618094 4.060712942726792\n"
     ]
    },
    {
     "name": "stderr",
     "output_type": "stream",
     "text": [
      "\r",
      " 43%|████▎     | 92/212 [03:12<06:13,  3.11s/it]"
     ]
    },
    {
     "name": "stdout",
     "output_type": "stream",
     "text": [
      "1.884422110552764 2.698994221823667\n"
     ]
    },
    {
     "name": "stderr",
     "output_type": "stream",
     "text": [
      "\r",
      " 44%|████▍     | 93/212 [03:16<06:44,  3.40s/it]"
     ]
    },
    {
     "name": "stdout",
     "output_type": "stream",
     "text": [
      "2.3366834170854274 2.459996290265955\n"
     ]
    },
    {
     "name": "stderr",
     "output_type": "stream",
     "text": [
      "\r",
      " 44%|████▍     | 94/212 [03:19<06:54,  3.51s/it]"
     ]
    },
    {
     "name": "stdout",
     "output_type": "stream",
     "text": [
      "2.3366834170854274 2.502317828309759\n"
     ]
    },
    {
     "name": "stderr",
     "output_type": "stream",
     "text": [
      "\r",
      " 45%|████▍     | 95/212 [03:23<06:57,  3.57s/it]"
     ]
    },
    {
     "name": "stdout",
     "output_type": "stream",
     "text": [
      "2.3869346733668344 2.5603214774942957\n"
     ]
    },
    {
     "name": "stderr",
     "output_type": "stream",
     "text": [
      "\r",
      " 45%|████▌     | 96/212 [03:27<07:12,  3.73s/it]"
     ]
    },
    {
     "name": "stdout",
     "output_type": "stream",
     "text": [
      "2.2864321608040203 1.6417556709346768\n"
     ]
    },
    {
     "name": "stderr",
     "output_type": "stream",
     "text": [
      "\r",
      " 46%|████▌     | 97/212 [03:31<06:56,  3.62s/it]"
     ]
    },
    {
     "name": "stdout",
     "output_type": "stream",
     "text": [
      "1.5326633165829149 1.4980411735663646\n"
     ]
    },
    {
     "name": "stderr",
     "output_type": "stream",
     "text": [
      "\r",
      " 46%|████▌     | 98/212 [03:34<06:47,  3.58s/it]"
     ]
    },
    {
     "name": "stdout",
     "output_type": "stream",
     "text": [
      "1.582914572864322 1.450053970837331\n"
     ]
    },
    {
     "name": "stderr",
     "output_type": "stream",
     "text": [
      "\r",
      " 47%|████▋     | 99/212 [03:38<06:51,  3.64s/it]"
     ]
    },
    {
     "name": "stdout",
     "output_type": "stream",
     "text": [
      "2.4371859296482414 1.6293117585609622\n"
     ]
    },
    {
     "name": "stderr",
     "output_type": "stream",
     "text": [
      "\r",
      " 47%|████▋     | 100/212 [03:42<06:50,  3.66s/it]"
     ]
    },
    {
     "name": "stdout",
     "output_type": "stream",
     "text": [
      "2.3366834170854274 2.684681517755276\n"
     ]
    },
    {
     "name": "stderr",
     "output_type": "stream",
     "text": [
      "\r",
      " 48%|████▊     | 101/212 [03:45<06:43,  3.64s/it]"
     ]
    },
    {
     "name": "stdout",
     "output_type": "stream",
     "text": [
      "1.733668341708543 2.495155197391185\n"
     ]
    },
    {
     "name": "stderr",
     "output_type": "stream",
     "text": [
      "\r",
      " 48%|████▊     | 102/212 [03:49<06:36,  3.61s/it]"
     ]
    },
    {
     "name": "stdout",
     "output_type": "stream",
     "text": [
      "0.9798994974874375 4.650654585509042\n"
     ]
    },
    {
     "name": "stderr",
     "output_type": "stream",
     "text": [
      "\r",
      " 49%|████▊     | 103/212 [03:52<06:15,  3.45s/it]"
     ]
    },
    {
     "name": "stdout",
     "output_type": "stream",
     "text": [
      "0.8793969849246235 5.146588980568944\n"
     ]
    },
    {
     "name": "stderr",
     "output_type": "stream",
     "text": [
      "\r",
      " 49%|████▉     | 104/212 [03:55<06:16,  3.49s/it]"
     ]
    },
    {
     "name": "stdout",
     "output_type": "stream",
     "text": [
      "1.3316582914572868 4.046565993684695\n"
     ]
    },
    {
     "name": "stderr",
     "output_type": "stream",
     "text": [
      "\r",
      " 50%|████▉     | 105/212 [03:59<06:20,  3.56s/it]"
     ]
    },
    {
     "name": "stdout",
     "output_type": "stream",
     "text": [
      "1.2814070351758797 4.044963288984696\n"
     ]
    },
    {
     "name": "stderr",
     "output_type": "stream",
     "text": [
      "\r",
      " 50%|█████     | 106/212 [04:02<06:10,  3.50s/it]"
     ]
    },
    {
     "name": "stdout",
     "output_type": "stream",
     "text": [
      "1.2814070351758797 3.9372410112075715\n"
     ]
    },
    {
     "name": "stderr",
     "output_type": "stream",
     "text": [
      "\r",
      " 50%|█████     | 107/212 [04:05<05:53,  3.37s/it]"
     ]
    },
    {
     "name": "stdout",
     "output_type": "stream",
     "text": [
      "1.0301507537688446 4.460436389481898\n"
     ]
    },
    {
     "name": "stderr",
     "output_type": "stream",
     "text": [
      "\r",
      " 51%|█████     | 108/212 [04:08<05:33,  3.21s/it]"
     ]
    },
    {
     "name": "stdout",
     "output_type": "stream",
     "text": [
      "0.7286432160804024 4.95485825729965\n"
     ]
    },
    {
     "name": "stderr",
     "output_type": "stream",
     "text": [
      "\r",
      " 51%|█████▏    | 109/212 [04:11<05:13,  3.05s/it]"
     ]
    },
    {
     "name": "stdout",
     "output_type": "stream",
     "text": [
      "0.6783919597989954 5.4066807151176395\n"
     ]
    },
    {
     "name": "stderr",
     "output_type": "stream",
     "text": [
      "\r",
      " 52%|█████▏    | 110/212 [04:14<05:05,  2.99s/it]"
     ]
    },
    {
     "name": "stdout",
     "output_type": "stream",
     "text": [
      "0.9296482412060305 4.0207303628848825\n"
     ]
    },
    {
     "name": "stderr",
     "output_type": "stream",
     "text": [
      "\r",
      " 52%|█████▏    | 111/212 [04:17<04:56,  2.93s/it]"
     ]
    },
    {
     "name": "stdout",
     "output_type": "stream",
     "text": [
      "0.8291457286432165 4.056517452801362\n"
     ]
    },
    {
     "name": "stderr",
     "output_type": "stream",
     "text": [
      "\r",
      " 53%|█████▎    | 112/212 [04:19<04:42,  2.83s/it]"
     ]
    },
    {
     "name": "stdout",
     "output_type": "stream",
     "text": [
      "0.5778894472361813 4.6026542649693845\n"
     ]
    },
    {
     "name": "stderr",
     "output_type": "stream",
     "text": [
      "\r",
      " 53%|█████▎    | 113/212 [04:22<04:43,  2.86s/it]"
     ]
    },
    {
     "name": "stdout",
     "output_type": "stream",
     "text": [
      "1.1306532663316586 3.226099249518397\n"
     ]
    },
    {
     "name": "stderr",
     "output_type": "stream",
     "text": [
      "\r",
      " 54%|█████▍    | 114/212 [04:25<04:35,  2.81s/it]"
     ]
    },
    {
     "name": "stdout",
     "output_type": "stream",
     "text": [
      "0.9296482412060305 3.3568969950270637\n"
     ]
    },
    {
     "name": "stderr",
     "output_type": "stream",
     "text": [
      "\r",
      " 54%|█████▍    | 115/212 [04:28<04:38,  2.87s/it]"
     ]
    },
    {
     "name": "stdout",
     "output_type": "stream",
     "text": [
      "1.2311557788944727 3.198046837649203\n"
     ]
    },
    {
     "name": "stderr",
     "output_type": "stream",
     "text": [
      "\r",
      " 55%|█████▍    | 116/212 [04:31<04:31,  2.83s/it]"
     ]
    },
    {
     "name": "stdout",
     "output_type": "stream",
     "text": [
      "1.2311557788944727 3.1316475498982195\n"
     ]
    },
    {
     "name": "stderr",
     "output_type": "stream",
     "text": [
      "\r",
      " 55%|█████▌    | 117/212 [04:33<04:25,  2.80s/it]"
     ]
    },
    {
     "name": "stdout",
     "output_type": "stream",
     "text": [
      "1.0804020100502516 3.290307242536998\n"
     ]
    },
    {
     "name": "stderr",
     "output_type": "stream",
     "text": [
      "\r",
      " 56%|█████▌    | 118/212 [04:36<04:22,  2.79s/it]"
     ]
    },
    {
     "name": "stdout",
     "output_type": "stream",
     "text": [
      "1.4321608040201008 2.903799630258917\n"
     ]
    },
    {
     "name": "stderr",
     "output_type": "stream",
     "text": [
      "\r",
      " 56%|█████▌    | 119/212 [04:39<04:17,  2.77s/it]"
     ]
    },
    {
     "name": "stdout",
     "output_type": "stream",
     "text": [
      "1.683417085427136 2.7855048903620387\n"
     ]
    },
    {
     "name": "stderr",
     "output_type": "stream",
     "text": [
      "\r",
      " 57%|█████▋    | 120/212 [04:42<04:30,  2.94s/it]"
     ]
    },
    {
     "name": "stdout",
     "output_type": "stream",
     "text": [
      "1.2814070351758797 2.552984698947269\n"
     ]
    },
    {
     "name": "stderr",
     "output_type": "stream",
     "text": [
      "\r",
      " 57%|█████▋    | 121/212 [04:46<04:48,  3.17s/it]"
     ]
    },
    {
     "name": "stdout",
     "output_type": "stream",
     "text": [
      "1.78391959798995 2.4265740305339514\n"
     ]
    },
    {
     "name": "stderr",
     "output_type": "stream",
     "text": [
      "\r",
      " 58%|█████▊    | 122/212 [04:50<05:11,  3.46s/it]"
     ]
    },
    {
     "name": "stdout",
     "output_type": "stream",
     "text": [
      "0.6783919597989954 2.153979028874262\n"
     ]
    },
    {
     "name": "stderr",
     "output_type": "stream",
     "text": [
      "\r",
      " 58%|█████▊    | 123/212 [04:55<05:57,  4.01s/it]"
     ]
    },
    {
     "name": "stdout",
     "output_type": "stream",
     "text": [
      "-2.8391959798994972 0.8905272372733225\n"
     ]
    },
    {
     "name": "stderr",
     "output_type": "stream",
     "text": [
      "\r",
      " 58%|█████▊    | 124/212 [05:00<06:09,  4.20s/it]"
     ]
    },
    {
     "name": "stdout",
     "output_type": "stream",
     "text": [
      "-1.6834170854271355 0.9733675661563196\n"
     ]
    },
    {
     "name": "stderr",
     "output_type": "stream",
     "text": [
      "\r",
      " 59%|█████▉    | 125/212 [05:04<06:08,  4.24s/it]"
     ]
    },
    {
     "name": "stdout",
     "output_type": "stream",
     "text": [
      "0.7286432160804024 2.6230030745616557\n"
     ]
    },
    {
     "name": "stderr",
     "output_type": "stream",
     "text": [
      "\r",
      " 59%|█████▉    | 126/212 [05:09<06:27,  4.50s/it]"
     ]
    },
    {
     "name": "stdout",
     "output_type": "stream",
     "text": [
      "-0.5276381909547734 1.012809723451066\n"
     ]
    },
    {
     "name": "stderr",
     "output_type": "stream",
     "text": [
      "\r",
      " 60%|█████▉    | 127/212 [05:15<06:43,  4.75s/it]"
     ]
    },
    {
     "name": "stdout",
     "output_type": "stream",
     "text": [
      "-0.6783919597989945 1.0275069025132402\n"
     ]
    },
    {
     "name": "stderr",
     "output_type": "stream",
     "text": [
      "\r",
      " 60%|██████    | 128/212 [05:20<06:46,  4.84s/it]"
     ]
    },
    {
     "name": "stdout",
     "output_type": "stream",
     "text": [
      "-0.5778894472361804 1.034742399732402\n"
     ]
    },
    {
     "name": "stderr",
     "output_type": "stream",
     "text": [
      "\r",
      " 61%|██████    | 129/212 [05:25<06:43,  4.86s/it]"
     ]
    },
    {
     "name": "stdout",
     "output_type": "stream",
     "text": [
      "-0.9798994974874367 1.0137037414731191\n"
     ]
    },
    {
     "name": "stderr",
     "output_type": "stream",
     "text": [
      "\r",
      " 61%|██████▏   | 130/212 [05:29<06:32,  4.79s/it]"
     ]
    },
    {
     "name": "stdout",
     "output_type": "stream",
     "text": [
      "-1.3819095477386933 1.0907522818296427\n"
     ]
    },
    {
     "name": "stderr",
     "output_type": "stream",
     "text": [
      "\r",
      " 62%|██████▏   | 131/212 [05:34<06:23,  4.73s/it]"
     ]
    },
    {
     "name": "stdout",
     "output_type": "stream",
     "text": [
      "-0.6783919597989945 1.1166545744983254\n"
     ]
    },
    {
     "name": "stderr",
     "output_type": "stream",
     "text": [
      "\r",
      " 62%|██████▏   | 132/212 [05:39<06:29,  4.87s/it]"
     ]
    },
    {
     "name": "stdout",
     "output_type": "stream",
     "text": [
      "1.884422110552764 2.29133704775076\n"
     ]
    },
    {
     "name": "stderr",
     "output_type": "stream",
     "text": [
      "\r",
      " 63%|██████▎   | 133/212 [05:43<06:02,  4.59s/it]"
     ]
    },
    {
     "name": "stdout",
     "output_type": "stream",
     "text": [
      "0.5778894472361813 3.455310827416857\n"
     ]
    },
    {
     "name": "stderr",
     "output_type": "stream",
     "text": [
      "\r",
      " 63%|██████▎   | 134/212 [05:48<06:10,  4.74s/it]"
     ]
    },
    {
     "name": "stdout",
     "output_type": "stream",
     "text": [
      "0.22613065326633208 1.096430699801788\n"
     ]
    },
    {
     "name": "stderr",
     "output_type": "stream",
     "text": [
      "\r",
      " 64%|██████▎   | 135/212 [05:53<06:06,  4.76s/it]"
     ]
    },
    {
     "name": "stdout",
     "output_type": "stream",
     "text": [
      "0.4271356783919602 1.1447476474190383\n"
     ]
    },
    {
     "name": "stderr",
     "output_type": "stream",
     "text": [
      "\r",
      " 64%|██████▍   | 136/212 [05:57<05:45,  4.54s/it]"
     ]
    },
    {
     "name": "stdout",
     "output_type": "stream",
     "text": [
      "0.8793969849246235 2.0307735917962444\n"
     ]
    },
    {
     "name": "stderr",
     "output_type": "stream",
     "text": [
      "\r",
      " 65%|██████▍   | 137/212 [06:02<05:51,  4.68s/it]"
     ]
    },
    {
     "name": "stdout",
     "output_type": "stream",
     "text": [
      "0.12562814070351802 2.071710135285371\n"
     ]
    },
    {
     "name": "stderr",
     "output_type": "stream",
     "text": [
      "\r",
      " 65%|██████▌   | 138/212 [06:07<05:47,  4.69s/it]"
     ]
    },
    {
     "name": "stdout",
     "output_type": "stream",
     "text": [
      "0.17587939698492505 1.7729435442796568\n"
     ]
    },
    {
     "name": "stderr",
     "output_type": "stream",
     "text": [
      "\r",
      " 66%|██████▌   | 139/212 [06:11<05:43,  4.71s/it]"
     ]
    },
    {
     "name": "stdout",
     "output_type": "stream",
     "text": [
      "0.22613065326633208 1.7690760174238334\n"
     ]
    },
    {
     "name": "stderr",
     "output_type": "stream",
     "text": [
      "\r",
      " 66%|██████▌   | 140/212 [06:16<05:29,  4.57s/it]"
     ]
    },
    {
     "name": "stdout",
     "output_type": "stream",
     "text": [
      "0.12562814070351802 1.7181544202507248\n"
     ]
    },
    {
     "name": "stderr",
     "output_type": "stream",
     "text": [
      "\r",
      " 67%|██████▋   | 141/212 [06:20<05:23,  4.56s/it]"
     ]
    },
    {
     "name": "stdout",
     "output_type": "stream",
     "text": [
      "0.8291457286432165 2.163215103977908\n"
     ]
    },
    {
     "name": "stderr",
     "output_type": "stream",
     "text": [
      "\r",
      " 67%|██████▋   | 142/212 [06:25<05:23,  4.62s/it]"
     ]
    },
    {
     "name": "stdout",
     "output_type": "stream",
     "text": [
      "1.0301507537688446 2.0742328082065504\n"
     ]
    },
    {
     "name": "stderr",
     "output_type": "stream",
     "text": [
      "\r",
      " 67%|██████▋   | 143/212 [06:30<05:22,  4.68s/it]"
     ]
    },
    {
     "name": "stdout",
     "output_type": "stream",
     "text": [
      "1.884422110552764 1.4044873135531384\n"
     ]
    },
    {
     "name": "stderr",
     "output_type": "stream",
     "text": [
      "\r",
      " 68%|██████▊   | 144/212 [06:35<05:24,  4.77s/it]"
     ]
    },
    {
     "name": "stdout",
     "output_type": "stream",
     "text": [
      "1.3819095477386938 1.1787411326918087\n"
     ]
    },
    {
     "name": "stderr",
     "output_type": "stream",
     "text": [
      "\r",
      " 68%|██████▊   | 145/212 [06:39<05:15,  4.72s/it]"
     ]
    },
    {
     "name": "stdout",
     "output_type": "stream",
     "text": [
      "1.5326633165829149 1.3714356291015048\n"
     ]
    },
    {
     "name": "stderr",
     "output_type": "stream",
     "text": [
      "\r",
      " 69%|██████▉   | 146/212 [06:44<05:13,  4.75s/it]"
     ]
    },
    {
     "name": "stdout",
     "output_type": "stream",
     "text": [
      "-2.135678391959799 0.9851542745784875\n"
     ]
    },
    {
     "name": "stderr",
     "output_type": "stream",
     "text": [
      "\r",
      " 69%|██████▉   | 147/212 [06:49<05:09,  4.77s/it]"
     ]
    },
    {
     "name": "stdout",
     "output_type": "stream",
     "text": [
      "-2.0351758793969847 0.9661002863345547\n"
     ]
    },
    {
     "name": "stderr",
     "output_type": "stream",
     "text": [
      "\r",
      " 70%|██████▉   | 148/212 [06:53<04:55,  4.61s/it]"
     ]
    },
    {
     "name": "stdout",
     "output_type": "stream",
     "text": [
      "-3.391959798994975 1.365233740466394\n"
     ]
    },
    {
     "name": "stderr",
     "output_type": "stream",
     "text": [
      "\r",
      " 70%|███████   | 149/212 [06:58<04:56,  4.70s/it]"
     ]
    },
    {
     "name": "stdout",
     "output_type": "stream",
     "text": [
      "-2.78894472361809 1.313608372106099\n"
     ]
    },
    {
     "name": "stderr",
     "output_type": "stream",
     "text": [
      "\r",
      " 71%|███████   | 150/212 [07:03<04:52,  4.72s/it]"
     ]
    },
    {
     "name": "stdout",
     "output_type": "stream",
     "text": [
      "-2.8391959798994972 1.2970652190121688\n"
     ]
    },
    {
     "name": "stderr",
     "output_type": "stream",
     "text": [
      "\r",
      " 71%|███████   | 151/212 [07:07<04:44,  4.66s/it]"
     ]
    },
    {
     "name": "stdout",
     "output_type": "stream",
     "text": [
      "-3.64321608040201 1.2174174221460543\n"
     ]
    },
    {
     "name": "stderr",
     "output_type": "stream",
     "text": [
      "\r",
      " 72%|███████▏  | 152/212 [07:12<04:43,  4.72s/it]"
     ]
    },
    {
     "name": "stdout",
     "output_type": "stream",
     "text": [
      "1.4321608040201008 1.2689717728687866\n"
     ]
    },
    {
     "name": "stderr",
     "output_type": "stream",
     "text": [
      "\r",
      " 72%|███████▏  | 153/212 [07:18<04:49,  4.90s/it]"
     ]
    },
    {
     "name": "stdout",
     "output_type": "stream",
     "text": [
      "0.47738693467336724 1.4111366529646605\n"
     ]
    },
    {
     "name": "stderr",
     "output_type": "stream",
     "text": [
      "\r",
      " 73%|███████▎  | 154/212 [07:23<04:51,  5.02s/it]"
     ]
    },
    {
     "name": "stdout",
     "output_type": "stream",
     "text": [
      "1.1809045226130657 1.3315391973806943\n"
     ]
    },
    {
     "name": "stderr",
     "output_type": "stream",
     "text": [
      "\r",
      " 73%|███████▎  | 155/212 [07:28<04:43,  4.98s/it]"
     ]
    },
    {
     "name": "stdout",
     "output_type": "stream",
     "text": [
      "3.391959798994975 1.4378178074282244\n"
     ]
    },
    {
     "name": "stderr",
     "output_type": "stream",
     "text": [
      "\r",
      " 74%|███████▎  | 156/212 [07:33<04:34,  4.89s/it]"
     ]
    },
    {
     "name": "stdout",
     "output_type": "stream",
     "text": [
      "3.190954773869347 1.4223664622552288\n"
     ]
    },
    {
     "name": "stderr",
     "output_type": "stream",
     "text": [
      "\r",
      " 74%|███████▍  | 157/212 [07:38<04:30,  4.92s/it]"
     ]
    },
    {
     "name": "stdout",
     "output_type": "stream",
     "text": [
      "2.9396984924623117 1.3309081663559732\n"
     ]
    },
    {
     "name": "stderr",
     "output_type": "stream",
     "text": [
      "\r",
      " 75%|███████▍  | 158/212 [07:42<04:25,  4.92s/it]"
     ]
    },
    {
     "name": "stdout",
     "output_type": "stream",
     "text": [
      "2.8391959798994977 1.3224289942594738\n"
     ]
    },
    {
     "name": "stderr",
     "output_type": "stream",
     "text": [
      "\r",
      " 75%|███████▌  | 159/212 [07:47<04:19,  4.90s/it]"
     ]
    },
    {
     "name": "stdout",
     "output_type": "stream",
     "text": [
      "2.9899497487437188 1.3527636153294573\n"
     ]
    },
    {
     "name": "stderr",
     "output_type": "stream",
     "text": [
      "\r",
      " 75%|███████▌  | 160/212 [07:52<04:15,  4.92s/it]"
     ]
    },
    {
     "name": "stdout",
     "output_type": "stream",
     "text": [
      "3.190954773869347 1.43548238877483\n"
     ]
    },
    {
     "name": "stderr",
     "output_type": "stream",
     "text": [
      "\r",
      " 76%|███████▌  | 161/212 [07:57<04:08,  4.87s/it]"
     ]
    },
    {
     "name": "stdout",
     "output_type": "stream",
     "text": [
      "3.643216080402011 1.5970868437463877\n"
     ]
    },
    {
     "name": "stderr",
     "output_type": "stream",
     "text": [
      "\r",
      " 76%|███████▋  | 162/212 [08:02<04:08,  4.97s/it]"
     ]
    },
    {
     "name": "stdout",
     "output_type": "stream",
     "text": [
      "2.9899497487437188 1.0925069610603373\n"
     ]
    },
    {
     "name": "stderr",
     "output_type": "stream",
     "text": [
      "\r",
      " 77%|███████▋  | 163/212 [08:07<04:03,  4.97s/it]"
     ]
    },
    {
     "name": "stdout",
     "output_type": "stream",
     "text": [
      "3.341708542713569 1.1646568077710604\n"
     ]
    },
    {
     "name": "stderr",
     "output_type": "stream",
     "text": [
      "\r",
      " 77%|███████▋  | 164/212 [08:12<04:02,  5.05s/it]"
     ]
    },
    {
     "name": "stdout",
     "output_type": "stream",
     "text": [
      "3.391959798994975 1.218230114431892\n"
     ]
    },
    {
     "name": "stderr",
     "output_type": "stream",
     "text": [
      "\r",
      " 78%|███████▊  | 165/212 [08:17<03:56,  5.04s/it]"
     ]
    },
    {
     "name": "stdout",
     "output_type": "stream",
     "text": [
      "3.190954773869347 1.1284417444232222\n"
     ]
    },
    {
     "name": "stderr",
     "output_type": "stream",
     "text": [
      "\r",
      " 78%|███████▊  | 166/212 [08:22<03:51,  5.02s/it]"
     ]
    },
    {
     "name": "stdout",
     "output_type": "stream",
     "text": [
      "3.693467336683417 1.092047084568215\n"
     ]
    },
    {
     "name": "stderr",
     "output_type": "stream",
     "text": [
      "\r",
      " 79%|███████▉  | 167/212 [08:25<03:18,  4.40s/it]"
     ]
    },
    {
     "name": "stdout",
     "output_type": "stream",
     "text": [
      "2.1859296482412063 3.0058487174733863\n"
     ]
    },
    {
     "name": "stderr",
     "output_type": "stream",
     "text": [
      "\r",
      " 79%|███████▉  | 168/212 [08:30<03:10,  4.33s/it]"
     ]
    },
    {
     "name": "stdout",
     "output_type": "stream",
     "text": [
      "0.2763819095477391 3.046891583986354\n"
     ]
    },
    {
     "name": "stderr",
     "output_type": "stream",
     "text": [
      "\r",
      " 80%|███████▉  | 169/212 [08:34<03:03,  4.26s/it]"
     ]
    },
    {
     "name": "stdout",
     "output_type": "stream",
     "text": [
      "-0.2763819095477382 3.3267823006152004\n"
     ]
    },
    {
     "name": "stderr",
     "output_type": "stream",
     "text": [
      "\r",
      " 80%|████████  | 170/212 [08:38<03:00,  4.30s/it]"
     ]
    },
    {
     "name": "stdout",
     "output_type": "stream",
     "text": [
      "-0.6783919597989945 3.0543957583941403\n"
     ]
    },
    {
     "name": "stderr",
     "output_type": "stream",
     "text": [
      "\r",
      " 81%|████████  | 171/212 [08:42<02:50,  4.16s/it]"
     ]
    },
    {
     "name": "stdout",
     "output_type": "stream",
     "text": [
      "-1.8844221105527637 2.751318733733354\n"
     ]
    },
    {
     "name": "stderr",
     "output_type": "stream",
     "text": [
      "\r",
      " 81%|████████  | 172/212 [08:47<02:53,  4.33s/it]"
     ]
    },
    {
     "name": "stdout",
     "output_type": "stream",
     "text": [
      "-3.8442211055276383 2.504650884796581\n"
     ]
    },
    {
     "name": "stderr",
     "output_type": "stream",
     "text": [
      "\r",
      " 82%|████████▏ | 173/212 [08:50<02:43,  4.18s/it]"
     ]
    },
    {
     "name": "stdout",
     "output_type": "stream",
     "text": [
      "-2.0351758793969847 3.6394836864698292\n"
     ]
    },
    {
     "name": "stderr",
     "output_type": "stream",
     "text": [
      "\r",
      " 82%|████████▏ | 174/212 [08:56<02:57,  4.66s/it]"
     ]
    },
    {
     "name": "stdout",
     "output_type": "stream",
     "text": [
      "-3.291457286432161 1.5065648042311914\n"
     ]
    },
    {
     "name": "stderr",
     "output_type": "stream",
     "text": [
      "\r",
      " 83%|████████▎ | 175/212 [09:02<03:05,  5.02s/it]"
     ]
    },
    {
     "name": "stdout",
     "output_type": "stream",
     "text": [
      "-1.1306532663316582 1.1083657692568516\n"
     ]
    },
    {
     "name": "stderr",
     "output_type": "stream",
     "text": [
      "\r",
      " 83%|████████▎ | 176/212 [09:06<02:48,  4.67s/it]"
     ]
    },
    {
     "name": "stdout",
     "output_type": "stream",
     "text": [
      "-2.0351758793969847 2.368005831500357\n"
     ]
    },
    {
     "name": "stderr",
     "output_type": "stream",
     "text": [
      "\r",
      " 83%|████████▎ | 177/212 [09:11<02:42,  4.65s/it]"
     ]
    },
    {
     "name": "stdout",
     "output_type": "stream",
     "text": [
      "-2.487437185929648 2.1350362295547742\n"
     ]
    },
    {
     "name": "stderr",
     "output_type": "stream",
     "text": [
      "\r",
      " 84%|████████▍ | 178/212 [09:15<02:41,  4.74s/it]"
     ]
    },
    {
     "name": "stdout",
     "output_type": "stream",
     "text": [
      "-1.2814070351758793 2.4402514319844433\n"
     ]
    },
    {
     "name": "stderr",
     "output_type": "stream",
     "text": [
      "\r",
      " 84%|████████▍ | 179/212 [09:19<02:29,  4.52s/it]"
     ]
    },
    {
     "name": "stdout",
     "output_type": "stream",
     "text": [
      "-2.0351758793969847 2.4800525479560567\n"
     ]
    },
    {
     "name": "stderr",
     "output_type": "stream",
     "text": [
      "\r",
      " 85%|████████▍ | 180/212 [09:24<02:25,  4.53s/it]"
     ]
    },
    {
     "name": "stdout",
     "output_type": "stream",
     "text": [
      "-2.638190954773869 2.578151431329656\n"
     ]
    },
    {
     "name": "stderr",
     "output_type": "stream",
     "text": [
      "\r",
      " 85%|████████▌ | 181/212 [09:29<02:25,  4.71s/it]"
     ]
    },
    {
     "name": "stdout",
     "output_type": "stream",
     "text": [
      "-2.386934673366834 1.9577966515216143\n"
     ]
    },
    {
     "name": "stderr",
     "output_type": "stream",
     "text": [
      "\r",
      " 86%|████████▌ | 182/212 [09:34<02:23,  4.78s/it]"
     ]
    },
    {
     "name": "stdout",
     "output_type": "stream",
     "text": [
      "-2.587939698492462 1.892449556536573\n"
     ]
    },
    {
     "name": "stderr",
     "output_type": "stream",
     "text": [
      "\r",
      " 86%|████████▋ | 183/212 [09:38<02:11,  4.55s/it]"
     ]
    },
    {
     "name": "stdout",
     "output_type": "stream",
     "text": [
      "-2.135678391959799 2.1122581307713957\n"
     ]
    },
    {
     "name": "stderr",
     "output_type": "stream",
     "text": [
      "\r",
      " 87%|████████▋ | 184/212 [09:43<02:07,  4.56s/it]"
     ]
    },
    {
     "name": "stdout",
     "output_type": "stream",
     "text": [
      "-1.3316582914572863 1.8008536714838337\n"
     ]
    },
    {
     "name": "stderr",
     "output_type": "stream",
     "text": [
      "\r",
      " 87%|████████▋ | 185/212 [09:48<02:05,  4.64s/it]"
     ]
    },
    {
     "name": "stdout",
     "output_type": "stream",
     "text": [
      "5.0 1.1674280892944782\n"
     ]
    },
    {
     "name": "stderr",
     "output_type": "stream",
     "text": [
      "\r",
      " 88%|████████▊ | 186/212 [09:53<02:07,  4.89s/it]"
     ]
    },
    {
     "name": "stdout",
     "output_type": "stream",
     "text": [
      "5.0 1.562346421517111\n"
     ]
    },
    {
     "name": "stderr",
     "output_type": "stream",
     "text": [
      "\r",
      " 88%|████████▊ | 187/212 [09:58<02:05,  5.03s/it]"
     ]
    },
    {
     "name": "stdout",
     "output_type": "stream",
     "text": [
      "-0.12562814070351713 1.5590027529718684\n"
     ]
    },
    {
     "name": "stderr",
     "output_type": "stream",
     "text": [
      "\r",
      " 89%|████████▊ | 188/212 [10:03<02:00,  5.00s/it]"
     ]
    },
    {
     "name": "stdout",
     "output_type": "stream",
     "text": [
      "-4.547738693467337 1.1746526429689184\n"
     ]
    },
    {
     "name": "stderr",
     "output_type": "stream",
     "text": [
      "\r",
      " 89%|████████▉ | 189/212 [10:08<01:56,  5.05s/it]"
     ]
    },
    {
     "name": "stdout",
     "output_type": "stream",
     "text": [
      "-4.899497487437186 1.2038271030194803\n"
     ]
    },
    {
     "name": "stderr",
     "output_type": "stream",
     "text": [
      "\r",
      " 90%|████████▉ | 190/212 [10:14<01:51,  5.09s/it]"
     ]
    },
    {
     "name": "stdout",
     "output_type": "stream",
     "text": [
      "-4.899497487437186 1.1655020967449996\n"
     ]
    },
    {
     "name": "stderr",
     "output_type": "stream",
     "text": [
      "\r",
      " 90%|█████████ | 191/212 [10:18<01:43,  4.91s/it]"
     ]
    },
    {
     "name": "stdout",
     "output_type": "stream",
     "text": [
      "-3.391959798994975 2.3200059089364853\n"
     ]
    },
    {
     "name": "stderr",
     "output_type": "stream",
     "text": [
      "\r",
      " 91%|█████████ | 192/212 [10:23<01:35,  4.78s/it]"
     ]
    },
    {
     "name": "stdout",
     "output_type": "stream",
     "text": [
      "-2.9396984924623113 2.495452564091209\n"
     ]
    },
    {
     "name": "stderr",
     "output_type": "stream",
     "text": [
      "\r",
      " 91%|█████████ | 193/212 [10:27<01:27,  4.62s/it]"
     ]
    },
    {
     "name": "stdout",
     "output_type": "stream",
     "text": [
      "-2.9899497487437183 2.476319221719459\n"
     ]
    },
    {
     "name": "stderr",
     "output_type": "stream",
     "text": [
      "\r",
      " 92%|█████████▏| 194/212 [10:31<01:19,  4.44s/it]"
     ]
    },
    {
     "name": "stdout",
     "output_type": "stream",
     "text": [
      "-2.8894472361809043 2.5323080490406045\n"
     ]
    },
    {
     "name": "stderr",
     "output_type": "stream",
     "text": [
      "\r",
      " 92%|█████████▏| 195/212 [10:35<01:11,  4.22s/it]"
     ]
    },
    {
     "name": "stdout",
     "output_type": "stream",
     "text": [
      "-1.6834170854271355 3.2045171202837377\n"
     ]
    },
    {
     "name": "stderr",
     "output_type": "stream",
     "text": [
      "\r",
      " 92%|█████████▏| 196/212 [10:38<01:01,  3.83s/it]"
     ]
    },
    {
     "name": "stdout",
     "output_type": "stream",
     "text": [
      "-0.7788944723618085 3.533553523696228\n"
     ]
    },
    {
     "name": "stderr",
     "output_type": "stream",
     "text": [
      "\r",
      " 93%|█████████▎| 197/212 [10:42<01:02,  4.18s/it]"
     ]
    },
    {
     "name": "stdout",
     "output_type": "stream",
     "text": [
      "1.0301507537688446 2.8040448953689263\n"
     ]
    },
    {
     "name": "stderr",
     "output_type": "stream",
     "text": [
      "\r",
      " 93%|█████████▎| 198/212 [10:44<00:49,  3.52s/it]"
     ]
    },
    {
     "name": "stdout",
     "output_type": "stream",
     "text": [
      "5.0 3.014863663272844\n"
     ]
    },
    {
     "name": "stderr",
     "output_type": "stream",
     "text": [
      "\r",
      " 94%|█████████▍| 199/212 [10:50<00:53,  4.15s/it]"
     ]
    },
    {
     "name": "stdout",
     "output_type": "stream",
     "text": [
      "-5.0 2.3848231882203996\n"
     ]
    },
    {
     "name": "stderr",
     "output_type": "stream",
     "text": [
      "\r",
      " 94%|█████████▍| 200/212 [10:53<00:43,  3.64s/it]"
     ]
    },
    {
     "name": "stdout",
     "output_type": "stream",
     "text": [
      "5.0 3.9839961593268804\n"
     ]
    },
    {
     "name": "stderr",
     "output_type": "stream",
     "text": [
      "\r",
      " 95%|█████████▍| 201/212 [10:55<00:36,  3.35s/it]"
     ]
    },
    {
     "name": "stdout",
     "output_type": "stream",
     "text": [
      "0.07537688442211099 3.9766939217616413\n"
     ]
    },
    {
     "name": "stderr",
     "output_type": "stream",
     "text": [
      "\r",
      " 95%|█████████▌| 202/212 [10:58<00:31,  3.11s/it]"
     ]
    },
    {
     "name": "stdout",
     "output_type": "stream",
     "text": [
      "5.0 3.8543208671801463\n"
     ]
    },
    {
     "name": "stderr",
     "output_type": "stream",
     "text": [
      "\r",
      " 96%|█████████▌| 203/212 [11:03<00:32,  3.63s/it]"
     ]
    },
    {
     "name": "stdout",
     "output_type": "stream",
     "text": [
      "0.8793969849246235 2.364901394006129\n"
     ]
    },
    {
     "name": "stderr",
     "output_type": "stream",
     "text": [
      "\r",
      " 96%|█████████▌| 204/212 [11:08<00:32,  4.01s/it]"
     ]
    },
    {
     "name": "stdout",
     "output_type": "stream",
     "text": [
      "-5.0 2.158618486856836\n"
     ]
    },
    {
     "name": "stderr",
     "output_type": "stream",
     "text": [
      "\r",
      " 97%|█████████▋| 205/212 [11:12<00:29,  4.25s/it]"
     ]
    },
    {
     "name": "stdout",
     "output_type": "stream",
     "text": [
      "-5.0 2.3172685305461758\n"
     ]
    },
    {
     "name": "stderr",
     "output_type": "stream",
     "text": [
      "\r",
      " 97%|█████████▋| 206/212 [11:15<00:22,  3.67s/it]"
     ]
    },
    {
     "name": "stdout",
     "output_type": "stream",
     "text": [
      "5.0 3.5584785619821715\n"
     ]
    },
    {
     "name": "stderr",
     "output_type": "stream",
     "text": [
      "\r",
      " 98%|█████████▊| 207/212 [11:17<00:17,  3.42s/it]"
     ]
    },
    {
     "name": "stdout",
     "output_type": "stream",
     "text": [
      "5.0 3.7166092324883166\n"
     ]
    },
    {
     "name": "stderr",
     "output_type": "stream",
     "text": [
      "\r",
      " 98%|█████████▊| 208/212 [11:22<00:15,  3.84s/it]"
     ]
    },
    {
     "name": "stdout",
     "output_type": "stream",
     "text": [
      "-5.0 2.3471821264490607\n"
     ]
    },
    {
     "name": "stderr",
     "output_type": "stream",
     "text": [
      "\r",
      " 99%|█████████▊| 209/212 [11:27<00:12,  4.14s/it]"
     ]
    },
    {
     "name": "stdout",
     "output_type": "stream",
     "text": [
      "1.683417085427136 2.6190198794418653\n"
     ]
    },
    {
     "name": "stderr",
     "output_type": "stream",
     "text": [
      "\r",
      " 99%|█████████▉| 210/212 [11:32<00:08,  4.35s/it]"
     ]
    },
    {
     "name": "stdout",
     "output_type": "stream",
     "text": [
      "-5.0 1.8937807575599608\n"
     ]
    },
    {
     "name": "stderr",
     "output_type": "stream",
     "text": [
      "\r",
      "100%|█████████▉| 211/212 [11:37<00:04,  4.49s/it]"
     ]
    },
    {
     "name": "stdout",
     "output_type": "stream",
     "text": [
      "-5.0 2.1985791854748196\n"
     ]
    },
    {
     "name": "stderr",
     "output_type": "stream",
     "text": [
      "100%|██████████| 212/212 [11:42<00:00,  3.31s/it]"
     ]
    },
    {
     "name": "stdout",
     "output_type": "stream",
     "text": [
      "-5.0 2.07878401699165\n"
     ]
    },
    {
     "name": "stderr",
     "output_type": "stream",
     "text": [
      "\n"
     ]
    }
   ],
   "source": [
    "np.random.seed(42)\n",
    "\n",
    "A = np.random.normal(0,1, (5,5))*.1\n",
    "\n",
    "B = np.random.normal(0,1,(5,))*.2\n",
    "\n",
    "C = np.random.normal(0,1,(5,))*.3\n",
    "\n",
    "v = .1\n",
    "\n",
    "f= .1\n",
    "\n",
    "system = LTISystem(A,B,C,f,v,v)\n",
    "\n",
    "# hinf = system.HinfinityNorm(closedLoop=True)\n",
    "\n",
    "\n",
    "\n",
    "G = system.markovParametersScaled/system.f\n",
    "\n",
    "# hankel = system.constructHankel(G,20) + 1.5*np.random.normal(0,1,(20,20))\n",
    "\n",
    "\n",
    "# Aest,Best,Cest = system.hoKalman(hankel,n=5)\n",
    "# print(system.optimalControlHinfinity(A = Aest,B=Best,C=Cest,fmax = 5,fmin=-5))\n",
    "\n",
    "# assert False\n",
    "\n",
    "\n",
    "tvals = np.arange(76,500,2)\n",
    "errors = []\n",
    "regret = [0]\n",
    "system.simulate_in_closed_loop(2000)\n",
    "for T in tqdm(tvals):\n",
    "    Gest,err = system.estimate_markov_parameters(window = 42,T= T,num_iter= 2*T, run = False)\n",
    "    hankel = system.constructHankel(Gest,20)\n",
    "    Aest,Best,Cest = system.hoKalman(hankel,n=5)\n",
    "    errors.append(err)\n",
    "    f,_ = system.optimalControlHinfinity(A=Aest,B=Best,C=Cest,fmax = 5,fmin=-5)\n",
    "    hinf = system.HinfinityNorm(A=Aest,B=Best,C=Cest,f = f,closedLoop=True)\n",
    "    if f == 0:\n",
    "        f = np.random.normal(0,.1)\n",
    "    print(f,hinf)\n",
    "    regret.append(hinf+regret[-1])\n",
    "    \n",
    "regret = regret[1:]\n",
    "    \n",
    "\n",
    "# print(Gest)\n",
    "# print(np.linalg.norm(system.markovParametersScaled[:100]-Gest))\n",
    "# print(err)"
   ]
  },
  {
   "cell_type": "code",
   "execution_count": 432,
   "metadata": {},
   "outputs": [
    {
     "data": {
      "image/png": "[encoded data removed]",
      "text/plain": [
       "<Figure size 432x288 with 1 Axes>"
      ]
     },
     "metadata": {
      "needs_background": "light"
     },
     "output_type": "display_data"
    },
    {
     "data": {
      "image/png": "[encoded data removed]",
      "text/plain": [
       "<Figure size 432x288 with 1 Axes>"
      ]
     },
     "metadata": {
      "needs_background": "light"
     },
     "output_type": "display_data"
    }
   ],
   "source": [
    "# print(regret)\n",
    "\n",
    "plt.figure()\n",
    "plt.plot(tvals,regret)\n",
    "plt.show()\n",
    "\n",
    "plt.figure()\n",
    "plt.plot(tvals,errors)\n",
    "plt.show()\n",
    "\n",
    "# goodregret = regret\n",
    "# gooderrors = errors\n",
    "# goodtvals = tvals"
   ]
  },
  {
   "cell_type": "code",
   "execution_count": 448,
   "metadata": {},
   "outputs": [
    {
     "data": {
      "image/png": "[encoded data removed]",
      "text/plain": [
       "<Figure size 432x288 with 2 Axes>"
      ]
     },
     "metadata": {},
     "output_type": "display_data"
    }
   ],
   "source": [
    "# t = np.arange(0.01, 10.0, 0.01)\n",
    "# data1 = np.exp(t)\n",
    "# data2 = np.sin(2 * np.pi * t)\n",
    "\n",
    "fig, ax1 = plt.subplots()\n",
    "\n",
    "colors = ['#1f77b4', '#ff7f0e', '#2ca02c', '#d62728']\n",
    "\n",
    "color = colors[0]\n",
    "ax1.set_xlabel('T (Sample Size)',fontsize = 14)\n",
    "ax1.set_ylabel('Regret', fontsize = 13.5,color=color)\n",
    "ax1.plot(tvals[:-50], regret[:-50], color=color)\n",
    "ax1.tick_params(axis='y', labelcolor=color)\n",
    "\n",
    "ax2 = ax1.twinx()  # instantiate a second axes that shares the same x-axis\n",
    "\n",
    "color = colors[2]\n",
    "ax2.set_ylabel('Estimation Error',fontsize = 13.5, color=color)  # we already handled the x-label with ax1\n",
    "ax2.plot(tvals[:-50],errors[:-50], color=color)\n",
    "ax2.tick_params(axis='y', labelcolor=color)\n",
    "\n",
    "ax1.axes.xaxis.set_ticks([])\n",
    "ax1.axes.yaxis.set_ticks([])\n",
    "ax2.axes.yaxis.set_ticks([])\n",
    "\n",
    "plt.title(\"Adaptive Control Performance\",fontsize = 14)\n",
    "\n",
    "# fig.tight_layout()  # otherwise the right y-label is slightly clipped\n",
    "\n",
    "plt.savefig(\"AdaptiveControl.png\",bbox_inches = \"tight\")\n",
    "plt.show()"
   ]
  },
  {
   "cell_type": "code",
   "execution_count": 384,
   "metadata": {
    "scrolled": true
   },
   "outputs": [
    {
     "name": "stderr",
     "output_type": "stream",
     "text": [
      "/Users/daltonjones/opt/anaconda3/lib/python3.8/site-packages/scipy/signal/filter_design.py:1625: BadCoefficients: Badly conditioned filter coefficients (numerator): the results may be meaningless\n",
      "  warnings.warn(\"Badly conditioned filter coefficients (numerator): the \"\n"
     ]
    },
    {
     "name": "stdout",
     "output_type": "stream",
     "text": [
      "Closed Loop max eigenvalue is: \n",
      "0.39586856825713157\n",
      "write continue to continuecontinue\n"
     ]
    },
    {
     "name": "stderr",
     "output_type": "stream",
     "text": [
      "100%|██████████| 80/80 [00:00<00:00, 654.84it/s]\n",
      "  0%|          | 0/80 [00:00<?, ?it/s]"
     ]
    },
    {
     "name": "stdout",
     "output_type": "stream",
     "text": [
      "starting epoch 0\n",
      "estimation error is 0.9552120389498588\n",
      "calculating optimal controller for estimated system\n",
      "new feedback gain is 0.5132911392405063\n",
      "with cost of 0.709391641163178\n",
      "starting epoch 1\n",
      "estimation error is 0.8950308771784131\n",
      "calculating optimal controller for estimated system\n"
     ]
    },
    {
     "name": "stderr",
     "output_type": "stream",
     "text": [
      "100%|██████████| 80/80 [00:00<00:00, 580.37it/s]\n",
      "100%|██████████| 80/80 [00:00<00:00, 641.82it/s]\n"
     ]
    },
    {
     "name": "stdout",
     "output_type": "stream",
     "text": [
      "new feedback gain is 0.525253164556962\n",
      "with cost of 0.7084864708446397\n",
      "starting epoch 2\n",
      "estimation error is 0.6001970710443227\n",
      "calculating optimal controller for estimated system\n"
     ]
    },
    {
     "name": "stderr",
     "output_type": "stream",
     "text": [
      "100%|██████████| 80/80 [00:00<00:00, 560.99it/s]"
     ]
    },
    {
     "name": "stdout",
     "output_type": "stream",
     "text": [
      "new feedback gain is 0.5360189873417721\n",
      "with cost of 0.7076737903086385\n",
      "starting epoch 3\n",
      "estimation error is 0.45890357771761714\n",
      "calculating optimal controller for estimated system\n"
     ]
    },
    {
     "name": "stderr",
     "output_type": "stream",
     "text": [
      "\n",
      " 52%|█████▎    | 42/80 [00:00<00:00, 349.37it/s]"
     ]
    },
    {
     "name": "stdout",
     "output_type": "stream",
     "text": [
      "new feedback gain is 0.5457082278481012\n",
      "with cost of 0.7069439702408312\n",
      "starting epoch 4\n",
      "estimation error is 0.3773615268698158\n",
      "calculating optimal controller for estimated system\n"
     ]
    },
    {
     "name": "stderr",
     "output_type": "stream",
     "text": [
      "100%|██████████| 80/80 [00:00<00:00, 465.70it/s]\n",
      " 51%|█████▏    | 41/80 [00:00<00:00, 346.22it/s]"
     ]
    },
    {
     "name": "stdout",
     "output_type": "stream",
     "text": [
      "new feedback gain is 0.4278462658227848\n",
      "with cost of 0.7159251678086412\n",
      "starting epoch 5\n",
      "estimation error is 0.32752098753885384\n",
      "calculating optimal controller for estimated system\n"
     ]
    },
    {
     "name": "stderr",
     "output_type": "stream",
     "text": [
      "100%|██████████| 80/80 [00:00<00:00, 399.54it/s]\n",
      "100%|██████████| 80/80 [00:00<00:00, 834.93it/s]\n"
     ]
    },
    {
     "name": "stdout",
     "output_type": "stream",
     "text": [
      "new feedback gain is 0.4483527784810126\n",
      "with cost of 0.7143461896159476\n",
      "starting epoch 6\n",
      "estimation error is 0.3132639184149508\n",
      "calculating optimal controller for estimated system\n",
      "new feedback gain is 0.34022636139240503\n",
      "with cost of 0.7227511818087237\n"
     ]
    },
    {
     "name": "stderr",
     "output_type": "stream",
     "text": [
      "100%|██████████| 80/80 [00:00<00:00, 1953.46it/s]\n",
      "100%|██████████| 80/80 [00:00<00:00, 1943.49it/s]"
     ]
    },
    {
     "name": "stdout",
     "output_type": "stream",
     "text": [
      "starting epoch 7\n",
      "estimation error is 0.3508664795986265\n",
      "calculating optimal controller for estimated system\n",
      "new feedback gain is 0.31620372525316454\n",
      "with cost of 0.7246454567164905\n",
      "starting epoch 8\n",
      "estimation error is 0.3400267549315304\n",
      "calculating optimal controller for estimated system\n",
      "new feedback gain is 0.2945833527278481\n",
      "with cost of 0.7263588139255787\n"
     ]
    },
    {
     "name": "stderr",
     "output_type": "stream",
     "text": [
      "\n",
      "100%|██████████| 80/80 [00:00<00:00, 1992.66it/s]\n",
      "100%|██████████| 80/80 [00:00<00:00, 1912.13it/s]"
     ]
    },
    {
     "name": "stdout",
     "output_type": "stream",
     "text": [
      "starting epoch 9\n",
      "estimation error is 0.2889736503769157\n",
      "calculating optimal controller for estimated system\n",
      "new feedback gain is 0.2751250174550633\n",
      "with cost of 0.7279077775241929\n",
      "starting epoch 10\n",
      "estimation error is 0.3085833941107268\n",
      "calculating optimal controller for estimated system\n",
      "new feedback gain is 0.25761251570955696\n",
      "with cost of 0.7293075040489894\n"
     ]
    },
    {
     "name": "stderr",
     "output_type": "stream",
     "text": [
      "\n",
      "100%|██████████| 80/80 [00:00<00:00, 1746.19it/s]\n",
      "100%|██████████| 80/80 [00:00<00:00, 1882.00it/s]"
     ]
    },
    {
     "name": "stdout",
     "output_type": "stream",
     "text": [
      "starting epoch 11\n",
      "estimation error is 0.37605933567773503\n",
      "calculating optimal controller for estimated system\n",
      "new feedback gain is 0.24185126413860128\n",
      "with cost of 0.7305718685314224\n",
      "starting epoch 12\n",
      "estimation error is 0.36813991571274096\n",
      "calculating optimal controller for estimated system\n"
     ]
    },
    {
     "name": "stderr",
     "output_type": "stream",
     "text": [
      "\n",
      "100%|██████████| 80/80 [00:00<00:00, 668.90it/s]"
     ]
    },
    {
     "name": "stdout",
     "output_type": "stream",
     "text": [
      "new feedback gain is 0.22766613772474117\n",
      "with cost of 0.7317135506856566\n",
      "starting epoch 13\n",
      "estimation error is 0.3849804661774071\n",
      "calculating optimal controller for estimated system\n",
      "new feedback gain is 2.4200893973699893\n",
      "with cost of 0.5893637461422648\n"
     ]
    },
    {
     "name": "stderr",
     "output_type": "stream",
     "text": [
      "\n",
      "100%|██████████| 80/80 [00:00<00:00, 2070.34it/s]\n",
      "100%|██████████| 80/80 [00:00<00:00, 2019.23it/s]"
     ]
    },
    {
     "name": "stdout",
     "output_type": "stream",
     "text": [
      "starting epoch 14\n",
      "estimation error is 0.34966898087244375\n",
      "calculating optimal controller for estimated system\n",
      "new feedback gain is 2.1880804576329904\n",
      "with cost of 0.6017521031576091\n",
      "starting epoch 15\n",
      "estimation error is 0.3234332552521289\n",
      "calculating optimal controller for estimated system\n",
      "new feedback gain is 1.9792724118696914\n",
      "with cost of 0.6133554979059415\n"
     ]
    },
    {
     "name": "stderr",
     "output_type": "stream",
     "text": [
      "\n",
      "100%|██████████| 80/80 [00:00<00:00, 1852.12it/s]\n",
      "  0%|          | 0/80 [00:00<?, ?it/s]"
     ]
    },
    {
     "name": "stdout",
     "output_type": "stream",
     "text": [
      "starting epoch 16\n",
      "estimation error is 0.3031271270451085\n",
      "calculating optimal controller for estimated system\n",
      "new feedback gain is 1.7913451706827224\n",
      "with cost of 0.6241879135265996\n",
      "starting epoch 17\n",
      "estimation error is 0.2833596568120687\n",
      "calculating optimal controller for estimated system\n"
     ]
    },
    {
     "name": "stderr",
     "output_type": "stream",
     "text": [
      "100%|██████████| 80/80 [00:00<00:00, 259.59it/s]\n",
      "100%|██████████| 80/80 [00:00<00:00, 1908.90it/s]\n",
      "  0%|          | 0/80 [00:00<?, ?it/s]"
     ]
    },
    {
     "name": "stdout",
     "output_type": "stream",
     "text": [
      "new feedback gain is 2.9413245776650836\n",
      "with cost of 0.5633098635034737\n",
      "starting epoch 18\n",
      "estimation error is 0.2681661093893772\n",
      "calculating optimal controller for estimated system\n",
      "new feedback gain is 2.6571921198985753\n",
      "with cost of 0.5772195451756987\n",
      "starting epoch 19\n",
      "estimation error is 0.2601268563723059\n",
      "calculating optimal controller for estimated system\n"
     ]
    },
    {
     "name": "stderr",
     "output_type": "stream",
     "text": [
      "100%|██████████| 80/80 [00:00<00:00, 1837.90it/s]\n",
      "100%|██████████| 80/80 [00:00<00:00, 1999.85it/s]\n",
      "  0%|          | 0/80 [00:00<?, ?it/s]"
     ]
    },
    {
     "name": "stdout",
     "output_type": "stream",
     "text": [
      "new feedback gain is 2.4014729079087176\n",
      "with cost of 0.5903389391884065\n",
      "starting epoch 20\n",
      "estimation error is 0.24489057601793618\n",
      "calculating optimal controller for estimated system\n",
      "new feedback gain is 2.1713256171178457\n",
      "with cost of 0.6026669391483558\n",
      "starting epoch 21\n",
      "estimation error is 0.23977989598682145\n",
      "calculating optimal controller for estimated system\n"
     ]
    },
    {
     "name": "stderr",
     "output_type": "stream",
     "text": [
      "100%|██████████| 80/80 [00:00<00:00, 839.79it/s]\n",
      " 84%|████████▍ | 67/80 [00:00<00:00, 644.24it/s]"
     ]
    },
    {
     "name": "stdout",
     "output_type": "stream",
     "text": [
      "new feedback gain is 5.5617879921149225\n",
      "with cost of 0.5035986925238443\n",
      "starting epoch 22\n",
      "estimation error is 0.22992614716995288\n",
      "calculating optimal controller for estimated system\n"
     ]
    },
    {
     "name": "stderr",
     "output_type": "stream",
     "text": [
      "100%|██████████| 80/80 [00:00<00:00, 361.71it/s]\n",
      " 86%|████████▋ | 69/80 [00:00<00:00, 633.88it/s]"
     ]
    },
    {
     "name": "stdout",
     "output_type": "stream",
     "text": [
      "new feedback gain is 8.106875015688242\n",
      "with cost of 0.5810139134860112\n",
      "starting epoch 23\n",
      "estimation error is 0.2194326774586951\n",
      "calculating optimal controller for estimated system\n"
     ]
    },
    {
     "name": "stderr",
     "output_type": "stream",
     "text": [
      "100%|██████████| 80/80 [00:00<00:00, 302.56it/s]\n",
      " 95%|█████████▌| 76/80 [00:00<00:00, 676.65it/s]"
     ]
    },
    {
     "name": "stdout",
     "output_type": "stream",
     "text": [
      "new feedback gain is 10.650617893866254\n",
      "with cost of 0.7427630098999568\n",
      "starting epoch 24\n",
      "estimation error is 0.2101682834611251\n",
      "calculating optimal controller for estimated system\n"
     ]
    },
    {
     "name": "stderr",
     "output_type": "stream",
     "text": [
      "100%|██████████| 80/80 [00:00<00:00, 348.83it/s]\n",
      "100%|██████████| 80/80 [00:00<00:00, 2025.48it/s]\n",
      "100%|██████████| 80/80 [00:00<00:00, 1985.47it/s]"
     ]
    },
    {
     "name": "stdout",
     "output_type": "stream",
     "text": [
      "new feedback gain is 13.826062433593552\n",
      "with cost of 1.1376284556794378\n",
      "starting epoch 25\n",
      "estimation error is 0.20111476154624142\n",
      "calculating optimal controller for estimated system\n",
      "new feedback gain is 12.453456190234197\n",
      "with cost of 0.9251630001574294\n",
      "starting epoch 26\n",
      "estimation error is 0.19244290364977484\n",
      "calculating optimal controller for estimated system\n"
     ]
    },
    {
     "name": "stderr",
     "output_type": "stream",
     "text": [
      "\n",
      "100%|██████████| 80/80 [00:00<00:00, 1962.71it/s]\n",
      "100%|██████████| 80/80 [00:00<00:00, 1973.12it/s]"
     ]
    },
    {
     "name": "stdout",
     "output_type": "stream",
     "text": [
      "new feedback gain is 11.218110571210778\n",
      "with cost of 0.7919242035041804\n",
      "starting epoch 27\n",
      "estimation error is 0.18726943187952558\n",
      "calculating optimal controller for estimated system\n",
      "new feedback gain is 10.1062995140897\n",
      "with cost of 0.7010140150967847\n",
      "starting epoch 28\n",
      "estimation error is 0.18081621312488955\n",
      "calculating optimal controller for estimated system\n"
     ]
    },
    {
     "name": "stderr",
     "output_type": "stream",
     "text": [
      "\n",
      "100%|██████████| 80/80 [00:00<00:00, 1931.95it/s]\n",
      "100%|██████████| 80/80 [00:00<00:00, 1945.76it/s]"
     ]
    },
    {
     "name": "stdout",
     "output_type": "stream",
     "text": [
      "new feedback gain is 9.105669562680731\n",
      "with cost of 0.6353500413540448\n",
      "starting epoch 29\n",
      "estimation error is 0.17427064232694645\n",
      "calculating optimal controller for estimated system\n",
      "new feedback gain is 8.205102606412659\n",
      "with cost of 0.5859425325536766\n",
      "starting epoch 30\n",
      "estimation error is 0.17058254687167546\n",
      "calculating optimal controller for estimated system\n"
     ]
    },
    {
     "name": "stderr",
     "output_type": "stream",
     "text": [
      "\n",
      "100%|██████████| 80/80 [00:00<00:00, 1874.28it/s]\n",
      "  0%|          | 0/80 [00:00<?, ?it/s]"
     ]
    },
    {
     "name": "stdout",
     "output_type": "stream",
     "text": [
      "new feedback gain is 7.394592345771393\n",
      "with cost of 0.5477967720134705\n",
      "starting epoch 31\n",
      "estimation error is 0.1663596667415417\n",
      "calculating optimal controller for estimated system\n",
      "new feedback gain is 6.665133111194254\n",
      "with cost of 0.5205990843821638\n",
      "starting epoch 32\n",
      "estimation error is 0.16073230071967673\n",
      "calculating optimal controller for estimated system\n"
     ]
    },
    {
     "name": "stderr",
     "output_type": "stream",
     "text": [
      "100%|██████████| 80/80 [00:00<00:00, 1971.47it/s]\n",
      "100%|██████████| 80/80 [00:00<00:00, 2024.49it/s]\n",
      "  0%|          | 0/80 [00:00<?, ?it/s]"
     ]
    },
    {
     "name": "stdout",
     "output_type": "stream",
     "text": [
      "new feedback gain is 6.008619800074828\n",
      "with cost of 0.5069809389876053\n",
      "starting epoch 33\n",
      "estimation error is 0.15590524146787338\n",
      "calculating optimal controller for estimated system\n",
      "new feedback gain is 5.4177578200673455\n",
      "with cost of 0.5030795993377293\n",
      "starting epoch 34\n",
      "estimation error is 0.15165218637766326\n",
      "calculating optimal controller for estimated system\n"
     ]
    },
    {
     "name": "stderr",
     "output_type": "stream",
     "text": [
      "100%|██████████| 80/80 [00:00<00:00, 1895.32it/s]\n",
      "100%|██████████| 80/80 [00:00<00:00, 1856.41it/s]\n",
      "  0%|          | 0/80 [00:00<?, ?it/s]"
     ]
    },
    {
     "name": "stdout",
     "output_type": "stream",
     "text": [
      "new feedback gain is 4.885982038060611\n",
      "with cost of 0.5036410695312353\n",
      "starting epoch 35\n",
      "estimation error is 0.14724188049102316\n",
      "calculating optimal controller for estimated system\n",
      "new feedback gain is 4.40738383425455\n",
      "with cost of 0.5070647456161571\n",
      "starting epoch 36\n",
      "estimation error is 0.1424104784222291\n",
      "calculating optimal controller for estimated system\n"
     ]
    },
    {
     "name": "stderr",
     "output_type": "stream",
     "text": [
      "100%|██████████| 80/80 [00:00<00:00, 1870.51it/s]\n",
      "100%|██████████| 80/80 [00:00<00:00, 1975.89it/s]\n",
      "100%|██████████| 80/80 [00:00<00:00, 2052.92it/s]"
     ]
    },
    {
     "name": "stdout",
     "output_type": "stream",
     "text": [
      "new feedback gain is 3.976645450829095\n",
      "with cost of 0.5178397855340257\n",
      "starting epoch 37\n",
      "estimation error is 0.13941500313916008\n",
      "calculating optimal controller for estimated system\n",
      "new feedback gain is 3.5889809057461854\n",
      "with cost of 0.533979047570537\n",
      "starting epoch 38\n",
      "estimation error is 0.13576404495474784\n",
      "calculating optimal controller for estimated system\n"
     ]
    },
    {
     "name": "stderr",
     "output_type": "stream",
     "text": [
      "\n",
      "100%|██████████| 80/80 [00:00<00:00, 2004.05it/s]\n",
      "  0%|          | 0/80 [00:00<?, ?it/s]"
     ]
    },
    {
     "name": "stdout",
     "output_type": "stream",
     "text": [
      "new feedback gain is 3.240082815171567\n",
      "with cost of 0.5493893442514253\n",
      "starting epoch 39\n",
      "estimation error is 0.13154119467375366\n",
      "calculating optimal controller for estimated system\n",
      "new feedback gain is 2.92607453365441\n",
      "with cost of 0.5640393812133125\n",
      "starting epoch 40\n",
      "estimation error is 0.1279132636015674\n",
      "calculating optimal controller for estimated system\n"
     ]
    },
    {
     "name": "stderr",
     "output_type": "stream",
     "text": [
      "100%|██████████| 80/80 [00:00<00:00, 2012.32it/s]\n",
      "100%|██████████| 80/80 [00:00<00:00, 1984.47it/s]\n",
      "  0%|          | 0/80 [00:00<?, ?it/s]"
     ]
    },
    {
     "name": "stdout",
     "output_type": "stream",
     "text": [
      "new feedback gain is 2.6434670802889686\n",
      "with cost of 0.5779088668778156\n",
      "starting epoch 41\n",
      "estimation error is 0.1259186350810287\n",
      "calculating optimal controller for estimated system\n",
      "new feedback gain is 2.389120372260072\n",
      "with cost of 0.5909877887460909\n",
      "starting epoch 42\n",
      "estimation error is 0.12201461105265247\n",
      "calculating optimal controller for estimated system\n"
     ]
    },
    {
     "name": "stderr",
     "output_type": "stream",
     "text": [
      "100%|██████████| 80/80 [00:00<00:00, 1855.47it/s]\n",
      "100%|██████████| 80/80 [00:00<00:00, 1857.95it/s]\n",
      "  0%|          | 0/80 [00:00<?, ?it/s]"
     ]
    },
    {
     "name": "stdout",
     "output_type": "stream",
     "text": [
      "new feedback gain is 2.1602083350340644\n",
      "with cost of 0.6032754938695531\n",
      "starting epoch 43\n",
      "estimation error is 0.1208048496274704\n",
      "calculating optimal controller for estimated system\n",
      "new feedback gain is 1.954187501530658\n",
      "with cost of 0.6147796364753617\n",
      "starting epoch 44\n",
      "estimation error is 0.11892594448419926\n",
      "calculating optimal controller for estimated system\n"
     ]
    },
    {
     "name": "stderr",
     "output_type": "stream",
     "text": [
      "100%|██████████| 80/80 [00:00<00:00, 1839.93it/s]\n",
      "100%|██████████| 80/80 [00:00<00:00, 2067.74it/s]\n",
      "  0%|          | 0/80 [00:00<?, ?it/s]"
     ]
    },
    {
     "name": "stdout",
     "output_type": "stream",
     "text": [
      "new feedback gain is 1.7687687513775923\n",
      "with cost of 0.6255150516993502\n",
      "starting epoch 45\n",
      "estimation error is 0.11818770924301501\n",
      "calculating optimal controller for estimated system\n",
      "new feedback gain is 1.601891876239833\n",
      "with cost of 0.6355026075104026\n",
      "starting epoch 46\n",
      "estimation error is 0.11615729334827832\n",
      "calculating optimal controller for estimated system\n"
     ]
    },
    {
     "name": "stderr",
     "output_type": "stream",
     "text": [
      "100%|██████████| 80/80 [00:00<00:00, 1908.84it/s]\n",
      "100%|██████████| 80/80 [00:00<00:00, 1875.46it/s]\n",
      "  0%|          | 0/80 [00:00<?, ?it/s]"
     ]
    },
    {
     "name": "stdout",
     "output_type": "stream",
     "text": [
      "new feedback gain is 1.4517026886158497\n",
      "with cost of 0.6447680783170502\n",
      "starting epoch 47\n",
      "estimation error is 0.11705890669694508\n",
      "calculating optimal controller for estimated system\n",
      "new feedback gain is 1.3165324197542647\n",
      "with cost of 0.6533410744344124\n",
      "starting epoch 48\n",
      "estimation error is 0.11636461006379188\n",
      "calculating optimal controller for estimated system\n"
     ]
    },
    {
     "name": "stderr",
     "output_type": "stream",
     "text": [
      "100%|██████████| 80/80 [00:00<00:00, 1932.75it/s]\n",
      "100%|██████████| 80/80 [00:00<00:00, 2025.21it/s]\n",
      "  0%|          | 0/80 [00:00<?, ?it/s]"
     ]
    },
    {
     "name": "stdout",
     "output_type": "stream",
     "text": [
      "new feedback gain is 1.1948791777788383\n",
      "with cost of 0.6612540523761345\n",
      "starting epoch 49\n",
      "estimation error is 0.11216763323822818\n",
      "calculating optimal controller for estimated system\n",
      "new feedback gain is 1.0853912600009545\n",
      "with cost of 0.6685414224224809\n",
      "starting epoch 50\n",
      "estimation error is 0.11237443087959863\n",
      "calculating optimal controller for estimated system\n"
     ]
    },
    {
     "name": "stderr",
     "output_type": "stream",
     "text": [
      "100%|██████████| 80/80 [00:00<00:00, 1980.99it/s]\n",
      "100%|██████████| 80/80 [00:00<00:00, 1885.68it/s]\n",
      "  0%|          | 0/80 [00:00<?, ?it/s]"
     ]
    },
    {
     "name": "stdout",
     "output_type": "stream",
     "text": [
      "new feedback gain is 0.9868521340008591\n",
      "with cost of 0.6752387624883558\n",
      "starting epoch 51\n",
      "estimation error is 0.11266557473640249\n",
      "calculating optimal controller for estimated system\n",
      "new feedback gain is 0.8981669206007733\n",
      "with cost of 0.6813821411707546\n",
      "starting epoch 52\n",
      "estimation error is 0.11305047042930415\n",
      "calculating optimal controller for estimated system\n"
     ]
    },
    {
     "name": "stderr",
     "output_type": "stream",
     "text": [
      "100%|██████████| 80/80 [00:00<00:00, 1985.06it/s]\n",
      "100%|██████████| 80/80 [00:00<00:00, 1986.60it/s]\n",
      "  0%|          | 0/80 [00:00<?, ?it/s]"
     ]
    },
    {
     "name": "stdout",
     "output_type": "stream",
     "text": [
      "new feedback gain is 0.818350228540696\n",
      "with cost of 0.6870075480397998\n",
      "starting epoch 53\n",
      "estimation error is 0.11630317708825014\n",
      "calculating optimal controller for estimated system\n",
      "new feedback gain is 0.7465152056866263\n",
      "with cost of 0.6921504256872015\n",
      "starting epoch 54\n",
      "estimation error is 0.11783113999756262\n",
      "calculating optimal controller for estimated system\n"
     ]
    },
    {
     "name": "stderr",
     "output_type": "stream",
     "text": [
      "100%|██████████| 80/80 [00:00<00:00, 1832.22it/s]\n",
      "100%|██████████| 80/80 [00:00<00:00, 1933.63it/s]\n",
      "100%|██████████| 80/80 [00:00<00:00, 2082.79it/s]"
     ]
    },
    {
     "name": "stdout",
     "output_type": "stream",
     "text": [
      "new feedback gain is 0.6818636851179637\n",
      "with cost of 0.6968452956261391\n",
      "starting epoch 55\n",
      "estimation error is 0.11615561133743504\n",
      "calculating optimal controller for estimated system\n",
      "new feedback gain is 0.6236773166061673\n",
      "with cost of 0.7011254686748425\n",
      "starting epoch 56\n",
      "estimation error is 0.11683831024502551\n",
      "calculating optimal controller for estimated system\n"
     ]
    },
    {
     "name": "stderr",
     "output_type": "stream",
     "text": [
      "\n",
      "100%|██████████| 80/80 [00:00<00:00, 2012.43it/s]\n",
      "  0%|          | 0/80 [00:00<?, ?it/s]"
     ]
    },
    {
     "name": "stdout",
     "output_type": "stream",
     "text": [
      "new feedback gain is 0.5713095849455506\n",
      "with cost of 0.7050228297681456\n",
      "starting epoch 57\n",
      "estimation error is 0.12286954957775995\n",
      "calculating optimal controller for estimated system\n",
      "new feedback gain is 0.5241786264509956\n",
      "with cost of 0.7085676870482897\n",
      "starting epoch 58\n",
      "estimation error is 0.12867481791254812\n",
      "calculating optimal controller for estimated system\n"
     ]
    },
    {
     "name": "stderr",
     "output_type": "stream",
     "text": [
      "100%|██████████| 80/80 [00:00<00:00, 1229.16it/s]\n",
      "100%|██████████| 80/80 [00:00<00:00, 1925.80it/s]\n",
      "  0%|          | 0/80 [00:00<?, ?it/s]"
     ]
    },
    {
     "name": "stdout",
     "output_type": "stream",
     "text": [
      "new feedback gain is 0.481760763805896\n",
      "with cost of 0.7117886754267172\n",
      "starting epoch 59\n",
      "estimation error is 0.13318755475582877\n",
      "calculating optimal controller for estimated system\n",
      "new feedback gain is 0.44358468742530643\n",
      "with cost of 0.7147127054441823\n",
      "starting epoch 60\n",
      "estimation error is 0.1424376680551961\n",
      "calculating optimal controller for estimated system\n"
     ]
    },
    {
     "name": "stderr",
     "output_type": "stream",
     "text": [
      "100%|██████████| 80/80 [00:00<00:00, 1915.15it/s]\n",
      "100%|██████████| 80/80 [00:00<00:00, 1954.70it/s]\n",
      "  0%|          | 0/80 [00:00<?, ?it/s]"
     ]
    },
    {
     "name": "stdout",
     "output_type": "stream",
     "text": [
      "new feedback gain is 0.4092262186827758\n",
      "with cost of 0.7173649490739102\n",
      "starting epoch 61\n",
      "estimation error is 0.14522917653429251\n",
      "calculating optimal controller for estimated system\n",
      "new feedback gain is 0.37830359681449827\n",
      "with cost of 0.7197688550230598\n",
      "starting epoch 62\n",
      "estimation error is 0.1484053612811306\n",
      "calculating optimal controller for estimated system\n"
     ]
    },
    {
     "name": "stderr",
     "output_type": "stream",
     "text": [
      "100%|██████████| 80/80 [00:00<00:00, 1744.47it/s]\n",
      " 46%|████▋     | 37/80 [00:00<00:00, 305.91it/s]"
     ]
    },
    {
     "name": "stdout",
     "output_type": "stream",
     "text": [
      "new feedback gain is 0.35047323713304845\n",
      "with cost of 0.721946187024819\n",
      "starting epoch 63\n",
      "estimation error is 0.165874803376573\n",
      "calculating optimal controller for estimated system\n"
     ]
    },
    {
     "name": "stderr",
     "output_type": "stream",
     "text": [
      "100%|██████████| 80/80 [00:00<00:00, 217.26it/s]\n",
      " 44%|████▍     | 35/80 [00:00<00:00, 302.44it/s]"
     ]
    },
    {
     "name": "stdout",
     "output_type": "stream",
     "text": [
      "new feedback gain is 0.37871705266024996\n",
      "with cost of 0.7197366069522786\n",
      "starting epoch 64\n",
      "estimation error is 0.16866208942986363\n",
      "calculating optimal controller for estimated system\n"
     ]
    },
    {
     "name": "stderr",
     "output_type": "stream",
     "text": [
      "100%|██████████| 80/80 [00:00<00:00, 176.91it/s]\n",
      " 48%|████▊     | 38/80 [00:00<00:00, 329.18it/s]"
     ]
    },
    {
     "name": "stdout",
     "output_type": "stream",
     "text": [
      "new feedback gain is 0.5307187651157446\n",
      "with cost of 0.7080736554866915\n",
      "starting epoch 65\n",
      "estimation error is 0.1535425113687593\n",
      "calculating optimal controller for estimated system\n"
     ]
    },
    {
     "name": "stderr",
     "output_type": "stream",
     "text": [
      "100%|██████████| 80/80 [00:00<00:00, 188.79it/s]\n",
      " 44%|████▍     | 35/80 [00:00<00:00, 316.56it/s]"
     ]
    },
    {
     "name": "stdout",
     "output_type": "stream",
     "text": [
      "new feedback gain is 0.41435574936366376\n",
      "with cost of 0.7169677343345796\n",
      "starting epoch 66\n",
      "estimation error is 0.17187484171547343\n",
      "calculating optimal controller for estimated system\n"
     ]
    },
    {
     "name": "stderr",
     "output_type": "stream",
     "text": [
      "100%|██████████| 80/80 [00:00<00:00, 158.96it/s]\n",
      " 45%|████▌     | 36/80 [00:00<00:00, 305.32it/s]"
     ]
    },
    {
     "name": "stdout",
     "output_type": "stream",
     "text": [
      "new feedback gain is 0.3096290351867911\n",
      "with cost of 0.7251656275870744\n",
      "starting epoch 67\n",
      "estimation error is 0.19324332167671537\n",
      "calculating optimal controller for estimated system\n"
     ]
    },
    {
     "name": "stderr",
     "output_type": "stream",
     "text": [
      "100%|██████████| 80/80 [00:00<00:00, 175.02it/s]\n",
      " 46%|████▋     | 37/80 [00:00<00:00, 307.87it/s]"
     ]
    },
    {
     "name": "stdout",
     "output_type": "stream",
     "text": [
      "new feedback gain is 0.3419572709086183\n",
      "with cost of 0.7226150755322528\n",
      "starting epoch 68\n",
      "estimation error is 0.18526161764527455\n",
      "calculating optimal controller for estimated system\n"
     ]
    },
    {
     "name": "stderr",
     "output_type": "stream",
     "text": [
      "100%|██████████| 80/80 [00:00<00:00, 173.66it/s]\n",
      " 49%|████▉     | 39/80 [00:00<00:00, 327.53it/s]"
     ]
    },
    {
     "name": "stdout",
     "output_type": "stream",
     "text": [
      "new feedback gain is 0.24447040457725017\n",
      "with cost of 0.7303614579690304\n",
      "starting epoch 69\n",
      "estimation error is 0.21732095036139748\n",
      "calculating optimal controller for estimated system\n"
     ]
    },
    {
     "name": "stderr",
     "output_type": "stream",
     "text": [
      "100%|██████████| 80/80 [00:00<00:00, 219.89it/s]\n",
      " 52%|█████▎    | 42/80 [00:00<00:00, 344.59it/s]"
     ]
    },
    {
     "name": "stdout",
     "output_type": "stream",
     "text": [
      "new feedback gain is 0.15673222487901883\n",
      "with cost of 0.7374765850588492\n",
      "starting epoch 70\n",
      "estimation error is 0.2875220351603022\n",
      "calculating optimal controller for estimated system\n"
     ]
    },
    {
     "name": "stderr",
     "output_type": "stream",
     "text": [
      "100%|██████████| 80/80 [00:00<00:00, 320.07it/s]\n",
      " 51%|█████▏    | 41/80 [00:00<00:00, 341.03it/s]"
     ]
    },
    {
     "name": "stdout",
     "output_type": "stream",
     "text": [
      "new feedback gain is -0.04881441533040198\n",
      "with cost of 0.7547008791986178\n",
      "starting epoch 71\n",
      "estimation error is 0.876692890662688\n",
      "calculating optimal controller for estimated system\n"
     ]
    },
    {
     "name": "stderr",
     "output_type": "stream",
     "text": [
      "100%|██████████| 80/80 [00:00<00:00, 379.93it/s]\n",
      "100%|██████████| 80/80 [00:00<00:00, 1927.01it/s]\n",
      "  0%|          | 0/80 [00:00<?, ?it/s]"
     ]
    },
    {
     "name": "stdout",
     "output_type": "stream",
     "text": [
      "new feedback gain is 0.01935816544314453\n",
      "with cost of 0.7488997009843928\n",
      "starting epoch 72\n",
      "estimation error is 1.9679729826636037\n",
      "calculating optimal controller for estimated system\n",
      "new feedback gain is 0.027422348898830082\n",
      "with cost of 0.7482193688856955\n",
      "starting epoch 73\n",
      "estimation error is 1.3658902252727176\n",
      "calculating optimal controller for estimated system\n"
     ]
    },
    {
     "name": "stderr",
     "output_type": "stream",
     "text": [
      "100%|██████████| 80/80 [00:00<00:00, 1735.80it/s]\n",
      "100%|██████████| 80/80 [00:00<00:00, 1865.86it/s]\n",
      "  0%|          | 0/80 [00:00<?, ?it/s]"
     ]
    },
    {
     "name": "stdout",
     "output_type": "stream",
     "text": [
      "new feedback gain is 0.03468011400894708\n",
      "with cost of 0.747608125985988\n",
      "starting epoch 74\n",
      "estimation error is 1.083021001566419\n",
      "calculating optimal controller for estimated system\n",
      "new feedback gain is 0.04121210260805237\n",
      "with cost of 0.7470588606249341\n",
      "starting epoch 75\n",
      "estimation error is 0.9592700928523041\n",
      "calculating optimal controller for estimated system\n"
     ]
    },
    {
     "name": "stderr",
     "output_type": "stream",
     "text": [
      "100%|██████████| 80/80 [00:00<00:00, 1844.66it/s]\n",
      "100%|██████████| 80/80 [00:00<00:00, 1869.63it/s]\n",
      "  0%|          | 0/80 [00:00<?, ?it/s]"
     ]
    },
    {
     "name": "stdout",
     "output_type": "stream",
     "text": [
      "new feedback gain is 0.047090892347247136\n",
      "with cost of 0.7465652114034709\n",
      "starting epoch 76\n",
      "estimation error is 0.8763926937102239\n",
      "calculating optimal controller for estimated system\n",
      "new feedback gain is 0.052381803112522426\n",
      "with cost of 0.7461214845722259\n",
      "starting epoch 77\n",
      "estimation error is 0.8535262673140213\n",
      "calculating optimal controller for estimated system\n"
     ]
    },
    {
     "name": "stderr",
     "output_type": "stream",
     "text": [
      "100%|██████████| 80/80 [00:00<00:00, 1857.87it/s]\n",
      "100%|██████████| 80/80 [00:00<00:00, 1822.15it/s]\n",
      "  0%|          | 0/80 [00:00<?, ?it/s]"
     ]
    },
    {
     "name": "stdout",
     "output_type": "stream",
     "text": [
      "new feedback gain is 0.05714362280127019\n",
      "with cost of 0.7457225811655487\n",
      "starting epoch 78\n",
      "estimation error is 0.8400014262744836\n",
      "calculating optimal controller for estimated system\n",
      "new feedback gain is 0.06142926052114317\n",
      "with cost of 0.7453639326126342\n",
      "starting epoch 79\n",
      "estimation error is 0.8431870982463774\n",
      "calculating optimal controller for estimated system\n"
     ]
    },
    {
     "name": "stderr",
     "output_type": "stream",
     "text": [
      "100%|██████████| 80/80 [00:00<00:00, 1757.04it/s]\n",
      "100%|██████████| 80/80 [00:00<00:00, 1953.93it/s]\n",
      "  0%|          | 0/80 [00:00<?, ?it/s]"
     ]
    },
    {
     "name": "stdout",
     "output_type": "stream",
     "text": [
      "new feedback gain is 0.06528633446902886\n",
      "with cost of 0.7450414437432247\n",
      "starting epoch 80\n",
      "estimation error is 0.8406811641872841\n",
      "calculating optimal controller for estimated system\n",
      "new feedback gain is 0.06875770102212597\n",
      "with cost of 0.7447514422606091\n",
      "starting epoch 81\n",
      "estimation error is 0.8410932700310922\n",
      "calculating optimal controller for estimated system\n"
     ]
    },
    {
     "name": "stderr",
     "output_type": "stream",
     "text": [
      "100%|██████████| 80/80 [00:00<00:00, 1172.04it/s]\n",
      "100%|██████████| 80/80 [00:00<00:00, 827.99it/s]\n"
     ]
    },
    {
     "name": "stdout",
     "output_type": "stream",
     "text": [
      "new feedback gain is 0.25175534864143306\n",
      "with cost of 0.7297768535254576\n",
      "starting epoch 82\n",
      "estimation error is 0.7375183096068156\n",
      "calculating optimal controller for estimated system\n",
      "new feedback gain is 0.2898709530177961\n",
      "with cost of 0.7267333350961489\n"
     ]
    },
    {
     "name": "stderr",
     "output_type": "stream",
     "text": [
      "100%|██████████| 80/80 [00:00<00:00, 912.65it/s]\n"
     ]
    },
    {
     "name": "stdout",
     "output_type": "stream",
     "text": [
      "starting epoch 83\n",
      "estimation error is 0.7331728131594336\n",
      "calculating optimal controller for estimated system\n",
      "new feedback gain is 0.3241749969565228\n",
      "with cost of 0.7240157922519689\n",
      "starting epoch 84\n"
     ]
    },
    {
     "name": "stderr",
     "output_type": "stream",
     "text": [
      "100%|██████████| 80/80 [00:00<00:00, 867.52it/s]\n",
      "  0%|          | 0/80 [00:00<?, ?it/s]"
     ]
    },
    {
     "name": "stdout",
     "output_type": "stream",
     "text": [
      "estimation error is 0.7339838571291442\n",
      "calculating optimal controller for estimated system\n",
      "new feedback gain is 0.35504863650137686\n",
      "with cost of 0.7215873223680552\n",
      "starting epoch 85\n",
      "estimation error is 0.7280345260858248\n",
      "calculating optimal controller for estimated system\n"
     ]
    },
    {
     "name": "stderr",
     "output_type": "stream",
     "text": [
      "100%|██████████| 80/80 [00:00<00:00, 1116.66it/s]\n",
      "100%|██████████| 80/80 [00:00<00:00, 1074.55it/s]\n"
     ]
    },
    {
     "name": "stdout",
     "output_type": "stream",
     "text": [
      "new feedback gain is 0.5094171905727589\n",
      "with cost of 0.7096852801284892\n",
      "starting epoch 86\n",
      "estimation error is 0.7204572641015453\n",
      "calculating optimal controller for estimated system\n",
      "new feedback gain is 0.6483488892370026\n",
      "with cost of 0.6993042307240142\n",
      "starting epoch 87\n"
     ]
    },
    {
     "name": "stderr",
     "output_type": "stream",
     "text": [
      "100%|██████████| 80/80 [00:00<00:00, 1201.98it/s]\n",
      "  0%|          | 0/80 [00:00<?, ?it/s]"
     ]
    },
    {
     "name": "stdout",
     "output_type": "stream",
     "text": [
      "estimation error is 0.7123744268600006\n",
      "calculating optimal controller for estimated system\n",
      "new feedback gain is 0.773387418034822\n",
      "with cost of 0.6902175768658614\n",
      "starting epoch 88\n",
      "estimation error is 0.7073029536337873\n",
      "calculating optimal controller for estimated system\n"
     ]
    },
    {
     "name": "stderr",
     "output_type": "stream",
     "text": [
      "100%|██████████| 80/80 [00:00<00:00, 1087.12it/s]\n",
      "100%|██████████| 80/80 [00:00<00:00, 1043.11it/s]\n"
     ]
    },
    {
     "name": "stdout",
     "output_type": "stream",
     "text": [
      "new feedback gain is 0.8859220939528595\n",
      "with cost of 0.6822391553114299\n",
      "starting epoch 89\n",
      "estimation error is 0.700126450277247\n",
      "calculating optimal controller for estimated system\n",
      "new feedback gain is 0.9872033022790933\n",
      "with cost of 0.6752146566376009\n",
      "starting epoch 90\n"
     ]
    },
    {
     "name": "stderr",
     "output_type": "stream",
     "text": [
      "100%|██████████| 80/80 [00:00<00:00, 1778.10it/s]\n",
      "100%|██████████| 80/80 [00:00<00:00, 1895.25it/s]"
     ]
    },
    {
     "name": "stdout",
     "output_type": "stream",
     "text": [
      "estimation error is 0.6922310644010682\n",
      "calculating optimal controller for estimated system\n",
      "new feedback gain is 0.898482972051184\n",
      "with cost of 0.6813600492661576\n",
      "starting epoch 91\n",
      "estimation error is 0.685597403613079\n",
      "calculating optimal controller for estimated system\n"
     ]
    },
    {
     "name": "stderr",
     "output_type": "stream",
     "text": [
      "\n",
      "100%|██████████| 80/80 [00:00<00:00, 1909.90it/s]\n"
     ]
    },
    {
     "name": "stdout",
     "output_type": "stream",
     "text": [
      "new feedback gain is 0.8186346748460657\n",
      "with cost of 0.6869873356113341\n",
      "starting epoch 92\n",
      "estimation error is 0.678608959813522\n",
      "calculating optimal controller for estimated system\n",
      "new feedback gain is 0.7467712073614591\n",
      "with cost of 0.6921319610762962\n",
      "starting epoch 93\n",
      "estimation error is 0.6756460260906617\n"
     ]
    },
    {
     "name": "stderr",
     "output_type": "stream",
     "text": [
      "100%|██████████| 80/80 [00:00<00:00, 1723.73it/s]\n",
      "100%|██████████| 80/80 [00:00<00:00, 1906.75it/s]"
     ]
    },
    {
     "name": "stdout",
     "output_type": "stream",
     "text": [
      "calculating optimal controller for estimated system\n",
      "new feedback gain is 0.6820940866253132\n",
      "with cost of 0.6968284512270677\n",
      "starting epoch 94\n",
      "estimation error is 0.670596531151814\n",
      "calculating optimal controller for estimated system\n"
     ]
    },
    {
     "name": "stderr",
     "output_type": "stream",
     "text": [
      "\n",
      "100%|██████████| 80/80 [00:00<00:00, 1141.82it/s]\n"
     ]
    },
    {
     "name": "stdout",
     "output_type": "stream",
     "text": [
      "new feedback gain is 0.6238846779627819\n",
      "with cost of 0.7011101218772632\n",
      "starting epoch 95\n",
      "estimation error is 0.663549428048781\n",
      "calculating optimal controller for estimated system\n",
      "new feedback gain is 0.7513696278880234\n",
      "with cost of 0.6918004588920122\n"
     ]
    },
    {
     "name": "stderr",
     "output_type": "stream",
     "text": [
      "100%|██████████| 80/80 [00:00<00:00, 1147.81it/s]\n",
      "  0%|          | 0/80 [00:00<?, ?it/s]"
     ]
    },
    {
     "name": "stdout",
     "output_type": "stream",
     "text": [
      "starting epoch 96\n",
      "estimation error is 0.6604793610879873\n",
      "calculating optimal controller for estimated system\n",
      "new feedback gain is 0.8661060828207408\n",
      "with cost of 0.683630652601723\n",
      "starting epoch 97\n",
      "estimation error is 0.6560697331212055\n",
      "calculating optimal controller for estimated system\n"
     ]
    },
    {
     "name": "stderr",
     "output_type": "stream",
     "text": [
      "100%|██████████| 80/80 [00:00<00:00, 1095.73it/s]\n",
      "100%|██████████| 80/80 [00:00<00:00, 1183.52it/s]\n"
     ]
    },
    {
     "name": "stdout",
     "output_type": "stream",
     "text": [
      "new feedback gain is 0.9693688922601864\n",
      "with cost of 0.6764410746989523\n",
      "starting epoch 98\n",
      "estimation error is 0.6528212493571054\n",
      "calculating optimal controller for estimated system\n",
      "new feedback gain is 1.0623054207556875\n",
      "with cost of 0.670098537167252\n"
     ]
    },
    {
     "name": "stderr",
     "output_type": "stream",
     "text": [
      "100%|██████████| 80/80 [00:00<00:00, 1174.90it/s]\n",
      "  0%|          | 0/80 [00:00<?, ?it/s]"
     ]
    },
    {
     "name": "stdout",
     "output_type": "stream",
     "text": [
      "starting epoch 99\n",
      "estimation error is 0.6481346222931459\n",
      "calculating optimal controller for estimated system\n",
      "new feedback gain is 1.1459482964016385\n",
      "with cost of 0.6644910956851309\n",
      "starting epoch 100\n",
      "estimation error is 0.6424316187575889\n",
      "calculating optimal controller for estimated system\n"
     ]
    },
    {
     "name": "stderr",
     "output_type": "stream",
     "text": [
      "100%|██████████| 80/80 [00:00<00:00, 1882.21it/s]\n",
      "100%|██████████| 80/80 [00:00<00:00, 1237.15it/s]\n"
     ]
    },
    {
     "name": "stdout",
     "output_type": "stream",
     "text": [
      "new feedback gain is 1.0413534667614748\n",
      "with cost of 0.6715180157011952\n",
      "starting epoch 101\n",
      "estimation error is 0.6375638145886429\n",
      "calculating optimal controller for estimated system\n",
      "new feedback gain is 1.1270915378068471\n",
      "with cost of 0.6657470487668871\n",
      "starting epoch 102\n"
     ]
    },
    {
     "name": "stderr",
     "output_type": "stream",
     "text": [
      "100%|██████████| 80/80 [00:00<00:00, 1229.01it/s]\n",
      "  0%|          | 0/80 [00:00<?, ?it/s]"
     ]
    },
    {
     "name": "stdout",
     "output_type": "stream",
     "text": [
      "estimation error is 0.6327061047430994\n",
      "calculating optimal controller for estimated system\n",
      "new feedback gain is 1.2042558017476823\n",
      "with cost of 0.6606373353772238\n",
      "starting epoch 103\n",
      "estimation error is 0.6256816867675319\n",
      "calculating optimal controller for estimated system\n"
     ]
    },
    {
     "name": "stderr",
     "output_type": "stream",
     "text": [
      "100%|██████████| 80/80 [00:00<00:00, 1029.51it/s]\n",
      "100%|██████████| 80/80 [00:00<00:00, 1272.06it/s]\n"
     ]
    },
    {
     "name": "stdout",
     "output_type": "stream",
     "text": [
      "new feedback gain is 1.2737036392944336\n",
      "with cost of 0.6561051957918407\n",
      "starting epoch 104\n",
      "estimation error is 0.6203236467238418\n",
      "calculating optimal controller for estimated system\n",
      "new feedback gain is 1.3362066930865102\n",
      "with cost of 0.6520791105972658\n",
      "starting epoch 105\n"
     ]
    },
    {
     "name": "stderr",
     "output_type": "stream",
     "text": [
      "100%|██████████| 80/80 [00:00<00:00, 786.55it/s]\n"
     ]
    },
    {
     "name": "stdout",
     "output_type": "stream",
     "text": [
      "estimation error is 0.614889600591814\n",
      "calculating optimal controller for estimated system\n",
      "new feedback gain is 1.392459441499379\n",
      "with cost of 0.6484976481776549\n",
      "starting epoch 106\n",
      "estimation error is 0.6110517642085238\n"
     ]
    },
    {
     "name": "stderr",
     "output_type": "stream",
     "text": [
      "100%|██████████| 80/80 [00:00<00:00, 882.46it/s]\n",
      "  0%|          | 0/80 [00:00<?, ?it/s]"
     ]
    },
    {
     "name": "stdout",
     "output_type": "stream",
     "text": [
      "calculating optimal controller for estimated system\n",
      "new feedback gain is 1.4430869150709609\n",
      "with cost of 0.6453078034965869\n",
      "starting epoch 107\n",
      "estimation error is 0.6077986228727339\n",
      "calculating optimal controller for estimated system\n"
     ]
    },
    {
     "name": "stderr",
     "output_type": "stream",
     "text": [
      "100%|██████████| 80/80 [00:00<00:00, 708.08it/s]\n",
      "100%|██████████| 80/80 [00:00<00:00, 848.38it/s]\n"
     ]
    },
    {
     "name": "stdout",
     "output_type": "stream",
     "text": [
      "new feedback gain is 1.4886516412853843\n",
      "with cost of 0.642463655407897\n",
      "starting epoch 108\n",
      "estimation error is 0.6041841433886389\n",
      "calculating optimal controller for estimated system\n",
      "new feedback gain is 1.5296598948783657\n",
      "with cost of 0.6399252729354464\n"
     ]
    },
    {
     "name": "stderr",
     "output_type": "stream",
     "text": [
      "100%|██████████| 80/80 [00:00<00:00, 782.51it/s]\n"
     ]
    },
    {
     "name": "stdout",
     "output_type": "stream",
     "text": [
      "starting epoch 109\n",
      "estimation error is 0.5986254374379045\n",
      "calculating optimal controller for estimated system\n",
      "new feedback gain is 1.5665673231120487\n",
      "with cost of 0.637657817845724\n"
     ]
    },
    {
     "name": "stderr",
     "output_type": "stream",
     "text": [
      "100%|██████████| 80/80 [00:00<00:00, 803.91it/s]"
     ]
    },
    {
     "name": "stdout",
     "output_type": "stream",
     "text": [
      "starting epoch 110\n",
      "estimation error is 0.5926526205985364\n",
      "calculating optimal controller for estimated system\n",
      "new feedback gain is 1.5997840085223634\n",
      "with cost of 0.6356308032475082\n",
      "starting epoch 111\n"
     ]
    },
    {
     "name": "stderr",
     "output_type": "stream",
     "text": [
      "\n",
      "100%|██████████| 80/80 [00:00<00:00, 827.06it/s]\n",
      "  0%|          | 0/80 [00:00<?, ?it/s]"
     ]
    },
    {
     "name": "stdout",
     "output_type": "stream",
     "text": [
      "estimation error is 0.5866242772775075\n",
      "calculating optimal controller for estimated system\n",
      "new feedback gain is 1.6296790253916469\n",
      "with cost of 0.633817477167938\n",
      "starting epoch 112\n",
      "estimation error is 0.5820499771626347\n",
      "calculating optimal controller for estimated system\n"
     ]
    },
    {
     "name": "stderr",
     "output_type": "stream",
     "text": [
      "100%|██████████| 80/80 [00:00<00:00, 760.74it/s]\n",
      "100%|██████████| 80/80 [00:00<00:00, 831.14it/s]\n"
     ]
    },
    {
     "name": "stdout",
     "output_type": "stream",
     "text": [
      "new feedback gain is 1.656584540574002\n",
      "with cost of 0.6321943069620863\n",
      "starting epoch 113\n",
      "estimation error is 0.5769523263577881\n",
      "calculating optimal controller for estimated system\n",
      "new feedback gain is 1.6807995042381214\n",
      "with cost of 0.6307405456374721\n"
     ]
    },
    {
     "name": "stderr",
     "output_type": "stream",
     "text": [
      "100%|██████████| 80/80 [00:00<00:00, 848.02it/s]\n"
     ]
    },
    {
     "name": "stdout",
     "output_type": "stream",
     "text": [
      "starting epoch 114\n",
      "estimation error is 0.5717212646023212\n",
      "calculating optimal controller for estimated system\n",
      "new feedback gain is 1.7025929715358288\n",
      "with cost of 0.6294378651591993\n",
      "starting epoch 115\n"
     ]
    },
    {
     "name": "stderr",
     "output_type": "stream",
     "text": [
      "100%|██████████| 80/80 [00:00<00:00, 855.33it/s]\n",
      "  0%|          | 0/80 [00:00<?, ?it/s]"
     ]
    },
    {
     "name": "stdout",
     "output_type": "stream",
     "text": [
      "estimation error is 0.5676746148881409\n",
      "calculating optimal controller for estimated system\n",
      "new feedback gain is 1.7222070921037655\n",
      "with cost of 0.6282700448638827\n",
      "starting epoch 116\n",
      "estimation error is 0.5634027634782283\n",
      "calculating optimal controller for estimated system\n"
     ]
    },
    {
     "name": "stderr",
     "output_type": "stream",
     "text": [
      "100%|██████████| 80/80 [00:00<00:00, 774.70it/s]\n",
      "100%|██████████| 80/80 [00:00<00:00, 837.27it/s]\n"
     ]
    },
    {
     "name": "stdout",
     "output_type": "stream",
     "text": [
      "new feedback gain is 1.7398598006149086\n",
      "with cost of 0.6272227054819973\n",
      "starting epoch 117\n",
      "estimation error is 0.5586964336150257\n",
      "calculating optimal controller for estimated system\n",
      "new feedback gain is 1.7557472382749375\n",
      "with cost of 0.6262830811176292\n"
     ]
    },
    {
     "name": "stderr",
     "output_type": "stream",
     "text": [
      "100%|██████████| 80/80 [00:00<00:00, 858.24it/s]\n"
     ]
    },
    {
     "name": "stdout",
     "output_type": "stream",
     "text": [
      "starting epoch 118\n",
      "estimation error is 0.5550130185544776\n",
      "calculating optimal controller for estimated system\n",
      "new feedback gain is 1.7700459321689634\n",
      "with cost of 0.6254398229863645\n"
     ]
    },
    {
     "name": "stderr",
     "output_type": "stream",
     "text": [
      "100%|██████████| 80/80 [00:00<00:00, 830.43it/s]\n"
     ]
    },
    {
     "name": "stdout",
     "output_type": "stream",
     "text": [
      "starting epoch 119\n",
      "estimation error is 0.5511352572085946\n",
      "calculating optimal controller for estimated system\n",
      "new feedback gain is 1.7829147566735868\n",
      "with cost of 0.6246828298590392\n",
      "starting epoch 120\n"
     ]
    },
    {
     "name": "stderr",
     "output_type": "stream",
     "text": [
      "100%|██████████| 80/80 [00:00<00:00, 917.79it/s]\n",
      "  0%|          | 0/80 [00:00<?, ?it/s]"
     ]
    },
    {
     "name": "stdout",
     "output_type": "stream",
     "text": [
      "estimation error is 0.5463865167242596\n",
      "calculating optimal controller for estimated system\n",
      "new feedback gain is 1.7944966987277478\n",
      "with cost of 0.6240031010707184\n",
      "starting epoch 121\n",
      "estimation error is 0.5399907778175665\n",
      "calculating optimal controller for estimated system\n"
     ]
    },
    {
     "name": "stderr",
     "output_type": "stream",
     "text": [
      "100%|██████████| 80/80 [00:00<00:00, 577.85it/s]\n",
      "100%|██████████| 80/80 [00:00<00:00, 646.60it/s]"
     ]
    },
    {
     "name": "stdout",
     "output_type": "stream",
     "text": [
      "new feedback gain is 1.6783381680954792\n",
      "with cost of 0.6308880082453222\n",
      "starting epoch 122\n",
      "estimation error is 0.5356863625297709\n",
      "calculating optimal controller for estimated system\n"
     ]
    },
    {
     "name": "stderr",
     "output_type": "stream",
     "text": [
      "\n",
      "100%|██████████| 80/80 [00:00<00:00, 613.73it/s]"
     ]
    },
    {
     "name": "stdout",
     "output_type": "stream",
     "text": [
      "new feedback gain is 1.5737954905264375\n",
      "with cost of 0.6372156264700278\n",
      "starting epoch 123\n",
      "estimation error is 0.5327666914807992\n",
      "calculating optimal controller for estimated system\n"
     ]
    },
    {
     "name": "stderr",
     "output_type": "stream",
     "text": [
      "\n",
      "100%|██████████| 80/80 [00:00<00:00, 610.36it/s]"
     ]
    },
    {
     "name": "stdout",
     "output_type": "stream",
     "text": [
      "new feedback gain is 1.4797070807143\n",
      "with cost of 0.6430199950548551\n",
      "starting epoch 124\n",
      "estimation error is 0.5286080842569709\n",
      "calculating optimal controller for estimated system\n"
     ]
    },
    {
     "name": "stderr",
     "output_type": "stream",
     "text": [
      "\n",
      " 52%|█████▎    | 42/80 [00:00<00:00, 401.28it/s]"
     ]
    },
    {
     "name": "stdout",
     "output_type": "stream",
     "text": [
      "new feedback gain is 1.3950275118833764\n",
      "with cost of 0.6483350847637523\n",
      "starting epoch 125\n",
      "estimation error is 0.5241000740271943\n",
      "calculating optimal controller for estimated system\n"
     ]
    },
    {
     "name": "stderr",
     "output_type": "stream",
     "text": [
      "100%|██████████| 80/80 [00:00<00:00, 412.29it/s]\n",
      " 54%|█████▍    | 43/80 [00:00<00:00, 356.47it/s]"
     ]
    },
    {
     "name": "stdout",
     "output_type": "stream",
     "text": [
      "new feedback gain is 1.1922336214545326\n",
      "with cost of 0.6614282635738804\n",
      "starting epoch 126\n",
      "estimation error is 0.5180358739913441\n",
      "calculating optimal controller for estimated system\n"
     ]
    },
    {
     "name": "stderr",
     "output_type": "stream",
     "text": [
      "100%|██████████| 80/80 [00:00<00:00, 559.86it/s]\n",
      " 52%|█████▎    | 42/80 [00:00<00:00, 371.01it/s]"
     ]
    },
    {
     "name": "stdout",
     "output_type": "stream",
     "text": [
      "new feedback gain is 1.0097191200685731\n",
      "with cost of 0.673672649226912\n",
      "starting epoch 127\n",
      "estimation error is 0.5144968016393664\n",
      "calculating optimal controller for estimated system\n"
     ]
    },
    {
     "name": "stderr",
     "output_type": "stream",
     "text": [
      "100%|██████████| 80/80 [00:00<00:00, 394.45it/s]\n",
      " 52%|█████▎    | 42/80 [00:00<00:00, 393.29it/s]"
     ]
    },
    {
     "name": "stdout",
     "output_type": "stream",
     "text": [
      "new feedback gain is 0.8454560688212095\n",
      "with cost of 0.6850867667293422\n",
      "starting epoch 128\n",
      "estimation error is 0.5100751068049015\n",
      "calculating optimal controller for estimated system\n"
     ]
    },
    {
     "name": "stderr",
     "output_type": "stream",
     "text": [
      "100%|██████████| 80/80 [00:00<00:00, 393.66it/s]\n",
      " 54%|█████▍    | 43/80 [00:00<00:00, 381.03it/s]"
     ]
    },
    {
     "name": "stdout",
     "output_type": "stream",
     "text": [
      "new feedback gain is 0.6976193226985822\n",
      "with cost of 0.6956952915544514\n",
      "starting epoch 129\n",
      "estimation error is 0.5053607458604011\n",
      "calculating optimal controller for estimated system\n"
     ]
    },
    {
     "name": "stderr",
     "output_type": "stream",
     "text": [
      "100%|██████████| 80/80 [00:00<00:00, 581.89it/s]\n",
      "  0%|          | 0/80 [00:00<?, ?it/s]"
     ]
    },
    {
     "name": "stdout",
     "output_type": "stream",
     "text": [
      "new feedback gain is 0.6911485296692303\n",
      "with cost of 0.6961671351332855\n",
      "starting epoch 130\n",
      "estimation error is 0.5006640390287078\n",
      "calculating optimal controller for estimated system\n"
     ]
    },
    {
     "name": "stderr",
     "output_type": "stream",
     "text": [
      "100%|██████████| 80/80 [00:00<00:00, 368.57it/s]\n",
      " 52%|█████▎    | 42/80 [00:00<00:00, 403.16it/s]"
     ]
    },
    {
     "name": "stdout",
     "output_type": "stream",
     "text": [
      "new feedback gain is 0.558742537461801\n",
      "with cost of 0.7059645616992105\n",
      "starting epoch 131\n",
      "estimation error is 0.4954979984596204\n",
      "calculating optimal controller for estimated system\n"
     ]
    },
    {
     "name": "stderr",
     "output_type": "stream",
     "text": [
      "100%|██████████| 80/80 [00:00<00:00, 420.96it/s]\n",
      " 52%|█████▎    | 42/80 [00:00<00:00, 403.88it/s]"
     ]
    },
    {
     "name": "stdout",
     "output_type": "stream",
     "text": [
      "new feedback gain is 0.43957714447511465\n",
      "with cost of 0.7150210501348525\n",
      "starting epoch 132\n",
      "estimation error is 0.49080623733406903\n",
      "calculating optimal controller for estimated system\n"
     ]
    },
    {
     "name": "stderr",
     "output_type": "stream",
     "text": [
      "100%|██████████| 80/80 [00:00<00:00, 421.77it/s]\n",
      " 54%|█████▍    | 43/80 [00:00<00:00, 343.71it/s]"
     ]
    },
    {
     "name": "stdout",
     "output_type": "stream",
     "text": [
      "new feedback gain is 0.33232829078709686\n",
      "with cost of 0.7233728805732239\n",
      "starting epoch 133\n",
      "estimation error is 0.4884170459327447\n",
      "calculating optimal controller for estimated system\n"
     ]
    },
    {
     "name": "stderr",
     "output_type": "stream",
     "text": [
      "100%|██████████| 80/80 [00:00<00:00, 381.22it/s]\n",
      " 52%|█████▎    | 42/80 [00:00<00:00, 395.72it/s]"
     ]
    },
    {
     "name": "stdout",
     "output_type": "stream",
     "text": [
      "new feedback gain is 0.23580432246788086\n",
      "with cost of 0.7310581173816135\n",
      "starting epoch 134\n",
      "estimation error is 0.49515493852246645\n",
      "calculating optimal controller for estimated system\n"
     ]
    },
    {
     "name": "stderr",
     "output_type": "stream",
     "text": [
      "100%|██████████| 80/80 [00:00<00:00, 432.93it/s]\n",
      "100%|██████████| 80/80 [00:00<00:00, 656.79it/s]"
     ]
    },
    {
     "name": "stdout",
     "output_type": "stream",
     "text": [
      "new feedback gain is 0.14893275098058645\n",
      "with cost of 0.7381157986568322\n",
      "starting epoch 135\n",
      "estimation error is 0.5249784590258422\n",
      "calculating optimal controller for estimated system\n"
     ]
    },
    {
     "name": "stderr",
     "output_type": "stream",
     "text": [
      "\n",
      "100%|██████████| 80/80 [00:00<00:00, 642.37it/s]"
     ]
    },
    {
     "name": "stdout",
     "output_type": "stream",
     "text": [
      "new feedback gain is 0.19733061512303413\n",
      "with cost of 0.7341671037715661\n",
      "starting epoch 136\n",
      "estimation error is 0.5070106185586303\n",
      "calculating optimal controller for estimated system\n"
     ]
    },
    {
     "name": "stderr",
     "output_type": "stream",
     "text": [
      "\n",
      " 52%|█████▎    | 42/80 [00:00<00:00, 375.79it/s]"
     ]
    },
    {
     "name": "stdout",
     "output_type": "stream",
     "text": [
      "new feedback gain is 0.24088869285123704\n",
      "with cost of 0.7306492278680422\n",
      "starting epoch 137\n",
      "estimation error is 0.4981426105378915\n",
      "calculating optimal controller for estimated system\n"
     ]
    },
    {
     "name": "stderr",
     "output_type": "stream",
     "text": [
      "100%|██████████| 80/80 [00:00<00:00, 475.27it/s]\n",
      "100%|██████████| 80/80 [00:00<00:00, 854.08it/s]\n"
     ]
    },
    {
     "name": "stdout",
     "output_type": "stream",
     "text": [
      "new feedback gain is 0.15350868432560705\n",
      "with cost of 0.7377406392352802\n",
      "starting epoch 138\n",
      "estimation error is 0.5180988209510861\n",
      "calculating optimal controller for estimated system\n"
     ]
    },
    {
     "name": "stderr",
     "output_type": "stream",
     "text": [
      "100%|██████████| 80/80 [00:00<00:00, 783.28it/s]"
     ]
    },
    {
     "name": "stdout",
     "output_type": "stream",
     "text": [
      "new feedback gain is 0.328031233614566\n",
      "with cost of 0.7237115740499891\n",
      "starting epoch 139\n",
      "estimation error is 0.49368919060600913\n",
      "calculating optimal controller for estimated system\n"
     ]
    },
    {
     "name": "stderr",
     "output_type": "stream",
     "text": [
      "\n",
      "100%|██████████| 80/80 [00:00<00:00, 882.19it/s]\n"
     ]
    },
    {
     "name": "stdout",
     "output_type": "stream",
     "text": [
      "new feedback gain is 0.4851015279746291\n",
      "with cost of 0.7115339334767716\n",
      "starting epoch 140\n",
      "estimation error is 0.4923271578324142\n",
      "calculating optimal controller for estimated system\n",
      "new feedback gain is 0.6264647928986858\n",
      "with cost of 0.7009192239467248\n"
     ]
    },
    {
     "name": "stderr",
     "output_type": "stream",
     "text": [
      "100%|██████████| 80/80 [00:00<00:00, 922.67it/s]\n"
     ]
    },
    {
     "name": "stdout",
     "output_type": "stream",
     "text": [
      "starting epoch 141\n",
      "estimation error is 0.4919477788618527\n",
      "calculating optimal controller for estimated system\n",
      "new feedback gain is 0.753691731330337\n",
      "with cost of 0.6916331780578115\n",
      "starting epoch 142\n"
     ]
    },
    {
     "name": "stderr",
     "output_type": "stream",
     "text": [
      "100%|██████████| 80/80 [00:00<00:00, 633.93it/s]"
     ]
    },
    {
     "name": "stdout",
     "output_type": "stream",
     "text": [
      "estimation error is 0.489542232227544\n",
      "calculating optimal controller for estimated system\n",
      "new feedback gain is 0.7416136974378096\n",
      "with cost of 0.6925041464601795\n"
     ]
    },
    {
     "name": "stderr",
     "output_type": "stream",
     "text": [
      "\n",
      "100%|██████████| 80/80 [00:00<00:00, 785.24it/s]\n"
     ]
    },
    {
     "name": "stdout",
     "output_type": "stream",
     "text": [
      "starting epoch 143\n",
      "estimation error is 0.48654732464730394\n",
      "calculating optimal controller for estimated system\n",
      "new feedback gain is 0.8573257454155483\n",
      "with cost of 0.6842490318158706\n"
     ]
    },
    {
     "name": "stderr",
     "output_type": "stream",
     "text": [
      "100%|██████████| 80/80 [00:00<00:00, 833.49it/s]"
     ]
    },
    {
     "name": "stdout",
     "output_type": "stream",
     "text": [
      "starting epoch 144\n",
      "estimation error is 0.48481635434995707\n",
      "calculating optimal controller for estimated system\n",
      "new feedback gain is 0.9614665885955131\n",
      "with cost of 0.6769859175779563\n"
     ]
    },
    {
     "name": "stderr",
     "output_type": "stream",
     "text": [
      "\n",
      "100%|██████████| 80/80 [00:00<00:00, 760.72it/s]"
     ]
    },
    {
     "name": "stdout",
     "output_type": "stream",
     "text": [
      "starting epoch 145\n",
      "estimation error is 0.4832865277595113\n",
      "calculating optimal controller for estimated system\n",
      "new feedback gain is 1.0551933474574815\n",
      "with cost of 0.6705797013104854\n"
     ]
    },
    {
     "name": "stderr",
     "output_type": "stream",
     "text": [
      "\n",
      "100%|██████████| 80/80 [00:00<00:00, 915.75it/s]\n"
     ]
    },
    {
     "name": "stdout",
     "output_type": "stream",
     "text": [
      "starting epoch 146\n",
      "estimation error is 0.48062401707049307\n",
      "calculating optimal controller for estimated system\n",
      "new feedback gain is 1.2661297089142656\n",
      "with cost of 0.6565964443304202\n",
      "starting epoch 147\n"
     ]
    },
    {
     "name": "stderr",
     "output_type": "stream",
     "text": [
      "100%|██████████| 80/80 [00:00<00:00, 851.47it/s]\n",
      "  0%|          | 0/80 [00:00<?, ?it/s]"
     ]
    },
    {
     "name": "stdout",
     "output_type": "stream",
     "text": [
      "estimation error is 0.4788072911480987\n",
      "calculating optimal controller for estimated system\n",
      "new feedback gain is 1.4559724342253713\n",
      "with cost of 0.6445009394729974\n",
      "starting epoch 148\n",
      "estimation error is 0.47664094508192406\n",
      "calculating optimal controller for estimated system\n"
     ]
    },
    {
     "name": "stderr",
     "output_type": "stream",
     "text": [
      "100%|██████████| 80/80 [00:00<00:00, 839.96it/s]\n",
      "100%|██████████| 80/80 [00:00<00:00, 1129.35it/s]\n"
     ]
    },
    {
     "name": "stdout",
     "output_type": "stream",
     "text": [
      "new feedback gain is 1.6268308870053665\n",
      "with cost of 0.6339897891666364\n",
      "starting epoch 149\n",
      "estimation error is 0.4735111851165855\n",
      "calculating optimal controller for estimated system\n",
      "new feedback gain is 1.780603494507362\n",
      "with cost of 0.6248186520475293\n"
     ]
    },
    {
     "name": "stderr",
     "output_type": "stream",
     "text": [
      "100%|██████████| 80/80 [00:00<00:00, 1838.49it/s]\n",
      "  0%|          | 0/80 [00:00<?, ?it/s]"
     ]
    },
    {
     "name": "stdout",
     "output_type": "stream",
     "text": [
      "starting epoch 150\n",
      "estimation error is 0.4718483297200061\n",
      "calculating optimal controller for estimated system\n",
      "new feedback gain is 1.6125431450566259\n",
      "with cost of 0.6348556114978214\n",
      "starting epoch 151\n",
      "estimation error is 0.468720887265927\n",
      "calculating optimal controller for estimated system\n"
     ]
    },
    {
     "name": "stderr",
     "output_type": "stream",
     "text": [
      "100%|██████████| 80/80 [00:00<00:00, 1095.29it/s]\n",
      "100%|██████████| 80/80 [00:00<00:00, 1191.50it/s]\n"
     ]
    },
    {
     "name": "stdout",
     "output_type": "stream",
     "text": [
      "new feedback gain is 1.7677445267534955\n",
      "with cost of 0.6255753938235489\n",
      "starting epoch 152\n",
      "estimation error is 0.46490590931165976\n",
      "calculating optimal controller for estimated system\n",
      "new feedback gain is 1.9074257702806783\n",
      "with cost of 0.6174521587142009\n",
      "starting epoch 153\n"
     ]
    },
    {
     "name": "stderr",
     "output_type": "stream",
     "text": [
      "100%|██████████| 80/80 [00:00<00:00, 1104.75it/s]\n",
      "  0%|          | 0/80 [00:00<?, ?it/s]"
     ]
    },
    {
     "name": "stdout",
     "output_type": "stream",
     "text": [
      "estimation error is 0.4618249095401313\n",
      "calculating optimal controller for estimated system\n",
      "new feedback gain is 2.033138889455143\n",
      "with cost of 0.6103195377206102\n",
      "starting epoch 154\n",
      "estimation error is 0.458668793572083\n",
      "calculating optimal controller for estimated system\n"
     ]
    },
    {
     "name": "stderr",
     "output_type": "stream",
     "text": [
      "100%|██████████| 80/80 [00:00<00:00, 805.74it/s]\n",
      "100%|██████████| 80/80 [00:00<00:00, 1234.22it/s]\n"
     ]
    },
    {
     "name": "stdout",
     "output_type": "stream",
     "text": [
      "new feedback gain is 2.0196984182311484\n",
      "with cost of 0.6110742365932946\n",
      "starting epoch 155\n",
      "estimation error is 0.4547221693272331\n",
      "calculating optimal controller for estimated system\n",
      "new feedback gain is 2.134184272610566\n",
      "with cost of 0.6047048557340626\n"
     ]
    },
    {
     "name": "stderr",
     "output_type": "stream",
     "text": [
      "100%|██████████| 80/80 [00:00<00:00, 1176.06it/s]\n"
     ]
    },
    {
     "name": "stdout",
     "output_type": "stream",
     "text": [
      "starting epoch 156\n",
      "estimation error is 0.45261331429096696\n",
      "calculating optimal controller for estimated system\n",
      "new feedback gain is 2.237221541552042\n",
      "with cost of 0.5990848841997125\n",
      "starting epoch 157\n"
     ]
    },
    {
     "name": "stderr",
     "output_type": "stream",
     "text": [
      "100%|██████████| 80/80 [00:00<00:00, 1091.94it/s]\n",
      "  0%|          | 0/80 [00:00<?, ?it/s]"
     ]
    },
    {
     "name": "stdout",
     "output_type": "stream",
     "text": [
      "estimation error is 0.4496128133257186\n",
      "calculating optimal controller for estimated system\n",
      "new feedback gain is 2.32995508359937\n",
      "with cost of 0.5941154832349073\n",
      "starting epoch 158\n",
      "estimation error is 0.44725023200502206\n",
      "calculating optimal controller for estimated system\n"
     ]
    },
    {
     "name": "stderr",
     "output_type": "stream",
     "text": [
      "100%|██████████| 80/80 [00:00<00:00, 1028.14it/s]\n",
      "100%|██████████| 80/80 [00:00<00:00, 1204.44it/s]\n"
     ]
    },
    {
     "name": "stdout",
     "output_type": "stream",
     "text": [
      "new feedback gain is 2.4134152714419654\n",
      "with cost of 0.5897129881418611\n",
      "starting epoch 159\n",
      "estimation error is 0.44479397660138487\n",
      "calculating optimal controller for estimated system\n",
      "new feedback gain is 2.4885294405003013\n",
      "with cost of 0.5858061586941982\n"
     ]
    },
    {
     "name": "stderr",
     "output_type": "stream",
     "text": [
      "100%|██████████| 80/80 [00:00<00:00, 1151.81it/s]\n"
     ]
    },
    {
     "name": "stdout",
     "output_type": "stream",
     "text": [
      "starting epoch 160\n",
      "estimation error is 0.4419741874264293\n",
      "calculating optimal controller for estimated system\n",
      "new feedback gain is 2.556132192652804\n",
      "with cost of 0.5823340091385272\n",
      "starting epoch 161\n"
     ]
    },
    {
     "name": "stderr",
     "output_type": "stream",
     "text": [
      "100%|██████████| 80/80 [00:00<00:00, 1209.10it/s]\n",
      "  0%|          | 0/80 [00:00<?, ?it/s]"
     ]
    },
    {
     "name": "stdout",
     "output_type": "stream",
     "text": [
      "estimation error is 0.43964016490786656\n",
      "calculating optimal controller for estimated system\n",
      "new feedback gain is 2.6169746695900558\n",
      "with cost of 0.5792440794087261\n",
      "starting epoch 162\n",
      "estimation error is 0.4369650501285569\n",
      "calculating optimal controller for estimated system\n"
     ]
    },
    {
     "name": "stderr",
     "output_type": "stream",
     "text": [
      "100%|██████████| 80/80 [00:00<00:00, 933.99it/s]\n",
      "100%|██████████| 80/80 [00:00<00:00, 829.64it/s]\n"
     ]
    },
    {
     "name": "stdout",
     "output_type": "stream",
     "text": [
      "new feedback gain is 2.6717328988335827\n",
      "with cost of 0.5764910457306449\n",
      "starting epoch 163\n",
      "estimation error is 0.43438035522412555\n",
      "calculating optimal controller for estimated system\n"
     ]
    },
    {
     "name": "stderr",
     "output_type": "stream",
     "text": [
      "100%|██████████| 80/80 [00:00<00:00, 835.88it/s]"
     ]
    },
    {
     "name": "stdout",
     "output_type": "stream",
     "text": [
      "new feedback gain is 2.721015305152757\n",
      "with cost of 0.5740355948368613\n",
      "starting epoch 164\n",
      "estimation error is 0.43163794765921176\n",
      "calculating optimal controller for estimated system\n"
     ]
    },
    {
     "name": "stderr",
     "output_type": "stream",
     "text": [
      "\n",
      "100%|██████████| 80/80 [00:00<00:00, 1089.99it/s]\n"
     ]
    },
    {
     "name": "stdout",
     "output_type": "stream",
     "text": [
      "new feedback gain is 2.638787192359001\n",
      "with cost of 0.5781442845205093\n",
      "starting epoch 165\n",
      "estimation error is 0.4291246557557626\n",
      "calculating optimal controller for estimated system\n",
      "new feedback gain is 2.691364169325633\n",
      "with cost of 0.5755104226172123\n"
     ]
    },
    {
     "name": "stderr",
     "output_type": "stream",
     "text": [
      "100%|██████████| 80/80 [00:00<00:00, 664.67it/s]"
     ]
    },
    {
     "name": "stdout",
     "output_type": "stream",
     "text": [
      "starting epoch 166\n",
      "estimation error is 0.4257618626267986\n",
      "calculating optimal controller for estimated system\n"
     ]
    },
    {
     "name": "stderr",
     "output_type": "stream",
     "text": [
      "\n",
      "100%|██████████| 80/80 [00:00<00:00, 791.48it/s]"
     ]
    },
    {
     "name": "stdout",
     "output_type": "stream",
     "text": [
      "new feedback gain is 2.6121011701145895\n",
      "with cost of 0.5794903750426594\n",
      "starting epoch 167\n",
      "estimation error is 0.4231979624843045\n",
      "calculating optimal controller for estimated system\n",
      "new feedback gain is 2.54076447082465\n",
      "with cost of 0.5831196920582595\n"
     ]
    },
    {
     "name": "stderr",
     "output_type": "stream",
     "text": [
      "\n",
      "100%|██████████| 80/80 [00:00<00:00, 819.80it/s]\n"
     ]
    },
    {
     "name": "stdout",
     "output_type": "stream",
     "text": [
      "starting epoch 168\n",
      "estimation error is 0.4206657171314015\n",
      "calculating optimal controller for estimated system\n",
      "new feedback gain is 2.476561441463705\n",
      "with cost of 0.5864251663745298\n"
     ]
    },
    {
     "name": "stderr",
     "output_type": "stream",
     "text": [
      "100%|██████████| 80/80 [00:00<00:00, 830.61it/s]\n"
     ]
    },
    {
     "name": "stdout",
     "output_type": "stream",
     "text": [
      "starting epoch 169\n",
      "estimation error is 0.418811043242604\n",
      "calculating optimal controller for estimated system\n",
      "new feedback gain is 2.418778715038854\n",
      "with cost of 0.5894322985560241\n",
      "starting epoch 170\n"
     ]
    },
    {
     "name": "stderr",
     "output_type": "stream",
     "text": [
      "100%|██████████| 80/80 [00:00<00:00, 812.92it/s]\n"
     ]
    },
    {
     "name": "stdout",
     "output_type": "stream",
     "text": [
      "estimation error is 0.4157276588866509\n",
      "calculating optimal controller for estimated system\n",
      "new feedback gain is 2.3667742612564884\n",
      "with cost of 0.592165208467681\n",
      "starting epoch 171\n"
     ]
    },
    {
     "name": "stderr",
     "output_type": "stream",
     "text": [
      "100%|██████████| 80/80 [00:00<00:00, 808.21it/s]\n"
     ]
    },
    {
     "name": "stdout",
     "output_type": "stream",
     "text": [
      "estimation error is 0.4139257669580833\n",
      "calculating optimal controller for estimated system\n",
      "new feedback gain is 2.319970252852359\n",
      "with cost of 0.5946465858832499\n",
      "starting epoch 172\n"
     ]
    },
    {
     "name": "stderr",
     "output_type": "stream",
     "text": [
      "100%|██████████| 80/80 [00:00<00:00, 870.33it/s]\n"
     ]
    },
    {
     "name": "stdout",
     "output_type": "stream",
     "text": [
      "estimation error is 0.4115090163085296\n",
      "calculating optimal controller for estimated system\n",
      "new feedback gain is 2.277846645288643\n",
      "with cost of 0.5968976731574756\n",
      "starting epoch 173\n",
      "estimation error is 0.4098612978465636\n"
     ]
    },
    {
     "name": "stderr",
     "output_type": "stream",
     "text": [
      "100%|██████████| 80/80 [00:00<00:00, 772.53it/s]\n"
     ]
    },
    {
     "name": "stdout",
     "output_type": "stream",
     "text": [
      "calculating optimal controller for estimated system\n",
      "new feedback gain is 2.239935398481298\n",
      "with cost of 0.5989382736115993\n",
      "starting epoch 174\n"
     ]
    },
    {
     "name": "stderr",
     "output_type": "stream",
     "text": [
      "100%|██████████| 80/80 [00:00<00:00, 1067.38it/s]\n"
     ]
    },
    {
     "name": "stdout",
     "output_type": "stream",
     "text": [
      "estimation error is 0.407421417531551\n",
      "calculating optimal controller for estimated system\n",
      "new feedback gain is 2.3323975548357008\n",
      "with cost of 0.5939857102527292\n",
      "starting epoch 175\n"
     ]
    },
    {
     "name": "stderr",
     "output_type": "stream",
     "text": [
      "100%|██████████| 80/80 [00:00<00:00, 825.11it/s]"
     ]
    },
    {
     "name": "stdout",
     "output_type": "stream",
     "text": [
      "estimation error is 0.4054496928226363\n",
      "calculating optimal controller for estimated system\n",
      "new feedback gain is 2.28903121707365\n",
      "with cost of 0.5962983089781799\n",
      "starting epoch 176\n"
     ]
    },
    {
     "name": "stderr",
     "output_type": "stream",
     "text": [
      "\n",
      "100%|██████████| 80/80 [00:00<00:00, 839.09it/s]\n",
      "  0%|          | 0/80 [00:00<?, ?it/s]"
     ]
    },
    {
     "name": "stdout",
     "output_type": "stream",
     "text": [
      "estimation error is 0.40345787663280497\n",
      "calculating optimal controller for estimated system\n",
      "new feedback gain is 2.250001513087805\n",
      "with cost of 0.5983950984231762\n",
      "starting epoch 177\n",
      "estimation error is 0.4011008027518563\n",
      "calculating optimal controller for estimated system\n"
     ]
    },
    {
     "name": "stderr",
     "output_type": "stream",
     "text": [
      "100%|██████████| 80/80 [00:00<00:00, 763.84it/s]\n",
      "100%|██████████| 80/80 [00:00<00:00, 763.03it/s]"
     ]
    },
    {
     "name": "stdout",
     "output_type": "stream",
     "text": [
      "new feedback gain is 2.214874779500544\n",
      "with cost of 0.6002948568338052\n",
      "starting epoch 178\n",
      "estimation error is 0.39938774250128506\n",
      "calculating optimal controller for estimated system\n"
     ]
    },
    {
     "name": "stderr",
     "output_type": "stream",
     "text": [
      "\n",
      "100%|██████████| 80/80 [00:00<00:00, 1149.47it/s]\n"
     ]
    },
    {
     "name": "stdout",
     "output_type": "stream",
     "text": [
      "new feedback gain is 2.1832607192720093\n",
      "with cost of 0.602014982426885\n",
      "starting epoch 179\n",
      "estimation error is 0.39692913965066373\n",
      "calculating optimal controller for estimated system\n",
      "new feedback gain is 2.281390343547341\n",
      "with cost of 0.5967076414023078\n"
     ]
    },
    {
     "name": "stderr",
     "output_type": "stream",
     "text": [
      "100%|██████████| 80/80 [00:00<00:00, 1201.36it/s]\n"
     ]
    },
    {
     "name": "stdout",
     "output_type": "stream",
     "text": [
      "starting epoch 180\n",
      "estimation error is 0.3951020340352177\n",
      "calculating optimal controller for estimated system\n",
      "new feedback gain is 2.3697070053951395\n",
      "with cost of 0.5920104143799924\n",
      "starting epoch 181\n"
     ]
    },
    {
     "name": "stderr",
     "output_type": "stream",
     "text": [
      "100%|██████████| 80/80 [00:00<00:00, 1037.42it/s]\n"
     ]
    },
    {
     "name": "stdout",
     "output_type": "stream",
     "text": [
      "estimation error is 0.39285677238751154\n",
      "calculating optimal controller for estimated system\n",
      "new feedback gain is 2.449192001058158\n",
      "with cost of 0.5878456944395113\n",
      "starting epoch 182\n",
      "estimation error is 0.3912386563105169\n"
     ]
    },
    {
     "name": "stderr",
     "output_type": "stream",
     "text": [
      "100%|██████████| 80/80 [00:00<00:00, 1115.79it/s]\n",
      "  0%|          | 0/80 [00:00<?, ?it/s]"
     ]
    },
    {
     "name": "stdout",
     "output_type": "stream",
     "text": [
      "calculating optimal controller for estimated system\n",
      "new feedback gain is 2.5207284971548747\n",
      "with cost of 0.5841472313598504\n",
      "starting epoch 183\n",
      "estimation error is 0.3894953538535063\n",
      "calculating optimal controller for estimated system\n"
     ]
    },
    {
     "name": "stderr",
     "output_type": "stream",
     "text": [
      "100%|██████████| 80/80 [00:00<00:00, 1032.02it/s]\n",
      "100%|██████████| 80/80 [00:00<00:00, 1133.30it/s]\n"
     ]
    },
    {
     "name": "stdout",
     "output_type": "stream",
     "text": [
      "new feedback gain is 2.5851113436419197\n",
      "with cost of 0.5808581806778953\n",
      "starting epoch 184\n",
      "estimation error is 0.3869349170215237\n",
      "calculating optimal controller for estimated system\n",
      "new feedback gain is 2.6430559054802605\n",
      "with cost of 0.5779295429819884\n"
     ]
    },
    {
     "name": "stderr",
     "output_type": "stream",
     "text": [
      "100%|██████████| 80/80 [00:00<00:00, 1147.17it/s]\n"
     ]
    },
    {
     "name": "stdout",
     "output_type": "stream",
     "text": [
      "starting epoch 185\n",
      "estimation error is 0.3852695555688566\n",
      "calculating optimal controller for estimated system\n",
      "new feedback gain is 2.695206011134767\n",
      "with cost of 0.5753189047592273\n",
      "starting epoch 186\n"
     ]
    },
    {
     "name": "stderr",
     "output_type": "stream",
     "text": [
      "100%|██████████| 80/80 [00:00<00:00, 1035.46it/s]\n"
     ]
    },
    {
     "name": "stdout",
     "output_type": "stream",
     "text": [
      "estimation error is 0.38320391838545603\n",
      "calculating optimal controller for estimated system\n",
      "new feedback gain is 2.742141106223823\n",
      "with cost of 0.5729894144669783\n",
      "starting epoch 187\n"
     ]
    },
    {
     "name": "stderr",
     "output_type": "stream",
     "text": [
      "100%|██████████| 80/80 [00:00<00:00, 1063.42it/s]\n",
      "  0%|          | 0/80 [00:00<?, ?it/s]"
     ]
    },
    {
     "name": "stdout",
     "output_type": "stream",
     "text": [
      "estimation error is 0.3810688325983934\n",
      "calculating optimal controller for estimated system\n",
      "new feedback gain is 2.784382691803973\n",
      "with cost of 0.5709089437089101\n",
      "starting epoch 188\n",
      "estimation error is 0.3788365865611869\n",
      "calculating optimal controller for estimated system\n"
     ]
    },
    {
     "name": "stderr",
     "output_type": "stream",
     "text": [
      "100%|██████████| 80/80 [00:00<00:00, 725.51it/s]\n",
      "100%|██████████| 80/80 [00:00<00:00, 875.93it/s]\n"
     ]
    },
    {
     "name": "stdout",
     "output_type": "stream",
     "text": [
      "new feedback gain is 2.6958178403450956\n",
      "with cost of 0.5752884165131449\n",
      "starting epoch 189\n",
      "estimation error is 0.376440161088161\n",
      "calculating optimal controller for estimated system\n"
     ]
    },
    {
     "name": "stderr",
     "output_type": "stream",
     "text": [
      "100%|██████████| 80/80 [00:00<00:00, 809.48it/s]"
     ]
    },
    {
     "name": "stdout",
     "output_type": "stream",
     "text": [
      "new feedback gain is 2.616109474032106\n",
      "with cost of 0.579287789148169\n",
      "starting epoch 190\n",
      "estimation error is 0.37462540671496813\n",
      "calculating optimal controller for estimated system\n"
     ]
    },
    {
     "name": "stderr",
     "output_type": "stream",
     "text": [
      "\n",
      "100%|██████████| 80/80 [00:00<00:00, 858.65it/s]"
     ]
    },
    {
     "name": "stdout",
     "output_type": "stream",
     "text": [
      "new feedback gain is 2.5443719443504147\n",
      "with cost of 0.5829350676988009\n",
      "starting epoch 191\n",
      "estimation error is 0.37275450543381705\n",
      "calculating optimal controller for estimated system\n"
     ]
    },
    {
     "name": "stderr",
     "output_type": "stream",
     "text": [
      "\n",
      "100%|██████████| 80/80 [00:00<00:00, 832.29it/s]"
     ]
    },
    {
     "name": "stdout",
     "output_type": "stream",
     "text": [
      "new feedback gain is 2.479808167636893\n",
      "with cost of 0.5862571102501614\n",
      "starting epoch 192\n",
      "estimation error is 0.3701276612495239\n",
      "calculating optimal controller for estimated system\n"
     ]
    },
    {
     "name": "stderr",
     "output_type": "stream",
     "text": [
      "\n",
      "100%|██████████| 80/80 [00:00<00:00, 809.10it/s]"
     ]
    },
    {
     "name": "stdout",
     "output_type": "stream",
     "text": [
      "new feedback gain is 2.4217007685947234\n",
      "with cost of 0.5892794886934936\n",
      "starting epoch 193\n",
      "estimation error is 0.36843090946028895\n",
      "calculating optimal controller for estimated system\n"
     ]
    },
    {
     "name": "stderr",
     "output_type": "stream",
     "text": [
      "\n",
      "100%|██████████| 80/80 [00:00<00:00, 804.28it/s]"
     ]
    },
    {
     "name": "stdout",
     "output_type": "stream",
     "text": [
      "new feedback gain is 2.3694041094567706\n",
      "with cost of 0.5920263978778609\n",
      "starting epoch 194\n",
      "estimation error is 0.3668325351362391\n",
      "calculating optimal controller for estimated system\n"
     ]
    },
    {
     "name": "stderr",
     "output_type": "stream",
     "text": [
      "\n",
      "100%|██████████| 80/80 [00:00<00:00, 820.64it/s]"
     ]
    },
    {
     "name": "stdout",
     "output_type": "stream",
     "text": [
      "new feedback gain is 2.322337116232613\n",
      "with cost of 0.5945206043209411\n",
      "starting epoch 195\n",
      "estimation error is 0.3646708573536357\n",
      "calculating optimal controller for estimated system\n"
     ]
    },
    {
     "name": "stderr",
     "output_type": "stream",
     "text": [
      "\n",
      "100%|██████████| 80/80 [00:00<00:00, 809.81it/s]"
     ]
    },
    {
     "name": "stdout",
     "output_type": "stream",
     "text": [
      "new feedback gain is 2.2799768223308714\n",
      "with cost of 0.5967834273427585\n",
      "starting epoch 196\n",
      "estimation error is 0.36361345766112546\n",
      "calculating optimal controller for estimated system\n"
     ]
    },
    {
     "name": "stderr",
     "output_type": "stream",
     "text": [
      "\n",
      " 55%|█████▌    | 44/80 [00:00<00:00, 393.73it/s]"
     ]
    },
    {
     "name": "stdout",
     "output_type": "stream",
     "text": [
      "new feedback gain is 2.241852557819304\n",
      "with cost of 0.5988347462308983\n",
      "starting epoch 197\n",
      "estimation error is 0.36157325281078434\n",
      "calculating optimal controller for estimated system\n"
     ]
    },
    {
     "name": "stderr",
     "output_type": "stream",
     "text": [
      "100%|██████████| 80/80 [00:00<00:00, 594.91it/s]\n",
      " 55%|█████▌    | 44/80 [00:00<00:00, 400.67it/s]"
     ]
    },
    {
     "name": "stdout",
     "output_type": "stream",
     "text": [
      "new feedback gain is 2.207540719758893\n",
      "with cost of 0.600693027824765\n",
      "starting epoch 198\n",
      "estimation error is 0.3600667503220626\n",
      "calculating optimal controller for estimated system\n"
     ]
    },
    {
     "name": "stderr",
     "output_type": "stream",
     "text": [
      "100%|██████████| 80/80 [00:00<00:00, 601.78it/s]\n",
      " 55%|█████▌    | 44/80 [00:00<00:00, 413.53it/s]"
     ]
    },
    {
     "name": "stdout",
     "output_type": "stream",
     "text": [
      "new feedback gain is 2.1766600655045236\n",
      "with cost of 0.6023753696765073\n",
      "starting epoch 199\n",
      "estimation error is 0.3581992523870722\n",
      "calculating optimal controller for estimated system\n"
     ]
    },
    {
     "name": "stderr",
     "output_type": "stream",
     "text": [
      "100%|██████████| 80/80 [00:00<00:00, 622.80it/s]\n",
      "100%|██████████| 80/80 [00:00<00:00, 818.05it/s]"
     ]
    },
    {
     "name": "stdout",
     "output_type": "stream",
     "text": [
      "new feedback gain is 2.148867476675591\n",
      "with cost of 0.6038975546778392\n",
      "starting epoch 200\n",
      "estimation error is 0.3563037910894637\n",
      "calculating optimal controller for estimated system\n"
     ]
    },
    {
     "name": "stderr",
     "output_type": "stream",
     "text": [
      "\n",
      "100%|██████████| 80/80 [00:00<00:00, 832.61it/s]\n"
     ]
    },
    {
     "name": "stdout",
     "output_type": "stream",
     "text": [
      "new feedback gain is 2.1238541467295518\n",
      "with cost of 0.6052741137165655\n",
      "starting epoch 201\n",
      "estimation error is 0.3540020698941278\n",
      "calculating optimal controller for estimated system\n"
     ]
    },
    {
     "name": "stderr",
     "output_type": "stream",
     "text": [
      "100%|██████████| 80/80 [00:00<00:00, 686.07it/s]"
     ]
    },
    {
     "name": "stdout",
     "output_type": "stream",
     "text": [
      "new feedback gain is 2.1013421497781164\n",
      "with cost of 0.6065183935340197\n",
      "starting epoch 202\n",
      "estimation error is 0.35203268331163534\n",
      "calculating optimal controller for estimated system\n"
     ]
    },
    {
     "name": "stderr",
     "output_type": "stream",
     "text": [
      "\n",
      " 55%|█████▌    | 44/80 [00:00<00:00, 386.14it/s]"
     ]
    },
    {
     "name": "stdout",
     "output_type": "stream",
     "text": [
      "new feedback gain is 2.0810813525218244\n",
      "with cost of 0.6076426274908835\n",
      "starting epoch 203\n",
      "estimation error is 0.35074969919330207\n",
      "calculating optimal controller for estimated system\n"
     ]
    },
    {
     "name": "stderr",
     "output_type": "stream",
     "text": [
      "100%|██████████| 80/80 [00:00<00:00, 582.91it/s]\n",
      " 55%|█████▌    | 44/80 [00:00<00:00, 418.08it/s]"
     ]
    },
    {
     "name": "stdout",
     "output_type": "stream",
     "text": [
      "new feedback gain is 2.062846634991162\n",
      "with cost of 0.608658007414415\n",
      "starting epoch 204\n",
      "estimation error is 0.34872220773170726\n",
      "calculating optimal controller for estimated system\n"
     ]
    },
    {
     "name": "stderr",
     "output_type": "stream",
     "text": [
      "100%|██████████| 80/80 [00:00<00:00, 634.29it/s]\n",
      " 55%|█████▌    | 44/80 [00:00<00:00, 406.00it/s]"
     ]
    },
    {
     "name": "stdout",
     "output_type": "stream",
     "text": [
      "new feedback gain is 2.046435389213565\n",
      "with cost of 0.6095747550983239\n",
      "starting epoch 205\n",
      "estimation error is 0.3465855187658225\n",
      "calculating optimal controller for estimated system\n"
     ]
    },
    {
     "name": "stderr",
     "output_type": "stream",
     "text": [
      "100%|██████████| 80/80 [00:00<00:00, 616.45it/s]\n",
      " 55%|█████▌    | 44/80 [00:00<00:00, 404.39it/s]"
     ]
    },
    {
     "name": "stdout",
     "output_type": "stream",
     "text": [
      "new feedback gain is 2.0316652680137284\n",
      "with cost of 0.6104021923625284\n",
      "starting epoch 206\n",
      "estimation error is 0.34537433093480296\n",
      "calculating optimal controller for estimated system\n"
     ]
    },
    {
     "name": "stderr",
     "output_type": "stream",
     "text": [
      "100%|██████████| 80/80 [00:00<00:00, 605.91it/s]\n",
      "  0%|          | 0/80 [00:00<?, ?it/s]"
     ]
    },
    {
     "name": "stdout",
     "output_type": "stream",
     "text": [
      "new feedback gain is 2.0183721589338752\n",
      "with cost of 0.6111488088599736\n",
      "starting epoch 207\n",
      "estimation error is 0.34394316297947436\n",
      "calculating optimal controller for estimated system\n"
     ]
    },
    {
     "name": "stderr",
     "output_type": "stream",
     "text": [
      "100%|██████████| 80/80 [00:00<00:00, 611.11it/s]\n",
      " 55%|█████▌    | 44/80 [00:00<00:00, 423.86it/s]"
     ]
    },
    {
     "name": "stdout",
     "output_type": "stream",
     "text": [
      "new feedback gain is 2.0064083607620073\n",
      "with cost of 0.6118223270480395\n",
      "starting epoch 208\n",
      "estimation error is 0.34215945570798184\n",
      "calculating optimal controller for estimated system\n"
     ]
    },
    {
     "name": "stderr",
     "output_type": "stream",
     "text": [
      "100%|██████████| 80/80 [00:00<00:00, 639.66it/s]\n",
      " 55%|█████▌    | 44/80 [00:00<00:00, 415.80it/s]"
     ]
    },
    {
     "name": "stdout",
     "output_type": "stream",
     "text": [
      "new feedback gain is 1.9956409424073263\n",
      "with cost of 0.6124297639292793\n",
      "starting epoch 209\n",
      "estimation error is 0.34075747536806134\n",
      "calculating optimal controller for estimated system\n"
     ]
    },
    {
     "name": "stderr",
     "output_type": "stream",
     "text": [
      "100%|██████████| 80/80 [00:00<00:00, 625.69it/s]\n",
      " 55%|█████▌    | 44/80 [00:00<00:00, 418.22it/s]"
     ]
    },
    {
     "name": "stdout",
     "output_type": "stream",
     "text": [
      "new feedback gain is 1.9859502658881132\n",
      "with cost of 0.6129774893164182\n",
      "starting epoch 210\n",
      "estimation error is 0.3391010070297737\n",
      "calculating optimal controller for estimated system\n"
     ]
    },
    {
     "name": "stderr",
     "output_type": "stream",
     "text": [
      "100%|██████████| 80/80 [00:00<00:00, 630.42it/s]\n",
      " 55%|█████▌    | 44/80 [00:00<00:00, 411.19it/s]"
     ]
    },
    {
     "name": "stdout",
     "output_type": "stream",
     "text": [
      "new feedback gain is 1.9772286570208215\n",
      "with cost of 0.6134712804953549\n",
      "starting epoch 211\n",
      "estimation error is 0.3373142895797313\n",
      "calculating optimal controller for estimated system\n"
     ]
    },
    {
     "name": "stderr",
     "output_type": "stream",
     "text": [
      "100%|██████████| 80/80 [00:00<00:00, 625.66it/s]\n",
      "100%|██████████| 80/80 [00:00<00:00, 622.81it/s]"
     ]
    },
    {
     "name": "stdout",
     "output_type": "stream",
     "text": [
      "new feedback gain is 1.9693792090402589\n",
      "with cost of 0.6139163732524318\n",
      "starting epoch 212\n",
      "estimation error is 0.336281763211952\n",
      "calculating optimal controller for estimated system\n"
     ]
    },
    {
     "name": "stderr",
     "output_type": "stream",
     "text": [
      "\n",
      " 55%|█████▌    | 44/80 [00:00<00:00, 417.35it/s]"
     ]
    },
    {
     "name": "stdout",
     "output_type": "stream",
     "text": [
      "new feedback gain is 1.9623147058577528\n",
      "with cost of 0.6143175093029138\n",
      "starting epoch 213\n",
      "estimation error is 0.33520697952816786\n",
      "calculating optimal controller for estimated system\n"
     ]
    },
    {
     "name": "stderr",
     "output_type": "stream",
     "text": [
      "100%|██████████| 80/80 [00:00<00:00, 634.69it/s]\n",
      " 55%|█████▌    | 44/80 [00:00<00:00, 400.19it/s]"
     ]
    },
    {
     "name": "stdout",
     "output_type": "stream",
     "text": [
      "new feedback gain is 1.955956652993497\n",
      "with cost of 0.614678980210453\n",
      "starting epoch 214\n",
      "estimation error is 0.33399347702072163\n",
      "calculating optimal controller for estimated system\n"
     ]
    },
    {
     "name": "stderr",
     "output_type": "stream",
     "text": [
      "100%|██████████| 80/80 [00:00<00:00, 607.89it/s]\n",
      " 55%|█████▌    | 44/80 [00:00<00:00, 394.87it/s]"
     ]
    },
    {
     "name": "stdout",
     "output_type": "stream",
     "text": [
      "new feedback gain is 1.9502344054156673\n",
      "with cost of 0.6150046679254868\n",
      "starting epoch 215\n",
      "estimation error is 0.3319245806086905\n",
      "calculating optimal controller for estimated system\n"
     ]
    },
    {
     "name": "stderr",
     "output_type": "stream",
     "text": [
      "100%|██████████| 80/80 [00:00<00:00, 600.58it/s]\n",
      " 55%|█████▌    | 44/80 [00:00<00:00, 398.08it/s]"
     ]
    },
    {
     "name": "stdout",
     "output_type": "stream",
     "text": [
      "new feedback gain is 1.94508438259562\n",
      "with cost of 0.6152980820970905\n",
      "starting epoch 216\n",
      "estimation error is 0.3304379770405083\n",
      "calculating optimal controller for estimated system\n"
     ]
    },
    {
     "name": "stderr",
     "output_type": "stream",
     "text": [
      "100%|██████████| 80/80 [00:00<00:00, 605.44it/s]\n",
      " 55%|█████▌    | 44/80 [00:00<00:00, 432.69it/s]"
     ]
    },
    {
     "name": "stdout",
     "output_type": "stream",
     "text": [
      "new feedback gain is 1.9404493620575778\n",
      "with cost of 0.6155623943299564\n",
      "starting epoch 217\n",
      "estimation error is 0.3285488195604677\n",
      "calculating optimal controller for estimated system\n"
     ]
    },
    {
     "name": "stderr",
     "output_type": "stream",
     "text": [
      "100%|██████████| 80/80 [00:00<00:00, 644.89it/s]\n",
      " 55%|█████▌    | 44/80 [00:00<00:00, 425.23it/s]"
     ]
    },
    {
     "name": "stdout",
     "output_type": "stream",
     "text": [
      "new feedback gain is 1.9362778435733397\n",
      "with cost of 0.6158004695680607\n",
      "starting epoch 218\n",
      "estimation error is 0.32725540394254343\n",
      "calculating optimal controller for estimated system\n"
     ]
    },
    {
     "name": "stderr",
     "output_type": "stream",
     "text": [
      "100%|██████████| 80/80 [00:00<00:00, 632.27it/s]\n",
      " 55%|█████▌    | 44/80 [00:00<00:00, 404.39it/s]"
     ]
    },
    {
     "name": "stdout",
     "output_type": "stream",
     "text": [
      "new feedback gain is 1.9325234769375252\n",
      "with cost of 0.6160148947907409\n",
      "starting epoch 219\n",
      "estimation error is 0.3254626091639747\n",
      "calculating optimal controller for estimated system\n"
     ]
    },
    {
     "name": "stderr",
     "output_type": "stream",
     "text": [
      "100%|██████████| 80/80 [00:00<00:00, 609.17it/s]\n",
      " 55%|█████▌    | 44/80 [00:00<00:00, 430.90it/s]"
     ]
    },
    {
     "name": "stdout",
     "output_type": "stream",
     "text": [
      "new feedback gain is 1.9291445469652926\n",
      "with cost of 0.6162080052067556\n",
      "starting epoch 220\n",
      "estimation error is 0.32458915413624084\n",
      "calculating optimal controller for estimated system\n"
     ]
    },
    {
     "name": "stderr",
     "output_type": "stream",
     "text": [
      "100%|██████████| 80/80 [00:00<00:00, 651.19it/s]\n",
      " 55%|█████▌    | 44/80 [00:00<00:00, 426.70it/s]"
     ]
    },
    {
     "name": "stdout",
     "output_type": "stream",
     "text": [
      "new feedback gain is 1.9261035099902832\n",
      "with cost of 0.616381908128484\n",
      "starting epoch 221\n",
      "estimation error is 0.32236215660087736\n",
      "calculating optimal controller for estimated system\n"
     ]
    },
    {
     "name": "stderr",
     "output_type": "stream",
     "text": [
      "100%|██████████| 80/80 [00:00<00:00, 630.36it/s]\n",
      " 54%|█████▍    | 43/80 [00:00<00:00, 423.25it/s]"
     ]
    },
    {
     "name": "stdout",
     "output_type": "stream",
     "text": [
      "new feedback gain is 1.9233665767127746\n",
      "with cost of 0.6165385047026569\n",
      "starting epoch 222\n",
      "estimation error is 0.3209715715446146\n",
      "calculating optimal controller for estimated system\n"
     ]
    },
    {
     "name": "stderr",
     "output_type": "stream",
     "text": [
      "100%|██████████| 80/80 [00:00<00:00, 466.21it/s]\n",
      " 54%|█████▍    | 43/80 [00:00<00:00, 412.64it/s]"
     ]
    },
    {
     "name": "stdout",
     "output_type": "stream",
     "text": [
      "new feedback gain is 1.7943210582820033\n",
      "with cost of 0.6240133981285553\n",
      "starting epoch 223\n",
      "estimation error is 0.31997896272341236\n",
      "calculating optimal controller for estimated system\n"
     ]
    },
    {
     "name": "stderr",
     "output_type": "stream",
     "text": [
      "100%|██████████| 80/80 [00:00<00:00, 521.29it/s]\n",
      "  0%|          | 0/80 [00:00<?, ?it/s]"
     ]
    },
    {
     "name": "stdout",
     "output_type": "stream",
     "text": [
      "new feedback gain is 1.6781800916943093\n",
      "with cost of 0.6308974812132114\n",
      "starting epoch 224\n",
      "estimation error is 0.3178009046364415\n",
      "calculating optimal controller for estimated system\n"
     ]
    },
    {
     "name": "stderr",
     "output_type": "stream",
     "text": [
      "100%|██████████| 80/80 [00:00<00:00, 413.56it/s]\n",
      "  0%|          | 0/80 [00:00<?, ?it/s]"
     ]
    },
    {
     "name": "stdout",
     "output_type": "stream",
     "text": [
      "new feedback gain is 1.5736532217653847\n",
      "with cost of 0.6372243240067543\n",
      "starting epoch 225\n",
      "estimation error is 0.3163404950201369\n",
      "calculating optimal controller for estimated system\n"
     ]
    },
    {
     "name": "stderr",
     "output_type": "stream",
     "text": [
      "100%|██████████| 80/80 [00:00<00:00, 492.55it/s]\n",
      " 54%|█████▍    | 43/80 [00:00<00:00, 407.76it/s]"
     ]
    },
    {
     "name": "stdout",
     "output_type": "stream",
     "text": [
      "new feedback gain is 1.4795790388293524\n",
      "with cost of 0.6430279660832656\n",
      "starting epoch 226\n",
      "estimation error is 0.3152076127176178\n",
      "calculating optimal controller for estimated system\n"
     ]
    },
    {
     "name": "stderr",
     "output_type": "stream",
     "text": [
      "100%|██████████| 80/80 [00:00<00:00, 413.82it/s]\n",
      " 55%|█████▌    | 44/80 [00:00<00:00, 345.81it/s]"
     ]
    },
    {
     "name": "stdout",
     "output_type": "stream",
     "text": [
      "new feedback gain is 1.3949122741869233\n",
      "with cost of 0.6483423777679079\n",
      "starting epoch 227\n",
      "estimation error is 0.31435480799041565\n",
      "calculating optimal controller for estimated system\n"
     ]
    },
    {
     "name": "stderr",
     "output_type": "stream",
     "text": [
      "100%|██████████| 80/80 [00:00<00:00, 424.71it/s]\n",
      " 54%|█████▍    | 43/80 [00:00<00:00, 425.26it/s]"
     ]
    },
    {
     "name": "stdout",
     "output_type": "stream",
     "text": [
      "new feedback gain is 1.3187121860087372\n",
      "with cost of 0.6532010174733353\n",
      "starting epoch 228\n",
      "estimation error is 0.31386815367607535\n",
      "calculating optimal controller for estimated system\n"
     ]
    },
    {
     "name": "stderr",
     "output_type": "stream",
     "text": [
      "100%|██████████| 80/80 [00:00<00:00, 478.82it/s]\n",
      " 54%|█████▍    | 43/80 [00:00<00:00, 410.22it/s]"
     ]
    },
    {
     "name": "stdout",
     "output_type": "stream",
     "text": [
      "new feedback gain is 1.2501321066483697\n",
      "with cost of 0.6576364777034329\n",
      "starting epoch 229\n",
      "estimation error is 0.31214920480997316\n",
      "calculating optimal controller for estimated system\n"
     ]
    },
    {
     "name": "stderr",
     "output_type": "stream",
     "text": [
      "100%|██████████| 80/80 [00:00<00:00, 508.50it/s]\n",
      "  0%|          | 0/80 [00:00<?, ?it/s]"
     ]
    },
    {
     "name": "stdout",
     "output_type": "stream",
     "text": [
      "new feedback gain is 1.188410035224039\n",
      "with cost of 0.661680210893919\n",
      "starting epoch 230\n",
      "estimation error is 0.3109926686360221\n",
      "calculating optimal controller for estimated system\n"
     ]
    },
    {
     "name": "stderr",
     "output_type": "stream",
     "text": [
      "100%|██████████| 80/80 [00:00<00:00, 358.39it/s]\n",
      " 54%|█████▍    | 43/80 [00:00<00:00, 425.48it/s]"
     ]
    },
    {
     "name": "stdout",
     "output_type": "stream",
     "text": [
      "new feedback gain is 1.1328601709421413\n",
      "with cost of 0.6653623256029785\n",
      "starting epoch 231\n",
      "estimation error is 0.3099348459382413\n",
      "calculating optimal controller for estimated system\n"
     ]
    },
    {
     "name": "stderr",
     "output_type": "stream",
     "text": [
      "100%|██████████| 80/80 [00:00<00:00, 427.66it/s]\n",
      " 54%|█████▍    | 43/80 [00:00<00:00, 422.27it/s]"
     ]
    },
    {
     "name": "stdout",
     "output_type": "stream",
     "text": [
      "new feedback gain is 1.0828652930884335\n",
      "with cost of 0.6687114434720445\n",
      "starting epoch 232\n",
      "estimation error is 0.3090463884117957\n",
      "calculating optimal controller for estimated system\n"
     ]
    },
    {
     "name": "stderr",
     "output_type": "stream",
     "text": [
      "100%|██████████| 80/80 [00:00<00:00, 496.25it/s]\n",
      "  0%|          | 0/80 [00:00<?, ?it/s]"
     ]
    },
    {
     "name": "stdout",
     "output_type": "stream",
     "text": [
      "new feedback gain is 1.0378699030200964\n",
      "with cost of 0.6717546076944803\n",
      "starting epoch 233\n",
      "estimation error is 0.3084070827664092\n",
      "calculating optimal controller for estimated system\n"
     ]
    },
    {
     "name": "stderr",
     "output_type": "stream",
     "text": [
      "100%|██████████| 80/80 [00:00<00:00, 486.45it/s]\n",
      " 54%|█████▍    | 43/80 [00:00<00:00, 389.27it/s]"
     ]
    },
    {
     "name": "stdout",
     "output_type": "stream",
     "text": [
      "new feedback gain is 0.9973740519585931\n",
      "with cost of 0.6745172343273325\n",
      "starting epoch 234\n",
      "estimation error is 0.3074604468061937\n",
      "calculating optimal controller for estimated system\n"
     ]
    },
    {
     "name": "stderr",
     "output_type": "stream",
     "text": [
      "100%|██████████| 80/80 [00:00<00:00, 395.63it/s]\n",
      " 54%|█████▍    | 43/80 [00:00<00:00, 410.03it/s]"
     ]
    },
    {
     "name": "stdout",
     "output_type": "stream",
     "text": [
      "new feedback gain is 0.9609277860032401\n",
      "with cost of 0.677023098551443\n",
      "starting epoch 235\n",
      "estimation error is 0.3064107126651711\n",
      "calculating optimal controller for estimated system\n"
     ]
    },
    {
     "name": "stderr",
     "output_type": "stream",
     "text": [
      "100%|██████████| 80/80 [00:00<00:00, 430.33it/s]\n",
      " 55%|█████▌    | 44/80 [00:00<00:00, 360.95it/s]"
     ]
    },
    {
     "name": "stdout",
     "output_type": "stream",
     "text": [
      "new feedback gain is 0.9281261466434225\n",
      "with cost of 0.6792943488439508\n",
      "starting epoch 236\n",
      "estimation error is 0.3050497263097105\n",
      "calculating optimal controller for estimated system\n"
     ]
    },
    {
     "name": "stderr",
     "output_type": "stream",
     "text": [
      "100%|██████████| 80/80 [00:00<00:00, 467.59it/s]\n",
      " 54%|█████▍    | 43/80 [00:00<00:00, 405.19it/s]"
     ]
    },
    {
     "name": "stdout",
     "output_type": "stream",
     "text": [
      "new feedback gain is 0.8986046712195866\n",
      "with cost of 0.6813515429116345\n",
      "starting epoch 237\n",
      "estimation error is 0.3042387720452512\n",
      "calculating optimal controller for estimated system\n"
     ]
    },
    {
     "name": "stderr",
     "output_type": "stream",
     "text": [
      "100%|██████████| 80/80 [00:00<00:00, 404.19it/s]\n",
      " 55%|█████▌    | 44/80 [00:00<00:00, 435.40it/s]"
     ]
    },
    {
     "name": "stdout",
     "output_type": "stream",
     "text": [
      "new feedback gain is 0.8720353433381344\n",
      "with cost of 0.6832137000985381\n",
      "starting epoch 238\n",
      "estimation error is 0.303888639576314\n",
      "calculating optimal controller for estimated system\n"
     ]
    },
    {
     "name": "stderr",
     "output_type": "stream",
     "text": [
      "100%|██████████| 80/80 [00:00<00:00, 642.63it/s]\n",
      " 55%|█████▌    | 44/80 [00:00<00:00, 409.10it/s]"
     ]
    },
    {
     "name": "stdout",
     "output_type": "stream",
     "text": [
      "new feedback gain is 0.9747052267258406\n",
      "with cost of 0.6760736443899663\n",
      "starting epoch 239\n",
      "estimation error is 0.3031296535104308\n",
      "calculating optimal controller for estimated system\n"
     ]
    },
    {
     "name": "stderr",
     "output_type": "stream",
     "text": [
      "100%|██████████| 80/80 [00:00<00:00, 450.40it/s]\n",
      " 55%|█████▌    | 44/80 [00:00<00:00, 421.03it/s]"
     ]
    },
    {
     "name": "stdout",
     "output_type": "stream",
     "text": [
      "new feedback gain is 1.0671081217747762\n",
      "with cost of 0.6697740029697195\n",
      "starting epoch 240\n",
      "estimation error is 0.302272449714289\n",
      "calculating optimal controller for estimated system\n"
     ]
    },
    {
     "name": "stderr",
     "output_type": "stream",
     "text": [
      "100%|██████████| 80/80 [00:00<00:00, 476.07it/s]\n",
      " 55%|█████▌    | 44/80 [00:00<00:00, 436.59it/s]"
     ]
    },
    {
     "name": "stdout",
     "output_type": "stream",
     "text": [
      "new feedback gain is 1.1502707273188184\n",
      "with cost of 0.6642038678096279\n",
      "starting epoch 241\n",
      "estimation error is 0.30139000503179886\n",
      "calculating optimal controller for estimated system\n"
     ]
    },
    {
     "name": "stderr",
     "output_type": "stream",
     "text": [
      "100%|██████████| 80/80 [00:00<00:00, 497.35it/s]\n",
      " 56%|█████▋    | 45/80 [00:00<00:00, 431.66it/s]"
     ]
    },
    {
     "name": "stdout",
     "output_type": "stream",
     "text": [
      "new feedback gain is 1.2251170723084561\n",
      "with cost of 0.6592693711893708\n",
      "starting epoch 242\n",
      "estimation error is 0.2997500512280771\n",
      "calculating optimal controller for estimated system\n"
     ]
    },
    {
     "name": "stderr",
     "output_type": "stream",
     "text": [
      "100%|██████████| 80/80 [00:00<00:00, 638.72it/s]\n",
      " 55%|█████▌    | 44/80 [00:00<00:00, 412.76it/s]"
     ]
    },
    {
     "name": "stdout",
     "output_type": "stream",
     "text": [
      "new feedback gain is 1.4190610612801429\n",
      "with cost of 0.646817659654245\n",
      "starting epoch 243\n",
      "estimation error is 0.2990310050407043\n",
      "calculating optimal controller for estimated system\n"
     ]
    },
    {
     "name": "stderr",
     "output_type": "stream",
     "text": [
      "100%|██████████| 80/80 [00:00<00:00, 475.60it/s]\n",
      " 55%|█████▌    | 44/80 [00:00<00:00, 424.54it/s]"
     ]
    },
    {
     "name": "stdout",
     "output_type": "stream",
     "text": [
      "new feedback gain is 1.4670283728736484\n",
      "with cost of 0.6438102465307274\n",
      "starting epoch 244\n",
      "estimation error is 0.2981238208862531\n",
      "calculating optimal controller for estimated system\n"
     ]
    },
    {
     "name": "stderr",
     "output_type": "stream",
     "text": [
      "100%|██████████| 80/80 [00:00<00:00, 469.69it/s]\n",
      "  0%|          | 0/80 [00:00<?, ?it/s]"
     ]
    },
    {
     "name": "stdout",
     "output_type": "stream",
     "text": [
      "new feedback gain is 1.5101989533078033\n",
      "with cost of 0.6411273862257212\n",
      "starting epoch 245\n",
      "estimation error is 0.29700276186245045\n",
      "calculating optimal controller for estimated system\n"
     ]
    },
    {
     "name": "stderr",
     "output_type": "stream",
     "text": [
      "100%|██████████| 80/80 [00:00<00:00, 430.88it/s]\n",
      "  0%|          | 0/80 [00:00<?, ?it/s]"
     ]
    },
    {
     "name": "stdout",
     "output_type": "stream",
     "text": [
      "new feedback gain is 1.4224701972175293\n",
      "with cost of 0.646602989407888\n",
      "starting epoch 246\n",
      "estimation error is 0.2964592701351673\n",
      "calculating optimal controller for estimated system\n"
     ]
    },
    {
     "name": "stderr",
     "output_type": "stream",
     "text": [
      "100%|██████████| 80/80 [00:00<00:00, 529.49it/s]\n",
      " 55%|█████▌    | 44/80 [00:00<00:00, 439.92it/s]"
     ]
    },
    {
     "name": "stdout",
     "output_type": "stream",
     "text": [
      "new feedback gain is 1.4700965952172962\n",
      "with cost of 0.6436188291308563\n",
      "starting epoch 247\n",
      "estimation error is 0.2955218230806052\n",
      "calculating optimal controller for estimated system\n"
     ]
    },
    {
     "name": "stderr",
     "output_type": "stream",
     "text": [
      "100%|██████████| 80/80 [00:00<00:00, 508.84it/s]\n",
      " 55%|█████▌    | 44/80 [00:00<00:00, 427.74it/s]"
     ]
    },
    {
     "name": "stdout",
     "output_type": "stream",
     "text": [
      "new feedback gain is 1.5129603534170863\n",
      "with cost of 0.6409565381045498\n",
      "starting epoch 248\n",
      "estimation error is 0.2945098168714263\n",
      "calculating optimal controller for estimated system\n"
     ]
    },
    {
     "name": "stderr",
     "output_type": "stream",
     "text": [
      "100%|██████████| 80/80 [00:00<00:00, 488.00it/s]\n",
      "  0%|          | 0/80 [00:00<?, ?it/s]"
     ]
    },
    {
     "name": "stdout",
     "output_type": "stream",
     "text": [
      "new feedback gain is 1.5515377357968974\n",
      "with cost of 0.6385792375547488\n",
      "starting epoch 249\n",
      "estimation error is 0.29323612934898646\n",
      "calculating optimal controller for estimated system\n"
     ]
    },
    {
     "name": "stderr",
     "output_type": "stream",
     "text": [
      "100%|██████████| 80/80 [00:00<00:00, 505.12it/s]\n",
      "  0%|          | 0/80 [00:00<?, ?it/s]"
     ]
    },
    {
     "name": "stdout",
     "output_type": "stream",
     "text": [
      "new feedback gain is 1.5862573799387274\n",
      "with cost of 0.6364546946178418\n",
      "starting epoch 250\n",
      "estimation error is 0.292879154896644\n",
      "calculating optimal controller for estimated system\n"
     ]
    },
    {
     "name": "stderr",
     "output_type": "stream",
     "text": [
      "100%|██████████| 80/80 [00:00<00:00, 474.87it/s]\n",
      " 55%|█████▌    | 44/80 [00:00<00:00, 381.07it/s]"
     ]
    },
    {
     "name": "stdout",
     "output_type": "stream",
     "text": [
      "new feedback gain is 1.6175050596663745\n",
      "with cost of 0.6345546567192419\n",
      "starting epoch 251\n",
      "estimation error is 0.2918501594131035\n",
      "calculating optimal controller for estimated system\n"
     ]
    },
    {
     "name": "stderr",
     "output_type": "stream",
     "text": [
      "100%|██████████| 80/80 [00:00<00:00, 472.52it/s]\n",
      " 55%|█████▌    | 44/80 [00:00<00:00, 409.74it/s]"
     ]
    },
    {
     "name": "stdout",
     "output_type": "stream",
     "text": [
      "new feedback gain is 1.645627971421257\n",
      "with cost of 0.6328542962041525\n",
      "starting epoch 252\n",
      "estimation error is 0.29068184101921973\n",
      "calculating optimal controller for estimated system\n"
     ]
    },
    {
     "name": "stderr",
     "output_type": "stream",
     "text": [
      "100%|██████████| 80/80 [00:00<00:00, 484.68it/s]\n",
      " 55%|█████▌    | 44/80 [00:00<00:00, 412.24it/s]"
     ]
    },
    {
     "name": "stdout",
     "output_type": "stream",
     "text": [
      "new feedback gain is 1.6709385920006508\n",
      "with cost of 0.631331744281039\n",
      "starting epoch 253\n",
      "estimation error is 0.28917414649990797\n",
      "calculating optimal controller for estimated system\n"
     ]
    },
    {
     "name": "stderr",
     "output_type": "stream",
     "text": [
      "100%|██████████| 80/80 [00:00<00:00, 465.25it/s]\n",
      "  0%|          | 0/80 [00:00<?, ?it/s]"
     ]
    },
    {
     "name": "stdout",
     "output_type": "stream",
     "text": [
      "new feedback gain is 1.6937181505221055\n",
      "with cost of 0.6299676977983311\n",
      "starting epoch 254\n",
      "estimation error is 0.28776298564604413\n",
      "calculating optimal controller for estimated system\n"
     ]
    },
    {
     "name": "stderr",
     "output_type": "stream",
     "text": [
      "100%|██████████| 80/80 [00:00<00:00, 450.12it/s]\n",
      " 55%|█████▌    | 44/80 [00:00<00:00, 437.43it/s]"
     ]
    },
    {
     "name": "stdout",
     "output_type": "stream",
     "text": [
      "new feedback gain is 1.7142197531914145\n",
      "with cost of 0.628745085792033\n",
      "starting epoch 255\n",
      "estimation error is 0.2869647464260149\n",
      "calculating optimal controller for estimated system\n"
     ]
    },
    {
     "name": "stderr",
     "output_type": "stream",
     "text": [
      "100%|██████████| 80/80 [00:00<00:00, 506.38it/s]\n",
      " 55%|█████▌    | 44/80 [00:00<00:00, 423.01it/s]"
     ]
    },
    {
     "name": "stdout",
     "output_type": "stream",
     "text": [
      "new feedback gain is 1.7326711955937926\n",
      "with cost of 0.627648785379991\n",
      "starting epoch 256\n",
      "estimation error is 0.28579962957471344\n",
      "calculating optimal controller for estimated system\n"
     ]
    },
    {
     "name": "stderr",
     "output_type": "stream",
     "text": [
      "100%|██████████| 80/80 [00:00<00:00, 486.19it/s]\n",
      " 55%|█████▌    | 44/80 [00:00<00:00, 409.94it/s]"
     ]
    },
    {
     "name": "stdout",
     "output_type": "stream",
     "text": [
      "new feedback gain is 1.7492774937559332\n",
      "with cost of 0.6266653786297897\n",
      "starting epoch 257\n",
      "estimation error is 0.2850696732822795\n",
      "calculating optimal controller for estimated system\n"
     ]
    },
    {
     "name": "stderr",
     "output_type": "stream",
     "text": [
      "100%|██████████| 80/80 [00:00<00:00, 484.28it/s]\n",
      " 55%|█████▌    | 44/80 [00:00<00:00, 407.98it/s]"
     ]
    },
    {
     "name": "stdout",
     "output_type": "stream",
     "text": [
      "new feedback gain is 1.7642231621018598\n",
      "with cost of 0.6257829436331194\n",
      "starting epoch 258\n",
      "estimation error is 0.2842951476003687\n",
      "calculating optimal controller for estimated system\n"
     ]
    },
    {
     "name": "stderr",
     "output_type": "stream",
     "text": [
      "100%|██████████| 80/80 [00:00<00:00, 504.13it/s]\n",
      " 55%|█████▌    | 44/80 [00:00<00:00, 424.89it/s]"
     ]
    },
    {
     "name": "stdout",
     "output_type": "stream",
     "text": [
      "new feedback gain is 1.7776742636131937\n",
      "with cost of 0.6249908742848066\n",
      "starting epoch 259\n",
      "estimation error is 0.2828580949694339\n",
      "calculating optimal controller for estimated system\n"
     ]
    },
    {
     "name": "stderr",
     "output_type": "stream",
     "text": [
      "100%|██████████| 80/80 [00:00<00:00, 496.42it/s]\n",
      " 56%|█████▋    | 45/80 [00:00<00:00, 361.89it/s]"
     ]
    },
    {
     "name": "stdout",
     "output_type": "stream",
     "text": [
      "new feedback gain is 1.7897802549733939\n",
      "with cost of 0.6242797242679241\n",
      "starting epoch 260\n",
      "estimation error is 0.28197719066496707\n",
      "calculating optimal controller for estimated system\n"
     ]
    },
    {
     "name": "stderr",
     "output_type": "stream",
     "text": [
      "100%|██████████| 80/80 [00:00<00:00, 548.84it/s]\n",
      " 55%|█████▌    | 44/80 [00:00<00:00, 416.69it/s]"
     ]
    },
    {
     "name": "stdout",
     "output_type": "stream",
     "text": [
      "new feedback gain is 1.8006756471975742\n",
      "with cost of 0.6236410715465389\n",
      "starting epoch 261\n",
      "estimation error is 0.28107990922976656\n",
      "calculating optimal controller for estimated system\n"
     ]
    },
    {
     "name": "stderr",
     "output_type": "stream",
     "text": [
      "100%|██████████| 80/80 [00:00<00:00, 466.49it/s]\n",
      "100%|██████████| 80/80 [00:00<00:00, 555.07it/s]"
     ]
    },
    {
     "name": "stdout",
     "output_type": "stream",
     "text": [
      "new feedback gain is 1.8104815001993364\n",
      "with cost of 0.6230674003094143\n",
      "starting epoch 262\n",
      "estimation error is 0.28018450864199906\n",
      "calculating optimal controller for estimated system\n",
      "new feedback gain is 1.8193067679009225\n",
      "with cost of 0.6225519978255898\n"
     ]
    },
    {
     "name": "stderr",
     "output_type": "stream",
     "text": [
      "\n",
      " 55%|█████▌    | 44/80 [00:00<00:00, 402.40it/s]"
     ]
    },
    {
     "name": "stdout",
     "output_type": "stream",
     "text": [
      "starting epoch 263\n",
      "estimation error is 0.2792251098648763\n",
      "calculating optimal controller for estimated system\n"
     ]
    },
    {
     "name": "stderr",
     "output_type": "stream",
     "text": [
      "100%|██████████| 80/80 [00:00<00:00, 462.16it/s]\n",
      " 55%|█████▌    | 44/80 [00:00<00:00, 435.81it/s]"
     ]
    },
    {
     "name": "stdout",
     "output_type": "stream",
     "text": [
      "new feedback gain is 1.8272495088323502\n",
      "with cost of 0.6220888640923878\n",
      "starting epoch 264\n",
      "estimation error is 0.27841312886989067\n",
      "calculating optimal controller for estimated system\n"
     ]
    },
    {
     "name": "stderr",
     "output_type": "stream",
     "text": [
      "100%|██████████| 80/80 [00:00<00:00, 504.03it/s]\n",
      " 55%|█████▌    | 44/80 [00:00<00:00, 405.16it/s]"
     ]
    },
    {
     "name": "stdout",
     "output_type": "stream",
     "text": [
      "new feedback gain is 1.834397975670635\n",
      "with cost of 0.6216726324983815\n",
      "starting epoch 265\n",
      "estimation error is 0.27751650173242404\n",
      "calculating optimal controller for estimated system\n"
     ]
    },
    {
     "name": "stderr",
     "output_type": "stream",
     "text": [
      "100%|██████████| 80/80 [00:00<00:00, 470.80it/s]\n",
      " 55%|█████▌    | 44/80 [00:00<00:00, 413.66it/s]"
     ]
    },
    {
     "name": "stdout",
     "output_type": "stream",
     "text": [
      "new feedback gain is 1.8408315958250911\n",
      "with cost of 0.6212985000039049\n",
      "starting epoch 266\n",
      "estimation error is 0.2766177348508065\n",
      "calculating optimal controller for estimated system\n"
     ]
    },
    {
     "name": "stderr",
     "output_type": "stream",
     "text": [
      "100%|██████████| 80/80 [00:00<00:00, 470.82it/s]\n",
      " 56%|█████▋    | 45/80 [00:00<00:00, 376.54it/s]"
     ]
    },
    {
     "name": "stdout",
     "output_type": "stream",
     "text": [
      "new feedback gain is 1.846621853964102\n",
      "with cost of 0.6209621655721592\n",
      "starting epoch 267\n",
      "estimation error is 0.275229791929574\n",
      "calculating optimal controller for estimated system\n"
     ]
    },
    {
     "name": "stderr",
     "output_type": "stream",
     "text": [
      "100%|██████████| 80/80 [00:00<00:00, 572.13it/s]\n",
      "  0%|          | 0/80 [00:00<?, ?it/s]"
     ]
    },
    {
     "name": "stdout",
     "output_type": "stream",
     "text": [
      "new feedback gain is 1.8518330862892114\n",
      "with cost of 0.6206597757745141\n",
      "starting epoch 268\n",
      "estimation error is 0.2740912691775137\n",
      "calculating optimal controller for estimated system\n"
     ]
    },
    {
     "name": "stderr",
     "output_type": "stream",
     "text": [
      "100%|██████████| 80/80 [00:00<00:00, 471.25it/s]\n",
      " 55%|█████▌    | 44/80 [00:00<00:00, 411.20it/s]"
     ]
    },
    {
     "name": "stdout",
     "output_type": "stream",
     "text": [
      "new feedback gain is 1.85652319538181\n",
      "with cost of 0.6203878766518388\n",
      "starting epoch 269\n",
      "estimation error is 0.27326406169953\n",
      "calculating optimal controller for estimated system\n"
     ]
    },
    {
     "name": "stderr",
     "output_type": "stream",
     "text": [
      "100%|██████████| 80/80 [00:00<00:00, 465.03it/s]\n",
      " 55%|█████▌    | 44/80 [00:00<00:00, 405.50it/s]"
     ]
    },
    {
     "name": "stdout",
     "output_type": "stream",
     "text": [
      "new feedback gain is 1.8607442935651486\n",
      "with cost of 0.6201433710457216\n",
      "starting epoch 270\n",
      "estimation error is 0.27213435925381485\n",
      "calculating optimal controller for estimated system\n"
     ]
    },
    {
     "name": "stderr",
     "output_type": "stream",
     "text": [
      "100%|██████████| 80/80 [00:00<00:00, 465.98it/s]\n",
      " 56%|█████▋    | 45/80 [00:00<00:00, 367.76it/s]"
     ]
    },
    {
     "name": "stdout",
     "output_type": "stream",
     "text": [
      "new feedback gain is 1.8645432819301533\n",
      "with cost of 0.6199234807240452\n",
      "starting epoch 271\n",
      "estimation error is 0.2714937762016973\n",
      "calculating optimal controller for estimated system\n"
     ]
    },
    {
     "name": "stderr",
     "output_type": "stream",
     "text": [
      "100%|██████████| 80/80 [00:00<00:00, 560.83it/s]\n",
      " 55%|█████▌    | 44/80 [00:00<00:00, 432.98it/s]"
     ]
    },
    {
     "name": "stdout",
     "output_type": "stream",
     "text": [
      "new feedback gain is 1.8679623714586575\n",
      "with cost of 0.6197257127184284\n",
      "starting epoch 272\n",
      "estimation error is 0.2706581589284424\n",
      "calculating optimal controller for estimated system\n"
     ]
    },
    {
     "name": "stderr",
     "output_type": "stream",
     "text": [
      "100%|██████████| 80/80 [00:00<00:00, 524.89it/s]\n",
      "  0%|          | 0/80 [00:00<?, ?it/s]"
     ]
    },
    {
     "name": "stdout",
     "output_type": "stream",
     "text": [
      "new feedback gain is 1.8710395520343113\n",
      "with cost of 0.6195478293696478\n",
      "starting epoch 273\n",
      "estimation error is 0.2695355954375224\n",
      "calculating optimal controller for estimated system\n"
     ]
    },
    {
     "name": "stderr",
     "output_type": "stream",
     "text": [
      "100%|██████████| 80/80 [00:00<00:00, 507.88it/s]\n",
      "  0%|          | 0/80 [00:00<?, ?it/s]"
     ]
    },
    {
     "name": "stdout",
     "output_type": "stream",
     "text": [
      "new feedback gain is 1.8738090145523998\n",
      "with cost of 0.6193878216438392\n",
      "starting epoch 274\n",
      "estimation error is 0.2688784992683261\n",
      "calculating optimal controller for estimated system\n"
     ]
    },
    {
     "name": "stderr",
     "output_type": "stream",
     "text": [
      "100%|██████████| 80/80 [00:00<00:00, 434.47it/s]\n",
      " 55%|█████▌    | 44/80 [00:00<00:00, 428.17it/s]"
     ]
    },
    {
     "name": "stdout",
     "output_type": "stream",
     "text": [
      "new feedback gain is 1.8763015308186795\n",
      "with cost of 0.6192438853389968\n",
      "starting epoch 275\n",
      "estimation error is 0.26794076990891136\n",
      "calculating optimal controller for estimated system\n"
     ]
    },
    {
     "name": "stderr",
     "output_type": "stream",
     "text": [
      "100%|██████████| 80/80 [00:00<00:00, 421.43it/s]\n",
      " 56%|█████▋    | 45/80 [00:00<00:00, 375.60it/s]"
     ]
    },
    {
     "name": "stdout",
     "output_type": "stream",
     "text": [
      "new feedback gain is 1.8785447954583314\n",
      "with cost of 0.619114399849797\n",
      "starting epoch 276\n",
      "estimation error is 0.2668111047658037\n",
      "calculating optimal controller for estimated system\n"
     ]
    },
    {
     "name": "stderr",
     "output_type": "stream",
     "text": [
      "100%|██████████| 80/80 [00:00<00:00, 431.19it/s]\n",
      " 55%|█████▌    | 44/80 [00:00<00:00, 428.57it/s]"
     ]
    },
    {
     "name": "stdout",
     "output_type": "stream",
     "text": [
      "new feedback gain is 1.880563733634018\n",
      "with cost of 0.6189979092003355\n",
      "starting epoch 277\n",
      "estimation error is 0.26598189031708824\n",
      "calculating optimal controller for estimated system\n"
     ]
    },
    {
     "name": "stderr",
     "output_type": "stream",
     "text": [
      "100%|██████████| 80/80 [00:00<00:00, 422.72it/s]\n",
      "  0%|          | 0/80 [00:00<?, ?it/s]"
     ]
    },
    {
     "name": "stdout",
     "output_type": "stream",
     "text": [
      "new feedback gain is 1.882380777992136\n",
      "with cost of 0.6188931050901436\n",
      "starting epoch 278\n",
      "estimation error is 0.2650136572689729\n",
      "calculating optimal controller for estimated system\n"
     ]
    },
    {
     "name": "stderr",
     "output_type": "stream",
     "text": [
      "100%|██████████| 80/80 [00:00<00:00, 324.96it/s]\n",
      " 55%|█████▌    | 44/80 [00:00<00:00, 407.36it/s]"
     ]
    },
    {
     "name": "stdout",
     "output_type": "stream",
     "text": [
      "new feedback gain is 1.7574338394334286\n",
      "with cost of 0.6261834964105848\n",
      "starting epoch 279\n",
      "estimation error is 0.2641667262421299\n",
      "calculating optimal controller for estimated system\n"
     ]
    },
    {
     "name": "stderr",
     "output_type": "stream",
     "text": [
      "100%|██████████| 80/80 [00:00<00:00, 419.75it/s]\n",
      "  0%|          | 0/80 [00:00<?, ?it/s]"
     ]
    },
    {
     "name": "stdout",
     "output_type": "stream",
     "text": [
      "new feedback gain is 1.7715638732116052\n",
      "with cost of 0.6253504365032736\n",
      "starting epoch 280\n",
      "estimation error is 0.26340943413421686\n",
      "calculating optimal controller for estimated system\n"
     ]
    },
    {
     "name": "stderr",
     "output_type": "stream",
     "text": [
      "100%|██████████| 80/80 [00:00<00:00, 355.86it/s]\n",
      " 55%|█████▌    | 44/80 [00:00<00:00, 433.15it/s]"
     ]
    },
    {
     "name": "stdout",
     "output_type": "stream",
     "text": [
      "new feedback gain is 1.7842809036119642\n",
      "with cost of 0.6246025754849616\n",
      "starting epoch 281\n",
      "estimation error is 0.2625290813098505\n",
      "calculating optimal controller for estimated system\n"
     ]
    },
    {
     "name": "stderr",
     "output_type": "stream",
     "text": [
      "100%|██████████| 80/80 [00:00<00:00, 418.85it/s]\n",
      " 56%|█████▋    | 45/80 [00:00<00:00, 441.39it/s]"
     ]
    },
    {
     "name": "stdout",
     "output_type": "stream",
     "text": [
      "new feedback gain is 1.7957262309722877\n",
      "with cost of 0.6239310283007753\n",
      "starting epoch 282\n",
      "estimation error is 0.2611619632134215\n",
      "calculating optimal controller for estimated system\n"
     ]
    },
    {
     "name": "stderr",
     "output_type": "stream",
     "text": [
      "100%|██████████| 80/80 [00:00<00:00, 484.30it/s]\n",
      " 56%|█████▋    | 45/80 [00:00<00:00, 430.15it/s]"
     ]
    },
    {
     "name": "stdout",
     "output_type": "stream",
     "text": [
      "new feedback gain is 1.9326093040775911\n",
      "with cost of 0.6160099912298834\n",
      "starting epoch 283\n",
      "estimation error is 0.2601536060468687\n",
      "calculating optimal controller for estimated system\n"
     ]
    },
    {
     "name": "stderr",
     "output_type": "stream",
     "text": [
      "100%|██████████| 80/80 [00:00<00:00, 491.79it/s]\n",
      " 56%|█████▋    | 45/80 [00:00<00:00, 446.13it/s]"
     ]
    },
    {
     "name": "stdout",
     "output_type": "stream",
     "text": [
      "new feedback gain is 2.0558040698723645\n",
      "with cost of 0.6090510737803738\n",
      "starting epoch 284\n",
      "estimation error is 0.25933574490034705\n",
      "calculating optimal controller for estimated system\n"
     ]
    },
    {
     "name": "stderr",
     "output_type": "stream",
     "text": [
      "100%|██████████| 80/80 [00:00<00:00, 498.85it/s]\n",
      " 56%|█████▋    | 45/80 [00:00<00:00, 416.84it/s]"
     ]
    },
    {
     "name": "stdout",
     "output_type": "stream",
     "text": [
      "new feedback gain is 2.1666793590876603\n",
      "with cost of 0.6029211236995118\n",
      "starting epoch 285\n",
      "estimation error is 0.25881272944417044\n",
      "calculating optimal controller for estimated system\n"
     ]
    },
    {
     "name": "stderr",
     "output_type": "stream",
     "text": [
      "100%|██████████| 80/80 [00:00<00:00, 447.40it/s]\n",
      "  0%|          | 0/80 [00:00<?, ?it/s]"
     ]
    },
    {
     "name": "stdout",
     "output_type": "stream",
     "text": [
      "new feedback gain is 2.2664671193814265\n",
      "with cost of 0.5975087224750534\n",
      "starting epoch 286\n",
      "estimation error is 0.258135624510979\n",
      "calculating optimal controller for estimated system\n"
     ]
    },
    {
     "name": "stderr",
     "output_type": "stream",
     "text": [
      "100%|██████████| 80/80 [00:00<00:00, 503.82it/s]\n",
      "  0%|          | 0/80 [00:00<?, ?it/s]"
     ]
    },
    {
     "name": "stdout",
     "output_type": "stream",
     "text": [
      "new feedback gain is 2.356276103645816\n",
      "with cost of 0.5927199791497183\n",
      "starting epoch 287\n",
      "estimation error is 0.25763191547274245\n",
      "calculating optimal controller for estimated system\n"
     ]
    },
    {
     "name": "stderr",
     "output_type": "stream",
     "text": [
      "100%|██████████| 80/80 [00:00<00:00, 527.98it/s]\n",
      "  0%|          | 0/80 [00:00<?, ?it/s]"
     ]
    },
    {
     "name": "stdout",
     "output_type": "stream",
     "text": [
      "new feedback gain is 2.437104189483767\n",
      "with cost of 0.5884752690397814\n",
      "starting epoch 288\n",
      "estimation error is 0.25681207936238326\n",
      "calculating optimal controller for estimated system\n"
     ]
    },
    {
     "name": "stderr",
     "output_type": "stream",
     "text": [
      "100%|██████████| 80/80 [00:00<00:00, 490.92it/s]\n",
      " 56%|█████▋    | 45/80 [00:00<00:00, 438.53it/s]"
     ]
    },
    {
     "name": "stdout",
     "output_type": "stream",
     "text": [
      "new feedback gain is 2.509849466737923\n",
      "with cost of 0.5847066778152921\n",
      "starting epoch 289\n",
      "estimation error is 0.256185867734746\n",
      "calculating optimal controller for estimated system\n"
     ]
    },
    {
     "name": "stderr",
     "output_type": "stream",
     "text": [
      "100%|██████████| 80/80 [00:00<00:00, 475.68it/s]\n",
      " 56%|█████▋    | 45/80 [00:00<00:00, 444.71it/s]"
     ]
    },
    {
     "name": "stdout",
     "output_type": "stream",
     "text": [
      "new feedback gain is 2.5753202162666633\n",
      "with cost of 0.5813559784088417\n",
      "starting epoch 290\n",
      "estimation error is 0.255719279004228\n",
      "calculating optimal controller for estimated system\n"
     ]
    },
    {
     "name": "stderr",
     "output_type": "stream",
     "text": [
      "100%|██████████| 80/80 [00:00<00:00, 497.19it/s]\n",
      " 56%|█████▋    | 45/80 [00:00<00:00, 449.41it/s]"
     ]
    },
    {
     "name": "stdout",
     "output_type": "stream",
     "text": [
      "new feedback gain is 2.6342438908425296\n",
      "with cost of 0.5783730148614443\n",
      "starting epoch 291\n",
      "estimation error is 0.2549994273595017\n",
      "calculating optimal controller for estimated system\n"
     ]
    },
    {
     "name": "stderr",
     "output_type": "stream",
     "text": [
      "100%|██████████| 80/80 [00:00<00:00, 500.95it/s]\n",
      "  0%|          | 0/80 [00:00<?, ?it/s]"
     ]
    },
    {
     "name": "stdout",
     "output_type": "stream",
     "text": [
      "new feedback gain is 2.687275197960809\n",
      "with cost of 0.5757144001403439\n",
      "starting epoch 292\n",
      "estimation error is 0.2540262658246404\n",
      "calculating optimal controller for estimated system\n"
     ]
    },
    {
     "name": "stderr",
     "output_type": "stream",
     "text": [
      "100%|██████████| 80/80 [00:00<00:00, 459.60it/s]\n",
      " 55%|█████▌    | 44/80 [00:00<00:00, 407.69it/s]"
     ]
    },
    {
     "name": "stdout",
     "output_type": "stream",
     "text": [
      "new feedback gain is 2.7350033743672606\n",
      "with cost of 0.5733424585124682\n",
      "starting epoch 293\n",
      "estimation error is 0.25252059476070526\n",
      "calculating optimal controller for estimated system\n"
     ]
    },
    {
     "name": "stderr",
     "output_type": "stream",
     "text": [
      "100%|██████████| 80/80 [00:00<00:00, 429.47it/s]\n",
      " 55%|█████▌    | 44/80 [00:00<00:00, 428.12it/s]"
     ]
    },
    {
     "name": "stdout",
     "output_type": "stream",
     "text": [
      "new feedback gain is 2.651376454652054\n",
      "with cost of 0.5775114282893884\n",
      "starting epoch 294\n",
      "estimation error is 0.2517608335218353\n",
      "calculating optimal controller for estimated system\n"
     ]
    },
    {
     "name": "stderr",
     "output_type": "stream",
     "text": [
      "100%|██████████| 80/80 [00:00<00:00, 405.83it/s]\n",
      "  0%|          | 0/80 [00:00<?, ?it/s]"
     ]
    },
    {
     "name": "stdout",
     "output_type": "stream",
     "text": [
      "new feedback gain is 2.5761122269083683\n",
      "with cost of 0.581315679512159\n",
      "starting epoch 295\n",
      "estimation error is 0.2506942663412563\n",
      "calculating optimal controller for estimated system\n"
     ]
    },
    {
     "name": "stderr",
     "output_type": "stream",
     "text": [
      "100%|██████████| 80/80 [00:00<00:00, 469.37it/s]\n",
      "  0%|          | 0/80 [00:00<?, ?it/s]"
     ]
    },
    {
     "name": "stdout",
     "output_type": "stream",
     "text": [
      "new feedback gain is 2.508374421939051\n",
      "with cost of 0.5847826134583913\n",
      "starting epoch 296\n",
      "estimation error is 0.25005262969677144\n",
      "calculating optimal controller for estimated system\n"
     ]
    },
    {
     "name": "stderr",
     "output_type": "stream",
     "text": [
      "100%|██████████| 80/80 [00:00<00:00, 408.49it/s]\n",
      " 55%|█████▌    | 44/80 [00:00<00:00, 417.07it/s]"
     ]
    },
    {
     "name": "stdout",
     "output_type": "stream",
     "text": [
      "new feedback gain is 2.4474103974666654\n",
      "with cost of 0.5879384017981767\n",
      "starting epoch 297\n",
      "estimation error is 0.24920508764736965\n",
      "calculating optimal controller for estimated system\n"
     ]
    },
    {
     "name": "stderr",
     "output_type": "stream",
     "text": [
      "100%|██████████| 80/80 [00:00<00:00, 430.18it/s]\n",
      "  0%|          | 0/80 [00:00<?, ?it/s]"
     ]
    },
    {
     "name": "stdout",
     "output_type": "stream",
     "text": [
      "new feedback gain is 2.3925427754415187\n",
      "with cost of 0.5908078751795185\n",
      "starting epoch 298\n",
      "estimation error is 0.2482184024409974\n",
      "calculating optimal controller for estimated system\n"
     ]
    },
    {
     "name": "stderr",
     "output_type": "stream",
     "text": [
      "100%|██████████| 80/80 [00:00<00:00, 444.78it/s]\n",
      " 55%|█████▌    | 44/80 [00:00<00:00, 429.51it/s]"
     ]
    },
    {
     "name": "stdout",
     "output_type": "stream",
     "text": [
      "new feedback gain is 2.3431619156188863\n",
      "with cost of 0.5934144548473412\n",
      "starting epoch 299\n",
      "estimation error is 0.24753388014401595\n",
      "calculating optimal controller for estimated system\n"
     ]
    },
    {
     "name": "stderr",
     "output_type": "stream",
     "text": [
      "100%|██████████| 80/80 [00:00<00:00, 413.38it/s]\n",
      "  0%|          | 0/80 [00:00<?, ?it/s]"
     ]
    },
    {
     "name": "stdout",
     "output_type": "stream",
     "text": [
      "new feedback gain is 2.298719141778517\n",
      "with cost of 0.595780119847616\n",
      "starting epoch 300\n",
      "estimation error is 0.24632933749947677\n",
      "calculating optimal controller for estimated system\n"
     ]
    },
    {
     "name": "stderr",
     "output_type": "stream",
     "text": [
      "100%|██████████| 80/80 [00:00<00:00, 423.78it/s]\n",
      " 55%|█████▌    | 44/80 [00:00<00:00, 405.31it/s]"
     ]
    },
    {
     "name": "stdout",
     "output_type": "stream",
     "text": [
      "new feedback gain is 2.258720645322185\n",
      "with cost of 0.5979254030785103\n",
      "starting epoch 301\n",
      "estimation error is 0.2456913411464262\n",
      "calculating optimal controller for estimated system\n"
     ]
    },
    {
     "name": "stderr",
     "output_type": "stream",
     "text": [
      "100%|██████████| 80/80 [00:00<00:00, 405.08it/s]\n",
      " 55%|█████▌    | 44/80 [00:00<00:00, 398.11it/s]"
     ]
    },
    {
     "name": "stdout",
     "output_type": "stream",
     "text": [
      "new feedback gain is 2.222721998511486\n",
      "with cost of 0.5998694102201394\n",
      "starting epoch 302\n",
      "estimation error is 0.24503989716148158\n",
      "calculating optimal controller for estimated system\n"
     ]
    },
    {
     "name": "stderr",
     "output_type": "stream",
     "text": [
      "100%|██████████| 80/80 [00:00<00:00, 400.19it/s]\n",
      " 56%|█████▋    | 45/80 [00:00<00:00, 428.97it/s]"
     ]
    },
    {
     "name": "stdout",
     "output_type": "stream",
     "text": [
      "new feedback gain is 2.190323216381857\n",
      "with cost of 0.6016298563530706\n",
      "starting epoch 303\n",
      "estimation error is 0.24432529061015124\n",
      "calculating optimal controller for estimated system\n"
     ]
    },
    {
     "name": "stderr",
     "output_type": "stream",
     "text": [
      "100%|██████████| 80/80 [00:00<00:00, 489.14it/s]\n",
      " 57%|█████▊    | 46/80 [00:00<00:00, 372.82it/s]"
     ]
    },
    {
     "name": "stdout",
     "output_type": "stream",
     "text": [
      "new feedback gain is 2.287746590946204\n",
      "with cost of 0.596367088944056\n",
      "starting epoch 304\n",
      "estimation error is 0.24383865564793594\n",
      "calculating optimal controller for estimated system\n"
     ]
    },
    {
     "name": "stderr",
     "output_type": "stream",
     "text": [
      "100%|██████████| 80/80 [00:00<00:00, 561.74it/s]\n",
      "  0%|          | 0/80 [00:00<?, ?it/s]"
     ]
    },
    {
     "name": "stdout",
     "output_type": "stream",
     "text": [
      "new feedback gain is 2.375427628054116\n",
      "with cost of 0.591708705170897\n",
      "starting epoch 305\n",
      "estimation error is 0.24340157574307555\n",
      "calculating optimal controller for estimated system\n"
     ]
    },
    {
     "name": "stderr",
     "output_type": "stream",
     "text": [
      "100%|██████████| 80/80 [00:00<00:00, 437.68it/s]\n",
      " 56%|█████▋    | 45/80 [00:00<00:00, 444.48it/s]"
     ]
    },
    {
     "name": "stdout",
     "output_type": "stream",
     "text": [
      "new feedback gain is 2.327758282970224\n",
      "with cost of 0.594232251732745\n",
      "starting epoch 306\n",
      "estimation error is 0.2425140368357932\n",
      "calculating optimal controller for estimated system\n"
     ]
    },
    {
     "name": "stderr",
     "output_type": "stream",
     "text": [
      "100%|██████████| 80/80 [00:00<00:00, 485.52it/s]\n",
      "  0%|          | 0/80 [00:00<?, ?it/s]"
     ]
    },
    {
     "name": "stdout",
     "output_type": "stream",
     "text": [
      "new feedback gain is 2.411438150875734\n",
      "with cost of 0.5898165258965191\n",
      "starting epoch 307\n",
      "estimation error is 0.24180926208135417\n",
      "calculating optimal controller for estimated system\n"
     ]
    },
    {
     "name": "stderr",
     "output_type": "stream",
     "text": [
      "100%|██████████| 80/80 [00:00<00:00, 528.61it/s]\n",
      "  0%|          | 0/80 [00:00<?, ?it/s]"
     ]
    },
    {
     "name": "stdout",
     "output_type": "stream",
     "text": [
      "new feedback gain is 2.486750031990693\n",
      "with cost of 0.585898110370881\n",
      "starting epoch 308\n",
      "estimation error is 0.24093232624126804\n",
      "calculating optimal controller for estimated system\n"
     ]
    },
    {
     "name": "stderr",
     "output_type": "stream",
     "text": [
      "100%|██████████| 80/80 [00:00<00:00, 476.21it/s]\n",
      " 56%|█████▋    | 45/80 [00:00<00:00, 418.01it/s]"
     ]
    },
    {
     "name": "stdout",
     "output_type": "stream",
     "text": [
      "new feedback gain is 2.554530724994156\n",
      "with cost of 0.582415786185496\n",
      "starting epoch 309\n",
      "estimation error is 0.23994399881034714\n",
      "calculating optimal controller for estimated system\n"
     ]
    },
    {
     "name": "stderr",
     "output_type": "stream",
     "text": [
      "100%|██████████| 80/80 [00:00<00:00, 464.66it/s]\n",
      "  0%|          | 0/80 [00:00<?, ?it/s]"
     ]
    },
    {
     "name": "stdout",
     "output_type": "stream",
     "text": [
      "new feedback gain is 2.615533348697273\n",
      "with cost of 0.5793168986989699\n",
      "starting epoch 310\n",
      "estimation error is 0.23931861828118178\n",
      "calculating optimal controller for estimated system\n"
     ]
    },
    {
     "name": "stderr",
     "output_type": "stream",
     "text": [
      "100%|██████████| 80/80 [00:00<00:00, 525.58it/s]\n",
      " 56%|█████▋    | 45/80 [00:00<00:00, 415.54it/s]"
     ]
    },
    {
     "name": "stdout",
     "output_type": "stream",
     "text": [
      "new feedback gain is 2.670435710030078\n",
      "with cost of 0.5765559607488269\n",
      "starting epoch 311\n",
      "estimation error is 0.238768217721586\n",
      "calculating optimal controller for estimated system\n"
     ]
    },
    {
     "name": "stderr",
     "output_type": "stream",
     "text": [
      "100%|██████████| 80/80 [00:00<00:00, 475.44it/s]\n",
      " 56%|█████▋    | 45/80 [00:00<00:00, 434.48it/s]"
     ]
    },
    {
     "name": "stdout",
     "output_type": "stream",
     "text": [
      "new feedback gain is 2.719847835229603\n",
      "with cost of 0.5740935210487611\n",
      "starting epoch 312\n",
      "estimation error is 0.23805282430132876\n",
      "calculating optimal controller for estimated system\n"
     ]
    },
    {
     "name": "stderr",
     "output_type": "stream",
     "text": [
      "100%|██████████| 80/80 [00:00<00:00, 474.23it/s]\n",
      " 56%|█████▋    | 45/80 [00:00<00:00, 447.62it/s]"
     ]
    },
    {
     "name": "stdout",
     "output_type": "stream",
     "text": [
      "new feedback gain is 2.7643187479091753\n",
      "with cost of 0.5718952404373661\n",
      "starting epoch 313\n",
      "estimation error is 0.2373718868287642\n",
      "calculating optimal controller for estimated system\n"
     ]
    },
    {
     "name": "stderr",
     "output_type": "stream",
     "text": [
      "100%|██████████| 80/80 [00:00<00:00, 496.59it/s]\n",
      "  0%|          | 0/80 [00:00<?, ?it/s]"
     ]
    },
    {
     "name": "stdout",
     "output_type": "stream",
     "text": [
      "new feedback gain is 2.80434256932079\n",
      "with cost of 0.5699311323939672\n",
      "starting epoch 314\n",
      "estimation error is 0.23684024937257975\n",
      "calculating optimal controller for estimated system\n"
     ]
    },
    {
     "name": "stderr",
     "output_type": "stream",
     "text": [
      "100%|██████████| 80/80 [00:00<00:00, 497.65it/s]\n",
      "  0%|          | 0/80 [00:00<?, ?it/s]"
     ]
    },
    {
     "name": "stdout",
     "output_type": "stream",
     "text": [
      "new feedback gain is 2.840364008591244\n",
      "with cost of 0.5681749344194789\n",
      "starting epoch 315\n",
      "estimation error is 0.23605894801776278\n",
      "calculating optimal controller for estimated system\n"
     ]
    },
    {
     "name": "stderr",
     "output_type": "stream",
     "text": [
      "100%|██████████| 80/80 [00:00<00:00, 493.34it/s]\n",
      " 57%|█████▊    | 46/80 [00:00<00:00, 412.33it/s]"
     ]
    },
    {
     "name": "stdout",
     "output_type": "stream",
     "text": [
      "new feedback gain is 2.8727833039346518\n",
      "with cost of 0.5666035844620351\n",
      "starting epoch 316\n",
      "estimation error is 0.23539753928741788\n",
      "calculating optimal controller for estimated system\n"
     ]
    },
    {
     "name": "stderr",
     "output_type": "stream",
     "text": [
      "100%|██████████| 80/80 [00:00<00:00, 601.84it/s]\n",
      " 60%|██████    | 48/80 [00:00<00:00, 479.59it/s]"
     ]
    },
    {
     "name": "stdout",
     "output_type": "stream",
     "text": [
      "new feedback gain is 3.0285429482247315\n",
      "with cost of 0.5591735835052126\n",
      "starting epoch 317\n",
      "estimation error is 0.2350096484334317\n",
      "calculating optimal controller for estimated system\n"
     ]
    },
    {
     "name": "stderr",
     "output_type": "stream",
     "text": [
      "100%|██████████| 80/80 [00:00<00:00, 665.95it/s]\n",
      " 56%|█████▋    | 45/80 [00:00<00:00, 420.15it/s]"
     ]
    },
    {
     "name": "stdout",
     "output_type": "stream",
     "text": [
      "new feedback gain is 3.1687266280858033\n",
      "with cost of 0.5526512467877549\n",
      "starting epoch 318\n",
      "estimation error is 0.23445569733160765\n",
      "calculating optimal controller for estimated system\n"
     ]
    },
    {
     "name": "stderr",
     "output_type": "stream",
     "text": [
      "100%|██████████| 80/80 [00:00<00:00, 471.20it/s]\n",
      "  0%|          | 0/80 [00:00<?, ?it/s]"
     ]
    },
    {
     "name": "stdout",
     "output_type": "stream",
     "text": [
      "new feedback gain is 3.1683096614797557\n",
      "with cost of 0.5526704214008656\n",
      "starting epoch 319\n",
      "estimation error is 0.23357702770019062\n",
      "calculating optimal controller for estimated system\n"
     ]
    },
    {
     "name": "stderr",
     "output_type": "stream",
     "text": [
      "100%|██████████| 80/80 [00:00<00:00, 487.31it/s]\n",
      " 56%|█████▋    | 45/80 [00:00<00:00, 416.43it/s]"
     ]
    },
    {
     "name": "stdout",
     "output_type": "stream",
     "text": [
      "new feedback gain is 3.1679343915343128\n",
      "with cost of 0.5526876796903234\n",
      "starting epoch 320\n",
      "estimation error is 0.23256596295568513\n",
      "calculating optimal controller for estimated system\n"
     ]
    },
    {
     "name": "stderr",
     "output_type": "stream",
     "text": [
      "100%|██████████| 80/80 [00:00<00:00, 473.07it/s]\n",
      "  0%|          | 0/80 [00:00<?, ?it/s]"
     ]
    },
    {
     "name": "stdout",
     "output_type": "stream",
     "text": [
      "new feedback gain is 3.167596648583414\n",
      "with cost of 0.5527032130724251\n",
      "starting epoch 321\n",
      "estimation error is 0.23200746097238642\n",
      "calculating optimal controller for estimated system\n"
     ]
    },
    {
     "name": "stderr",
     "output_type": "stream",
     "text": [
      "100%|██████████| 80/80 [00:00<00:00, 519.87it/s]\n",
      "  0%|          | 0/80 [00:00<?, ?it/s]"
     ]
    },
    {
     "name": "stdout",
     "output_type": "stream",
     "text": [
      "new feedback gain is 3.167292679927605\n",
      "with cost of 0.5527171938628674\n",
      "starting epoch 322\n",
      "estimation error is 0.23131181289535013\n",
      "calculating optimal controller for estimated system\n"
     ]
    },
    {
     "name": "stderr",
     "output_type": "stream",
     "text": [
      "100%|██████████| 80/80 [00:00<00:00, 469.61it/s]\n",
      " 56%|█████▋    | 45/80 [00:00<00:00, 449.39it/s]"
     ]
    },
    {
     "name": "stdout",
     "output_type": "stream",
     "text": [
      "new feedback gain is 3.167019108137377\n",
      "with cost of 0.5527297771790176\n",
      "starting epoch 323\n",
      "estimation error is 0.2308467815222148\n",
      "calculating optimal controller for estimated system\n"
     ]
    },
    {
     "name": "stderr",
     "output_type": "stream",
     "text": [
      "100%|██████████| 80/80 [00:00<00:00, 512.04it/s]\n",
      "  0%|          | 0/80 [00:00<?, ?it/s]"
     ]
    },
    {
     "name": "stdout",
     "output_type": "stream",
     "text": [
      "new feedback gain is 3.166772893526172\n",
      "with cost of 0.5527411026534359\n",
      "starting epoch 324\n",
      "estimation error is 0.2303258503707805\n",
      "calculating optimal controller for estimated system\n"
     ]
    },
    {
     "name": "stderr",
     "output_type": "stream",
     "text": [
      "100%|██████████| 80/80 [00:00<00:00, 490.52it/s]\n",
      "  0%|          | 0/80 [00:00<?, ?it/s]"
     ]
    },
    {
     "name": "stdout",
     "output_type": "stream",
     "text": [
      "new feedback gain is 3.1665513003760872\n",
      "with cost of 0.5527512959772415\n",
      "starting epoch 325\n",
      "estimation error is 0.2296891299963428\n",
      "calculating optimal controller for estimated system\n"
     ]
    },
    {
     "name": "stderr",
     "output_type": "stream",
     "text": [
      "100%|██████████| 80/80 [00:00<00:00, 494.51it/s]\n",
      " 56%|█████▋    | 45/80 [00:00<00:00, 441.67it/s]"
     ]
    },
    {
     "name": "stdout",
     "output_type": "stream",
     "text": [
      "new feedback gain is 3.166351866541011\n",
      "with cost of 0.5527604702901168\n",
      "starting epoch 326\n",
      "estimation error is 0.22899321241596537\n",
      "calculating optimal controller for estimated system\n"
     ]
    },
    {
     "name": "stderr",
     "output_type": "stream",
     "text": [
      "100%|██████████| 80/80 [00:00<00:00, 527.55it/s]\n",
      " 56%|█████▋    | 45/80 [00:00<00:00, 430.31it/s]"
     ]
    },
    {
     "name": "stdout",
     "output_type": "stream",
     "text": [
      "new feedback gain is 3.1661723760894427\n",
      "with cost of 0.5527687274320918\n",
      "starting epoch 327\n",
      "estimation error is 0.2280994969090842\n",
      "calculating optimal controller for estimated system\n"
     ]
    },
    {
     "name": "stderr",
     "output_type": "stream",
     "text": [
      "100%|██████████| 80/80 [00:00<00:00, 478.78it/s]\n",
      "  0%|          | 0/80 [00:00<?, ?it/s]"
     ]
    },
    {
     "name": "stdout",
     "output_type": "stream",
     "text": [
      "new feedback gain is 3.166010834683031\n",
      "with cost of 0.5527761590707926\n",
      "starting epoch 328\n",
      "estimation error is 0.22769141154852085\n",
      "calculating optimal controller for estimated system\n"
     ]
    },
    {
     "name": "stderr",
     "output_type": "stream",
     "text": [
      "100%|██████████| 80/80 [00:00<00:00, 431.89it/s]\n",
      " 56%|█████▋    | 45/80 [00:00<00:00, 445.38it/s]"
     ]
    },
    {
     "name": "stdout",
     "output_type": "stream",
     "text": [
      "new feedback gain is 3.1658654474172607\n",
      "with cost of 0.552782847716478\n",
      "starting epoch 329\n",
      "estimation error is 0.2270700091842049\n",
      "calculating optimal controller for estimated system\n"
     ]
    },
    {
     "name": "stderr",
     "output_type": "stream",
     "text": [
      "100%|██████████| 80/80 [00:00<00:00, 478.57it/s]\n",
      " 56%|█████▋    | 45/80 [00:00<00:00, 428.99it/s]"
     ]
    },
    {
     "name": "stdout",
     "output_type": "stream",
     "text": [
      "new feedback gain is 3.165734598878067\n",
      "with cost of 0.5527888676359924\n",
      "starting epoch 330\n",
      "estimation error is 0.22651912494505658\n",
      "calculating optimal controller for estimated system\n"
     ]
    },
    {
     "name": "stderr",
     "output_type": "stream",
     "text": [
      "100%|██████████| 80/80 [00:00<00:00, 503.49it/s]\n",
      "  0%|          | 0/80 [00:00<?, ?it/s]"
     ]
    },
    {
     "name": "stdout",
     "output_type": "stream",
     "text": [
      "new feedback gain is 3.165616835192793\n",
      "with cost of 0.5527942856756608\n",
      "starting epoch 331\n",
      "estimation error is 0.226025384536067\n",
      "calculating optimal controller for estimated system\n"
     ]
    },
    {
     "name": "stderr",
     "output_type": "stream",
     "text": [
      "100%|██████████| 80/80 [00:00<00:00, 631.11it/s]\n",
      "  0%|          | 0/80 [00:00<?, ?it/s]"
     ]
    },
    {
     "name": "stdout",
     "output_type": "stream",
     "text": [
      "new feedback gain is 3.292093126357059\n",
      "with cost of 0.5470359563510987\n",
      "starting epoch 332\n",
      "estimation error is 0.2255107220640256\n",
      "calculating optimal controller for estimated system\n"
     ]
    },
    {
     "name": "stderr",
     "output_type": "stream",
     "text": [
      "100%|██████████| 80/80 [00:00<00:00, 624.53it/s]\n",
      "  0%|          | 0/80 [00:00<?, ?it/s]"
     ]
    },
    {
     "name": "stdout",
     "output_type": "stream",
     "text": [
      "new feedback gain is 3.405921788404898\n",
      "with cost of 0.5419550785059029\n",
      "starting epoch 333\n",
      "estimation error is 0.22468806536735264\n",
      "calculating optimal controller for estimated system\n"
     ]
    },
    {
     "name": "stderr",
     "output_type": "stream",
     "text": [
      "100%|██████████| 80/80 [00:00<00:00, 597.96it/s]\n",
      "  0%|          | 0/80 [00:00<?, ?it/s]"
     ]
    },
    {
     "name": "stdout",
     "output_type": "stream",
     "text": [
      "new feedback gain is 3.5083675842479534\n",
      "with cost of 0.537462316539299\n",
      "starting epoch 334\n",
      "estimation error is 0.22389638722340896\n",
      "calculating optimal controller for estimated system\n"
     ]
    },
    {
     "name": "stderr",
     "output_type": "stream",
     "text": [
      "100%|██████████| 80/80 [00:00<00:00, 811.60it/s]\n",
      "100%|██████████| 80/80 [00:00<00:00, 768.59it/s]"
     ]
    },
    {
     "name": "stdout",
     "output_type": "stream",
     "text": [
      "new feedback gain is 3.727151078987716\n",
      "with cost of 0.5281126292151312\n",
      "starting epoch 335\n",
      "estimation error is 0.22333397177341452\n",
      "calculating optimal controller for estimated system\n"
     ]
    },
    {
     "name": "stderr",
     "output_type": "stream",
     "text": [
      "\n",
      "  0%|          | 0/80 [00:00<?, ?it/s]"
     ]
    },
    {
     "name": "stdout",
     "output_type": "stream",
     "text": [
      "new feedback gain is 3.924056224253502\n",
      "with cost of 0.5199717497247013\n",
      "starting epoch 336\n",
      "estimation error is 0.22283957531067036\n",
      "calculating optimal controller for estimated system\n"
     ]
    },
    {
     "name": "stderr",
     "output_type": "stream",
     "text": [
      "100%|██████████| 80/80 [00:00<00:00, 602.89it/s]\n",
      "  0%|          | 0/80 [00:00<?, ?it/s]"
     ]
    },
    {
     "name": "stdout",
     "output_type": "stream",
     "text": [
      "new feedback gain is 3.974688576511697\n",
      "with cost of 0.5179188038892877\n",
      "starting epoch 337\n",
      "estimation error is 0.22236940419725684\n",
      "calculating optimal controller for estimated system\n"
     ]
    },
    {
     "name": "stderr",
     "output_type": "stream",
     "text": [
      "100%|██████████| 80/80 [00:00<00:00, 646.00it/s]\n",
      "  0%|          | 0/80 [00:00<?, ?it/s]"
     ]
    },
    {
     "name": "stdout",
     "output_type": "stream",
     "text": [
      "new feedback gain is 4.020257693544073\n",
      "with cost of 0.5160849638201309\n",
      "starting epoch 338\n",
      "estimation error is 0.22188855545520716\n",
      "calculating optimal controller for estimated system\n"
     ]
    },
    {
     "name": "stderr",
     "output_type": "stream",
     "text": [
      "100%|██████████| 80/80 [00:00<00:00, 759.81it/s]\n",
      "100%|██████████| 80/80 [00:00<00:00, 840.08it/s]"
     ]
    },
    {
     "name": "stdout",
     "output_type": "stream",
     "text": [
      "new feedback gain is 4.187852177354223\n",
      "with cost of 0.5098850785106452\n",
      "starting epoch 339\n",
      "estimation error is 0.22146467468801415\n",
      "calculating optimal controller for estimated system\n"
     ]
    },
    {
     "name": "stderr",
     "output_type": "stream",
     "text": [
      "\n",
      "  0%|          | 0/80 [00:00<?, ?it/s]"
     ]
    },
    {
     "name": "stdout",
     "output_type": "stream",
     "text": [
      "new feedback gain is 4.338687212783358\n",
      "with cost of 0.5078728567225448\n",
      "starting epoch 340\n",
      "estimation error is 0.2208346969145165\n",
      "calculating optimal controller for estimated system\n"
     ]
    },
    {
     "name": "stderr",
     "output_type": "stream",
     "text": [
      "100%|██████████| 80/80 [00:00<00:00, 829.09it/s]\n",
      "  0%|          | 0/80 [00:00<?, ?it/s]"
     ]
    },
    {
     "name": "stdout",
     "output_type": "stream",
     "text": [
      "new feedback gain is 4.47443874466958\n",
      "with cost of 0.5064292912147574\n",
      "starting epoch 341\n",
      "estimation error is 0.22028889711624192\n",
      "calculating optimal controller for estimated system\n"
     ]
    },
    {
     "name": "stderr",
     "output_type": "stream",
     "text": [
      "100%|██████████| 80/80 [00:00<00:00, 631.94it/s]\n",
      "  0%|          | 0/80 [00:00<?, ?it/s]"
     ]
    },
    {
     "name": "stdout",
     "output_type": "stream",
     "text": [
      "new feedback gain is 4.470032844886167\n",
      "with cost of 0.5064713766045948\n",
      "starting epoch 342\n",
      "estimation error is 0.21970055206721997\n",
      "calculating optimal controller for estimated system\n"
     ]
    },
    {
     "name": "stderr",
     "output_type": "stream",
     "text": [
      "100%|██████████| 80/80 [00:00<00:00, 617.62it/s]\n",
      "  0%|          | 0/80 [00:00<?, ?it/s]"
     ]
    },
    {
     "name": "stdout",
     "output_type": "stream",
     "text": [
      "new feedback gain is 4.466067535081096\n",
      "with cost of 0.506509213636191\n",
      "starting epoch 343\n",
      "estimation error is 0.21914780922503296\n",
      "calculating optimal controller for estimated system\n"
     ]
    },
    {
     "name": "stderr",
     "output_type": "stream",
     "text": [
      "100%|██████████| 80/80 [00:00<00:00, 601.08it/s]\n",
      "  0%|          | 0/80 [00:00<?, ?it/s]"
     ]
    },
    {
     "name": "stdout",
     "output_type": "stream",
     "text": [
      "new feedback gain is 4.462498756256531\n",
      "with cost of 0.5065432346870792\n",
      "starting epoch 344\n",
      "estimation error is 0.2184542275922773\n",
      "calculating optimal controller for estimated system\n"
     ]
    },
    {
     "name": "stderr",
     "output_type": "stream",
     "text": [
      "100%|██████████| 80/80 [00:00<00:00, 622.42it/s]\n",
      "  0%|          | 0/80 [00:00<?, ?it/s]"
     ]
    },
    {
     "name": "stdout",
     "output_type": "stream",
     "text": [
      "new feedback gain is 4.459286855314423\n",
      "with cost of 0.5065738274706155\n",
      "starting epoch 345\n",
      "estimation error is 0.21790069094335224\n",
      "calculating optimal controller for estimated system\n"
     ]
    },
    {
     "name": "stderr",
     "output_type": "stream",
     "text": [
      "100%|██████████| 80/80 [00:00<00:00, 547.36it/s]\n",
      "100%|██████████| 80/80 [00:00<00:00, 868.88it/s]"
     ]
    },
    {
     "name": "stdout",
     "output_type": "stream",
     "text": [
      "new feedback gain is 4.456396144466526\n",
      "with cost of 0.5066013397716506\n",
      "starting epoch 346\n",
      "estimation error is 0.21724821706059\n",
      "calculating optimal controller for estimated system\n"
     ]
    },
    {
     "name": "stderr",
     "output_type": "stream",
     "text": [
      "\n",
      "  0%|          | 0/80 [00:00<?, ?it/s]"
     ]
    },
    {
     "name": "stdout",
     "output_type": "stream",
     "text": [
      "new feedback gain is 4.58037678318443\n",
      "with cost of 0.5054202213687454\n",
      "starting epoch 347\n",
      "estimation error is 0.21679129667460037\n",
      "calculating optimal controller for estimated system\n"
     ]
    },
    {
     "name": "stderr",
     "output_type": "stream",
     "text": [
      "100%|██████████| 80/80 [00:00<00:00, 572.77it/s]\n",
      "  0%|          | 0/80 [00:00<?, ?it/s]"
     ]
    },
    {
     "name": "stdout",
     "output_type": "stream",
     "text": [
      "new feedback gain is 4.565377079549532\n",
      "with cost of 0.5055503070039583\n",
      "starting epoch 348\n",
      "estimation error is 0.21628667898115392\n",
      "calculating optimal controller for estimated system\n"
     ]
    },
    {
     "name": "stderr",
     "output_type": "stream",
     "text": [
      "100%|██████████| 80/80 [00:00<00:00, 592.36it/s]\n",
      "100%|██████████| 80/80 [00:00<00:00, 837.36it/s]"
     ]
    },
    {
     "name": "stdout",
     "output_type": "stream",
     "text": [
      "new feedback gain is 4.551877346278124\n",
      "with cost of 0.5056820314425102\n",
      "starting epoch 349\n",
      "estimation error is 0.2156389469997652\n",
      "calculating optimal controller for estimated system\n"
     ]
    },
    {
     "name": "stderr",
     "output_type": "stream",
     "text": [
      "\n",
      "  0%|          | 0/80 [00:00<?, ?it/s]"
     ]
    },
    {
     "name": "stdout",
     "output_type": "stream",
     "text": [
      "new feedback gain is 4.666309864814869\n",
      "with cost of 0.5048486221595474\n",
      "starting epoch 350\n",
      "estimation error is 0.21523852274723315\n",
      "calculating optimal controller for estimated system\n"
     ]
    },
    {
     "name": "stderr",
     "output_type": "stream",
     "text": [
      "100%|██████████| 80/80 [00:00<00:00, 706.28it/s]\n",
      "100%|██████████| 80/80 [00:00<00:00, 804.39it/s]"
     ]
    },
    {
     "name": "stdout",
     "output_type": "stream",
     "text": [
      "new feedback gain is 4.769299131497939\n",
      "with cost of 0.5041380468647206\n",
      "starting epoch 351\n",
      "estimation error is 0.21457350587391308\n",
      "calculating optimal controller for estimated system\n"
     ]
    },
    {
     "name": "stderr",
     "output_type": "stream",
     "text": [
      "\n",
      "  0%|          | 0/80 [00:00<?, ?it/s]"
     ]
    },
    {
     "name": "stdout",
     "output_type": "stream",
     "text": [
      "new feedback gain is 4.861989471512702\n",
      "with cost of 0.5037382403827498\n",
      "starting epoch 352\n",
      "estimation error is 0.21406088417396407\n",
      "calculating optimal controller for estimated system\n"
     ]
    },
    {
     "name": "stderr",
     "output_type": "stream",
     "text": [
      "100%|██████████| 80/80 [00:00<00:00, 801.93it/s]\n",
      "  0%|          | 0/80 [00:00<?, ?it/s]"
     ]
    },
    {
     "name": "stdout",
     "output_type": "stream",
     "text": [
      "new feedback gain is 4.945410777525989\n",
      "with cost of 0.5033935347211467\n",
      "starting epoch 353\n",
      "estimation error is 0.21370009454108171\n",
      "calculating optimal controller for estimated system\n"
     ]
    },
    {
     "name": "stderr",
     "output_type": "stream",
     "text": [
      "100%|██████████| 80/80 [00:00<00:00, 831.86it/s]\n",
      "  0%|          | 0/80 [00:00<?, ?it/s]"
     ]
    },
    {
     "name": "stdout",
     "output_type": "stream",
     "text": [
      "new feedback gain is 5.020489952937948\n",
      "with cost of 0.5031360821147535\n",
      "starting epoch 354\n",
      "estimation error is 0.212896214685657\n",
      "calculating optimal controller for estimated system\n"
     ]
    },
    {
     "name": "stderr",
     "output_type": "stream",
     "text": [
      "100%|██████████| 80/80 [00:00<00:00, 792.84it/s]\n",
      "100%|██████████| 80/80 [00:00<00:00, 864.42it/s]"
     ]
    },
    {
     "name": "stdout",
     "output_type": "stream",
     "text": [
      "new feedback gain is 5.088061210808711\n",
      "with cost of 0.5030487081097261\n",
      "starting epoch 355\n",
      "estimation error is 0.21229257470563234\n",
      "calculating optimal controller for estimated system\n"
     ]
    },
    {
     "name": "stderr",
     "output_type": "stream",
     "text": [
      "\n",
      "  0%|          | 0/80 [00:00<?, ?it/s]"
     ]
    },
    {
     "name": "stdout",
     "output_type": "stream",
     "text": [
      "new feedback gain is 5.1488753428923975\n",
      "with cost of 0.5029590246882738\n",
      "starting epoch 356\n",
      "estimation error is 0.21188087227178845\n",
      "calculating optimal controller for estimated system\n"
     ]
    },
    {
     "name": "stderr",
     "output_type": "stream",
     "text": [
      "100%|██████████| 80/80 [00:00<00:00, 792.70it/s]\n",
      "100%|██████████| 80/80 [00:00<00:00, 849.67it/s]"
     ]
    },
    {
     "name": "stdout",
     "output_type": "stream",
     "text": [
      "new feedback gain is 5.203608061767715\n",
      "with cost of 0.5028693760274363\n",
      "starting epoch 357\n",
      "estimation error is 0.21125009550477822\n",
      "calculating optimal controller for estimated system\n"
     ]
    },
    {
     "name": "stderr",
     "output_type": "stream",
     "text": [
      "\n",
      "  0%|          | 0/80 [00:00<?, ?it/s]"
     ]
    },
    {
     "name": "stdout",
     "output_type": "stream",
     "text": [
      "new feedback gain is 5.252867508755501\n",
      "with cost of 0.5028902008614321\n",
      "starting epoch 358\n",
      "estimation error is 0.2108217332483195\n",
      "calculating optimal controller for estimated system\n"
     ]
    },
    {
     "name": "stderr",
     "output_type": "stream",
     "text": [
      "100%|██████████| 80/80 [00:00<00:00, 740.67it/s]\n",
      "  0%|          | 0/80 [00:00<?, ?it/s]"
     ]
    },
    {
     "name": "stdout",
     "output_type": "stream",
     "text": [
      "new feedback gain is 5.297201011044509\n",
      "with cost of 0.5029486612290911\n",
      "starting epoch 359\n",
      "estimation error is 0.21035807962520722\n",
      "calculating optimal controller for estimated system\n"
     ]
    },
    {
     "name": "stderr",
     "output_type": "stream",
     "text": [
      "100%|██████████| 80/80 [00:00<00:00, 468.12it/s]\n",
      "  0%|          | 0/80 [00:00<?, ?it/s]"
     ]
    },
    {
     "name": "stdout",
     "output_type": "stream",
     "text": [
      "new feedback gain is 5.210518884623603\n",
      "with cost of 0.5028574554701958\n",
      "starting epoch 360\n",
      "estimation error is 0.20978751598313844\n",
      "calculating optimal controller for estimated system\n"
     ]
    },
    {
     "name": "stderr",
     "output_type": "stream",
     "text": [
      "100%|██████████| 80/80 [00:00<00:00, 644.13it/s]\n",
      "  0%|          | 0/80 [00:00<?, ?it/s]"
     ]
    },
    {
     "name": "stdout",
     "output_type": "stream",
     "text": [
      "new feedback gain is 5.2590872493258\n",
      "with cost of 0.5028987364458397\n",
      "starting epoch 361\n",
      "estimation error is 0.2093472496417143\n",
      "calculating optimal controller for estimated system\n"
     ]
    },
    {
     "name": "stderr",
     "output_type": "stream",
     "text": [
      "100%|██████████| 80/80 [00:00<00:00, 534.29it/s]\n",
      "  0%|          | 0/80 [00:00<?, ?it/s]"
     ]
    },
    {
     "name": "stdout",
     "output_type": "stream",
     "text": [
      "new feedback gain is 5.302798777557777\n",
      "with cost of 0.5029556488741642\n",
      "starting epoch 362\n",
      "estimation error is 0.20895016393343493\n",
      "calculating optimal controller for estimated system\n"
     ]
    },
    {
     "name": "stderr",
     "output_type": "stream",
     "text": [
      "100%|██████████| 80/80 [00:00<00:00, 747.37it/s]\n",
      "  0%|          | 0/80 [00:00<?, ?it/s]"
     ]
    },
    {
     "name": "stdout",
     "output_type": "stream",
     "text": [
      "new feedback gain is 5.342139152966557\n",
      "with cost of 0.5030022643437285\n",
      "starting epoch 363\n",
      "estimation error is 0.2084027581050391\n",
      "calculating optimal controller for estimated system\n"
     ]
    },
    {
     "name": "stderr",
     "output_type": "stream",
     "text": [
      "100%|██████████| 80/80 [00:00<00:00, 786.86it/s]\n",
      "100%|██████████| 80/80 [00:00<00:00, 838.05it/s]"
     ]
    },
    {
     "name": "stdout",
     "output_type": "stream",
     "text": [
      "new feedback gain is 5.377545490834459\n",
      "with cost of 0.503040484492274\n",
      "starting epoch 364\n",
      "estimation error is 0.20792767428460207\n",
      "calculating optimal controller for estimated system\n"
     ]
    },
    {
     "name": "stderr",
     "output_type": "stream",
     "text": [
      "\n",
      "100%|██████████| 80/80 [00:00<00:00, 812.14it/s]"
     ]
    },
    {
     "name": "stdout",
     "output_type": "stream",
     "text": [
      "new feedback gain is 5.40941119491557\n",
      "with cost of 0.5030718561800295\n",
      "starting epoch 365\n",
      "estimation error is 0.20744206113130795\n",
      "calculating optimal controller for estimated system\n"
     ]
    },
    {
     "name": "stderr",
     "output_type": "stream",
     "text": [
      "\n",
      "  0%|          | 0/80 [00:00<?, ?it/s]"
     ]
    },
    {
     "name": "stdout",
     "output_type": "stream",
     "text": [
      "new feedback gain is 5.43809032858857\n",
      "with cost of 0.5031167391736868\n",
      "starting epoch 366\n",
      "estimation error is 0.20694889841616854\n",
      "calculating optimal controller for estimated system\n"
     ]
    },
    {
     "name": "stderr",
     "output_type": "stream",
     "text": [
      "100%|██████████| 80/80 [00:00<00:00, 583.80it/s]\n",
      "  0%|          | 0/80 [00:00<?, ?it/s]"
     ]
    },
    {
     "name": "stdout",
     "output_type": "stream",
     "text": [
      "new feedback gain is 5.463901548894271\n",
      "with cost of 0.5032207584161441\n",
      "starting epoch 367\n",
      "estimation error is 0.20645016902499316\n",
      "calculating optimal controller for estimated system\n"
     ]
    },
    {
     "name": "stderr",
     "output_type": "stream",
     "text": [
      "100%|██████████| 80/80 [00:00<00:00, 632.51it/s]\n",
      "  0%|          | 0/80 [00:00<?, ?it/s]"
     ]
    },
    {
     "name": "stdout",
     "output_type": "stream",
     "text": [
      "new feedback gain is 5.487131647169401\n",
      "with cost of 0.5033128215146431\n",
      "starting epoch 368\n",
      "estimation error is 0.20599464867470507\n",
      "calculating optimal controller for estimated system\n"
     ]
    },
    {
     "name": "stderr",
     "output_type": "stream",
     "text": [
      "100%|██████████| 80/80 [00:00<00:00, 613.26it/s]\n",
      "  0%|          | 0/80 [00:00<?, ?it/s]"
     ]
    },
    {
     "name": "stdout",
     "output_type": "stream",
     "text": [
      "new feedback gain is 5.508038735617019\n",
      "with cost of 0.5033944172697262\n",
      "starting epoch 369\n",
      "estimation error is 0.20537699721369523\n",
      "calculating optimal controller for estimated system\n"
     ]
    },
    {
     "name": "stderr",
     "output_type": "stream",
     "text": [
      "100%|██████████| 80/80 [00:00<00:00, 872.72it/s]\n",
      "  0%|          | 0/80 [00:00<?, ?it/s]"
     ]
    },
    {
     "name": "stdout",
     "output_type": "stream",
     "text": [
      "new feedback gain is 5.653437393700887\n",
      "with cost of 0.5040027095978032\n",
      "starting epoch 370\n",
      "estimation error is 0.20485847717289205\n",
      "calculating optimal controller for estimated system\n"
     ]
    },
    {
     "name": "stderr",
     "output_type": "stream",
     "text": [
      "100%|██████████| 80/80 [00:00<00:00, 617.54it/s]\n",
      "  0%|          | 0/80 [00:00<?, ?it/s]"
     ]
    },
    {
     "name": "stdout",
     "output_type": "stream",
     "text": [
      "new feedback gain is 5.657713907495356\n",
      "with cost of 0.5040311281481497\n",
      "starting epoch 371\n",
      "estimation error is 0.2042789372707227\n",
      "calculating optimal controller for estimated system\n"
     ]
    },
    {
     "name": "stderr",
     "output_type": "stream",
     "text": [
      "100%|██████████| 80/80 [00:00<00:00, 611.12it/s]\n",
      "  0%|          | 0/80 [00:00<?, ?it/s]"
     ]
    },
    {
     "name": "stdout",
     "output_type": "stream",
     "text": [
      "new feedback gain is 5.661562769910378\n",
      "with cost of 0.5040566646903332\n",
      "starting epoch 372\n",
      "estimation error is 0.20364478945299844\n",
      "calculating optimal controller for estimated system\n"
     ]
    },
    {
     "name": "stderr",
     "output_type": "stream",
     "text": [
      "100%|██████████| 80/80 [00:00<00:00, 635.75it/s]\n",
      "  0%|          | 0/80 [00:00<?, ?it/s]"
     ]
    },
    {
     "name": "stdout",
     "output_type": "stream",
     "text": [
      "new feedback gain is 5.665026746083898\n",
      "with cost of 0.5040796150386996\n",
      "starting epoch 373\n",
      "estimation error is 0.2031124724261562\n",
      "calculating optimal controller for estimated system\n"
     ]
    },
    {
     "name": "stderr",
     "output_type": "stream",
     "text": [
      "100%|██████████| 80/80 [00:00<00:00, 612.10it/s]\n",
      "  0%|          | 0/80 [00:00<?, ?it/s]"
     ]
    },
    {
     "name": "stdout",
     "output_type": "stream",
     "text": [
      "new feedback gain is 5.668144324640066\n",
      "with cost of 0.5041002439838211\n",
      "starting epoch 374\n",
      "estimation error is 0.20263186244931225\n",
      "calculating optimal controller for estimated system\n"
     ]
    },
    {
     "name": "stderr",
     "output_type": "stream",
     "text": [
      "100%|██████████| 80/80 [00:00<00:00, 586.13it/s]\n",
      "  0%|          | 0/80 [00:00<?, ?it/s]"
     ]
    },
    {
     "name": "stdout",
     "output_type": "stream",
     "text": [
      "new feedback gain is 5.670950145340616\n",
      "with cost of 0.5041187886677659\n",
      "starting epoch 375\n",
      "estimation error is 0.20196107764845397\n",
      "calculating optimal controller for estimated system\n"
     ]
    },
    {
     "name": "stderr",
     "output_type": "stream",
     "text": [
      "100%|██████████| 80/80 [00:00<00:00, 651.98it/s]\n",
      "  0%|          | 0/80 [00:00<?, ?it/s]"
     ]
    },
    {
     "name": "stdout",
     "output_type": "stream",
     "text": [
      "new feedback gain is 5.6734753839711125\n",
      "with cost of 0.5041354615703072\n",
      "starting epoch 376\n",
      "estimation error is 0.20128916293060564\n",
      "calculating optimal controller for estimated system\n"
     ]
    },
    {
     "name": "stderr",
     "output_type": "stream",
     "text": [
      "100%|██████████| 80/80 [00:00<00:00, 614.00it/s]\n",
      "  0%|          | 0/80 [00:00<?, ?it/s]"
     ]
    },
    {
     "name": "stdout",
     "output_type": "stream",
     "text": [
      "new feedback gain is 5.675748098738559\n",
      "with cost of 0.5041504531546788\n",
      "starting epoch 377\n",
      "estimation error is 0.20086880623451792\n",
      "calculating optimal controller for estimated system\n"
     ]
    },
    {
     "name": "stderr",
     "output_type": "stream",
     "text": [
      "100%|██████████| 80/80 [00:00<00:00, 596.15it/s]\n",
      "  0%|          | 0/80 [00:00<?, ?it/s]"
     ]
    },
    {
     "name": "stdout",
     "output_type": "stream",
     "text": [
      "new feedback gain is 5.677793542029261\n",
      "with cost of 0.5041639342148119\n",
      "starting epoch 378\n",
      "estimation error is 0.2004050580102113\n",
      "calculating optimal controller for estimated system\n"
     ]
    },
    {
     "name": "stderr",
     "output_type": "stream",
     "text": [
      "100%|██████████| 80/80 [00:00<00:00, 605.71it/s]\n",
      "  0%|          | 0/80 [00:00<?, ?it/s]"
     ]
    },
    {
     "name": "stdout",
     "output_type": "stream",
     "text": [
      "new feedback gain is 5.679634440990892\n",
      "with cost of 0.5041760579603096\n",
      "starting epoch 379\n",
      "estimation error is 0.19982242502320177\n",
      "calculating optimal controller for estimated system\n"
     ]
    },
    {
     "name": "stderr",
     "output_type": "stream",
     "text": [
      "100%|██████████| 80/80 [00:00<00:00, 628.93it/s]\n",
      "  0%|          | 0/80 [00:00<?, ?it/s]"
     ]
    },
    {
     "name": "stdout",
     "output_type": "stream",
     "text": [
      "new feedback gain is 5.68129125005636\n",
      "with cost of 0.5041869618705807\n",
      "starting epoch 380\n",
      "estimation error is 0.19919753917648247\n",
      "calculating optimal controller for estimated system\n"
     ]
    },
    {
     "name": "stderr",
     "output_type": "stream",
     "text": [
      "100%|██████████| 80/80 [00:00<00:00, 620.06it/s]\n",
      "  0%|          | 0/80 [00:00<?, ?it/s]"
     ]
    },
    {
     "name": "stdout",
     "output_type": "stream",
     "text": [
      "new feedback gain is 5.682782378215282\n",
      "with cost of 0.5041967693454432\n",
      "starting epoch 381\n",
      "estimation error is 0.19868117139398006\n",
      "calculating optimal controller for estimated system\n"
     ]
    },
    {
     "name": "stderr",
     "output_type": "stream",
     "text": [
      "100%|██████████| 80/80 [00:00<00:00, 841.43it/s]\n",
      "100%|██████████| 80/80 [00:00<00:00, 868.91it/s]"
     ]
    },
    {
     "name": "stdout",
     "output_type": "stream",
     "text": [
      "new feedback gain is 5.8107066720393235\n",
      "with cost of 0.5050263693006981\n",
      "starting epoch 382\n",
      "estimation error is 0.19817330610979184\n",
      "calculating optimal controller for estimated system\n"
     ]
    },
    {
     "name": "stderr",
     "output_type": "stream",
     "text": [
      "\n",
      "  0%|          | 0/80 [00:00<?, ?it/s]"
     ]
    },
    {
     "name": "stdout",
     "output_type": "stream",
     "text": [
      "new feedback gain is 5.925838536480962\n",
      "with cost of 0.5060903046017786\n",
      "starting epoch 383\n",
      "estimation error is 0.1977623091701241\n",
      "calculating optimal controller for estimated system\n"
     ]
    },
    {
     "name": "stderr",
     "output_type": "stream",
     "text": [
      "100%|██████████| 80/80 [00:00<00:00, 575.11it/s]\n",
      "  0%|          | 0/80 [00:00<?, ?it/s]"
     ]
    },
    {
     "name": "stdout",
     "output_type": "stream",
     "text": [
      "new feedback gain is 5.902874935997423\n",
      "with cost of 0.5058805836369571\n",
      "starting epoch 384\n",
      "estimation error is 0.1972165261094568\n",
      "calculating optimal controller for estimated system\n"
     ]
    },
    {
     "name": "stderr",
     "output_type": "stream",
     "text": [
      "100%|██████████| 80/80 [00:00<00:00, 618.95it/s]\n",
      "  0%|          | 0/80 [00:00<?, ?it/s]"
     ]
    },
    {
     "name": "stdout",
     "output_type": "stream",
     "text": [
      "new feedback gain is 5.882207695562238\n",
      "with cost of 0.5056907710825702\n",
      "starting epoch 385\n",
      "estimation error is 0.19656596651686595\n",
      "calculating optimal controller for estimated system\n"
     ]
    },
    {
     "name": "stderr",
     "output_type": "stream",
     "text": [
      "100%|██████████| 80/80 [00:00<00:00, 630.49it/s]\n",
      "  0%|          | 0/80 [00:00<?, ?it/s]"
     ]
    },
    {
     "name": "stdout",
     "output_type": "stream",
     "text": [
      "new feedback gain is 5.863607179170572\n",
      "with cost of 0.5055190813876946\n",
      "starting epoch 386\n",
      "estimation error is 0.19590349281548558\n",
      "calculating optimal controller for estimated system\n"
     ]
    },
    {
     "name": "stderr",
     "output_type": "stream",
     "text": [
      "100%|██████████| 80/80 [00:00<00:00, 622.52it/s]\n",
      "  0%|          | 0/80 [00:00<?, ?it/s]"
     ]
    },
    {
     "name": "stdout",
     "output_type": "stream",
     "text": [
      "new feedback gain is 5.846866714418072\n",
      "with cost of 0.5053638676941092\n",
      "starting epoch 387\n",
      "estimation error is 0.19532243823479808\n",
      "calculating optimal controller for estimated system\n"
     ]
    },
    {
     "name": "stderr",
     "output_type": "stream",
     "text": [
      "100%|██████████| 80/80 [00:00<00:00, 567.65it/s]\n",
      "  0%|          | 0/80 [00:00<?, ?it/s]"
     ]
    },
    {
     "name": "stdout",
     "output_type": "stream",
     "text": [
      "new feedback gain is 5.831800296140822\n",
      "with cost of 0.5052236157706709\n",
      "starting epoch 388\n",
      "estimation error is 0.19490492417313326\n",
      "calculating optimal controller for estimated system\n"
     ]
    },
    {
     "name": "stderr",
     "output_type": "stream",
     "text": [
      "100%|██████████| 80/80 [00:00<00:00, 607.05it/s]\n",
      "  0%|          | 0/80 [00:00<?, ?it/s]"
     ]
    },
    {
     "name": "stdout",
     "output_type": "stream",
     "text": [
      "new feedback gain is 5.818240519691297\n",
      "with cost of 0.5050969370101813\n",
      "starting epoch 389\n",
      "estimation error is 0.19463226743425818\n",
      "calculating optimal controller for estimated system\n"
     ]
    },
    {
     "name": "stderr",
     "output_type": "stream",
     "text": [
      "100%|██████████| 80/80 [00:00<00:00, 579.04it/s]\n",
      "  0%|          | 0/80 [00:00<?, ?it/s]"
     ]
    },
    {
     "name": "stdout",
     "output_type": "stream",
     "text": [
      "new feedback gain is 5.806036720886725\n",
      "with cost of 0.5049875399726261\n",
      "starting epoch 390\n",
      "estimation error is 0.19414987714038542\n",
      "calculating optimal controller for estimated system\n"
     ]
    },
    {
     "name": "stderr",
     "output_type": "stream",
     "text": [
      "100%|██████████| 80/80 [00:00<00:00, 588.46it/s]\n",
      "  0%|          | 0/80 [00:00<?, ?it/s]"
     ]
    },
    {
     "name": "stdout",
     "output_type": "stream",
     "text": [
      "new feedback gain is 5.79505330196261\n",
      "with cost of 0.5049186762000046\n",
      "starting epoch 391\n",
      "estimation error is 0.19362260836731152\n",
      "calculating optimal controller for estimated system\n"
     ]
    },
    {
     "name": "stderr",
     "output_type": "stream",
     "text": [
      "100%|██████████| 80/80 [00:00<00:00, 822.53it/s]\n",
      "  0%|          | 0/80 [00:00<?, ?it/s]"
     ]
    },
    {
     "name": "stdout",
     "output_type": "stream",
     "text": [
      "new feedback gain is 5.91175050341192\n",
      "with cost of 0.5059617897863152\n",
      "starting epoch 392\n",
      "estimation error is 0.19321048128099602\n",
      "calculating optimal controller for estimated system\n"
     ]
    },
    {
     "name": "stderr",
     "output_type": "stream",
     "text": [
      "100%|██████████| 80/80 [00:00<00:00, 783.22it/s]\n",
      "100%|██████████| 80/80 [00:00<00:00, 814.65it/s]"
     ]
    },
    {
     "name": "stdout",
     "output_type": "stream",
     "text": [
      "new feedback gain is 6.016777984716299\n",
      "with cost of 0.5070788384389509\n",
      "starting epoch 393\n",
      "estimation error is 0.1926522875320005\n",
      "calculating optimal controller for estimated system\n"
     ]
    },
    {
     "name": "stderr",
     "output_type": "stream",
     "text": [
      "\n",
      "  0%|          | 0/80 [00:00<?, ?it/s]"
     ]
    },
    {
     "name": "stdout",
     "output_type": "stream",
     "text": [
      "new feedback gain is 6.11130271789024\n",
      "with cost of 0.5082612455504899\n",
      "starting epoch 394\n",
      "estimation error is 0.19210049380649039\n",
      "calculating optimal controller for estimated system\n"
     ]
    },
    {
     "name": "stderr",
     "output_type": "stream",
     "text": [
      "100%|██████████| 80/80 [00:00<00:00, 744.92it/s]\n",
      "100%|██████████| 80/80 [00:00<00:00, 875.01it/s]"
     ]
    },
    {
     "name": "stdout",
     "output_type": "stream",
     "text": [
      "new feedback gain is 6.196374977746787\n",
      "with cost of 0.5095169404109087\n",
      "starting epoch 395\n",
      "estimation error is 0.19170365783963067\n",
      "calculating optimal controller for estimated system\n"
     ]
    },
    {
     "name": "stderr",
     "output_type": "stream",
     "text": [
      "\n",
      "  0%|          | 0/80 [00:00<?, ?it/s]"
     ]
    },
    {
     "name": "stdout",
     "output_type": "stream",
     "text": [
      "new feedback gain is 6.2729400116176794\n",
      "with cost of 0.5108496054110538\n",
      "starting epoch 396\n",
      "estimation error is 0.191305708270445\n",
      "calculating optimal controller for estimated system\n"
     ]
    },
    {
     "name": "stderr",
     "output_type": "stream",
     "text": [
      "100%|██████████| 80/80 [00:00<00:00, 785.11it/s]\n",
      "100%|██████████| 80/80 [00:00<00:00, 839.29it/s]"
     ]
    },
    {
     "name": "stdout",
     "output_type": "stream",
     "text": [
      "new feedback gain is 6.3418485421014825\n",
      "with cost of 0.5121953896440222\n",
      "starting epoch 397\n",
      "estimation error is 0.19083219186388728\n",
      "calculating optimal controller for estimated system\n"
     ]
    },
    {
     "name": "stderr",
     "output_type": "stream",
     "text": [
      "\n",
      "  0%|          | 0/80 [00:00<?, ?it/s]"
     ]
    },
    {
     "name": "stdout",
     "output_type": "stream",
     "text": [
      "new feedback gain is 6.403866219536905\n",
      "with cost of 0.5135380669856984\n",
      "starting epoch 398\n",
      "estimation error is 0.19048775226078984\n",
      "calculating optimal controller for estimated system\n"
     ]
    },
    {
     "name": "stderr",
     "output_type": "stream",
     "text": [
      "100%|██████████| 80/80 [00:00<00:00, 715.21it/s]\n",
      "100%|██████████| 80/80 [00:00<00:00, 827.82it/s]"
     ]
    },
    {
     "name": "stdout",
     "output_type": "stream",
     "text": [
      "new feedback gain is 6.459682129228785\n",
      "with cost of 0.5148499352889979\n",
      "starting epoch 399\n",
      "estimation error is 0.19002695640845832\n",
      "calculating optimal controller for estimated system\n"
     ]
    },
    {
     "name": "stderr",
     "output_type": "stream",
     "text": [
      "\n",
      "  0%|          | 0/80 [00:00<?, ?it/s]"
     ]
    },
    {
     "name": "stdout",
     "output_type": "stream",
     "text": [
      "new feedback gain is 6.509916447951477\n",
      "with cost of 0.5161421111942684\n",
      "starting epoch 400\n",
      "estimation error is 0.1895739861952126\n",
      "calculating optimal controller for estimated system\n"
     ]
    },
    {
     "name": "stderr",
     "output_type": "stream",
     "text": [
      "100%|██████████| 80/80 [00:00<00:00, 724.32it/s]\n",
      "  0%|          | 0/80 [00:00<?, ?it/s]"
     ]
    },
    {
     "name": "stdout",
     "output_type": "stream",
     "text": [
      "new feedback gain is 6.555127334801901\n",
      "with cost of 0.5173700444596212\n",
      "starting epoch 401\n",
      "estimation error is 0.18910782199775708\n",
      "calculating optimal controller for estimated system\n"
     ]
    },
    {
     "name": "stderr",
     "output_type": "stream",
     "text": [
      "100%|██████████| 80/80 [00:00<00:00, 805.86it/s]\n",
      "  0%|          | 0/80 [00:00<?, ?it/s]"
     ]
    },
    {
     "name": "stdout",
     "output_type": "stream",
     "text": [
      "new feedback gain is 6.59581713296728\n",
      "with cost of 0.5185211541293425\n",
      "starting epoch 402\n",
      "estimation error is 0.18847964347185311\n",
      "calculating optimal controller for estimated system\n"
     ]
    },
    {
     "name": "stderr",
     "output_type": "stream",
     "text": [
      "100%|██████████| 80/80 [00:00<00:00, 809.36it/s]\n",
      "100%|██████████| 80/80 [00:00<00:00, 824.32it/s]"
     ]
    },
    {
     "name": "stdout",
     "output_type": "stream",
     "text": [
      "new feedback gain is 6.632437951316122\n",
      "with cost of 0.5195947528559315\n",
      "starting epoch 403\n",
      "estimation error is 0.18805386932656082\n",
      "calculating optimal controller for estimated system\n"
     ]
    },
    {
     "name": "stderr",
     "output_type": "stream",
     "text": [
      "\n",
      "  0%|          | 0/80 [00:00<?, ?it/s]"
     ]
    },
    {
     "name": "stdout",
     "output_type": "stream",
     "text": [
      "new feedback gain is 6.66539668783008\n",
      "with cost of 0.5206071911132567\n",
      "starting epoch 404\n",
      "estimation error is 0.18763202405983523\n",
      "calculating optimal controller for estimated system\n"
     ]
    },
    {
     "name": "stderr",
     "output_type": "stream",
     "text": [
      "100%|██████████| 80/80 [00:00<00:00, 789.87it/s]\n",
      "100%|██████████| 80/80 [00:00<00:00, 867.32it/s]"
     ]
    },
    {
     "name": "stdout",
     "output_type": "stream",
     "text": [
      "new feedback gain is 6.695059550692642\n",
      "with cost of 0.5215205599758415\n",
      "starting epoch 405\n",
      "estimation error is 0.18725019876337792\n",
      "calculating optimal controller for estimated system\n"
     ]
    },
    {
     "name": "stderr",
     "output_type": "stream",
     "text": [
      "\n",
      "  0%|          | 0/80 [00:00<?, ?it/s]"
     ]
    },
    {
     "name": "stdout",
     "output_type": "stream",
     "text": [
      "new feedback gain is 6.721756127268948\n",
      "with cost of 0.5223514316293254\n",
      "starting epoch 406\n",
      "estimation error is 0.18686434218929773\n",
      "calculating optimal controller for estimated system\n"
     ]
    },
    {
     "name": "stderr",
     "output_type": "stream",
     "text": [
      "100%|██████████| 80/80 [00:00<00:00, 750.05it/s]\n",
      "  0%|          | 0/80 [00:00<?, ?it/s]"
     ]
    },
    {
     "name": "stdout",
     "output_type": "stream",
     "text": [
      "new feedback gain is 6.745783046187624\n",
      "with cost of 0.5231450850994569\n",
      "starting epoch 407\n",
      "estimation error is 0.18640053931356707\n",
      "calculating optimal controller for estimated system\n"
     ]
    },
    {
     "name": "stderr",
     "output_type": "stream",
     "text": [
      "100%|██████████| 80/80 [00:00<00:00, 606.97it/s]\n",
      "  0%|          | 0/80 [00:00<?, ?it/s]"
     ]
    },
    {
     "name": "stdout",
     "output_type": "stream",
     "text": [
      "new feedback gain is 6.640824994733419\n",
      "with cost of 0.5198521477349143\n",
      "starting epoch 408\n",
      "estimation error is 0.1860036563366263\n",
      "calculating optimal controller for estimated system\n"
     ]
    },
    {
     "name": "stderr",
     "output_type": "stream",
     "text": [
      "100%|██████████| 80/80 [00:00<00:00, 627.99it/s]\n",
      "  0%|          | 0/80 [00:00<?, ?it/s]"
     ]
    },
    {
     "name": "stdout",
     "output_type": "stream",
     "text": [
      "new feedback gain is 6.5463627484246345\n",
      "with cost of 0.5171224364559547\n",
      "starting epoch 409\n",
      "estimation error is 0.18561063041656442\n",
      "calculating optimal controller for estimated system\n"
     ]
    },
    {
     "name": "stderr",
     "output_type": "stream",
     "text": [
      "100%|██████████| 80/80 [00:00<00:00, 439.69it/s]\n",
      "  0%|          | 0/80 [00:00<?, ?it/s]"
     ]
    },
    {
     "name": "stdout",
     "output_type": "stream",
     "text": [
      "new feedback gain is 6.461346726746728\n",
      "with cost of 0.5148927199976099\n",
      "starting epoch 410\n",
      "estimation error is 0.18507254442453577\n",
      "calculating optimal controller for estimated system\n"
     ]
    },
    {
     "name": "stderr",
     "output_type": "stream",
     "text": [
      "100%|██████████| 80/80 [00:00<00:00, 512.20it/s]\n",
      "  0%|          | 0/80 [00:00<?, ?it/s]"
     ]
    },
    {
     "name": "stdout",
     "output_type": "stream",
     "text": [
      "new feedback gain is 6.384832307236613\n",
      "with cost of 0.5130987794770133\n",
      "starting epoch 411\n",
      "estimation error is 0.18473805857815478\n",
      "calculating optimal controller for estimated system\n"
     ]
    },
    {
     "name": "stderr",
     "output_type": "stream",
     "text": [
      "100%|██████████| 80/80 [00:00<00:00, 465.23it/s]\n",
      " 59%|█████▉    | 47/80 [00:00<00:00, 459.29it/s]"
     ]
    },
    {
     "name": "stdout",
     "output_type": "stream",
     "text": [
      "new feedback gain is 6.315969329677509\n",
      "with cost of 0.5116684764068035\n",
      "starting epoch 412\n",
      "estimation error is 0.18430660100823673\n",
      "calculating optimal controller for estimated system\n"
     ]
    },
    {
     "name": "stderr",
     "output_type": "stream",
     "text": [
      "100%|██████████| 80/80 [00:00<00:00, 482.94it/s]\n",
      " 59%|█████▉    | 47/80 [00:00<00:00, 458.52it/s]"
     ]
    },
    {
     "name": "stdout",
     "output_type": "stream",
     "text": [
      "new feedback gain is 6.2539926498743155\n",
      "with cost of 0.5105168884530605\n",
      "starting epoch 413\n",
      "estimation error is 0.1838134188045029\n",
      "calculating optimal controller for estimated system\n"
     ]
    },
    {
     "name": "stderr",
     "output_type": "stream",
     "text": [
      "100%|██████████| 80/80 [00:00<00:00, 488.70it/s]\n",
      "  0%|          | 0/80 [00:00<?, ?it/s]"
     ]
    },
    {
     "name": "stdout",
     "output_type": "stream",
     "text": [
      "new feedback gain is 6.198213638051441\n",
      "with cost of 0.5095439496308184\n",
      "starting epoch 414\n",
      "estimation error is 0.18340590412720315\n",
      "calculating optimal controller for estimated system\n"
     ]
    },
    {
     "name": "stderr",
     "output_type": "stream",
     "text": [
      "100%|██████████| 80/80 [00:00<00:00, 449.51it/s]\n",
      " 59%|█████▉    | 47/80 [00:00<00:00, 466.01it/s]"
     ]
    },
    {
     "name": "stdout",
     "output_type": "stream",
     "text": [
      "new feedback gain is 6.148012527410854\n",
      "with cost of 0.5088045305586896\n",
      "starting epoch 415\n",
      "estimation error is 0.18306764007059761\n",
      "calculating optimal controller for estimated system\n"
     ]
    },
    {
     "name": "stderr",
     "output_type": "stream",
     "text": [
      "100%|██████████| 80/80 [00:00<00:00, 489.15it/s]\n",
      " 59%|█████▉    | 47/80 [00:00<00:00, 468.14it/s]"
     ]
    },
    {
     "name": "stdout",
     "output_type": "stream",
     "text": [
      "new feedback gain is 6.102831527834327\n",
      "with cost of 0.5081355704255801\n",
      "starting epoch 416\n",
      "estimation error is 0.18266595151129889\n",
      "calculating optimal controller for estimated system\n"
     ]
    },
    {
     "name": "stderr",
     "output_type": "stream",
     "text": [
      "100%|██████████| 80/80 [00:00<00:00, 515.74it/s]\n",
      "  0%|          | 0/80 [00:00<?, ?it/s]"
     ]
    },
    {
     "name": "stdout",
     "output_type": "stream",
     "text": [
      "new feedback gain is 6.062168628215451\n",
      "with cost of 0.5076210669002962\n",
      "starting epoch 417\n",
      "estimation error is 0.18228722371979264\n",
      "calculating optimal controller for estimated system\n"
     ]
    },
    {
     "name": "stderr",
     "output_type": "stream",
     "text": [
      "100%|██████████| 80/80 [00:00<00:00, 489.64it/s]\n",
      "  0%|          | 0/80 [00:00<?, ?it/s]"
     ]
    },
    {
     "name": "stdout",
     "output_type": "stream",
     "text": [
      "new feedback gain is 6.025572018558464\n",
      "with cost of 0.5071842173845531\n",
      "starting epoch 418\n",
      "estimation error is 0.18192207943874816\n",
      "calculating optimal controller for estimated system\n"
     ]
    },
    {
     "name": "stderr",
     "output_type": "stream",
     "text": [
      "100%|██████████| 80/80 [00:00<00:00, 497.56it/s]\n",
      "  0%|          | 0/80 [00:00<?, ?it/s]"
     ]
    },
    {
     "name": "stdout",
     "output_type": "stream",
     "text": [
      "new feedback gain is 5.992635069867175\n",
      "with cost of 0.5067887305317074\n",
      "starting epoch 419\n",
      "estimation error is 0.18150830027406883\n",
      "calculating optimal controller for estimated system\n"
     ]
    },
    {
     "name": "stderr",
     "output_type": "stream",
     "text": [
      "100%|██████████| 80/80 [00:00<00:00, 497.12it/s]\n",
      "  0%|          | 0/80 [00:00<?, ?it/s]"
     ]
    },
    {
     "name": "stdout",
     "output_type": "stream",
     "text": [
      "new feedback gain is 5.962991816045015\n",
      "with cost of 0.5064309269835713\n",
      "starting epoch 420\n",
      "estimation error is 0.18103883595044692\n",
      "calculating optimal controller for estimated system\n"
     ]
    },
    {
     "name": "stderr",
     "output_type": "stream",
     "text": [
      "100%|██████████| 80/80 [00:00<00:00, 476.65it/s]\n",
      " 59%|█████▉    | 47/80 [00:00<00:00, 462.34it/s]"
     ]
    },
    {
     "name": "stdout",
     "output_type": "stream",
     "text": [
      "new feedback gain is 5.936312887605071\n",
      "with cost of 0.506185549824405\n",
      "starting epoch 421\n",
      "estimation error is 0.18055860531269047\n",
      "calculating optimal controller for estimated system\n"
     ]
    },
    {
     "name": "stderr",
     "output_type": "stream",
     "text": [
      "100%|██████████| 80/80 [00:00<00:00, 502.53it/s]\n",
      "  0%|          | 0/80 [00:00<?, ?it/s]"
     ]
    },
    {
     "name": "stdout",
     "output_type": "stream",
     "text": [
      "new feedback gain is 5.912301852009121\n",
      "with cost of 0.5059668281603505\n",
      "starting epoch 422\n",
      "estimation error is 0.180272176864499\n",
      "calculating optimal controller for estimated system\n"
     ]
    },
    {
     "name": "stderr",
     "output_type": "stream",
     "text": [
      "100%|██████████| 80/80 [00:00<00:00, 455.76it/s]\n",
      "  0%|          | 0/80 [00:00<?, ?it/s]"
     ]
    },
    {
     "name": "stdout",
     "output_type": "stream",
     "text": [
      "new feedback gain is 5.890691919972767\n",
      "with cost of 0.5057688137689946\n",
      "starting epoch 423\n",
      "estimation error is 0.17996230784700998\n",
      "calculating optimal controller for estimated system\n"
     ]
    },
    {
     "name": "stderr",
     "output_type": "stream",
     "text": [
      "100%|██████████| 80/80 [00:00<00:00, 490.99it/s]\n",
      "  0%|          | 0/80 [00:00<?, ?it/s]"
     ]
    },
    {
     "name": "stdout",
     "output_type": "stream",
     "text": [
      "new feedback gain is 5.871242981140048\n",
      "with cost of 0.5055896608941616\n",
      "starting epoch 424\n",
      "estimation error is 0.17952119577762443\n",
      "calculating optimal controller for estimated system\n"
     ]
    },
    {
     "name": "stderr",
     "output_type": "stream",
     "text": [
      "100%|██████████| 80/80 [00:00<00:00, 471.06it/s]\n",
      " 59%|█████▉    | 47/80 [00:00<00:00, 459.75it/s]"
     ]
    },
    {
     "name": "stdout",
     "output_type": "stream",
     "text": [
      "new feedback gain is 5.8537389361906005\n",
      "with cost of 0.5054276646326097\n",
      "starting epoch 425\n",
      "estimation error is 0.179131179181814\n",
      "calculating optimal controller for estimated system\n"
     ]
    },
    {
     "name": "stderr",
     "output_type": "stream",
     "text": [
      "100%|██████████| 80/80 [00:00<00:00, 512.80it/s]\n",
      "  0%|          | 0/80 [00:00<?, ?it/s]"
     ]
    },
    {
     "name": "stdout",
     "output_type": "stream",
     "text": [
      "new feedback gain is 5.837985295736098\n",
      "with cost of 0.5052812554180892\n",
      "starting epoch 426\n",
      "estimation error is 0.17865779936142923\n",
      "calculating optimal controller for estimated system\n"
     ]
    },
    {
     "name": "stderr",
     "output_type": "stream",
     "text": [
      "100%|██████████| 80/80 [00:00<00:00, 473.18it/s]\n",
      " 59%|█████▉    | 47/80 [00:00<00:00, 450.51it/s]"
     ]
    },
    {
     "name": "stdout",
     "output_type": "stream",
     "text": [
      "new feedback gain is 5.823807019327045\n",
      "with cost of 0.5051489923588852\n",
      "starting epoch 427\n",
      "estimation error is 0.17827082481394516\n",
      "calculating optimal controller for estimated system\n"
     ]
    },
    {
     "name": "stderr",
     "output_type": "stream",
     "text": [
      "100%|██████████| 80/80 [00:00<00:00, 495.48it/s]\n",
      "  0%|          | 0/80 [00:00<?, ?it/s]"
     ]
    },
    {
     "name": "stdout",
     "output_type": "stream",
     "text": [
      "new feedback gain is 5.811046570558898\n",
      "with cost of 0.5050295558847024\n",
      "starting epoch 428\n",
      "estimation error is 0.1777911924343678\n",
      "calculating optimal controller for estimated system\n"
     ]
    },
    {
     "name": "stderr",
     "output_type": "stream",
     "text": [
      "100%|██████████| 80/80 [00:00<00:00, 454.28it/s]\n",
      " 59%|█████▉    | 47/80 [00:00<00:00, 450.62it/s]"
     ]
    },
    {
     "name": "stdout",
     "output_type": "stream",
     "text": [
      "new feedback gain is 5.799562166667566\n",
      "with cost of 0.504946983981626\n",
      "starting epoch 429\n",
      "estimation error is 0.1773081332324857\n",
      "calculating optimal controller for estimated system\n"
     ]
    },
    {
     "name": "stderr",
     "output_type": "stream",
     "text": [
      "100%|██████████| 80/80 [00:00<00:00, 515.50it/s]\n",
      "  0%|          | 0/80 [00:00<?, ?it/s]"
     ]
    },
    {
     "name": "stdout",
     "output_type": "stream",
     "text": [
      "new feedback gain is 5.7892262031653665\n",
      "with cost of 0.5048820136002133\n",
      "starting epoch 430\n",
      "estimation error is 0.1769816454830321\n",
      "calculating optimal controller for estimated system\n"
     ]
    },
    {
     "name": "stderr",
     "output_type": "stream",
     "text": [
      "100%|██████████| 80/80 [00:00<00:00, 522.77it/s]\n",
      "  0%|          | 0/80 [00:00<?, ?it/s]"
     ]
    },
    {
     "name": "stdout",
     "output_type": "stream",
     "text": [
      "new feedback gain is 5.7799238360133876\n",
      "with cost of 0.5048233019473443\n",
      "starting epoch 431\n",
      "estimation error is 0.1766750968866798\n",
      "calculating optimal controller for estimated system\n"
     ]
    },
    {
     "name": "stderr",
     "output_type": "stream",
     "text": [
      "100%|██████████| 80/80 [00:00<00:00, 392.75it/s]\n",
      "  0%|          | 0/80 [00:00<?, ?it/s]"
     ]
    },
    {
     "name": "stdout",
     "output_type": "stream",
     "text": [
      "new feedback gain is 5.771551705576607\n",
      "with cost of 0.5047702686397949\n",
      "starting epoch 432\n",
      "estimation error is 0.176209154167424\n",
      "calculating optimal controller for estimated system\n"
     ]
    },
    {
     "name": "stderr",
     "output_type": "stream",
     "text": [
      "100%|██████████| 80/80 [00:00<00:00, 445.02it/s]\n",
      "  0%|          | 0/80 [00:00<?, ?it/s]"
     ]
    },
    {
     "name": "stdout",
     "output_type": "stream",
     "text": [
      "new feedback gain is 5.764016788183503\n",
      "with cost of 0.504722382632977\n",
      "starting epoch 433\n",
      "estimation error is 0.1757336488716446\n",
      "calculating optimal controller for estimated system\n"
     ]
    },
    {
     "name": "stderr",
     "output_type": "stream",
     "text": [
      "100%|██████████| 80/80 [00:00<00:00, 389.20it/s]\n",
      "  0%|          | 0/80 [00:00<?, ?it/s]"
     ]
    },
    {
     "name": "stdout",
     "output_type": "stream",
     "text": [
      "new feedback gain is 5.6306530840486975\n",
      "with cost of 0.503850511299884\n",
      "starting epoch 434\n",
      "estimation error is 0.17539427742571279\n",
      "calculating optimal controller for estimated system\n"
     ]
    },
    {
     "name": "stderr",
     "output_type": "stream",
     "text": [
      "100%|██████████| 80/80 [00:00<00:00, 422.65it/s]\n",
      "  0%|          | 0/80 [00:00<?, ?it/s]"
     ]
    },
    {
     "name": "stdout",
     "output_type": "stream",
     "text": [
      "new feedback gain is 5.510625750327373\n",
      "with cost of 0.5034044306666714\n",
      "starting epoch 435\n",
      "estimation error is 0.17493788465057653\n",
      "calculating optimal controller for estimated system\n"
     ]
    },
    {
     "name": "stderr",
     "output_type": "stream",
     "text": [
      "100%|██████████| 80/80 [00:00<00:00, 345.21it/s]\n",
      "  0%|          | 0/80 [00:00<?, ?it/s]"
     ]
    },
    {
     "name": "stdout",
     "output_type": "stream",
     "text": [
      "new feedback gain is 5.402601149978181\n",
      "with cost of 0.5030653926964743\n",
      "starting epoch 436\n",
      "estimation error is 0.17451591938961347\n",
      "calculating optimal controller for estimated system\n"
     ]
    },
    {
     "name": "stderr",
     "output_type": "stream",
     "text": [
      "100%|██████████| 80/80 [00:00<00:00, 280.54it/s]\n",
      "  0%|          | 0/80 [00:00<?, ?it/s]"
     ]
    },
    {
     "name": "stdout",
     "output_type": "stream",
     "text": [
      "new feedback gain is 5.305379009663907\n",
      "with cost of 0.5029588400107273\n",
      "starting epoch 437\n",
      "estimation error is 0.17412798279725913\n",
      "calculating optimal controller for estimated system\n"
     ]
    },
    {
     "name": "stderr",
     "output_type": "stream",
     "text": [
      "100%|██████████| 80/80 [00:00<00:00, 467.41it/s]\n",
      "  0%|          | 0/80 [00:00<?, ?it/s]"
     ]
    },
    {
     "name": "stdout",
     "output_type": "stream",
     "text": [
      "new feedback gain is 5.344461361862074\n",
      "with cost of 0.5030048795252502\n",
      "starting epoch 438\n",
      "estimation error is 0.17376002967923523\n",
      "calculating optimal controller for estimated system\n"
     ]
    },
    {
     "name": "stderr",
     "output_type": "stream",
     "text": [
      "100%|██████████| 80/80 [00:00<00:00, 504.90it/s]\n",
      "  0%|          | 0/80 [00:00<?, ?it/s]"
     ]
    },
    {
     "name": "stdout",
     "output_type": "stream",
     "text": [
      "new feedback gain is 5.379635478840425\n",
      "with cost of 0.5030426299572069\n",
      "starting epoch 439\n",
      "estimation error is 0.1733745291615271\n",
      "calculating optimal controller for estimated system\n"
     ]
    },
    {
     "name": "stderr",
     "output_type": "stream",
     "text": [
      "100%|██████████| 80/80 [00:00<00:00, 303.29it/s]\n"
     ]
    },
    {
     "name": "stdout",
     "output_type": "stream",
     "text": [
      "new feedback gain is 5.284709905639927\n",
      "with cost of 0.502932750221889\n",
      "starting epoch 440\n"
     ]
    },
    {
     "name": "stderr",
     "output_type": "stream",
     "text": [
      " 57%|█████▊    | 46/80 [00:00<00:00, 379.14it/s]"
     ]
    },
    {
     "name": "stdout",
     "output_type": "stream",
     "text": [
      "estimation error is 0.17292046677691308\n",
      "calculating optimal controller for estimated system\n"
     ]
    },
    {
     "name": "stderr",
     "output_type": "stream",
     "text": [
      "100%|██████████| 80/80 [00:00<00:00, 304.64it/s]\n",
      "  0%|          | 0/80 [00:00<?, ?it/s]"
     ]
    },
    {
     "name": "stdout",
     "output_type": "stream",
     "text": [
      "new feedback gain is 5.325859168240492\n",
      "with cost of 0.5029835032227901\n",
      "starting epoch 441\n",
      "estimation error is 0.1724841442201042\n",
      "calculating optimal controller for estimated system\n"
     ]
    },
    {
     "name": "stderr",
     "output_type": "stream",
     "text": [
      "100%|██████████| 80/80 [00:00<00:00, 371.59it/s]\n",
      "  0%|          | 0/80 [00:00<?, ?it/s]"
     ]
    },
    {
     "name": "stdout",
     "output_type": "stream",
     "text": [
      "new feedback gain is 5.362893504581001\n",
      "with cost of 0.5030250972792034\n",
      "starting epoch 442\n",
      "estimation error is 0.17208128136300357\n",
      "calculating optimal controller for estimated system\n"
     ]
    },
    {
     "name": "stderr",
     "output_type": "stream",
     "text": [
      "100%|██████████| 80/80 [00:00<00:00, 418.33it/s]\n",
      "  0%|          | 0/80 [00:00<?, ?it/s]"
     ]
    },
    {
     "name": "stdout",
     "output_type": "stream",
     "text": [
      "new feedback gain is 5.396224407287458\n",
      "with cost of 0.5030592216911984\n",
      "starting epoch 443\n",
      "estimation error is 0.1717641626676007\n",
      "calculating optimal controller for estimated system\n"
     ]
    },
    {
     "name": "stderr",
     "output_type": "stream",
     "text": [
      "100%|██████████| 80/80 [00:00<00:00, 372.47it/s]\n",
      "  0%|          | 0/80 [00:00<?, ?it/s]"
     ]
    },
    {
     "name": "stdout",
     "output_type": "stream",
     "text": [
      "new feedback gain is 5.2996399412422575\n",
      "with cost of 0.5029517165851045\n",
      "starting epoch 444\n",
      "estimation error is 0.17136811756935927\n",
      "calculating optimal controller for estimated system\n"
     ]
    },
    {
     "name": "stderr",
     "output_type": "stream",
     "text": [
      "100%|██████████| 80/80 [00:00<00:00, 337.26it/s]\n",
      "  0%|          | 0/80 [00:00<?, ?it/s]"
     ]
    },
    {
     "name": "stdout",
     "output_type": "stream",
     "text": [
      "new feedback gain is 5.212713921801576\n",
      "with cost of 0.5028536410420323\n",
      "starting epoch 445\n",
      "estimation error is 0.17098018422412983\n",
      "calculating optimal controller for estimated system\n"
     ]
    },
    {
     "name": "stderr",
     "output_type": "stream",
     "text": [
      "100%|██████████| 80/80 [00:00<00:00, 357.91it/s]\n"
     ]
    },
    {
     "name": "stdout",
     "output_type": "stream",
     "text": [
      "new feedback gain is 5.261062782785976\n",
      "with cost of 0.5029014247458515\n",
      "starting epoch 446\n"
     ]
    },
    {
     "name": "stderr",
     "output_type": "stream",
     "text": [
      " 57%|█████▊    | 46/80 [00:00<00:00, 344.55it/s]"
     ]
    },
    {
     "name": "stdout",
     "output_type": "stream",
     "text": [
      "estimation error is 0.17061246660451862\n",
      "calculating optimal controller for estimated system\n"
     ]
    },
    {
     "name": "stderr",
     "output_type": "stream",
     "text": [
      "100%|██████████| 80/80 [00:00<00:00, 359.20it/s]\n",
      "  0%|          | 0/80 [00:00<?, ?it/s]"
     ]
    },
    {
     "name": "stdout",
     "output_type": "stream",
     "text": [
      "new feedback gain is 5.304576757671936\n",
      "with cost of 0.5029578498256896\n",
      "starting epoch 447\n",
      "estimation error is 0.17017118768673145\n",
      "calculating optimal controller for estimated system\n"
     ]
    },
    {
     "name": "stderr",
     "output_type": "stream",
     "text": [
      "100%|██████████| 80/80 [00:00<00:00, 406.21it/s]\n",
      "  0%|          | 0/80 [00:00<?, ?it/s]"
     ]
    },
    {
     "name": "stdout",
     "output_type": "stream",
     "text": [
      "new feedback gain is 5.3437393350693\n",
      "with cost of 0.5030040680368352\n",
      "starting epoch 448\n",
      "estimation error is 0.16960475789272209\n",
      "calculating optimal controller for estimated system\n"
     ]
    },
    {
     "name": "stderr",
     "output_type": "stream",
     "text": [
      "100%|██████████| 80/80 [00:00<00:00, 423.45it/s]\n",
      "  0%|          | 0/80 [00:00<?, ?it/s]"
     ]
    },
    {
     "name": "stdout",
     "output_type": "stream",
     "text": [
      "new feedback gain is 5.378985654726927\n",
      "with cost of 0.5030419642053796\n",
      "starting epoch 449\n",
      "estimation error is 0.16931161387216043\n",
      "calculating optimal controller for estimated system\n"
     ]
    },
    {
     "name": "stderr",
     "output_type": "stream",
     "text": [
      "100%|██████████| 80/80 [00:00<00:00, 510.67it/s]\n",
      "  0%|          | 0/80 [00:00<?, ?it/s]"
     ]
    },
    {
     "name": "stdout",
     "output_type": "stream",
     "text": [
      "new feedback gain is 5.4107073424187915\n",
      "with cost of 0.5030730715250765\n",
      "starting epoch 450\n",
      "estimation error is 0.1691150672178109\n",
      "calculating optimal controller for estimated system\n"
     ]
    },
    {
     "name": "stderr",
     "output_type": "stream",
     "text": [
      "100%|██████████| 80/80 [00:00<00:00, 522.16it/s]\n",
      "  0%|          | 0/80 [00:00<?, ?it/s]"
     ]
    },
    {
     "name": "stdout",
     "output_type": "stream",
     "text": [
      "new feedback gain is 5.43925686134147\n",
      "with cost of 0.5031214794772562\n",
      "starting epoch 451\n",
      "estimation error is 0.16861668946761854\n",
      "calculating optimal controller for estimated system\n"
     ]
    },
    {
     "name": "stderr",
     "output_type": "stream",
     "text": [
      "100%|██████████| 80/80 [00:00<00:00, 498.06it/s]\n",
      "  0%|          | 0/80 [00:00<?, ?it/s]"
     ]
    },
    {
     "name": "stdout",
     "output_type": "stream",
     "text": [
      "new feedback gain is 5.46495142837188\n",
      "with cost of 0.5032249509785169\n",
      "starting epoch 452\n",
      "estimation error is 0.16821048737568045\n",
      "calculating optimal controller for estimated system\n"
     ]
    },
    {
     "name": "stderr",
     "output_type": "stream",
     "text": [
      "100%|██████████| 80/80 [00:00<00:00, 503.48it/s]\n",
      "  0%|          | 0/80 [00:00<?, ?it/s]"
     ]
    },
    {
     "name": "stdout",
     "output_type": "stream",
     "text": [
      "new feedback gain is 5.48807653869925\n",
      "with cost of 0.5033165350089003\n",
      "starting epoch 453\n",
      "estimation error is 0.1678909959175659\n",
      "calculating optimal controller for estimated system\n"
     ]
    },
    {
     "name": "stderr",
     "output_type": "stream",
     "text": [
      "100%|██████████| 80/80 [00:00<00:00, 513.79it/s]\n",
      "  0%|          | 0/80 [00:00<?, ?it/s]"
     ]
    },
    {
     "name": "stdout",
     "output_type": "stream",
     "text": [
      "new feedback gain is 5.508889137993883\n",
      "with cost of 0.5033977108907465\n",
      "starting epoch 454\n",
      "estimation error is 0.1675645642634258\n",
      "calculating optimal controller for estimated system\n"
     ]
    },
    {
     "name": "stderr",
     "output_type": "stream",
     "text": [
      "100%|██████████| 80/80 [00:00<00:00, 613.35it/s]\n",
      "  0%|          | 0/80 [00:00<?, ?it/s]"
     ]
    },
    {
     "name": "stdout",
     "output_type": "stream",
     "text": [
      "new feedback gain is 5.654202755840066\n",
      "with cost of 0.5040077990782559\n",
      "starting epoch 455\n",
      "estimation error is 0.16723895502842698\n",
      "calculating optimal controller for estimated system\n"
     ]
    },
    {
     "name": "stderr",
     "output_type": "stream",
     "text": [
      "100%|██████████| 80/80 [00:00<00:00, 611.96it/s]\n",
      "  0%|          | 0/80 [00:00<?, ?it/s]"
     ]
    },
    {
     "name": "stdout",
     "output_type": "stream",
     "text": [
      "new feedback gain is 5.784985011901629\n",
      "with cost of 0.5048552734154932\n",
      "starting epoch 456\n",
      "estimation error is 0.16692421740110888\n",
      "calculating optimal controller for estimated system\n"
     ]
    },
    {
     "name": "stderr",
     "output_type": "stream",
     "text": [
      "100%|██████████| 80/80 [00:00<00:00, 613.40it/s]\n",
      "  0%|          | 0/80 [00:00<?, ?it/s]"
     ]
    },
    {
     "name": "stdout",
     "output_type": "stream",
     "text": [
      "new feedback gain is 5.902689042357036\n",
      "with cost of 0.5058788808332286\n",
      "starting epoch 457\n",
      "estimation error is 0.16657313039158858\n",
      "calculating optimal controller for estimated system\n"
     ]
    },
    {
     "name": "stderr",
     "output_type": "stream",
     "text": [
      "100%|██████████| 80/80 [00:00<00:00, 612.87it/s]\n",
      "  0%|          | 0/80 [00:00<?, ?it/s]"
     ]
    },
    {
     "name": "stdout",
     "output_type": "stream",
     "text": [
      "new feedback gain is 6.008622669766902\n",
      "with cost of 0.5069809734479834\n",
      "starting epoch 458\n",
      "estimation error is 0.16625274250314181\n",
      "calculating optimal controller for estimated system\n"
     ]
    },
    {
     "name": "stderr",
     "output_type": "stream",
     "text": [
      "100%|██████████| 80/80 [00:00<00:00, 593.43it/s]\n",
      "  0%|          | 0/80 [00:00<?, ?it/s]"
     ]
    },
    {
     "name": "stdout",
     "output_type": "stream",
     "text": [
      "new feedback gain is 6.103962934435783\n",
      "with cost of 0.5081523621212058\n",
      "starting epoch 459\n",
      "estimation error is 0.1658158538829667\n",
      "calculating optimal controller for estimated system\n"
     ]
    },
    {
     "name": "stderr",
     "output_type": "stream",
     "text": [
      "100%|██████████| 80/80 [00:00<00:00, 594.46it/s]\n",
      "  0%|          | 0/80 [00:00<?, ?it/s]"
     ]
    },
    {
     "name": "stdout",
     "output_type": "stream",
     "text": [
      "new feedback gain is 6.189769172637774\n",
      "with cost of 0.5094198578448247\n",
      "starting epoch 460\n",
      "estimation error is 0.1654487028515408\n",
      "calculating optimal controller for estimated system\n"
     ]
    },
    {
     "name": "stderr",
     "output_type": "stream",
     "text": [
      "100%|██████████| 80/80 [00:00<00:00, 604.12it/s]\n",
      "  0%|          | 0/80 [00:00<?, ?it/s]"
     ]
    },
    {
     "name": "stdout",
     "output_type": "stream",
     "text": [
      "new feedback gain is 6.266994787019568\n",
      "with cost of 0.5107452502761768\n",
      "starting epoch 461\n",
      "estimation error is 0.1651105415748303\n",
      "calculating optimal controller for estimated system\n"
     ]
    },
    {
     "name": "stderr",
     "output_type": "stream",
     "text": [
      "100%|██████████| 80/80 [00:00<00:00, 597.10it/s]\n",
      "  0%|          | 0/80 [00:00<?, ?it/s]"
     ]
    },
    {
     "name": "stdout",
     "output_type": "stream",
     "text": [
      "new feedback gain is 6.336497839963181\n",
      "with cost of 0.5120864757938537\n",
      "starting epoch 462\n",
      "estimation error is 0.16490475402036509\n",
      "calculating optimal controller for estimated system\n"
     ]
    },
    {
     "name": "stderr",
     "output_type": "stream",
     "text": [
      "100%|██████████| 80/80 [00:00<00:00, 597.46it/s]\n",
      "  0%|          | 0/80 [00:00<?, ?it/s]"
     ]
    },
    {
     "name": "stdout",
     "output_type": "stream",
     "text": [
      "new feedback gain is 6.399050587612434\n",
      "with cost of 0.513426921570954\n",
      "starting epoch 463\n",
      "estimation error is 0.16462711032862043\n",
      "calculating optimal controller for estimated system\n"
     ]
    },
    {
     "name": "stderr",
     "output_type": "stream",
     "text": [
      "100%|██████████| 80/80 [00:00<00:00, 368.99it/s]\n",
      "  0%|          | 0/80 [00:00<?, ?it/s]"
     ]
    },
    {
     "name": "stdout",
     "output_type": "stream",
     "text": [
      "new feedback gain is 6.581930338977774\n",
      "with cost of 0.5181280059340427\n",
      "starting epoch 464\n",
      "estimation error is 0.16431789279412404\n",
      "calculating optimal controller for estimated system\n"
     ]
    },
    {
     "name": "stderr",
     "output_type": "stream",
     "text": [
      "100%|██████████| 80/80 [00:00<00:00, 762.40it/s]\n",
      "  0%|          | 0/80 [00:00<?, ?it/s]"
     ]
    },
    {
     "name": "stdout",
     "output_type": "stream",
     "text": [
      "new feedback gain is 6.74652211520658\n",
      "with cost of 0.5231695264363067\n",
      "starting epoch 465\n",
      "estimation error is 0.16403736021003956\n",
      "calculating optimal controller for estimated system\n"
     ]
    },
    {
     "name": "stderr",
     "output_type": "stream",
     "text": [
      "100%|██████████| 80/80 [00:00<00:00, 782.68it/s]\n",
      "  0%|          | 0/80 [00:00<?, ?it/s]"
     ]
    },
    {
     "name": "stdout",
     "output_type": "stream",
     "text": [
      "new feedback gain is 6.894654713812505\n",
      "with cost of 0.5282141441383499\n",
      "starting epoch 466\n",
      "estimation error is 0.16384172501613656\n",
      "calculating optimal controller for estimated system\n"
     ]
    },
    {
     "name": "stderr",
     "output_type": "stream",
     "text": [
      "100%|██████████| 80/80 [00:00<00:00, 759.01it/s]\n",
      "  0%|          | 0/80 [00:00<?, ?it/s]"
     ]
    },
    {
     "name": "stdout",
     "output_type": "stream",
     "text": [
      "new feedback gain is 7.027974052557838\n",
      "with cost of 0.533074171110511\n",
      "starting epoch 467\n",
      "estimation error is 0.16363951327445486\n",
      "calculating optimal controller for estimated system\n"
     ]
    },
    {
     "name": "stderr",
     "output_type": "stream",
     "text": [
      "100%|██████████| 80/80 [00:00<00:00, 748.69it/s]\n",
      "  0%|          | 0/80 [00:00<?, ?it/s]"
     ]
    },
    {
     "name": "stdout",
     "output_type": "stream",
     "text": [
      "new feedback gain is 7.147961457428637\n",
      "with cost of 0.5376741651767284\n",
      "starting epoch 468\n",
      "estimation error is 0.1633024238390552\n",
      "calculating optimal controller for estimated system\n"
     ]
    },
    {
     "name": "stderr",
     "output_type": "stream",
     "text": [
      "100%|██████████| 80/80 [00:00<00:00, 808.52it/s]\n",
      "  0%|          | 0/80 [00:00<?, ?it/s]"
     ]
    },
    {
     "name": "stdout",
     "output_type": "stream",
     "text": [
      "new feedback gain is 7.255950121812356\n",
      "with cost of 0.5420005022147998\n",
      "starting epoch 469\n",
      "estimation error is 0.1630300652669798\n",
      "calculating optimal controller for estimated system\n"
     ]
    },
    {
     "name": "stderr",
     "output_type": "stream",
     "text": [
      "100%|██████████| 80/80 [00:00<00:00, 765.12it/s]\n",
      "  0%|          | 0/80 [00:00<?, ?it/s]"
     ]
    },
    {
     "name": "stdout",
     "output_type": "stream",
     "text": [
      "new feedback gain is 7.353139919757703\n",
      "with cost of 0.5460443417697592\n",
      "starting epoch 470\n",
      "estimation error is 0.16273393952677595\n",
      "calculating optimal controller for estimated system\n"
     ]
    },
    {
     "name": "stderr",
     "output_type": "stream",
     "text": [
      "100%|██████████| 80/80 [00:00<00:00, 805.26it/s]\n",
      "  0%|          | 0/80 [00:00<?, ?it/s]"
     ]
    },
    {
     "name": "stdout",
     "output_type": "stream",
     "text": [
      "new feedback gain is 7.440610737908516\n",
      "with cost of 0.5497727462915643\n",
      "starting epoch 471\n",
      "estimation error is 0.16247885991963915\n",
      "calculating optimal controller for estimated system\n"
     ]
    },
    {
     "name": "stderr",
     "output_type": "stream",
     "text": [
      "100%|██████████| 80/80 [00:00<00:00, 663.65it/s]\n",
      "  0%|          | 0/80 [00:00<?, ?it/s]"
     ]
    },
    {
     "name": "stdout",
     "output_type": "stream",
     "text": [
      "new feedback gain is 7.519334474244248\n",
      "with cost of 0.5532287373605552\n",
      "starting epoch 472\n",
      "estimation error is 0.1620521070392888\n",
      "calculating optimal controller for estimated system\n"
     ]
    },
    {
     "name": "stderr",
     "output_type": "stream",
     "text": [
      "100%|██████████| 80/80 [00:00<00:00, 719.51it/s]\n",
      "  0%|          | 0/80 [00:00<?, ?it/s]"
     ]
    },
    {
     "name": "stdout",
     "output_type": "stream",
     "text": [
      "new feedback gain is 7.590185836946406\n",
      "with cost of 0.5564058483314147\n",
      "starting epoch 473\n",
      "estimation error is 0.1617038591142202\n",
      "calculating optimal controller for estimated system\n"
     ]
    },
    {
     "name": "stderr",
     "output_type": "stream",
     "text": [
      "100%|██████████| 80/80 [00:00<00:00, 630.85it/s]\n",
      "  0%|          | 0/80 [00:00<?, ?it/s]"
     ]
    },
    {
     "name": "stdout",
     "output_type": "stream",
     "text": [
      "new feedback gain is 7.653952063378349\n",
      "with cost of 0.5593198272074678\n",
      "starting epoch 474\n",
      "estimation error is 0.1614320174934809\n",
      "calculating optimal controller for estimated system\n"
     ]
    },
    {
     "name": "stderr",
     "output_type": "stream",
     "text": [
      "100%|██████████| 80/80 [00:00<00:00, 821.41it/s]\n",
      "  0%|          | 0/80 [00:00<?, ?it/s]"
     ]
    },
    {
     "name": "stdout",
     "output_type": "stream",
     "text": [
      "new feedback gain is 7.711341667167098\n",
      "with cost of 0.5619786990427448\n",
      "starting epoch 475\n",
      "estimation error is 0.16111050803890473\n",
      "calculating optimal controller for estimated system\n"
     ]
    },
    {
     "name": "stderr",
     "output_type": "stream",
     "text": [
      "100%|██████████| 80/80 [00:00<00:00, 684.31it/s]\n"
     ]
    },
    {
     "name": "stdout",
     "output_type": "stream",
     "text": [
      "new feedback gain is 7.762992310576971\n",
      "with cost of 0.5643933696750036\n",
      "starting epoch 476\n"
     ]
    },
    {
     "name": "stderr",
     "output_type": "stream",
     "text": [
      "100%|██████████| 80/80 [00:00<00:00, 573.10it/s]"
     ]
    },
    {
     "name": "stdout",
     "output_type": "stream",
     "text": [
      "estimation error is 0.1606823368651082\n",
      "calculating optimal controller for estimated system\n",
      "new feedback gain is 7.682895611164843\n",
      "with cost of 0.5606576382896855\n"
     ]
    },
    {
     "name": "stderr",
     "output_type": "stream",
     "text": [
      "\n",
      "  0%|          | 0/80 [00:00<?, ?it/s]"
     ]
    },
    {
     "name": "stdout",
     "output_type": "stream",
     "text": [
      "starting epoch 477\n",
      "estimation error is 0.16032104740778322\n",
      "calculating optimal controller for estimated system\n"
     ]
    },
    {
     "name": "stderr",
     "output_type": "stream",
     "text": [
      "100%|██████████| 80/80 [00:00<00:00, 829.02it/s]\n",
      "  0%|          | 0/80 [00:00<?, ?it/s]"
     ]
    },
    {
     "name": "stdout",
     "output_type": "stream",
     "text": [
      "new feedback gain is 7.737390860174942\n",
      "with cost of 0.5631939147193593\n",
      "starting epoch 478\n",
      "estimation error is 0.16009076308406653\n",
      "calculating optimal controller for estimated system\n"
     ]
    },
    {
     "name": "stderr",
     "output_type": "stream",
     "text": [
      "100%|██████████| 80/80 [00:00<00:00, 403.62it/s]\n",
      "  0%|          | 0/80 [00:00<?, ?it/s]"
     ]
    },
    {
     "name": "stdout",
     "output_type": "stream",
     "text": [
      "new feedback gain is 7.786436584284031\n",
      "with cost of 0.5654962445439561\n",
      "starting epoch 479\n",
      "estimation error is 0.15963713618037043\n",
      "calculating optimal controller for estimated system\n"
     ]
    },
    {
     "name": "stderr",
     "output_type": "stream",
     "text": [
      "100%|██████████| 80/80 [00:00<00:00, 800.62it/s]\n",
      "  0%|          | 0/80 [00:00<?, ?it/s]"
     ]
    },
    {
     "name": "stdout",
     "output_type": "stream",
     "text": [
      "new feedback gain is 7.830577735982211\n",
      "with cost of 0.5675844796058609\n",
      "starting epoch 480\n",
      "estimation error is 0.15933513220727927\n",
      "calculating optimal controller for estimated system\n"
     ]
    },
    {
     "name": "stderr",
     "output_type": "stream",
     "text": [
      "100%|██████████| 80/80 [00:00<00:00, 761.85it/s]\n",
      "  0%|          | 0/80 [00:00<?, ?it/s]"
     ]
    },
    {
     "name": "stdout",
     "output_type": "stream",
     "text": [
      "new feedback gain is 7.870304772510573\n",
      "with cost of 0.5694771086734991\n",
      "starting epoch 481\n",
      "estimation error is 0.15903489090090095\n",
      "calculating optimal controller for estimated system\n"
     ]
    },
    {
     "name": "stderr",
     "output_type": "stream",
     "text": [
      "100%|██████████| 80/80 [00:00<00:00, 802.79it/s]\n",
      "  0%|          | 0/80 [00:00<?, ?it/s]"
     ]
    },
    {
     "name": "stdout",
     "output_type": "stream",
     "text": [
      "new feedback gain is 7.906059105386099\n",
      "with cost of 0.5711912886301909\n",
      "starting epoch 482\n",
      "estimation error is 0.15867272245740657\n",
      "calculating optimal controller for estimated system\n"
     ]
    },
    {
     "name": "stderr",
     "output_type": "stream",
     "text": [
      "100%|██████████| 80/80 [00:00<00:00, 823.64it/s]\n",
      "  0%|          | 0/80 [00:00<?, ?it/s]"
     ]
    },
    {
     "name": "stdout",
     "output_type": "stream",
     "text": [
      "new feedback gain is 7.938238004974072\n",
      "with cost of 0.5727428892167056\n",
      "starting epoch 483\n",
      "estimation error is 0.15832337543969163\n",
      "calculating optimal controller for estimated system\n"
     ]
    },
    {
     "name": "stderr",
     "output_type": "stream",
     "text": [
      "100%|██████████| 80/80 [00:00<00:00, 801.05it/s]\n",
      "  0%|          | 0/80 [00:00<?, ?it/s]"
     ]
    },
    {
     "name": "stdout",
     "output_type": "stream",
     "text": [
      "new feedback gain is 7.967199014603248\n",
      "with cost of 0.574146547618567\n",
      "starting epoch 484\n",
      "estimation error is 0.15788957280245602\n",
      "calculating optimal controller for estimated system\n"
     ]
    },
    {
     "name": "stderr",
     "output_type": "stream",
     "text": [
      "100%|██████████| 80/80 [00:00<00:00, 800.52it/s]\n",
      "  0%|          | 0/80 [00:00<?, ?it/s]"
     ]
    },
    {
     "name": "stdout",
     "output_type": "stream",
     "text": [
      "new feedback gain is 7.993263923269507\n",
      "with cost of 0.57541572981243\n",
      "starting epoch 485\n",
      "estimation error is 0.15763741793166763\n",
      "calculating optimal controller for estimated system\n"
     ]
    },
    {
     "name": "stderr",
     "output_type": "stream",
     "text": [
      "100%|██████████| 80/80 [00:00<00:00, 744.42it/s]\n",
      "  0%|          | 0/80 [00:00<?, ?it/s]"
     ]
    },
    {
     "name": "stdout",
     "output_type": "stream",
     "text": [
      "new feedback gain is 8.016722341069139\n",
      "with cost of 0.5765627961433918\n",
      "starting epoch 486\n",
      "estimation error is 0.15726793914655\n",
      "calculating optimal controller for estimated system\n"
     ]
    },
    {
     "name": "stderr",
     "output_type": "stream",
     "text": [
      "100%|██████████| 80/80 [00:00<00:00, 759.13it/s]\n",
      "  0%|          | 0/80 [00:00<?, ?it/s]"
     ]
    },
    {
     "name": "stdout",
     "output_type": "stream",
     "text": [
      "new feedback gain is 8.037834917088809\n",
      "with cost of 0.5775990690946665\n",
      "starting epoch 487\n",
      "estimation error is 0.1569432072531444\n",
      "calculating optimal controller for estimated system\n"
     ]
    },
    {
     "name": "stderr",
     "output_type": "stream",
     "text": [
      "100%|██████████| 80/80 [00:00<00:00, 759.89it/s]\n",
      "  0%|          | 0/80 [00:00<?, ?it/s]"
     ]
    },
    {
     "name": "stdout",
     "output_type": "stream",
     "text": [
      "new feedback gain is 8.05683623550651\n",
      "with cost of 0.5785349016340148\n",
      "starting epoch 488\n",
      "estimation error is 0.15672970439851253\n",
      "calculating optimal controller for estimated system\n"
     ]
    },
    {
     "name": "stderr",
     "output_type": "stream",
     "text": [
      "100%|██████████| 80/80 [00:00<00:00, 729.02it/s]\n",
      "  0%|          | 0/80 [00:00<?, ?it/s]"
     ]
    },
    {
     "name": "stdout",
     "output_type": "stream",
     "text": [
      "new feedback gain is 8.073937422082443\n",
      "with cost of 0.5793797448815275\n",
      "starting epoch 489\n",
      "estimation error is 0.15650385825610572\n",
      "calculating optimal controller for estimated system\n"
     ]
    },
    {
     "name": "stderr",
     "output_type": "stream",
     "text": [
      "100%|██████████| 80/80 [00:00<00:00, 724.97it/s]\n",
      "  0%|          | 0/80 [00:00<?, ?it/s]"
     ]
    },
    {
     "name": "stdout",
     "output_type": "stream",
     "text": [
      "new feedback gain is 8.089328490000781\n",
      "with cost of 0.5801422141460915\n",
      "starting epoch 490\n",
      "estimation error is 0.15626527725339684\n",
      "calculating optimal controller for estimated system\n"
     ]
    },
    {
     "name": "stderr",
     "output_type": "stream",
     "text": [
      "100%|██████████| 80/80 [00:00<00:00, 749.31it/s]\n",
      "  0%|          | 0/80 [00:00<?, ?it/s]"
     ]
    },
    {
     "name": "stdout",
     "output_type": "stream",
     "text": [
      "new feedback gain is 8.103180451127287\n",
      "with cost of 0.5808301526290895\n",
      "starting epoch 491\n",
      "estimation error is 0.15594372225780603\n",
      "calculating optimal controller for estimated system\n"
     ]
    },
    {
     "name": "stderr",
     "output_type": "stream",
     "text": [
      "100%|██████████| 80/80 [00:00<00:00, 742.53it/s]\n",
      "100%|██████████| 80/80 [00:00<00:00, 1045.20it/s]"
     ]
    },
    {
     "name": "stdout",
     "output_type": "stream",
     "text": [
      "new feedback gain is 8.115647216141141\n",
      "with cost of 0.5814506922998341\n",
      "starting epoch 492\n",
      "estimation error is 0.15574150776843843\n",
      "calculating optimal controller for estimated system\n"
     ]
    },
    {
     "name": "stderr",
     "output_type": "stream",
     "text": [
      "\n",
      "  0%|          | 0/80 [00:00<?, ?it/s]"
     ]
    },
    {
     "name": "stdout",
     "output_type": "stream",
     "text": [
      "new feedback gain is 8.253449583134623\n",
      "with cost of 0.5883991695197895\n",
      "starting epoch 493\n",
      "estimation error is 0.15549212728814166\n",
      "calculating optimal controller for estimated system\n"
     ]
    },
    {
     "name": "stderr",
     "output_type": "stream",
     "text": [
      "100%|██████████| 80/80 [00:00<00:00, 682.38it/s]\n",
      "  0%|          | 0/80 [00:00<?, ?it/s]"
     ]
    },
    {
     "name": "stdout",
     "output_type": "stream",
     "text": [
      "new feedback gain is 8.250889434947744\n",
      "with cost of 0.5882685657819356\n",
      "starting epoch 494\n",
      "estimation error is 0.15510221921952233\n",
      "calculating optimal controller for estimated system\n"
     ]
    },
    {
     "name": "stderr",
     "output_type": "stream",
     "text": [
      "100%|██████████| 80/80 [00:00<00:00, 683.23it/s]\n",
      "  0%|          | 0/80 [00:00<?, ?it/s]"
     ]
    },
    {
     "name": "stdout",
     "output_type": "stream",
     "text": [
      "new feedback gain is 8.248585301579553\n",
      "with cost of 0.5881510719285771\n",
      "starting epoch 495\n",
      "estimation error is 0.15478265640971894\n",
      "calculating optimal controller for estimated system\n"
     ]
    },
    {
     "name": "stderr",
     "output_type": "stream",
     "text": [
      "100%|██████████| 80/80 [00:00<00:00, 835.20it/s]\n",
      "  0%|          | 0/80 [00:00<?, ?it/s]"
     ]
    },
    {
     "name": "stdout",
     "output_type": "stream",
     "text": [
      "new feedback gain is 8.24651158154818\n",
      "with cost of 0.5880453675401649\n",
      "starting epoch 496\n",
      "estimation error is 0.15449479999935659\n",
      "calculating optimal controller for estimated system\n"
     ]
    },
    {
     "name": "stderr",
     "output_type": "stream",
     "text": [
      "100%|██████████| 80/80 [00:00<00:00, 755.72it/s]\n",
      "100%|██████████| 80/80 [00:00<00:00, 1071.45it/s]"
     ]
    },
    {
     "name": "stdout",
     "output_type": "stream",
     "text": [
      "new feedback gain is 8.244645233519945\n",
      "with cost of 0.5879502660375492\n",
      "starting epoch 497\n",
      "estimation error is 0.15414853877171422\n",
      "calculating optimal controller for estimated system\n"
     ]
    },
    {
     "name": "stderr",
     "output_type": "stream",
     "text": [
      "\n",
      "  0%|          | 0/80 [00:00<?, ?it/s]"
     ]
    },
    {
     "name": "stdout",
     "output_type": "stream",
     "text": [
      "new feedback gain is 8.369547798775546\n",
      "with cost of 0.5943833177879999\n",
      "starting epoch 498\n",
      "estimation error is 0.15385003111527026\n",
      "calculating optimal controller for estimated system\n"
     ]
    },
    {
     "name": "stderr",
     "output_type": "stream",
     "text": [
      "100%|██████████| 80/80 [00:00<00:00, 937.75it/s]\n",
      "100%|██████████| 80/80 [00:00<00:00, 1084.04it/s]"
     ]
    },
    {
     "name": "stdout",
     "output_type": "stream",
     "text": [
      "new feedback gain is 8.481960107505587\n",
      "with cost of 0.6002944924952784\n",
      "starting epoch 499\n",
      "estimation error is 0.15365780922772385\n",
      "calculating optimal controller for estimated system\n"
     ]
    },
    {
     "name": "stderr",
     "output_type": "stream",
     "text": [
      "\n",
      "  0%|          | 0/80 [00:00<?, ?it/s]"
     ]
    },
    {
     "name": "stdout",
     "output_type": "stream",
     "text": [
      "new feedback gain is 8.583131185362625\n",
      "with cost of 0.6057158720475619\n",
      "starting epoch 500\n",
      "estimation error is 0.15340168347902722\n",
      "calculating optimal controller for estimated system\n"
     ]
    },
    {
     "name": "stderr",
     "output_type": "stream",
     "text": [
      "100%|██████████| 80/80 [00:00<00:00, 1024.71it/s]\n",
      "  0%|          | 0/80 [00:00<?, ?it/s]"
     ]
    },
    {
     "name": "stdout",
     "output_type": "stream",
     "text": [
      "new feedback gain is 8.674185155433957\n",
      "with cost of 0.6106794298897502\n",
      "starting epoch 501\n",
      "estimation error is 0.1531551820872666\n",
      "calculating optimal controller for estimated system\n"
     ]
    },
    {
     "name": "stderr",
     "output_type": "stream",
     "text": [
      "100%|██████████| 80/80 [00:00<00:00, 1049.57it/s]\n",
      "100%|██████████| 80/80 [00:00<00:00, 1705.76it/s]"
     ]
    },
    {
     "name": "stdout",
     "output_type": "stream",
     "text": [
      "new feedback gain is 8.756133728498156\n",
      "with cost of 0.6152166220103342\n",
      "starting epoch 502\n",
      "estimation error is 0.15293469108793661\n",
      "calculating optimal controller for estimated system\n"
     ]
    },
    {
     "name": "stderr",
     "output_type": "stream",
     "text": [
      "\n",
      "  0%|          | 0/80 [00:00<?, ?it/s]"
     ]
    },
    {
     "name": "stdout",
     "output_type": "stream",
     "text": [
      "new feedback gain is 7.8905203556483405\n",
      "with cost of 0.5704450450143872\n",
      "starting epoch 503\n",
      "estimation error is 0.15252677087580244\n",
      "calculating optimal controller for estimated system\n"
     ]
    },
    {
     "name": "stderr",
     "output_type": "stream",
     "text": [
      "100%|██████████| 80/80 [00:00<00:00, 764.04it/s]\n",
      "  0%|          | 0/80 [00:00<?, ?it/s]"
     ]
    },
    {
     "name": "stdout",
     "output_type": "stream",
     "text": [
      "new feedback gain is 8.050835408691102\n",
      "with cost of 0.5782390282255354\n",
      "starting epoch 504\n",
      "estimation error is 0.15220261920729164\n",
      "calculating optimal controller for estimated system\n"
     ]
    },
    {
     "name": "stderr",
     "output_type": "stream",
     "text": [
      "100%|██████████| 80/80 [00:00<00:00, 766.89it/s]\n",
      "  0%|          | 0/80 [00:00<?, ?it/s]"
     ]
    },
    {
     "name": "stdout",
     "output_type": "stream",
     "text": [
      "new feedback gain is 8.195118956429587\n",
      "with cost of 0.5854377876292706\n",
      "starting epoch 505\n",
      "estimation error is 0.15201242340696547\n",
      "calculating optimal controller for estimated system\n"
     ]
    },
    {
     "name": "stderr",
     "output_type": "stream",
     "text": [
      "100%|██████████| 80/80 [00:00<00:00, 731.87it/s]\n",
      "  0%|          | 0/80 [00:00<?, ?it/s]"
     ]
    },
    {
     "name": "stdout",
     "output_type": "stream",
     "text": [
      "new feedback gain is 8.324974149394224\n",
      "with cost of 0.5920714964836552\n",
      "starting epoch 506\n",
      "estimation error is 0.1517772415224731\n",
      "calculating optimal controller for estimated system\n"
     ]
    },
    {
     "name": "stderr",
     "output_type": "stream",
     "text": [
      "100%|██████████| 80/80 [00:00<00:00, 740.99it/s]\n",
      "  0%|          | 0/80 [00:00<?, ?it/s]"
     ]
    },
    {
     "name": "stdout",
     "output_type": "stream",
     "text": [
      "new feedback gain is 8.441843823062397\n",
      "with cost of 0.5981715568768843\n",
      "starting epoch 507\n",
      "estimation error is 0.15150295274701284\n",
      "calculating optimal controller for estimated system\n"
     ]
    },
    {
     "name": "stderr",
     "output_type": "stream",
     "text": [
      "100%|██████████| 80/80 [00:00<00:00, 727.27it/s]\n",
      "  0%|          | 0/80 [00:00<?, ?it/s]"
     ]
    },
    {
     "name": "stdout",
     "output_type": "stream",
     "text": [
      "new feedback gain is 8.547026529363754\n",
      "with cost of 0.603769969602618\n",
      "starting epoch 508\n",
      "estimation error is 0.15125791655912668\n",
      "calculating optimal controller for estimated system\n"
     ]
    },
    {
     "name": "stderr",
     "output_type": "stream",
     "text": [
      "100%|██████████| 80/80 [00:00<00:00, 814.25it/s]\n",
      "  0%|          | 0/80 [00:00<?, ?it/s]"
     ]
    },
    {
     "name": "stdout",
     "output_type": "stream",
     "text": [
      "new feedback gain is 8.641690965034973\n",
      "with cost of 0.6088988003978217\n",
      "starting epoch 509\n",
      "estimation error is 0.15103153725146162\n",
      "calculating optimal controller for estimated system\n"
     ]
    },
    {
     "name": "stderr",
     "output_type": "stream",
     "text": [
      "100%|██████████| 80/80 [00:00<00:00, 739.17it/s]\n",
      "  0%|          | 0/80 [00:00<?, ?it/s]"
     ]
    },
    {
     "name": "stdout",
     "output_type": "stream",
     "text": [
      "new feedback gain is 8.72688895713907\n",
      "with cost of 0.6135897384333527\n",
      "starting epoch 510\n",
      "estimation error is 0.15078784601210032\n",
      "calculating optimal controller for estimated system\n"
     ]
    },
    {
     "name": "stderr",
     "output_type": "stream",
     "text": [
      "100%|██████████| 80/80 [00:00<00:00, 756.34it/s]\n",
      "  0%|          | 0/80 [00:00<?, ?it/s]"
     ]
    },
    {
     "name": "stdout",
     "output_type": "stream",
     "text": [
      "new feedback gain is 8.803567150032759\n",
      "with cost of 0.6178737405233137\n",
      "starting epoch 511\n",
      "estimation error is 0.150566845691429\n",
      "calculating optimal controller for estimated system\n"
     ]
    },
    {
     "name": "stderr",
     "output_type": "stream",
     "text": [
      "100%|██████████| 80/80 [00:00<00:00, 741.87it/s]\n",
      "  0%|          | 0/80 [00:00<?, ?it/s]"
     ]
    },
    {
     "name": "stdout",
     "output_type": "stream",
     "text": [
      "new feedback gain is 8.872577523637078\n",
      "with cost of 0.6217807529945587\n",
      "starting epoch 512\n",
      "estimation error is 0.150309727951497\n",
      "calculating optimal controller for estimated system\n"
     ]
    },
    {
     "name": "stderr",
     "output_type": "stream",
     "text": [
      "100%|██████████| 80/80 [00:00<00:00, 1027.68it/s]\n",
      "  0%|          | 0/80 [00:00<?, ?it/s]"
     ]
    },
    {
     "name": "stdout",
     "output_type": "stream",
     "text": [
      "new feedback gain is 9.061269138361979\n",
      "with cost of 0.6327198827862187\n",
      "starting epoch 513\n",
      "estimation error is 0.14997780033538763\n",
      "calculating optimal controller for estimated system\n"
     ]
    },
    {
     "name": "stderr",
     "output_type": "stream",
     "text": [
      "100%|██████████| 80/80 [00:00<00:00, 1028.45it/s]\n",
      "  0%|          | 0/80 [00:00<?, ?it/s]"
     ]
    },
    {
     "name": "stdout",
     "output_type": "stream",
     "text": [
      "new feedback gain is 9.231091591614389\n",
      "with cost of 0.6428990783657268\n",
      "starting epoch 514\n",
      "estimation error is 0.14967519908925256\n",
      "calculating optimal controller for estimated system\n"
     ]
    },
    {
     "name": "stderr",
     "output_type": "stream",
     "text": [
      "100%|██████████| 80/80 [00:00<00:00, 1062.68it/s]\n",
      "  0%|          | 0/80 [00:00<?, ?it/s]"
     ]
    },
    {
     "name": "stdout",
     "output_type": "stream",
     "text": [
      "new feedback gain is 9.383931799541559\n",
      "with cost of 0.6523441414989267\n",
      "starting epoch 515\n",
      "estimation error is 0.14934130960001513\n",
      "calculating optimal controller for estimated system\n"
     ]
    },
    {
     "name": "stderr",
     "output_type": "stream",
     "text": [
      "100%|██████████| 80/80 [00:00<00:00, 1080.30it/s]\n",
      "100%|██████████| 80/80 [00:00<00:00, 1583.62it/s]"
     ]
    },
    {
     "name": "stdout",
     "output_type": "stream",
     "text": [
      "new feedback gain is 9.52148798667601\n",
      "with cost of 0.6610848444658346\n",
      "starting epoch 516\n",
      "estimation error is 0.14917925080984226\n",
      "calculating optimal controller for estimated system\n"
     ]
    },
    {
     "name": "stderr",
     "output_type": "stream",
     "text": [
      "\n",
      "100%|██████████| 80/80 [00:00<00:00, 1615.03it/s]"
     ]
    },
    {
     "name": "stdout",
     "output_type": "stream",
     "text": [
      "new feedback gain is 8.57933918800841\n",
      "with cost of 0.6055109092819481\n",
      "starting epoch 517\n",
      "estimation error is 0.14890068915874974\n",
      "calculating optimal controller for estimated system\n"
     ]
    },
    {
     "name": "stderr",
     "output_type": "stream",
     "text": [
      "\n",
      "100%|██████████| 80/80 [00:00<00:00, 1608.39it/s]"
     ]
    },
    {
     "name": "stdout",
     "output_type": "stream",
     "text": [
      "new feedback gain is 7.731405269207569\n",
      "with cost of 0.5629142177216494\n",
      "starting epoch 518\n",
      "estimation error is 0.14863418442320203\n",
      "calculating optimal controller for estimated system\n"
     ]
    },
    {
     "name": "stderr",
     "output_type": "stream",
     "text": [
      "\n",
      "100%|██████████| 80/80 [00:00<00:00, 1471.65it/s]"
     ]
    },
    {
     "name": "stdout",
     "output_type": "stream",
     "text": [
      "new feedback gain is 6.968264742286812\n",
      "with cost of 0.5308365287940914\n",
      "starting epoch 519\n",
      "estimation error is 0.14828935043876654\n",
      "calculating optimal controller for estimated system\n"
     ]
    },
    {
     "name": "stderr",
     "output_type": "stream",
     "text": [
      "\n",
      "100%|██████████| 80/80 [00:00<00:00, 1696.61it/s]"
     ]
    },
    {
     "name": "stdout",
     "output_type": "stream",
     "text": [
      "new feedback gain is 6.281438268058131\n",
      "with cost of 0.5109987040466752\n",
      "starting epoch 520\n",
      "estimation error is 0.14784926622434966\n",
      "calculating optimal controller for estimated system\n"
     ]
    },
    {
     "name": "stderr",
     "output_type": "stream",
     "text": [
      "\n",
      "  0%|          | 0/80 [00:00<?, ?it/s]"
     ]
    },
    {
     "name": "stdout",
     "output_type": "stream",
     "text": [
      "new feedback gain is 5.663294441252318\n",
      "with cost of 0.5040681416202045\n",
      "starting epoch 521\n",
      "estimation error is 0.14746899008728007\n",
      "calculating optimal controller for estimated system\n"
     ]
    },
    {
     "name": "stderr",
     "output_type": "stream",
     "text": [
      "100%|██████████| 80/80 [00:00<00:00, 602.07it/s]\n",
      "  0%|          | 0/80 [00:00<?, ?it/s]"
     ]
    },
    {
     "name": "stdout",
     "output_type": "stream",
     "text": [
      "new feedback gain is 6.1729143642156945\n",
      "with cost of 0.5091718265229135\n",
      "starting epoch 522\n",
      "estimation error is 0.14729420053848324\n",
      "calculating optimal controller for estimated system\n"
     ]
    },
    {
     "name": "stderr",
     "output_type": "stream",
     "text": [
      "100%|██████████| 80/80 [00:00<00:00, 879.03it/s]\n",
      "  0%|          | 0/80 [00:00<?, ?it/s]"
     ]
    },
    {
     "name": "stdout",
     "output_type": "stream",
     "text": [
      "new feedback gain is 6.631572294882734\n",
      "with cost of 0.5195681956005214\n",
      "starting epoch 523\n",
      "estimation error is 0.14717515695033867\n",
      "calculating optimal controller for estimated system\n"
     ]
    },
    {
     "name": "stderr",
     "output_type": "stream",
     "text": [
      "100%|██████████| 80/80 [00:00<00:00, 1039.68it/s]\n",
      "100%|██████████| 80/80 [00:00<00:00, 1200.57it/s]"
     ]
    },
    {
     "name": "stdout",
     "output_type": "stream",
     "text": [
      "new feedback gain is 7.044364432483069\n",
      "with cost of 0.5336932279219286\n",
      "starting epoch 524\n",
      "estimation error is 0.14688001706708678\n",
      "calculating optimal controller for estimated system\n"
     ]
    },
    {
     "name": "stderr",
     "output_type": "stream",
     "text": [
      "\n",
      "  0%|          | 0/80 [00:00<?, ?it/s]"
     ]
    },
    {
     "name": "stdout",
     "output_type": "stream",
     "text": [
      "new feedback gain is 7.41587735632337\n",
      "with cost of 0.5487007808298608\n",
      "starting epoch 525\n",
      "estimation error is 0.14665370415742396\n",
      "calculating optimal controller for estimated system\n"
     ]
    },
    {
     "name": "stderr",
     "output_type": "stream",
     "text": [
      "100%|██████████| 80/80 [00:00<00:00, 761.64it/s]\n",
      "  0%|          | 0/80 [00:00<?, ?it/s]"
     ]
    },
    {
     "name": "stdout",
     "output_type": "stream",
     "text": [
      "new feedback gain is 7.750238987779641\n",
      "with cost of 0.5637952257105807\n",
      "starting epoch 526\n",
      "estimation error is 0.146373115582479\n",
      "calculating optimal controller for estimated system\n"
     ]
    },
    {
     "name": "stderr",
     "output_type": "stream",
     "text": [
      "100%|██████████| 80/80 [00:00<00:00, 811.49it/s]\n",
      "  0%|          | 0/80 [00:00<?, ?it/s]"
     ]
    },
    {
     "name": "stdout",
     "output_type": "stream",
     "text": [
      "new feedback gain is 8.051164456090284\n",
      "with cost of 0.578255244217861\n",
      "starting epoch 527\n",
      "estimation error is 0.14603562229224104\n",
      "calculating optimal controller for estimated system\n"
     ]
    },
    {
     "name": "stderr",
     "output_type": "stream",
     "text": [
      "100%|██████████| 80/80 [00:00<00:00, 1059.24it/s]\n",
      "  0%|          | 0/80 [00:00<?, ?it/s]"
     ]
    },
    {
     "name": "stdout",
     "output_type": "stream",
     "text": [
      "new feedback gain is 8.321997377569865\n",
      "with cost of 0.5919177453739176\n",
      "starting epoch 528\n",
      "estimation error is 0.14578848087018506\n",
      "calculating optimal controller for estimated system\n"
     ]
    },
    {
     "name": "stderr",
     "output_type": "stream",
     "text": [
      "100%|██████████| 80/80 [00:00<00:00, 1061.83it/s]\n",
      "100%|██████████| 80/80 [00:00<00:00, 1125.08it/s]"
     ]
    },
    {
     "name": "stdout",
     "output_type": "stream",
     "text": [
      "new feedback gain is 8.565747006901486\n",
      "with cost of 0.6047773699331712\n",
      "starting epoch 529\n",
      "estimation error is 0.14555198986878642\n",
      "calculating optimal controller for estimated system\n"
     ]
    },
    {
     "name": "stderr",
     "output_type": "stream",
     "text": [
      "\n",
      "  0%|          | 0/80 [00:00<?, ?it/s]"
     ]
    },
    {
     "name": "stdout",
     "output_type": "stream",
     "text": [
      "new feedback gain is 8.785121673299944\n",
      "with cost of 0.6168377448639801\n",
      "starting epoch 530\n",
      "estimation error is 0.14531928226569357\n",
      "calculating optimal controller for estimated system\n"
     ]
    },
    {
     "name": "stderr",
     "output_type": "stream",
     "text": [
      "100%|██████████| 80/80 [00:00<00:00, 987.48it/s]\n",
      "100%|██████████| 80/80 [00:00<00:00, 1160.88it/s]"
     ]
    },
    {
     "name": "stdout",
     "output_type": "stream",
     "text": [
      "new feedback gain is 8.982558873058558\n",
      "with cost of 0.6281103698491278\n",
      "starting epoch 531\n",
      "estimation error is 0.14504887513920647\n",
      "calculating optimal controller for estimated system\n"
     ]
    },
    {
     "name": "stderr",
     "output_type": "stream",
     "text": [
      "\n",
      "  0%|          | 0/80 [00:00<?, ?it/s]"
     ]
    },
    {
     "name": "stdout",
     "output_type": "stream",
     "text": [
      "new feedback gain is 9.16025235284131\n",
      "with cost of 0.6386134560388167\n",
      "starting epoch 532\n",
      "estimation error is 0.14477469475674892\n",
      "calculating optimal controller for estimated system\n"
     ]
    },
    {
     "name": "stderr",
     "output_type": "stream",
     "text": [
      "100%|██████████| 80/80 [00:00<00:00, 988.69it/s]\n",
      "  0%|          | 0/80 [00:00<?, ?it/s]"
     ]
    },
    {
     "name": "stdout",
     "output_type": "stream",
     "text": [
      "new feedback gain is 9.320176484645787\n",
      "with cost of 0.6483707658514157\n",
      "starting epoch 533\n",
      "estimation error is 0.14448113250705766\n",
      "calculating optimal controller for estimated system\n"
     ]
    },
    {
     "name": "stderr",
     "output_type": "stream",
     "text": [
      "100%|██████████| 80/80 [00:00<00:00, 1116.24it/s]\n",
      "  0%|          | 0/80 [00:00<?, ?it/s]"
     ]
    },
    {
     "name": "stdout",
     "output_type": "stream",
     "text": [
      "new feedback gain is 9.464108203269816\n",
      "with cost of 0.6574104933731248\n",
      "starting epoch 534\n",
      "estimation error is 0.14426824005614525\n",
      "calculating optimal controller for estimated system\n"
     ]
    },
    {
     "name": "stderr",
     "output_type": "stream",
     "text": [
      "100%|██████████| 80/80 [00:00<00:00, 716.76it/s]\n",
      "  0%|          | 0/80 [00:00<?, ?it/s]"
     ]
    },
    {
     "name": "stdout",
     "output_type": "stream",
     "text": [
      "new feedback gain is 9.46706447155043\n",
      "with cost of 0.6575988029384953\n",
      "starting epoch 535\n",
      "estimation error is 0.14403285371790994\n",
      "calculating optimal controller for estimated system\n"
     ]
    },
    {
     "name": "stderr",
     "output_type": "stream",
     "text": [
      "100%|██████████| 80/80 [00:00<00:00, 802.47it/s]\n",
      "  0%|          | 0/80 [00:00<?, ?it/s]"
     ]
    },
    {
     "name": "stdout",
     "output_type": "stream",
     "text": [
      "new feedback gain is 9.469725113002982\n",
      "with cost of 0.657768373688516\n",
      "starting epoch 536\n",
      "estimation error is 0.1437570744152919\n",
      "calculating optimal controller for estimated system\n"
     ]
    },
    {
     "name": "stderr",
     "output_type": "stream",
     "text": [
      "100%|██████████| 80/80 [00:00<00:00, 618.28it/s]\n",
      "  0%|          | 0/80 [00:00<?, ?it/s]"
     ]
    },
    {
     "name": "stdout",
     "output_type": "stream",
     "text": [
      "new feedback gain is 9.472119690310278\n",
      "with cost of 0.6579210620557103\n",
      "starting epoch 537\n",
      "estimation error is 0.14350130200644304\n",
      "calculating optimal controller for estimated system\n"
     ]
    },
    {
     "name": "stderr",
     "output_type": "stream",
     "text": [
      "100%|██████████| 80/80 [00:00<00:00, 700.50it/s]\n",
      "  0%|          | 0/80 [00:00<?, ?it/s]"
     ]
    },
    {
     "name": "stdout",
     "output_type": "stream",
     "text": [
      "new feedback gain is 9.474274809886845\n",
      "with cost of 0.6580585421290344\n",
      "starting epoch 538\n",
      "estimation error is 0.14322563454182932\n",
      "calculating optimal controller for estimated system\n"
     ]
    },
    {
     "name": "stderr",
     "output_type": "stream",
     "text": [
      "100%|██████████| 80/80 [00:00<00:00, 789.25it/s]\n",
      "  0%|          | 0/80 [00:00<?, ?it/s]"
     ]
    },
    {
     "name": "stdout",
     "output_type": "stream",
     "text": [
      "new feedback gain is 9.476214417505755\n",
      "with cost of 0.6581823232655161\n",
      "starting epoch 539\n",
      "estimation error is 0.14307907169546916\n",
      "calculating optimal controller for estimated system\n"
     ]
    },
    {
     "name": "stderr",
     "output_type": "stream",
     "text": [
      "100%|██████████| 80/80 [00:00<00:00, 720.79it/s]\n",
      "  0%|          | 0/80 [00:00<?, ?it/s]"
     ]
    },
    {
     "name": "stdout",
     "output_type": "stream",
     "text": [
      "new feedback gain is 9.477960064362774\n",
      "with cost of 0.6582937660579038\n",
      "starting epoch 540\n",
      "estimation error is 0.14286531978950195\n",
      "calculating optimal controller for estimated system\n"
     ]
    },
    {
     "name": "stderr",
     "output_type": "stream",
     "text": [
      "100%|██████████| 80/80 [00:00<00:00, 817.79it/s]\n",
      "  0%|          | 0/80 [00:00<?, ?it/s]"
     ]
    },
    {
     "name": "stdout",
     "output_type": "stream",
     "text": [
      "new feedback gain is 9.479531146534091\n",
      "with cost of 0.6583940968007759\n",
      "starting epoch 541\n",
      "estimation error is 0.14258692779396875\n",
      "calculating optimal controller for estimated system\n"
     ]
    },
    {
     "name": "stderr",
     "output_type": "stream",
     "text": [
      "100%|██████████| 80/80 [00:00<00:00, 805.44it/s]\n",
      "  0%|          | 0/80 [00:00<?, ?it/s]"
     ]
    },
    {
     "name": "stdout",
     "output_type": "stream",
     "text": [
      "new feedback gain is 9.480945120488277\n",
      "with cost of 0.6584844205873872\n",
      "starting epoch 542\n",
      "estimation error is 0.1422641831701924\n",
      "calculating optimal controller for estimated system\n"
     ]
    },
    {
     "name": "stderr",
     "output_type": "stream",
     "text": [
      "100%|██████████| 80/80 [00:00<00:00, 785.44it/s]\n",
      "  0%|          | 0/80 [00:00<?, ?it/s]"
     ]
    },
    {
     "name": "stdout",
     "output_type": "stream",
     "text": [
      "new feedback gain is 9.482217697047044\n",
      "with cost of 0.6585657331596564\n",
      "starting epoch 543\n",
      "estimation error is 0.1420654421017924\n",
      "calculating optimal controller for estimated system\n"
     ]
    },
    {
     "name": "stderr",
     "output_type": "stream",
     "text": [
      "100%|██████████| 80/80 [00:00<00:00, 740.90it/s]\n",
      "  0%|          | 0/80 [00:00<?, ?it/s]"
     ]
    },
    {
     "name": "stdout",
     "output_type": "stream",
     "text": [
      "new feedback gain is 9.483363015949935\n",
      "with cost of 0.6586389316241558\n",
      "starting epoch 544\n",
      "estimation error is 0.14186433686638708\n",
      "calculating optimal controller for estimated system\n"
     ]
    },
    {
     "name": "stderr",
     "output_type": "stream",
     "text": [
      "100%|██████████| 80/80 [00:00<00:00, 765.79it/s]\n",
      "  0%|          | 0/80 [00:00<?, ?it/s]"
     ]
    },
    {
     "name": "stdout",
     "output_type": "stream",
     "text": [
      "new feedback gain is 9.484393802962536\n",
      "with cost of 0.6587048241379025\n",
      "starting epoch 545\n",
      "estimation error is 0.14159852898238567\n",
      "calculating optimal controller for estimated system\n"
     ]
    },
    {
     "name": "stderr",
     "output_type": "stream",
     "text": [
      "100%|██████████| 80/80 [00:00<00:00, 833.71it/s]\n",
      "  0%|          | 0/80 [00:00<?, ?it/s]"
     ]
    },
    {
     "name": "stdout",
     "output_type": "stream",
     "text": [
      "new feedback gain is 9.485321511273877\n",
      "with cost of 0.6587641386591714\n",
      "starting epoch 546\n",
      "estimation error is 0.1412483580537948\n",
      "calculating optimal controller for estimated system\n"
     ]
    },
    {
     "name": "stderr",
     "output_type": "stream",
     "text": [
      "100%|██████████| 80/80 [00:00<00:00, 608.17it/s]\n",
      "  0%|          | 0/80 [00:00<?, ?it/s]"
     ]
    },
    {
     "name": "stdout",
     "output_type": "stream",
     "text": [
      "new feedback gain is 9.486156448754084\n",
      "with cost of 0.6588175308504869\n",
      "starting epoch 547\n",
      "estimation error is 0.14102092880544506\n",
      "calculating optimal controller for estimated system\n"
     ]
    },
    {
     "name": "stderr",
     "output_type": "stream",
     "text": [
      "100%|██████████| 80/80 [00:00<00:00, 624.18it/s]\n",
      "  0%|          | 0/80 [00:00<?, ?it/s]"
     ]
    },
    {
     "name": "stdout",
     "output_type": "stream",
     "text": [
      "new feedback gain is 9.48690789248627\n",
      "with cost of 0.6588655912134298\n",
      "starting epoch 548\n",
      "estimation error is 0.14074699516688463\n",
      "calculating optimal controller for estimated system\n"
     ]
    },
    {
     "name": "stderr",
     "output_type": "stream",
     "text": [
      "100%|██████████| 80/80 [00:00<00:00, 594.19it/s]\n",
      "  0%|          | 0/80 [00:00<?, ?it/s]"
     ]
    },
    {
     "name": "stdout",
     "output_type": "stream",
     "text": [
      "new feedback gain is 9.487584191845238\n",
      "with cost of 0.6589088515279047\n",
      "starting epoch 549\n",
      "estimation error is 0.1404574959078168\n",
      "calculating optimal controller for estimated system\n"
     ]
    },
    {
     "name": "stderr",
     "output_type": "stream",
     "text": [
      "100%|██████████| 80/80 [00:00<00:00, 587.40it/s]\n",
      "  0%|          | 0/80 [00:00<?, ?it/s]"
     ]
    },
    {
     "name": "stdout",
     "output_type": "stream",
     "text": [
      "new feedback gain is 9.48819286126831\n",
      "with cost of 0.6589477906620279\n",
      "starting epoch 550\n",
      "estimation error is 0.14014673216304574\n",
      "calculating optimal controller for estimated system\n"
     ]
    },
    {
     "name": "stderr",
     "output_type": "stream",
     "text": [
      "100%|██████████| 80/80 [00:00<00:00, 618.16it/s]\n",
      "  0%|          | 0/80 [00:00<?, ?it/s]"
     ]
    },
    {
     "name": "stdout",
     "output_type": "stream",
     "text": [
      "new feedback gain is 9.488740663749073\n",
      "with cost of 0.6589828398128238\n",
      "starting epoch 551\n",
      "estimation error is 0.13991182010015218\n",
      "calculating optimal controller for estimated system\n"
     ]
    },
    {
     "name": "stderr",
     "output_type": "stream",
     "text": [
      "100%|██████████| 80/80 [00:00<00:00, 573.88it/s]\n",
      "  0%|          | 0/80 [00:00<?, ?it/s]"
     ]
    },
    {
     "name": "stdout",
     "output_type": "stream",
     "text": [
      "new feedback gain is 9.48923368598176\n",
      "with cost of 0.6590143872324179\n",
      "starting epoch 552\n",
      "estimation error is 0.1396886834609844\n",
      "calculating optimal controller for estimated system\n"
     ]
    },
    {
     "name": "stderr",
     "output_type": "stream",
     "text": [
      "100%|██████████| 80/80 [00:00<00:00, 607.63it/s]\n",
      "  0%|          | 0/80 [00:00<?, ?it/s]"
     ]
    },
    {
     "name": "stdout",
     "output_type": "stream",
     "text": [
      "new feedback gain is 9.489677405991179\n",
      "with cost of 0.6590427824893639\n",
      "starting epoch 553\n",
      "estimation error is 0.1394564058035066\n",
      "calculating optimal controller for estimated system\n"
     ]
    },
    {
     "name": "stderr",
     "output_type": "stream",
     "text": [
      "100%|██████████| 80/80 [00:00<00:00, 591.35it/s]\n",
      "  0%|          | 0/80 [00:00<?, ?it/s]"
     ]
    },
    {
     "name": "stdout",
     "output_type": "stream",
     "text": [
      "new feedback gain is 9.490076753999656\n",
      "with cost of 0.659068340310128\n",
      "starting epoch 554\n",
      "estimation error is 0.13924737746280366\n",
      "calculating optimal controller for estimated system\n"
     ]
    },
    {
     "name": "stderr",
     "output_type": "stream",
     "text": [
      "100%|██████████| 80/80 [00:00<00:00, 609.80it/s]\n",
      "  0%|          | 0/80 [00:00<?, ?it/s]"
     ]
    },
    {
     "name": "stdout",
     "output_type": "stream",
     "text": [
      "new feedback gain is 9.490436167207285\n",
      "with cost of 0.6590913440415181\n",
      "starting epoch 555\n",
      "estimation error is 0.13899625557416498\n",
      "calculating optimal controller for estimated system\n"
     ]
    },
    {
     "name": "stderr",
     "output_type": "stream",
     "text": [
      "100%|██████████| 80/80 [00:00<00:00, 624.78it/s]\n",
      "  0%|          | 0/80 [00:00<?, ?it/s]"
     ]
    },
    {
     "name": "stdout",
     "output_type": "stream",
     "text": [
      "new feedback gain is 9.490759639094152\n",
      "with cost of 0.6591120487710022\n",
      "starting epoch 556\n",
      "estimation error is 0.13875713391005232\n",
      "calculating optimal controller for estimated system\n"
     ]
    },
    {
     "name": "stderr",
     "output_type": "stream",
     "text": [
      "100%|██████████| 80/80 [00:00<00:00, 591.28it/s]\n",
      "  0%|          | 0/80 [00:00<?, ?it/s]"
     ]
    },
    {
     "name": "stdout",
     "output_type": "stream",
     "text": [
      "new feedback gain is 9.491050763792332\n",
      "with cost of 0.6591306841383407\n",
      "starting epoch 557\n",
      "estimation error is 0.13849688497399787\n",
      "calculating optimal controller for estimated system\n"
     ]
    },
    {
     "name": "stderr",
     "output_type": "stream",
     "text": [
      "100%|██████████| 80/80 [00:00<00:00, 491.38it/s]\n",
      "  0%|          | 0/80 [00:00<?, ?it/s]"
     ]
    },
    {
     "name": "stdout",
     "output_type": "stream",
     "text": [
      "new feedback gain is 9.364730497539682\n",
      "with cost of 0.6511423639476026\n",
      "starting epoch 558\n",
      "estimation error is 0.13827552589295697\n",
      "calculating optimal controller for estimated system\n"
     ]
    },
    {
     "name": "stderr",
     "output_type": "stream",
     "text": [
      "100%|██████████| 80/80 [00:00<00:00, 591.05it/s]\n",
      "  0%|          | 0/80 [00:00<?, ?it/s]"
     ]
    },
    {
     "name": "stdout",
     "output_type": "stream",
     "text": [
      "new feedback gain is 9.37762453639331\n",
      "with cost of 0.651948892047326\n",
      "starting epoch 559\n",
      "estimation error is 0.13802317080782342\n",
      "calculating optimal controller for estimated system\n"
     ]
    },
    {
     "name": "stderr",
     "output_type": "stream",
     "text": [
      "100%|██████████| 80/80 [00:00<00:00, 593.63it/s]\n",
      "  0%|          | 0/80 [00:00<?, ?it/s]"
     ]
    },
    {
     "name": "stdout",
     "output_type": "stream",
     "text": [
      "new feedback gain is 9.389229171361574\n",
      "with cost of 0.652676475344953\n",
      "starting epoch 560\n",
      "estimation error is 0.13782671024989646\n",
      "calculating optimal controller for estimated system\n"
     ]
    },
    {
     "name": "stderr",
     "output_type": "stream",
     "text": [
      "100%|██████████| 80/80 [00:00<00:00, 615.26it/s]\n",
      "  0%|          | 0/80 [00:00<?, ?it/s]"
     ]
    },
    {
     "name": "stdout",
     "output_type": "stream",
     "text": [
      "new feedback gain is 9.399673342833012\n",
      "with cost of 0.653332688441114\n",
      "starting epoch 561\n",
      "estimation error is 0.13764043027207054\n",
      "calculating optimal controller for estimated system\n"
     ]
    },
    {
     "name": "stderr",
     "output_type": "stream",
     "text": [
      "100%|██████████| 80/80 [00:00<00:00, 586.49it/s]\n",
      "  0%|          | 0/80 [00:00<?, ?it/s]"
     ]
    },
    {
     "name": "stdout",
     "output_type": "stream",
     "text": [
      "new feedback gain is 9.409073097157306\n",
      "with cost of 0.6539244080099393\n",
      "starting epoch 562\n",
      "estimation error is 0.13743228861972998\n",
      "calculating optimal controller for estimated system\n"
     ]
    },
    {
     "name": "stderr",
     "output_type": "stream",
     "text": [
      "100%|██████████| 80/80 [00:00<00:00, 598.54it/s]\n",
      "  0%|          | 0/80 [00:00<?, ?it/s]"
     ]
    },
    {
     "name": "stdout",
     "output_type": "stream",
     "text": [
      "new feedback gain is 9.41753287604917\n",
      "with cost of 0.6544578716124315\n",
      "starting epoch 563\n",
      "estimation error is 0.1371929615483743\n",
      "calculating optimal controller for estimated system\n"
     ]
    },
    {
     "name": "stderr",
     "output_type": "stream",
     "text": [
      "100%|██████████| 80/80 [00:00<00:00, 604.05it/s]\n",
      "  0%|          | 0/80 [00:00<?, ?it/s]"
     ]
    },
    {
     "name": "stdout",
     "output_type": "stream",
     "text": [
      "new feedback gain is 9.425146677051849\n",
      "with cost of 0.6549387326262301\n",
      "starting epoch 564\n",
      "estimation error is 0.1369537607998872\n",
      "calculating optimal controller for estimated system\n"
     ]
    },
    {
     "name": "stderr",
     "output_type": "stream",
     "text": [
      "100%|██████████| 80/80 [00:00<00:00, 591.50it/s]\n",
      "  0%|          | 0/80 [00:00<?, ?it/s]"
     ]
    },
    {
     "name": "stdout",
     "output_type": "stream",
     "text": [
      "new feedback gain is 9.43199909795426\n",
      "with cost of 0.6553721113239382\n",
      "starting epoch 565\n",
      "estimation error is 0.13670106526763193\n",
      "calculating optimal controller for estimated system\n"
     ]
    },
    {
     "name": "stderr",
     "output_type": "stream",
     "text": [
      "100%|██████████| 80/80 [00:00<00:00, 610.96it/s]\n",
      "  0%|          | 0/80 [00:00<?, ?it/s]"
     ]
    },
    {
     "name": "stdout",
     "output_type": "stream",
     "text": [
      "new feedback gain is 9.438166276766427\n",
      "with cost of 0.6557626421904849\n",
      "starting epoch 566\n",
      "estimation error is 0.1364977073958504\n",
      "calculating optimal controller for estimated system\n"
     ]
    },
    {
     "name": "stderr",
     "output_type": "stream",
     "text": [
      "100%|██████████| 80/80 [00:00<00:00, 616.89it/s]\n",
      "  0%|          | 0/80 [00:00<?, ?it/s]"
     ]
    },
    {
     "name": "stdout",
     "output_type": "stream",
     "text": [
      "new feedback gain is 9.443716737697379\n",
      "with cost of 0.6561145176124095\n",
      "starting epoch 567\n",
      "estimation error is 0.1362363283268063\n",
      "calculating optimal controller for estimated system\n"
     ]
    },
    {
     "name": "stderr",
     "output_type": "stream",
     "text": [
      "100%|██████████| 80/80 [00:00<00:00, 642.15it/s]\n",
      "  0%|          | 0/80 [00:00<?, ?it/s]"
     ]
    },
    {
     "name": "stdout",
     "output_type": "stream",
     "text": [
      "new feedback gain is 9.448712152535236\n",
      "with cost of 0.6564315281015072\n",
      "starting epoch 568\n",
      "estimation error is 0.13601828309114186\n",
      "calculating optimal controller for estimated system\n"
     ]
    },
    {
     "name": "stderr",
     "output_type": "stream",
     "text": [
      "100%|██████████| 80/80 [00:00<00:00, 605.47it/s]\n",
      "  0%|          | 0/80 [00:00<?, ?it/s]"
     ]
    },
    {
     "name": "stdout",
     "output_type": "stream",
     "text": [
      "new feedback gain is 9.453208025889309\n",
      "with cost of 0.6567170992346393\n",
      "starting epoch 569\n",
      "estimation error is 0.13577146026452536\n",
      "calculating optimal controller for estimated system\n"
     ]
    },
    {
     "name": "stderr",
     "output_type": "stream",
     "text": [
      "100%|██████████| 80/80 [00:00<00:00, 648.71it/s]\n",
      "  0%|          | 0/80 [00:00<?, ?it/s]"
     ]
    },
    {
     "name": "stdout",
     "output_type": "stream",
     "text": [
      "new feedback gain is 9.457254311907972\n",
      "with cost of 0.6569743255028039\n",
      "starting epoch 570\n",
      "estimation error is 0.13557681795441506\n",
      "calculating optimal controller for estimated system\n"
     ]
    },
    {
     "name": "stderr",
     "output_type": "stream",
     "text": [
      "100%|██████████| 80/80 [00:00<00:00, 606.64it/s]\n",
      "  0%|          | 0/80 [00:00<?, ?it/s]"
     ]
    },
    {
     "name": "stdout",
     "output_type": "stream",
     "text": [
      "new feedback gain is 9.46089596932477\n",
      "with cost of 0.6572060012676241\n",
      "starting epoch 571\n",
      "estimation error is 0.13531881324511838\n",
      "calculating optimal controller for estimated system\n"
     ]
    },
    {
     "name": "stderr",
     "output_type": "stream",
     "text": [
      "100%|██████████| 80/80 [00:00<00:00, 637.26it/s]\n",
      "  0%|          | 0/80 [00:00<?, ?it/s]"
     ]
    },
    {
     "name": "stdout",
     "output_type": "stream",
     "text": [
      "new feedback gain is 9.464173460999888\n",
      "with cost of 0.65741464902368\n",
      "starting epoch 572\n",
      "estimation error is 0.1351432799059276\n",
      "calculating optimal controller for estimated system\n"
     ]
    },
    {
     "name": "stderr",
     "output_type": "stream",
     "text": [
      "100%|██████████| 80/80 [00:00<00:00, 604.38it/s]\n",
      "  0%|          | 0/80 [00:00<?, ?it/s]"
     ]
    },
    {
     "name": "stdout",
     "output_type": "stream",
     "text": [
      "new feedback gain is 9.467123203507494\n",
      "with cost of 0.657602545161804\n",
      "starting epoch 573\n",
      "estimation error is 0.1348535085841917\n",
      "calculating optimal controller for estimated system\n"
     ]
    },
    {
     "name": "stderr",
     "output_type": "stream",
     "text": [
      "100%|██████████| 80/80 [00:00<00:00, 481.98it/s]\n",
      "  0%|          | 0/80 [00:00<?, ?it/s]"
     ]
    },
    {
     "name": "stdout",
     "output_type": "stream",
     "text": [
      "new feedback gain is 9.343195693283329\n",
      "with cost of 0.6497997866859268\n",
      "starting epoch 574\n",
      "estimation error is 0.13461428329791753\n",
      "calculating optimal controller for estimated system\n"
     ]
    },
    {
     "name": "stderr",
     "output_type": "stream",
     "text": [
      "100%|██████████| 80/80 [00:00<00:00, 516.08it/s]\n",
      "  0%|          | 0/80 [00:00<?, ?it/s]"
     ]
    },
    {
     "name": "stdout",
     "output_type": "stream",
     "text": [
      "new feedback gain is 9.23166093408158\n",
      "with cost of 0.6429337550962818\n",
      "starting epoch 575\n",
      "estimation error is 0.13442413816526202\n",
      "calculating optimal controller for estimated system\n"
     ]
    },
    {
     "name": "stderr",
     "output_type": "stream",
     "text": [
      "100%|██████████| 80/80 [00:00<00:00, 500.57it/s]\n",
      "  0%|          | 0/80 [00:00<?, ?it/s]"
     ]
    },
    {
     "name": "stdout",
     "output_type": "stream",
     "text": [
      "new feedback gain is 9.131279650800005\n",
      "with cost of 0.6368770678871479\n",
      "starting epoch 576\n",
      "estimation error is 0.1341968838370382\n",
      "calculating optimal controller for estimated system\n"
     ]
    },
    {
     "name": "stderr",
     "output_type": "stream",
     "text": [
      "100%|██████████| 80/80 [00:00<00:00, 475.20it/s]\n",
      "  0%|          | 0/80 [00:00<?, ?it/s]"
     ]
    },
    {
     "name": "stdout",
     "output_type": "stream",
     "text": [
      "new feedback gain is 9.040936495846587\n",
      "with cost of 0.6315226801304774\n",
      "starting epoch 577\n",
      "estimation error is 0.13393820735226225\n",
      "calculating optimal controller for estimated system\n"
     ]
    },
    {
     "name": "stderr",
     "output_type": "stream",
     "text": [
      "100%|██████████| 80/80 [00:00<00:00, 519.87it/s]\n",
      "  0%|          | 0/80 [00:00<?, ?it/s]"
     ]
    },
    {
     "name": "stdout",
     "output_type": "stream",
     "text": [
      "new feedback gain is 8.959627656388513\n",
      "with cost of 0.6267800401667624\n",
      "starting epoch 578\n",
      "estimation error is 0.13371178237016662\n",
      "calculating optimal controller for estimated system\n"
     ]
    },
    {
     "name": "stderr",
     "output_type": "stream",
     "text": [
      "100%|██████████| 80/80 [00:00<00:00, 639.63it/s]\n",
      "  0%|          | 0/80 [00:00<?, ?it/s]"
     ]
    },
    {
     "name": "stdout",
     "output_type": "stream",
     "text": [
      "new feedback gain is 9.013031979357256\n",
      "with cost of 0.6298869870140097\n",
      "starting epoch 579\n",
      "estimation error is 0.13351189615517065\n",
      "calculating optimal controller for estimated system\n"
     ]
    },
    {
     "name": "stderr",
     "output_type": "stream",
     "text": [
      "100%|██████████| 80/80 [00:00<00:00, 593.91it/s]\n",
      "  0%|          | 0/80 [00:00<?, ?it/s]"
     ]
    },
    {
     "name": "stdout",
     "output_type": "stream",
     "text": [
      "new feedback gain is 9.061095870029126\n",
      "with cost of 0.6327096614521719\n",
      "starting epoch 580\n",
      "estimation error is 0.13334266060792366\n",
      "calculating optimal controller for estimated system\n"
     ]
    },
    {
     "name": "stderr",
     "output_type": "stream",
     "text": [
      "100%|██████████| 80/80 [00:00<00:00, 630.38it/s]\n",
      "  0%|          | 0/80 [00:00<?, ?it/s]"
     ]
    },
    {
     "name": "stdout",
     "output_type": "stream",
     "text": [
      "new feedback gain is 9.104353371633808\n",
      "with cost of 0.6352717597518619\n",
      "starting epoch 581\n",
      "estimation error is 0.13311624338207517\n",
      "calculating optimal controller for estimated system\n"
     ]
    },
    {
     "name": "stderr",
     "output_type": "stream",
     "text": [
      "100%|██████████| 80/80 [00:00<00:00, 548.04it/s]\n",
      "  0%|          | 0/80 [00:00<?, ?it/s]"
     ]
    },
    {
     "name": "stdout",
     "output_type": "stream",
     "text": [
      "new feedback gain is 9.143285123078021\n",
      "with cost of 0.6375954326764564\n",
      "starting epoch 582\n",
      "estimation error is 0.13291643560343536\n",
      "calculating optimal controller for estimated system\n"
     ]
    },
    {
     "name": "stderr",
     "output_type": "stream",
     "text": [
      "100%|██████████| 80/80 [00:00<00:00, 590.50it/s]\n",
      "  0%|          | 0/80 [00:00<?, ?it/s]"
     ]
    },
    {
     "name": "stdout",
     "output_type": "stream",
     "text": [
      "new feedback gain is 9.178323699377813\n",
      "with cost of 0.6397013025132335\n",
      "starting epoch 583\n",
      "estimation error is 0.13267406068635182\n",
      "calculating optimal controller for estimated system\n"
     ]
    },
    {
     "name": "stderr",
     "output_type": "stream",
     "text": [
      "100%|██████████| 80/80 [00:00<00:00, 650.43it/s]\n",
      "  0%|          | 0/80 [00:00<?, ?it/s]"
     ]
    },
    {
     "name": "stdout",
     "output_type": "stream",
     "text": [
      "new feedback gain is 9.209858418047627\n",
      "with cost of 0.6416084997566832\n",
      "starting epoch 584\n",
      "estimation error is 0.13244204369437368\n",
      "calculating optimal controller for estimated system\n"
     ]
    },
    {
     "name": "stderr",
     "output_type": "stream",
     "text": [
      "100%|██████████| 80/80 [00:00<00:00, 594.50it/s]\n",
      "  0%|          | 0/80 [00:00<?, ?it/s]"
     ]
    },
    {
     "name": "stdout",
     "output_type": "stream",
     "text": [
      "new feedback gain is 9.23823966485046\n",
      "with cost of 0.6433347145874242\n",
      "starting epoch 585\n",
      "estimation error is 0.13226058907501964\n",
      "calculating optimal controller for estimated system\n"
     ]
    },
    {
     "name": "stderr",
     "output_type": "stream",
     "text": [
      "100%|██████████| 80/80 [00:00<00:00, 528.30it/s]\n",
      "  0%|          | 0/80 [00:00<?, ?it/s]"
     ]
    },
    {
     "name": "stdout",
     "output_type": "stream",
     "text": [
      "new feedback gain is 9.263782786973008\n",
      "with cost of 0.6448962590500006\n",
      "starting epoch 586\n",
      "estimation error is 0.13202722916065834\n",
      "calculating optimal controller for estimated system\n"
     ]
    },
    {
     "name": "stderr",
     "output_type": "stream",
     "text": [
      "100%|██████████| 80/80 [00:00<00:00, 663.29it/s]\n",
      "  0%|          | 0/80 [00:00<?, ?it/s]"
     ]
    },
    {
     "name": "stdout",
     "output_type": "stream",
     "text": [
      "new feedback gain is 9.286771596883302\n",
      "with cost of 0.6463081365262713\n",
      "starting epoch 587\n",
      "estimation error is 0.131819463289384\n",
      "calculating optimal controller for estimated system\n"
     ]
    },
    {
     "name": "stderr",
     "output_type": "stream",
     "text": [
      "100%|██████████| 80/80 [00:00<00:00, 418.83it/s]\n",
      "  0%|          | 0/80 [00:00<?, ?it/s]"
     ]
    },
    {
     "name": "stdout",
     "output_type": "stream",
     "text": [
      "new feedback gain is 9.307461525802566\n",
      "with cost of 0.6475841157202307\n",
      "starting epoch 588\n",
      "estimation error is 0.13164659926620137\n",
      "calculating optimal controller for estimated system\n"
     ]
    },
    {
     "name": "stderr",
     "output_type": "stream",
     "text": [
      "100%|██████████| 80/80 [00:00<00:00, 518.80it/s]\n",
      "  0%|          | 0/80 [00:00<?, ?it/s]"
     ]
    },
    {
     "name": "stdout",
     "output_type": "stream",
     "text": [
      "new feedback gain is 9.326082461829904\n",
      "with cost of 0.6487368069128294\n",
      "starting epoch 589\n",
      "estimation error is 0.13141717794844932\n",
      "calculating optimal controller for estimated system\n"
     ]
    },
    {
     "name": "stderr",
     "output_type": "stream",
     "text": [
      "100%|██████████| 80/80 [00:00<00:00, 628.10it/s]\n",
      "  0%|          | 0/80 [00:00<?, ?it/s]"
     ]
    },
    {
     "name": "stdout",
     "output_type": "stream",
     "text": [
      "new feedback gain is 9.342841304254508\n",
      "with cost of 0.6497777387135597\n",
      "starting epoch 590\n",
      "estimation error is 0.1311872207407411\n",
      "calculating optimal controller for estimated system\n"
     ]
    },
    {
     "name": "stderr",
     "output_type": "stream",
     "text": [
      "100%|██████████| 80/80 [00:00<00:00, 524.91it/s]\n",
      "  0%|          | 0/80 [00:00<?, ?it/s]"
     ]
    },
    {
     "name": "stdout",
     "output_type": "stream",
     "text": [
      "new feedback gain is 9.357924262436653\n",
      "with cost of 0.6507174339337919\n",
      "starting epoch 591\n",
      "estimation error is 0.13092413962329644\n",
      "calculating optimal controller for estimated system\n"
     ]
    },
    {
     "name": "stderr",
     "output_type": "stream",
     "text": [
      "100%|██████████| 80/80 [00:00<00:00, 667.05it/s]\n",
      "  0%|          | 0/80 [00:00<?, ?it/s]"
     ]
    },
    {
     "name": "stdout",
     "output_type": "stream",
     "text": [
      "new feedback gain is 9.371498924800582\n",
      "with cost of 0.6515654835410778\n",
      "starting epoch 592\n",
      "estimation error is 0.13067469493819417\n",
      "calculating optimal controller for estimated system\n"
     ]
    },
    {
     "name": "stderr",
     "output_type": "stream",
     "text": [
      "100%|██████████| 80/80 [00:55<00:00,  1.43it/s]\n",
      "  0%|          | 0/80 [00:00<?, ?it/s]"
     ]
    },
    {
     "name": "stdout",
     "output_type": "stream",
     "text": [
      "new feedback gain is 9.383716120928119\n",
      "with cost of 0.6523306179307066\n",
      "starting epoch 593\n",
      "estimation error is 0.13044419900218568\n",
      "calculating optimal controller for estimated system\n"
     ]
    },
    {
     "name": "stderr",
     "output_type": "stream",
     "text": [
      "100%|██████████| 80/80 [00:00<00:00, 472.58it/s]\n",
      "  0%|          | 0/80 [00:00<?, ?it/s]"
     ]
    },
    {
     "name": "stdout",
     "output_type": "stream",
     "text": [
      "new feedback gain is 9.394711597442901\n",
      "with cost of 0.6530207749776263\n",
      "starting epoch 594\n",
      "estimation error is 0.13027249392697265\n",
      "calculating optimal controller for estimated system\n"
     ]
    },
    {
     "name": "stderr",
     "output_type": "stream",
     "text": [
      "100%|██████████| 80/80 [00:00<00:00, 439.35it/s]\n",
      "  0%|          | 0/80 [00:00<?, ?it/s]"
     ]
    },
    {
     "name": "stdout",
     "output_type": "stream",
     "text": [
      "new feedback gain is 9.404607526306206\n",
      "with cost of 0.6536431645152477\n",
      "starting epoch 595\n",
      "estimation error is 0.13015054144322405\n",
      "calculating optimal controller for estimated system\n"
     ]
    },
    {
     "name": "stderr",
     "output_type": "stream",
     "text": [
      "100%|██████████| 80/80 [00:00<00:00, 461.51it/s]\n",
      "  0%|          | 0/80 [00:00<?, ?it/s]"
     ]
    },
    {
     "name": "stdout",
     "output_type": "stream",
     "text": [
      "new feedback gain is 9.41351386228318\n",
      "with cost of 0.654204329033981\n",
      "starting epoch 596\n",
      "estimation error is 0.12994099874151316\n",
      "calculating optimal controller for estimated system\n"
     ]
    },
    {
     "name": "stderr",
     "output_type": "stream",
     "text": [
      "100%|██████████| 80/80 [00:00<00:00, 536.80it/s]\n",
      "  0%|          | 0/80 [00:00<?, ?it/s]"
     ]
    },
    {
     "name": "stdout",
     "output_type": "stream",
     "text": [
      "new feedback gain is 9.54811184314347\n",
      "with cost of 0.6628036880731923\n",
      "starting epoch 597\n",
      "estimation error is 0.12980604106419338\n",
      "calculating optimal controller for estimated system\n"
     ]
    },
    {
     "name": "stderr",
     "output_type": "stream",
     "text": [
      "100%|██████████| 80/80 [00:00<00:00, 631.58it/s]\n",
      "  0%|          | 0/80 [00:00<?, ?it/s]"
     ]
    },
    {
     "name": "stdout",
     "output_type": "stream",
     "text": [
      "new feedback gain is 9.669250025917732\n",
      "with cost of 0.6707384544961356\n",
      "starting epoch 598\n",
      "estimation error is 0.12953007749847392\n",
      "calculating optimal controller for estimated system\n"
     ]
    },
    {
     "name": "stderr",
     "output_type": "stream",
     "text": [
      "100%|██████████| 80/80 [00:00<00:00, 632.81it/s]\n",
      "  0%|          | 0/80 [00:00<?, ?it/s]"
     ]
    },
    {
     "name": "stdout",
     "output_type": "stream",
     "text": [
      "new feedback gain is 9.778274390414566\n",
      "with cost of 0.6780437226002292\n",
      "starting epoch 599\n",
      "estimation error is 0.12935221506321445\n",
      "calculating optimal controller for estimated system\n"
     ]
    },
    {
     "name": "stderr",
     "output_type": "stream",
     "text": [
      "100%|██████████| 80/80 [00:00<00:00, 590.10it/s]\n",
      "  0%|          | 0/80 [00:00<?, ?it/s]"
     ]
    },
    {
     "name": "stdout",
     "output_type": "stream",
     "text": [
      "new feedback gain is 9.876396318461717\n",
      "with cost of 0.6847556732300688\n",
      "starting epoch 600\n",
      "estimation error is 0.1291524374155035\n",
      "calculating optimal controller for estimated system\n"
     ]
    },
    {
     "name": "stderr",
     "output_type": "stream",
     "text": [
      "100%|██████████| 80/80 [00:00<00:00, 620.26it/s]\n",
      "  0%|          | 0/80 [00:00<?, ?it/s]"
     ]
    },
    {
     "name": "stdout",
     "output_type": "stream",
     "text": [
      "new feedback gain is 9.964706053704154\n",
      "with cost of 0.6909109014511734\n",
      "starting epoch 601\n",
      "estimation error is 0.12895222938670892\n",
      "calculating optimal controller for estimated system\n"
     ]
    },
    {
     "name": "stderr",
     "output_type": "stream",
     "text": [
      "100%|██████████| 80/80 [00:00<00:00, 618.85it/s]\n"
     ]
    },
    {
     "name": "stdout",
     "output_type": "stream",
     "text": [
      "new feedback gain is 10.044184815422346\n",
      "with cost of 0.6965458526128046\n",
      "starting epoch 602\n"
     ]
    },
    {
     "name": "stderr",
     "output_type": "stream",
     "text": [
      " 61%|██████▏   | 49/80 [00:00<00:00, 483.46it/s]"
     ]
    },
    {
     "name": "stdout",
     "output_type": "stream",
     "text": [
      "estimation error is 0.12868153790784845\n",
      "calculating optimal controller for estimated system\n"
     ]
    },
    {
     "name": "stderr",
     "output_type": "stream",
     "text": [
      "100%|██████████| 80/80 [00:00<00:00, 325.77it/s]\n"
     ]
    },
    {
     "name": "stdout",
     "output_type": "stream",
     "text": [
      "new feedback gain is 10.11571570096872\n",
      "with cost of 0.701696360807385\n",
      "starting epoch 603\n"
     ]
    },
    {
     "name": "stderr",
     "output_type": "stream",
     "text": [
      " 61%|██████▏   | 49/80 [00:00<00:00, 424.78it/s]"
     ]
    },
    {
     "name": "stdout",
     "output_type": "stream",
     "text": [
      "estimation error is 0.1285010097615214\n",
      "calculating optimal controller for estimated system\n"
     ]
    },
    {
     "name": "stderr",
     "output_type": "stream",
     "text": [
      "100%|██████████| 80/80 [00:00<00:00, 257.14it/s]\n"
     ]
    },
    {
     "name": "stdout",
     "output_type": "stream",
     "text": [
      "new feedback gain is 10.180093497960456\n",
      "with cost of 0.7063972814221957\n",
      "starting epoch 604\n"
     ]
    },
    {
     "name": "stderr",
     "output_type": "stream",
     "text": [
      " 61%|██████▏   | 49/80 [00:00<00:00, 332.02it/s]"
     ]
    },
    {
     "name": "stdout",
     "output_type": "stream",
     "text": [
      "estimation error is 0.12829468082617457\n",
      "calculating optimal controller for estimated system\n"
     ]
    },
    {
     "name": "stderr",
     "output_type": "stream",
     "text": [
      "100%|██████████| 80/80 [00:00<00:00, 205.64it/s]\n"
     ]
    },
    {
     "name": "stdout",
     "output_type": "stream",
     "text": [
      "new feedback gain is 10.238033515253019\n",
      "with cost of 0.7106822081162458\n",
      "starting epoch 605\n"
     ]
    },
    {
     "name": "stderr",
     "output_type": "stream",
     "text": [
      " 57%|█████▊    | 46/80 [00:00<00:00, 455.23it/s]"
     ]
    },
    {
     "name": "stdout",
     "output_type": "stream",
     "text": [
      "estimation error is 0.12808674572394113\n",
      "calculating optimal controller for estimated system\n"
     ]
    },
    {
     "name": "stderr",
     "output_type": "stream",
     "text": [
      "100%|██████████| 80/80 [00:00<00:00, 157.03it/s]\n"
     ]
    },
    {
     "name": "stdout",
     "output_type": "stream",
     "text": [
      "new feedback gain is 10.290179530816324\n",
      "with cost of 0.7145832639532902\n",
      "starting epoch 606\n"
     ]
    },
    {
     "name": "stderr",
     "output_type": "stream",
     "text": [
      " 55%|█████▌    | 44/80 [00:00<00:00, 432.01it/s]"
     ]
    },
    {
     "name": "stdout",
     "output_type": "stream",
     "text": [
      "estimation error is 0.1278682448508831\n",
      "calculating optimal controller for estimated system\n"
     ]
    },
    {
     "name": "stderr",
     "output_type": "stream",
     "text": [
      "100%|██████████| 80/80 [00:00<00:00, 194.54it/s]\n"
     ]
    },
    {
     "name": "stdout",
     "output_type": "stream",
     "text": [
      "new feedback gain is 10.463693223304313\n",
      "with cost of 0.7278774465163563\n",
      "starting epoch 607\n"
     ]
    },
    {
     "name": "stderr",
     "output_type": "stream",
     "text": [
      " 57%|█████▊    | 46/80 [00:00<00:00, 453.16it/s]"
     ]
    },
    {
     "name": "stdout",
     "output_type": "stream",
     "text": [
      "estimation error is 0.12772416186543795\n",
      "calculating optimal controller for estimated system\n"
     ]
    },
    {
     "name": "stderr",
     "output_type": "stream",
     "text": [
      "100%|██████████| 80/80 [00:00<00:00, 187.39it/s]\n"
     ]
    },
    {
     "name": "stdout",
     "output_type": "stream",
     "text": [
      "new feedback gain is 10.619855546543503\n",
      "with cost of 0.7402716354683103\n",
      "starting epoch 608\n"
     ]
    },
    {
     "name": "stderr",
     "output_type": "stream",
     "text": [
      " 49%|████▉     | 39/80 [00:00<00:00, 389.81it/s]"
     ]
    },
    {
     "name": "stdout",
     "output_type": "stream",
     "text": [
      "estimation error is 0.1275079121103097\n",
      "calculating optimal controller for estimated system\n"
     ]
    },
    {
     "name": "stderr",
     "output_type": "stream",
     "text": [
      "100%|██████████| 80/80 [00:00<00:00, 186.25it/s]\n"
     ]
    },
    {
     "name": "stdout",
     "output_type": "stream",
     "text": [
      "new feedback gain is 10.760401637458774\n",
      "with cost of 0.7517922916055085\n",
      "starting epoch 609\n"
     ]
    },
    {
     "name": "stderr",
     "output_type": "stream",
     "text": [
      " 48%|████▊     | 38/80 [00:00<00:00, 370.23it/s]"
     ]
    },
    {
     "name": "stdout",
     "output_type": "stream",
     "text": [
      "estimation error is 0.12731719835128366\n",
      "calculating optimal controller for estimated system\n"
     ]
    },
    {
     "name": "stderr",
     "output_type": "stream",
     "text": [
      "100%|██████████| 80/80 [00:00<00:00, 148.28it/s]\n"
     ]
    },
    {
     "name": "stdout",
     "output_type": "stream",
     "text": [
      "new feedback gain is 10.886893119282519\n",
      "with cost of 0.7624712872833349\n",
      "starting epoch 610\n"
     ]
    },
    {
     "name": "stderr",
     "output_type": "stream",
     "text": [
      " 45%|████▌     | 36/80 [00:00<00:00, 356.28it/s]"
     ]
    },
    {
     "name": "stdout",
     "output_type": "stream",
     "text": [
      "estimation error is 0.12709273480851704\n",
      "calculating optimal controller for estimated system\n"
     ]
    },
    {
     "name": "stderr",
     "output_type": "stream",
     "text": [
      "100%|██████████| 80/80 [00:00<00:00, 166.43it/s]\n"
     ]
    },
    {
     "name": "stdout",
     "output_type": "stream",
     "text": [
      "new feedback gain is 11.00073545292389\n",
      "with cost of 0.7723446667503422\n",
      "starting epoch 611\n"
     ]
    },
    {
     "name": "stderr",
     "output_type": "stream",
     "text": [
      " 62%|██████▎   | 50/80 [00:00<00:00, 413.61it/s]"
     ]
    },
    {
     "name": "stdout",
     "output_type": "stream",
     "text": [
      "estimation error is 0.12697517219013343\n",
      "calculating optimal controller for estimated system\n"
     ]
    },
    {
     "name": "stderr",
     "output_type": "stream",
     "text": [
      "100%|██████████| 80/80 [00:00<00:00, 342.30it/s]\n",
      "  0%|          | 0/80 [00:00<?, ?it/s]"
     ]
    },
    {
     "name": "stdout",
     "output_type": "stream",
     "text": [
      "new feedback gain is 11.103193553201121\n",
      "with cost of 0.7814515090611657\n",
      "starting epoch 612\n",
      "estimation error is 0.12677647983619017\n",
      "calculating optimal controller for estimated system\n"
     ]
    },
    {
     "name": "stderr",
     "output_type": "stream",
     "text": [
      "100%|██████████| 80/80 [00:00<00:00, 800.86it/s]\n",
      "  0%|          | 0/80 [00:00<?, ?it/s]"
     ]
    },
    {
     "name": "stdout",
     "output_type": "stream",
     "text": [
      "new feedback gain is 11.195405843450631\n",
      "with cost of 0.7898329102194309\n",
      "starting epoch 613\n",
      "estimation error is 0.1265373363854379\n",
      "calculating optimal controller for estimated system\n"
     ]
    },
    {
     "name": "stderr",
     "output_type": "stream",
     "text": [
      "100%|██████████| 80/80 [00:00<00:00, 852.46it/s]\n",
      "  0%|          | 0/80 [00:00<?, ?it/s]"
     ]
    },
    {
     "name": "stdout",
     "output_type": "stream",
     "text": [
      "new feedback gain is 11.278396904675189\n",
      "with cost of 0.7975310928421917\n",
      "starting epoch 614\n",
      "estimation error is 0.1263378207643671\n",
      "calculating optimal controller for estimated system\n"
     ]
    },
    {
     "name": "stderr",
     "output_type": "stream",
     "text": [
      "100%|██████████| 80/80 [00:00<00:00, 866.87it/s]\n",
      "  0%|          | 0/80 [00:00<?, ?it/s]"
     ]
    },
    {
     "name": "stdout",
     "output_type": "stream",
     "text": [
      "new feedback gain is 11.35308885977729\n",
      "with cost of 0.8045886448369878\n",
      "starting epoch 615\n",
      "estimation error is 0.12613122972588986\n",
      "calculating optimal controller for estimated system\n"
     ]
    },
    {
     "name": "stderr",
     "output_type": "stream",
     "text": [
      "100%|██████████| 80/80 [00:00<00:00, 577.65it/s]\n",
      "  0%|          | 0/80 [00:00<?, ?it/s]"
     ]
    },
    {
     "name": "stdout",
     "output_type": "stream",
     "text": [
      "new feedback gain is 11.29372934088817\n",
      "with cost of 0.7989697379898212\n",
      "starting epoch 616\n",
      "estimation error is 0.12590122692245231\n",
      "calculating optimal controller for estimated system\n"
     ]
    },
    {
     "name": "stderr",
     "output_type": "stream",
     "text": [
      "100%|██████████| 80/80 [00:00<00:00, 854.76it/s]\n",
      "  0%|          | 0/80 [00:00<?, ?it/s]"
     ]
    },
    {
     "name": "stdout",
     "output_type": "stream",
     "text": [
      "new feedback gain is 11.366888052368974\n",
      "with cost of 0.8059061794469261\n",
      "starting epoch 617\n",
      "estimation error is 0.1256483568890095\n",
      "calculating optimal controller for estimated system\n"
     ]
    },
    {
     "name": "stderr",
     "output_type": "stream",
     "text": [
      "100%|██████████| 80/80 [00:00<00:00, 824.31it/s]\n",
      "  0%|          | 0/80 [00:00<?, ?it/s]"
     ]
    },
    {
     "name": "stdout",
     "output_type": "stream",
     "text": [
      "new feedback gain is 11.432730892701699\n",
      "with cost of 0.8122525593931854\n",
      "starting epoch 618\n",
      "estimation error is 0.1255229878167114\n",
      "calculating optimal controller for estimated system\n"
     ]
    },
    {
     "name": "stderr",
     "output_type": "stream",
     "text": [
      "100%|██████████| 80/80 [00:00<00:00, 871.45it/s]\n",
      "  0%|          | 0/80 [00:00<?, ?it/s]"
     ]
    },
    {
     "name": "stdout",
     "output_type": "stream",
     "text": [
      "new feedback gain is 11.491989449001151\n",
      "with cost of 0.818050199009533\n",
      "starting epoch 619\n",
      "estimation error is 0.12534815988090242\n",
      "calculating optimal controller for estimated system\n"
     ]
    },
    {
     "name": "stderr",
     "output_type": "stream",
     "text": [
      "100%|██████████| 80/80 [00:00<00:00, 850.71it/s]\n",
      "  0%|          | 0/80 [00:00<?, ?it/s]"
     ]
    },
    {
     "name": "stdout",
     "output_type": "stream",
     "text": [
      "new feedback gain is 11.545322149670657\n",
      "with cost of 0.8233391507678675\n",
      "starting epoch 620\n",
      "estimation error is 0.12514293621475947\n",
      "calculating optimal controller for estimated system\n"
     ]
    },
    {
     "name": "stderr",
     "output_type": "stream",
     "text": [
      "100%|██████████| 80/80 [00:00<00:00, 898.61it/s]\n",
      "  0%|          | 0/80 [00:00<?, ?it/s]"
     ]
    },
    {
     "name": "stdout",
     "output_type": "stream",
     "text": [
      "new feedback gain is 11.593321580273212\n",
      "with cost of 0.8281579017494423\n",
      "starting epoch 621\n",
      "estimation error is 0.12492333286795508\n",
      "calculating optimal controller for estimated system\n"
     ]
    },
    {
     "name": "stderr",
     "output_type": "stream",
     "text": [
      "100%|██████████| 80/80 [00:00<00:00, 844.23it/s]\n",
      "  0%|          | 0/80 [00:00<?, ?it/s]"
     ]
    },
    {
     "name": "stdout",
     "output_type": "stream",
     "text": [
      "new feedback gain is 11.636521067815513\n",
      "with cost of 0.8325431589044248\n",
      "starting epoch 622\n",
      "estimation error is 0.1247756802145475\n",
      "calculating optimal controller for estimated system\n"
     ]
    },
    {
     "name": "stderr",
     "output_type": "stream",
     "text": [
      "100%|██████████| 80/80 [00:00<00:00, 1151.64it/s]\n",
      "  0%|          | 0/80 [00:00<?, ?it/s]"
     ]
    },
    {
     "name": "stdout",
     "output_type": "stream",
     "text": [
      "new feedback gain is 11.801982885084595\n",
      "with cost of 0.8497770234830249\n",
      "starting epoch 623\n",
      "estimation error is 0.1245921659274912\n",
      "calculating optimal controller for estimated system\n"
     ]
    },
    {
     "name": "stderr",
     "output_type": "stream",
     "text": [
      "100%|██████████| 80/80 [00:00<00:00, 1078.91it/s]\n",
      "100%|██████████| 80/80 [00:00<00:00, 1251.43it/s]"
     ]
    },
    {
     "name": "stdout",
     "output_type": "stream",
     "text": [
      "new feedback gain is 11.950898520626769\n",
      "with cost of 0.865907720946919\n",
      "starting epoch 624\n",
      "estimation error is 0.12441769207964946\n",
      "calculating optimal controller for estimated system\n"
     ]
    },
    {
     "name": "stderr",
     "output_type": "stream",
     "text": [
      "\n",
      "  0%|          | 0/80 [00:00<?, ?it/s]"
     ]
    },
    {
     "name": "stdout",
     "output_type": "stream",
     "text": [
      "new feedback gain is 12.084922592614726\n",
      "with cost of 0.8809568077652603\n",
      "starting epoch 625\n",
      "estimation error is 0.12423377049426262\n",
      "calculating optimal controller for estimated system\n"
     ]
    },
    {
     "name": "stderr",
     "output_type": "stream",
     "text": [
      "100%|██████████| 80/80 [00:00<00:00, 1174.07it/s]\n",
      "  0%|          | 0/80 [00:00<?, ?it/s]"
     ]
    },
    {
     "name": "stdout",
     "output_type": "stream",
     "text": [
      "new feedback gain is 12.205544257403886\n",
      "with cost of 0.8949542462825146\n",
      "starting epoch 626\n",
      "estimation error is 0.12396488631565401\n",
      "calculating optimal controller for estimated system\n"
     ]
    },
    {
     "name": "stderr",
     "output_type": "stream",
     "text": [
      "100%|██████████| 80/80 [00:00<00:00, 1196.60it/s]\n",
      "100%|██████████| 80/80 [00:00<00:00, 1210.45it/s]"
     ]
    },
    {
     "name": "stdout",
     "output_type": "stream",
     "text": [
      "new feedback gain is 12.31410375571413\n",
      "with cost of 0.907936815676275\n",
      "starting epoch 627\n",
      "estimation error is 0.12374635900359553\n",
      "calculating optimal controller for estimated system\n"
     ]
    },
    {
     "name": "stderr",
     "output_type": "stream",
     "text": [
      "\n",
      "  0%|          | 0/80 [00:00<?, ?it/s]"
     ]
    },
    {
     "name": "stdout",
     "output_type": "stream",
     "text": [
      "new feedback gain is 12.411807304193351\n",
      "with cost of 0.9199466054065875\n",
      "starting epoch 628\n",
      "estimation error is 0.12359140880515057\n",
      "calculating optimal controller for estimated system\n"
     ]
    },
    {
     "name": "stderr",
     "output_type": "stream",
     "text": [
      "100%|██████████| 80/80 [00:00<00:00, 1091.06it/s]\n",
      "  0%|          | 0/80 [00:00<?, ?it/s]"
     ]
    },
    {
     "name": "stdout",
     "output_type": "stream",
     "text": [
      "new feedback gain is 12.499740497824648\n",
      "with cost of 0.9310296255242141\n",
      "starting epoch 629\n",
      "estimation error is 0.12338249946149996\n",
      "calculating optimal controller for estimated system\n"
     ]
    },
    {
     "name": "stderr",
     "output_type": "stream",
     "text": [
      "100%|██████████| 80/80 [00:00<00:00, 1239.00it/s]\n",
      "  0%|          | 0/80 [00:00<?, ?it/s]"
     ]
    },
    {
     "name": "stdout",
     "output_type": "stream",
     "text": [
      "new feedback gain is 12.578880372092817\n",
      "with cost of 0.9412345562126481\n",
      "starting epoch 630\n",
      "estimation error is 0.12315037462296356\n",
      "calculating optimal controller for estimated system\n"
     ]
    },
    {
     "name": "stderr",
     "output_type": "stream",
     "text": [
      "100%|██████████| 80/80 [00:00<00:00, 1194.03it/s]\n",
      "  0%|          | 0/80 [00:00<?, ?it/s]"
     ]
    },
    {
     "name": "stdout",
     "output_type": "stream",
     "text": [
      "new feedback gain is 12.650106258934168\n",
      "with cost of 0.9506116485323357\n",
      "starting epoch 631\n",
      "estimation error is 0.12295284559033988\n",
      "calculating optimal controller for estimated system\n"
     ]
    },
    {
     "name": "stderr",
     "output_type": "stream",
     "text": [
      "100%|██████████| 80/80 [00:00<00:00, 1167.15it/s]\n",
      "  0%|          | 0/80 [00:00<?, ?it/s]"
     ]
    },
    {
     "name": "stdout",
     "output_type": "stream",
     "text": [
      "new feedback gain is 12.714209557091383\n",
      "with cost of 0.9592117797730642\n",
      "starting epoch 632\n",
      "estimation error is 0.12269828299057824\n",
      "calculating optimal controller for estimated system\n"
     ]
    },
    {
     "name": "stderr",
     "output_type": "stream",
     "text": [
      "100%|██████████| 80/80 [00:00<00:00, 1211.57it/s]\n",
      "  0%|          | 0/80 [00:00<?, ?it/s]"
     ]
    },
    {
     "name": "stdout",
     "output_type": "stream",
     "text": [
      "new feedback gain is 12.771902525432878\n",
      "with cost of 0.9670856601488007\n",
      "starting epoch 633\n",
      "estimation error is 0.12249123103049206\n",
      "calculating optimal controller for estimated system\n"
     ]
    },
    {
     "name": "stderr",
     "output_type": "stream",
     "text": [
      "100%|██████████| 80/80 [00:00<00:00, 1209.00it/s]\n",
      "  0%|          | 0/80 [00:00<?, ?it/s]"
     ]
    },
    {
     "name": "stdout",
     "output_type": "stream",
     "text": [
      "new feedback gain is 12.823826196940225\n",
      "with cost of 0.974283182684411\n",
      "starting epoch 634\n",
      "estimation error is 0.12231424124699558\n",
      "calculating optimal controller for estimated system\n"
     ]
    },
    {
     "name": "stderr",
     "output_type": "stream",
     "text": [
      "100%|██████████| 80/80 [00:00<00:00, 1196.33it/s]\n",
      "  0%|          | 0/80 [00:00<?, ?it/s]"
     ]
    },
    {
     "name": "stdout",
     "output_type": "stream",
     "text": [
      "new feedback gain is 12.870557501296835\n",
      "with cost of 0.9808529048459708\n",
      "starting epoch 635\n",
      "estimation error is 0.12211466262895056\n",
      "calculating optimal controller for estimated system\n"
     ]
    },
    {
     "name": "stderr",
     "output_type": "stream",
     "text": [
      "100%|██████████| 80/80 [00:00<00:00, 656.93it/s]\n",
      "  0%|          | 0/80 [00:00<?, ?it/s]"
     ]
    },
    {
     "name": "stdout",
     "output_type": "stream",
     "text": [
      "new feedback gain is 12.786033396736773\n",
      "with cost of 0.9690339203945885\n",
      "starting epoch 636\n",
      "estimation error is 0.12190627268721502\n",
      "calculating optimal controller for estimated system\n"
     ]
    },
    {
     "name": "stderr",
     "output_type": "stream",
     "text": [
      "100%|██████████| 80/80 [00:00<00:00, 649.59it/s]\n",
      "  0%|          | 0/80 [00:00<?, ?it/s]"
     ]
    },
    {
     "name": "stdout",
     "output_type": "stream",
     "text": [
      "new feedback gain is 12.709961702632718\n",
      "with cost of 0.9586370874465077\n",
      "starting epoch 637\n",
      "estimation error is 0.12169794018923008\n",
      "calculating optimal controller for estimated system\n"
     ]
    },
    {
     "name": "stderr",
     "output_type": "stream",
     "text": [
      "100%|██████████| 80/80 [00:00<00:00, 654.72it/s]\n",
      "  0%|          | 0/80 [00:00<?, ?it/s]"
     ]
    },
    {
     "name": "stdout",
     "output_type": "stream",
     "text": [
      "new feedback gain is 12.641497177939067\n",
      "with cost of 0.9494683502446443\n",
      "starting epoch 638\n",
      "estimation error is 0.12155519761642662\n",
      "calculating optimal controller for estimated system\n"
     ]
    },
    {
     "name": "stderr",
     "output_type": "stream",
     "text": [
      "100%|██████████| 80/80 [00:00<00:00, 646.12it/s]\n",
      "  0%|          | 0/80 [00:00<?, ?it/s]"
     ]
    },
    {
     "name": "stdout",
     "output_type": "stream",
     "text": [
      "new feedback gain is 12.579879105714783\n",
      "with cost of 0.9413647667533065\n",
      "starting epoch 639\n",
      "estimation error is 0.1213608811359029\n",
      "calculating optimal controller for estimated system\n"
     ]
    },
    {
     "name": "stderr",
     "output_type": "stream",
     "text": [
      "100%|██████████| 80/80 [00:00<00:00, 670.02it/s]\n",
      "  0%|          | 0/80 [00:00<?, ?it/s]"
     ]
    },
    {
     "name": "stdout",
     "output_type": "stream",
     "text": [
      "new feedback gain is 12.524422840712926\n",
      "with cost of 0.9341886015481718\n",
      "starting epoch 640\n",
      "estimation error is 0.12117072929115079\n",
      "calculating optimal controller for estimated system\n"
     ]
    },
    {
     "name": "stderr",
     "output_type": "stream",
     "text": [
      "100%|██████████| 80/80 [00:00<00:00, 651.55it/s]\n",
      "  0%|          | 0/80 [00:00<?, ?it/s]"
     ]
    },
    {
     "name": "stdout",
     "output_type": "stream",
     "text": [
      "new feedback gain is 12.474512202211255\n",
      "with cost of 0.9278227210868011\n",
      "starting epoch 641\n",
      "estimation error is 0.12095365735124076\n",
      "calculating optimal controller for estimated system\n"
     ]
    },
    {
     "name": "stderr",
     "output_type": "stream",
     "text": [
      "100%|██████████| 80/80 [00:00<00:00, 650.22it/s]\n",
      "  0%|          | 0/80 [00:00<?, ?it/s]"
     ]
    },
    {
     "name": "stdout",
     "output_type": "stream",
     "text": [
      "new feedback gain is 12.429592627559751\n",
      "with cost of 0.9221669670681029\n",
      "starting epoch 642\n",
      "estimation error is 0.12075027342140561\n",
      "calculating optimal controller for estimated system\n"
     ]
    },
    {
     "name": "stderr",
     "output_type": "stream",
     "text": [
      "100%|██████████| 80/80 [00:00<00:00, 635.23it/s]\n",
      "  0%|          | 0/80 [00:00<?, ?it/s]"
     ]
    },
    {
     "name": "stdout",
     "output_type": "stream",
     "text": [
      "new feedback gain is 12.389165010373398\n",
      "with cost of 0.9171352727384093\n",
      "starting epoch 643\n",
      "estimation error is 0.12059080180575805\n",
      "calculating optimal controller for estimated system\n"
     ]
    },
    {
     "name": "stderr",
     "output_type": "stream",
     "text": [
      "100%|██████████| 80/80 [00:00<00:00, 535.57it/s]\n",
      "  0%|          | 0/80 [00:00<?, ?it/s]"
     ]
    },
    {
     "name": "stdout",
     "output_type": "stream",
     "text": [
      "new feedback gain is 12.35278015490568\n",
      "with cost of 0.9126533495133102\n",
      "starting epoch 644\n",
      "estimation error is 0.1204360575999056\n",
      "calculating optimal controller for estimated system\n"
     ]
    },
    {
     "name": "stderr",
     "output_type": "stream",
     "text": [
      "100%|██████████| 80/80 [00:00<00:00, 660.43it/s]\n",
      "  0%|          | 0/80 [00:00<?, ?it/s]"
     ]
    },
    {
     "name": "stdout",
     "output_type": "stream",
     "text": [
      "new feedback gain is 12.320033784984734\n",
      "with cost of 0.9086568157134342\n",
      "starting epoch 645\n",
      "estimation error is 0.12029479554014572\n",
      "calculating optimal controller for estimated system\n"
     ]
    },
    {
     "name": "stderr",
     "output_type": "stream",
     "text": [
      "100%|██████████| 80/80 [00:00<00:00, 633.69it/s]\n",
      "  0%|          | 0/80 [00:00<?, ?it/s]"
     ]
    },
    {
     "name": "stdout",
     "output_type": "stream",
     "text": [
      "new feedback gain is 12.290562052055883\n",
      "with cost of 0.9050896711864385\n",
      "starting epoch 646\n",
      "estimation error is 0.12013891690183993\n",
      "calculating optimal controller for estimated system\n"
     ]
    },
    {
     "name": "stderr",
     "output_type": "stream",
     "text": [
      "100%|██████████| 80/80 [00:00<00:00, 642.77it/s]\n"
     ]
    },
    {
     "name": "stdout",
     "output_type": "stream",
     "text": [
      "new feedback gain is 12.264037492419916\n",
      "with cost of 0.9019030448662377\n",
      "starting epoch 647\n"
     ]
    },
    {
     "name": "stderr",
     "output_type": "stream",
     "text": [
      "100%|██████████| 80/80 [00:00<00:00, 685.30it/s]"
     ]
    },
    {
     "name": "stdout",
     "output_type": "stream",
     "text": [
      "estimation error is 0.12001086086176688\n",
      "calculating optimal controller for estimated system\n",
      "new feedback gain is 12.240165388747547\n",
      "with cost of 0.8990541594523545\n",
      "starting epoch 648\n"
     ]
    },
    {
     "name": "stderr",
     "output_type": "stream",
     "text": [
      "\n",
      "100%|██████████| 80/80 [00:00<00:00, 481.02it/s]"
     ]
    },
    {
     "name": "stdout",
     "output_type": "stream",
     "text": [
      "estimation error is 0.11985537427542892\n",
      "calculating optimal controller for estimated system\n"
     ]
    },
    {
     "name": "stderr",
     "output_type": "stream",
     "text": [
      "\n",
      "  0%|          | 0/80 [00:00<?, ?it/s]"
     ]
    },
    {
     "name": "stdout",
     "output_type": "stream",
     "text": [
      "new feedback gain is 12.218680495442413\n",
      "with cost of 0.8965054701275158\n",
      "starting epoch 649\n",
      "estimation error is 0.11966460702065193\n",
      "calculating optimal controller for estimated system\n"
     ]
    },
    {
     "name": "stderr",
     "output_type": "stream",
     "text": [
      "100%|██████████| 80/80 [00:00<00:00, 612.46it/s]\n",
      "  0%|          | 0/80 [00:00<?, ?it/s]"
     ]
    },
    {
     "name": "stdout",
     "output_type": "stream",
     "text": [
      "new feedback gain is 12.199344091467793\n",
      "with cost of 0.8942239437880075\n",
      "starting epoch 650\n",
      "estimation error is 0.11952097404721868\n",
      "calculating optimal controller for estimated system\n"
     ]
    },
    {
     "name": "stderr",
     "output_type": "stream",
     "text": [
      "100%|██████████| 80/80 [00:00<00:00, 747.36it/s]\n",
      "  0%|          | 0/80 [00:00<?, ?it/s]"
     ]
    },
    {
     "name": "stdout",
     "output_type": "stream",
     "text": [
      "new feedback gain is 12.308523606371647\n",
      "with cost of 0.9072603353189053\n",
      "starting epoch 651\n",
      "estimation error is 0.11934985841732682\n",
      "calculating optimal controller for estimated system\n"
     ]
    },
    {
     "name": "stderr",
     "output_type": "stream",
     "text": [
      "100%|██████████| 80/80 [00:00<00:00, 820.62it/s]\n",
      "  0%|          | 0/80 [00:00<?, ?it/s]"
     ]
    },
    {
     "name": "stdout",
     "output_type": "stream",
     "text": [
      "new feedback gain is 12.406785169785115\n",
      "with cost of 0.919321559984599\n",
      "starting epoch 652\n",
      "estimation error is 0.11918305244445962\n",
      "calculating optimal controller for estimated system\n"
     ]
    },
    {
     "name": "stderr",
     "output_type": "stream",
     "text": [
      "100%|██████████| 80/80 [00:00<00:00, 849.26it/s]\n",
      "  0%|          | 0/80 [00:00<?, ?it/s]"
     ]
    },
    {
     "name": "stdout",
     "output_type": "stream",
     "text": [
      "new feedback gain is 12.495220576857237\n",
      "with cost of 0.9304534492047716\n",
      "starting epoch 653\n",
      "estimation error is 0.11897970771471424\n",
      "calculating optimal controller for estimated system\n"
     ]
    },
    {
     "name": "stderr",
     "output_type": "stream",
     "text": [
      "100%|██████████| 80/80 [00:00<00:00, 761.32it/s]\n",
      "  0%|          | 0/80 [00:00<?, ?it/s]"
     ]
    },
    {
     "name": "stdout",
     "output_type": "stream",
     "text": [
      "new feedback gain is 12.574812443222147\n",
      "with cost of 0.9407045683240085\n",
      "starting epoch 654\n",
      "estimation error is 0.1188124321178083\n",
      "calculating optimal controller for estimated system\n"
     ]
    },
    {
     "name": "stderr",
     "output_type": "stream",
     "text": [
      "100%|██████████| 80/80 [00:00<00:00, 812.94it/s]\n",
      "  0%|          | 0/80 [00:00<?, ?it/s]"
     ]
    },
    {
     "name": "stdout",
     "output_type": "stream",
     "text": [
      "new feedback gain is 12.646445122950565\n",
      "with cost of 0.9501251090274225\n",
      "starting epoch 655\n",
      "estimation error is 0.11863923463833073\n",
      "calculating optimal controller for estimated system\n"
     ]
    },
    {
     "name": "stderr",
     "output_type": "stream",
     "text": [
      "100%|██████████| 80/80 [00:00<00:00, 890.76it/s]\n",
      "  0%|          | 0/80 [00:00<?, ?it/s]"
     ]
    },
    {
     "name": "stdout",
     "output_type": "stream",
     "text": [
      "new feedback gain is 12.710914534706141\n",
      "with cost of 0.9587659363676606\n",
      "starting epoch 656\n",
      "estimation error is 0.11841528784116183\n",
      "calculating optimal controller for estimated system\n"
     ]
    },
    {
     "name": "stderr",
     "output_type": "stream",
     "text": [
      "100%|██████████| 80/80 [00:00<00:00, 853.01it/s]\n",
      "  0%|          | 0/80 [00:00<?, ?it/s]"
     ]
    },
    {
     "name": "stdout",
     "output_type": "stream",
     "text": [
      "new feedback gain is 12.76893700528616\n",
      "with cost of 0.9666777874510681\n",
      "starting epoch 657\n",
      "estimation error is 0.1182714732959499\n",
      "calculating optimal controller for estimated system\n"
     ]
    },
    {
     "name": "stderr",
     "output_type": "stream",
     "text": [
      "100%|██████████| 80/80 [00:00<00:00, 817.98it/s]\n"
     ]
    },
    {
     "name": "stdout",
     "output_type": "stream",
     "text": [
      "new feedback gain is 12.821157228808177\n",
      "with cost of 0.9739106138538208\n",
      "starting epoch 658\n"
     ]
    },
    {
     "name": "stderr",
     "output_type": "stream",
     "text": [
      " 64%|██████▍   | 51/80 [00:00<00:00, 387.56it/s]"
     ]
    },
    {
     "name": "stdout",
     "output_type": "stream",
     "text": [
      "estimation error is 0.11805055069273415\n",
      "calculating optimal controller for estimated system\n"
     ]
    },
    {
     "name": "stderr",
     "output_type": "stream",
     "text": [
      "100%|██████████| 80/80 [00:00<00:00, 321.22it/s]\n"
     ]
    },
    {
     "name": "stdout",
     "output_type": "stream",
     "text": [
      "new feedback gain is 12.868155429977993\n",
      "with cost of 0.9805130564614485\n",
      "starting epoch 659\n"
     ]
    },
    {
     "name": "stderr",
     "output_type": "stream",
     "text": [
      " 59%|█████▉    | 47/80 [00:00<00:00, 463.13it/s]"
     ]
    },
    {
     "name": "stdout",
     "output_type": "stream",
     "text": [
      "estimation error is 0.11787780615703641\n",
      "calculating optimal controller for estimated system\n"
     ]
    },
    {
     "name": "stderr",
     "output_type": "stream",
     "text": [
      "100%|██████████| 80/80 [00:00<00:00, 164.20it/s]\n"
     ]
    },
    {
     "name": "stdout",
     "output_type": "stream",
     "text": [
      "new feedback gain is 12.910453811030827\n",
      "with cost of 0.986532039399802\n",
      "starting epoch 660\n"
     ]
    },
    {
     "name": "stderr",
     "output_type": "stream",
     "text": [
      " 39%|███▉      | 31/80 [00:00<00:00, 304.55it/s]"
     ]
    },
    {
     "name": "stdout",
     "output_type": "stream",
     "text": [
      "estimation error is 0.11776221504003918\n",
      "calculating optimal controller for estimated system\n"
     ]
    },
    {
     "name": "stderr",
     "output_type": "stream",
     "text": [
      "100%|██████████| 80/80 [00:00<00:00, 150.64it/s]\n"
     ]
    },
    {
     "name": "stdout",
     "output_type": "stream",
     "text": [
      "new feedback gain is 12.948522353978378\n",
      "with cost of 0.9920124687890236\n",
      "starting epoch 661\n"
     ]
    },
    {
     "name": "stderr",
     "output_type": "stream",
     "text": [
      " 50%|█████     | 40/80 [00:00<00:00, 391.85it/s]"
     ]
    },
    {
     "name": "stdout",
     "output_type": "stream",
     "text": [
      "estimation error is 0.117590183091956\n",
      "calculating optimal controller for estimated system\n"
     ]
    },
    {
     "name": "stderr",
     "output_type": "stream",
     "text": [
      "100%|██████████| 80/80 [00:00<00:00, 175.40it/s]\n"
     ]
    },
    {
     "name": "stdout",
     "output_type": "stream",
     "text": [
      "new feedback gain is 12.982784042631174\n",
      "with cost of 0.9969970219504819\n",
      "starting epoch 662\n"
     ]
    },
    {
     "name": "stderr",
     "output_type": "stream",
     "text": [
      " 49%|████▉     | 39/80 [00:00<00:00, 386.99it/s]"
     ]
    },
    {
     "name": "stdout",
     "output_type": "stream",
     "text": [
      "estimation error is 0.11737249116808944\n",
      "calculating optimal controller for estimated system\n"
     ]
    },
    {
     "name": "stderr",
     "output_type": "stream",
     "text": [
      "100%|██████████| 80/80 [00:00<00:00, 147.52it/s]\n"
     ]
    },
    {
     "name": "stdout",
     "output_type": "stream",
     "text": [
      "new feedback gain is 13.01361956241869\n",
      "with cost of 1.0015260132014052\n",
      "starting epoch 663\n"
     ]
    },
    {
     "name": "stderr",
     "output_type": "stream",
     "text": [
      " 48%|████▊     | 38/80 [00:00<00:00, 371.56it/s]"
     ]
    },
    {
     "name": "stdout",
     "output_type": "stream",
     "text": [
      "estimation error is 0.11719673333777186\n",
      "calculating optimal controller for estimated system\n"
     ]
    },
    {
     "name": "stderr",
     "output_type": "stream",
     "text": [
      "100%|██████████| 80/80 [00:00<00:00, 146.90it/s]\n"
     ]
    },
    {
     "name": "stdout",
     "output_type": "stream",
     "text": [
      "new feedback gain is 13.041371530227455\n",
      "with cost of 1.0056373232876827\n",
      "starting epoch 664\n"
     ]
    },
    {
     "name": "stderr",
     "output_type": "stream",
     "text": [
      " 52%|█████▎    | 42/80 [00:00<00:00, 411.83it/s]"
     ]
    },
    {
     "name": "stdout",
     "output_type": "stream",
     "text": [
      "estimation error is 0.1170212330336294\n",
      "calculating optimal controller for estimated system\n"
     ]
    },
    {
     "name": "stderr",
     "output_type": "stream",
     "text": [
      "100%|██████████| 80/80 [00:00<00:00, 149.09it/s]\n"
     ]
    },
    {
     "name": "stdout",
     "output_type": "stream",
     "text": [
      "new feedback gain is 13.066348301255342\n",
      "with cost of 1.009366380672624\n",
      "starting epoch 665\n"
     ]
    },
    {
     "name": "stderr",
     "output_type": "stream",
     "text": [
      "\r",
      "  0%|          | 0/80 [00:00<?, ?it/s]"
     ]
    },
    {
     "name": "stdout",
     "output_type": "stream",
     "text": [
      "estimation error is 0.11688238890487025\n",
      "calculating optimal controller for estimated system\n"
     ]
    },
    {
     "name": "stderr",
     "output_type": "stream",
     "text": [
      "100%|██████████| 80/80 [00:06<00:00, 11.75it/s]\n",
      "  0%|          | 0/80 [00:00<?, ?it/s]"
     ]
    },
    {
     "name": "stdout",
     "output_type": "stream",
     "text": [
      "new feedback gain is 13.088827395180441\n",
      "with cost of 1.0127461841938663\n",
      "starting epoch 666\n",
      "estimation error is 0.11667209060096498\n",
      "calculating optimal controller for estimated system\n"
     ]
    },
    {
     "name": "stderr",
     "output_type": "stream",
     "text": [
      "100%|██████████| 80/80 [00:00<00:00, 483.92it/s]\n",
      "  0%|          | 0/80 [00:00<?, ?it/s]"
     ]
    },
    {
     "name": "stdout",
     "output_type": "stream",
     "text": [
      "new feedback gain is 13.10905857971303\n",
      "with cost of 1.0158073579288325\n",
      "starting epoch 667\n",
      "estimation error is 0.11652728133074543\n",
      "calculating optimal controller for estimated system\n"
     ]
    },
    {
     "name": "stderr",
     "output_type": "stream",
     "text": [
      "100%|██████████| 80/80 [00:00<00:00, 844.37it/s]\n",
      "  0%|          | 0/80 [00:00<?, ?it/s]"
     ]
    },
    {
     "name": "stdout",
     "output_type": "stream",
     "text": [
      "new feedback gain is 13.12726664579236\n",
      "with cost of 1.018578230404979\n",
      "starting epoch 668\n",
      "estimation error is 0.11631171840290921\n",
      "calculating optimal controller for estimated system\n"
     ]
    },
    {
     "name": "stderr",
     "output_type": "stream",
     "text": [
      "100%|██████████| 80/80 [00:00<00:00, 1007.51it/s]\n",
      "  0%|          | 0/80 [00:00<?, ?it/s]"
     ]
    },
    {
     "name": "stdout",
     "output_type": "stream",
     "text": [
      "new feedback gain is 13.270236183744771\n",
      "with cost of 1.0408701855165676\n",
      "starting epoch 669\n",
      "estimation error is 0.11615664831037387\n",
      "calculating optimal controller for estimated system\n"
     ]
    },
    {
     "name": "stderr",
     "output_type": "stream",
     "text": [
      "100%|██████████| 80/80 [00:00<00:00, 521.99it/s]\n"
     ]
    },
    {
     "name": "stdout",
     "output_type": "stream",
     "text": [
      "new feedback gain is 13.39890876790194\n",
      "with cost of 1.061781080324493\n",
      "starting epoch 670\n"
     ]
    },
    {
     "name": "stderr",
     "output_type": "stream",
     "text": [
      "100%|██████████| 80/80 [00:00<00:00, 901.63it/s]"
     ]
    },
    {
     "name": "stdout",
     "output_type": "stream",
     "text": [
      "estimation error is 0.11601706346724877\n",
      "calculating optimal controller for estimated system\n",
      "new feedback gain is 13.514714093643393\n",
      "with cost of 1.0813299087177206\n",
      "starting epoch 671\n"
     ]
    },
    {
     "name": "stderr",
     "output_type": "stream",
     "text": [
      "\n",
      "100%|██████████| 80/80 [00:00<00:00, 583.89it/s]"
     ]
    },
    {
     "name": "stdout",
     "output_type": "stream",
     "text": [
      "estimation error is 0.11585795807488111\n",
      "calculating optimal controller for estimated system\n"
     ]
    },
    {
     "name": "stderr",
     "output_type": "stream",
     "text": [
      "\n"
     ]
    },
    {
     "name": "stdout",
     "output_type": "stream",
     "text": [
      "new feedback gain is 13.6189388868107\n",
      "with cost of 1.099547415430397\n",
      "starting epoch 672\n"
     ]
    },
    {
     "name": "stderr",
     "output_type": "stream",
     "text": [
      " 64%|██████▍   | 51/80 [00:00<00:00, 389.41it/s]"
     ]
    },
    {
     "name": "stdout",
     "output_type": "stream",
     "text": [
      "estimation error is 0.11564165252415304\n",
      "calculating optimal controller for estimated system\n"
     ]
    },
    {
     "name": "stderr",
     "output_type": "stream",
     "text": [
      "100%|██████████| 80/80 [00:00<00:00, 386.56it/s]\n"
     ]
    },
    {
     "name": "stdout",
     "output_type": "stream",
     "text": [
      "new feedback gain is 13.586158922180262\n",
      "with cost of 1.093752204091099\n",
      "starting epoch 673\n"
     ]
    },
    {
     "name": "stderr",
     "output_type": "stream",
     "text": [
      " 64%|██████▍   | 51/80 [00:00<00:00, 335.55it/s]"
     ]
    },
    {
     "name": "stdout",
     "output_type": "stream",
     "text": [
      "estimation error is 0.11553368808447233\n",
      "calculating optimal controller for estimated system\n"
     ]
    },
    {
     "name": "stderr",
     "output_type": "stream",
     "text": [
      "100%|██████████| 80/80 [00:00<00:00, 357.93it/s]\n",
      "  0%|          | 0/80 [00:00<?, ?it/s]"
     ]
    },
    {
     "name": "stdout",
     "output_type": "stream",
     "text": [
      "new feedback gain is 13.556656954012869\n",
      "with cost of 1.0885883122698463\n",
      "starting epoch 674\n",
      "estimation error is 0.11535566215214\n",
      "calculating optimal controller for estimated system\n"
     ]
    },
    {
     "name": "stderr",
     "output_type": "stream",
     "text": [
      "100%|██████████| 80/80 [00:00<00:00, 582.39it/s]\n"
     ]
    },
    {
     "name": "stdout",
     "output_type": "stream",
     "text": [
      "new feedback gain is 13.530105182662215\n",
      "with cost of 1.0839821766184576\n",
      "starting epoch 675\n",
      "estimation error is 0.1151574296732859"
     ]
    },
    {
     "name": "stderr",
     "output_type": "stream",
     "text": [
      "100%|██████████| 80/80 [00:00<00:00, 548.37it/s]"
     ]
    },
    {
     "name": "stdout",
     "output_type": "stream",
     "text": [
      "\n",
      "calculating optimal controller for estimated system\n"
     ]
    },
    {
     "name": "stderr",
     "output_type": "stream",
     "text": [
      "\n"
     ]
    },
    {
     "name": "stdout",
     "output_type": "stream",
     "text": [
      "new feedback gain is 13.506208588446627\n",
      "with cost of 1.0798697395096706\n",
      "starting epoch 676\n"
     ]
    },
    {
     "name": "stderr",
     "output_type": "stream",
     "text": [
      "100%|██████████| 80/80 [00:00<00:00, 661.43it/s]"
     ]
    },
    {
     "name": "stdout",
     "output_type": "stream",
     "text": [
      "estimation error is 0.11496716439621331\n",
      "calculating optimal controller for estimated system\n",
      "new feedback gain is 13.484701653652598\n",
      "with cost of 1.0761950419886328\n",
      "starting epoch 677\n"
     ]
    },
    {
     "name": "stderr",
     "output_type": "stream",
     "text": [
      "\n",
      "100%|██████████| 80/80 [00:00<00:00, 657.50it/s]"
     ]
    },
    {
     "name": "stdout",
     "output_type": "stream",
     "text": [
      "estimation error is 0.11474398744418024\n",
      "calculating optimal controller for estimated system\n",
      "new feedback gain is 13.465345412337971\n",
      "with cost of 1.0729090581733658\n"
     ]
    },
    {
     "name": "stderr",
     "output_type": "stream",
     "text": [
      "\n",
      "  0%|          | 0/80 [00:00<?, ?it/s]"
     ]
    },
    {
     "name": "stdout",
     "output_type": "stream",
     "text": [
      "starting epoch 678\n",
      "estimation error is 0.11460688161734481\n",
      "calculating optimal controller for estimated system\n"
     ]
    },
    {
     "name": "stderr",
     "output_type": "stream",
     "text": [
      "100%|██████████| 80/80 [00:00<00:00, 601.67it/s]\n"
     ]
    },
    {
     "name": "stdout",
     "output_type": "stream",
     "text": [
      "new feedback gain is 13.447924795154806\n",
      "with cost of 1.069968723664242\n",
      "starting epoch 679\n"
     ]
    },
    {
     "name": "stderr",
     "output_type": "stream",
     "text": [
      "100%|██████████| 80/80 [00:00<00:00, 515.51it/s]"
     ]
    },
    {
     "name": "stdout",
     "output_type": "stream",
     "text": [
      "estimation error is 0.11442014915000126\n",
      "calculating optimal controller for estimated system\n",
      "new feedback gain is 13.43224623968996\n",
      "with cost of 1.0673361209486936\n"
     ]
    },
    {
     "name": "stderr",
     "output_type": "stream",
     "text": [
      "\n",
      "  0%|          | 0/80 [00:00<?, ?it/s]"
     ]
    },
    {
     "name": "stdout",
     "output_type": "stream",
     "text": [
      "starting epoch 680\n",
      "estimation error is 0.11426777047454427\n",
      "calculating optimal controller for estimated system\n"
     ]
    },
    {
     "name": "stderr",
     "output_type": "stream",
     "text": [
      "100%|██████████| 80/80 [00:00<00:00, 631.30it/s]\n",
      "  0%|          | 0/80 [00:00<?, ?it/s]"
     ]
    },
    {
     "name": "stdout",
     "output_type": "stream",
     "text": [
      "new feedback gain is 13.418135539771598\n",
      "with cost of 1.064977792702605\n",
      "starting epoch 681\n",
      "estimation error is 0.11410377929875526\n",
      "calculating optimal controller for estimated system\n"
     ]
    },
    {
     "name": "stderr",
     "output_type": "stream",
     "text": [
      "100%|██████████| 80/80 [00:00<00:00, 565.51it/s]\n",
      "  0%|          | 0/80 [00:00<?, ?it/s]"
     ]
    },
    {
     "name": "stdout",
     "output_type": "stream",
     "text": [
      "new feedback gain is 13.405435909845071\n",
      "with cost of 1.0628641599475757\n",
      "starting epoch 682\n",
      "estimation error is 0.1139461114238363\n",
      "calculating optimal controller for estimated system\n"
     ]
    },
    {
     "name": "stderr",
     "output_type": "stream",
     "text": [
      "100%|██████████| 80/80 [00:00<00:00, 558.19it/s]\n",
      "  0%|          | 0/80 [00:00<?, ?it/s]"
     ]
    },
    {
     "name": "stdout",
     "output_type": "stream",
     "text": [
      "new feedback gain is 13.394006242911198\n",
      "with cost of 1.060969026695049\n",
      "starting epoch 683\n",
      "estimation error is 0.1137923983372041\n",
      "calculating optimal controller for estimated system\n"
     ]
    },
    {
     "name": "stderr",
     "output_type": "stream",
     "text": [
      "100%|██████████| 80/80 [00:00<00:00, 469.63it/s]\n"
     ]
    },
    {
     "name": "stdout",
     "output_type": "stream",
     "text": [
      "new feedback gain is 13.2571372641897\n",
      "with cost of 1.0387873979607203\n",
      "starting epoch 684\n"
     ]
    },
    {
     "name": "stderr",
     "output_type": "stream",
     "text": [
      "100%|██████████| 80/80 [00:00<00:00, 405.23it/s]"
     ]
    },
    {
     "name": "stdout",
     "output_type": "stream",
     "text": [
      "estimation error is 0.11358074977958517\n",
      "calculating optimal controller for estimated system\n"
     ]
    },
    {
     "name": "stderr",
     "output_type": "stream",
     "text": [
      "\n",
      "  0%|          | 0/80 [00:00<?, ?it/s]"
     ]
    },
    {
     "name": "stdout",
     "output_type": "stream",
     "text": [
      "new feedback gain is 13.133955183340351\n",
      "with cost of 1.0195998689446737\n",
      "starting epoch 685\n",
      "estimation error is 0.11345245916158661\n",
      "calculating optimal controller for estimated system\n"
     ]
    },
    {
     "name": "stderr",
     "output_type": "stream",
     "text": [
      "100%|██████████| 80/80 [00:00<00:00, 413.50it/s]\n"
     ]
    },
    {
     "name": "stdout",
     "output_type": "stream",
     "text": [
      "new feedback gain is 13.023091310575937\n",
      "with cost of 1.0029254310011695\n",
      "starting epoch 686\n"
     ]
    },
    {
     "name": "stderr",
     "output_type": "stream",
     "text": [
      "100%|██████████| 80/80 [00:00<00:00, 435.53it/s]"
     ]
    },
    {
     "name": "stdout",
     "output_type": "stream",
     "text": [
      "estimation error is 0.11328391649081296\n",
      "calculating optimal controller for estimated system\n"
     ]
    },
    {
     "name": "stderr",
     "output_type": "stream",
     "text": [
      "\n",
      "  0%|          | 0/80 [00:00<?, ?it/s]"
     ]
    },
    {
     "name": "stdout",
     "output_type": "stream",
     "text": [
      "new feedback gain is 12.923313825087964\n",
      "with cost of 0.9883766291314178\n",
      "starting epoch 687\n",
      "estimation error is 0.11311122610344942\n",
      "calculating optimal controller for estimated system\n"
     ]
    },
    {
     "name": "stderr",
     "output_type": "stream",
     "text": [
      "100%|██████████| 80/80 [00:00<00:00, 376.88it/s]\n"
     ]
    },
    {
     "name": "stdout",
     "output_type": "stream",
     "text": [
      "new feedback gain is 12.833514088148789\n",
      "with cost of 0.9756379345878614\n",
      "starting epoch 688\n"
     ]
    },
    {
     "name": "stderr",
     "output_type": "stream",
     "text": [
      " 64%|██████▍   | 51/80 [00:00<00:00, 462.22it/s]"
     ]
    },
    {
     "name": "stdout",
     "output_type": "stream",
     "text": [
      "estimation error is 0.11286635789248828\n",
      "calculating optimal controller for estimated system\n"
     ]
    },
    {
     "name": "stderr",
     "output_type": "stream",
     "text": [
      "100%|██████████| 80/80 [00:00<00:00, 383.77it/s]\n"
     ]
    },
    {
     "name": "stdout",
     "output_type": "stream",
     "text": [
      "new feedback gain is 12.752694324903532\n",
      "with cost of 0.964449867978912\n",
      "starting epoch 689\n"
     ]
    },
    {
     "name": "stderr",
     "output_type": "stream",
     "text": [
      " 64%|██████▍   | 51/80 [00:00<00:00, 467.58it/s]"
     ]
    },
    {
     "name": "stdout",
     "output_type": "stream",
     "text": [
      "estimation error is 0.11271694147818738\n",
      "calculating optimal controller for estimated system\n"
     ]
    },
    {
     "name": "stderr",
     "output_type": "stream",
     "text": [
      "100%|██████████| 80/80 [00:00<00:00, 379.26it/s]\n"
     ]
    },
    {
     "name": "stdout",
     "output_type": "stream",
     "text": [
      "new feedback gain is 12.6799565379828\n",
      "with cost of 0.9545971635537932\n",
      "starting epoch 690\n"
     ]
    },
    {
     "name": "stderr",
     "output_type": "stream",
     "text": [
      " 64%|██████▍   | 51/80 [00:00<00:00, 463.96it/s]"
     ]
    },
    {
     "name": "stdout",
     "output_type": "stream",
     "text": [
      "estimation error is 0.11252451659147256\n",
      "calculating optimal controller for estimated system\n"
     ]
    },
    {
     "name": "stderr",
     "output_type": "stream",
     "text": [
      "100%|██████████| 80/80 [00:00<00:00, 394.65it/s]\n"
     ]
    },
    {
     "name": "stdout",
     "output_type": "stream",
     "text": [
      "new feedback gain is 12.614492529754141\n",
      "with cost of 0.9458998221275006\n",
      "starting epoch 691\n"
     ]
    },
    {
     "name": "stderr",
     "output_type": "stream",
     "text": [
      "100%|██████████| 80/80 [00:00<00:00, 461.98it/s]"
     ]
    },
    {
     "name": "stdout",
     "output_type": "stream",
     "text": [
      "estimation error is 0.11236795275092804\n",
      "calculating optimal controller for estimated system\n"
     ]
    },
    {
     "name": "stderr",
     "output_type": "stream",
     "text": [
      "\n",
      "  0%|          | 0/80 [00:00<?, ?it/s]"
     ]
    },
    {
     "name": "stdout",
     "output_type": "stream",
     "text": [
      "new feedback gain is 12.68215720082936\n",
      "with cost of 0.9548923086054767\n",
      "starting epoch 692\n",
      "estimation error is 0.11219380755609797\n",
      "calculating optimal controller for estimated system\n"
     ]
    },
    {
     "name": "stderr",
     "output_type": "stream",
     "text": [
      "100%|██████████| 80/80 [00:00<00:00, 373.35it/s]\n"
     ]
    },
    {
     "name": "stdout",
     "output_type": "stream",
     "text": [
      "new feedback gain is 12.616473126316047\n",
      "with cost of 0.9461606386381519\n",
      "starting epoch 693\n"
     ]
    },
    {
     "name": "stderr",
     "output_type": "stream",
     "text": [
      " 64%|██████▍   | 51/80 [00:00<00:00, 483.98it/s]"
     ]
    },
    {
     "name": "stdout",
     "output_type": "stream",
     "text": [
      "estimation error is 0.11204949826567943\n",
      "calculating optimal controller for estimated system\n"
     ]
    },
    {
     "name": "stderr",
     "output_type": "stream",
     "text": [
      "100%|██████████| 80/80 [00:00<00:00, 396.18it/s]\n"
     ]
    },
    {
     "name": "stdout",
     "output_type": "stream",
     "text": [
      "new feedback gain is 12.557357459254064\n",
      "with cost of 0.9384371960771585\n",
      "starting epoch 694\n"
     ]
    },
    {
     "name": "stderr",
     "output_type": "stream",
     "text": [
      " 64%|██████▍   | 51/80 [00:00<00:00, 435.74it/s]"
     ]
    },
    {
     "name": "stdout",
     "output_type": "stream",
     "text": [
      "estimation error is 0.11193581807947202\n",
      "calculating optimal controller for estimated system\n"
     ]
    },
    {
     "name": "stderr",
     "output_type": "stream",
     "text": [
      "100%|██████████| 80/80 [00:00<00:00, 372.65it/s]\n"
     ]
    },
    {
     "name": "stdout",
     "output_type": "stream",
     "text": [
      "new feedback gain is 12.504153358898279\n",
      "with cost of 0.931592841454314\n",
      "starting epoch 695\n"
     ]
    },
    {
     "name": "stderr",
     "output_type": "stream",
     "text": [
      " 64%|██████▍   | 51/80 [00:00<00:00, 500.21it/s]"
     ]
    },
    {
     "name": "stdout",
     "output_type": "stream",
     "text": [
      "estimation error is 0.11178053621504347\n",
      "calculating optimal controller for estimated system\n"
     ]
    },
    {
     "name": "stderr",
     "output_type": "stream",
     "text": [
      "100%|██████████| 80/80 [00:00<00:00, 376.16it/s]\n",
      "  0%|          | 0/80 [00:00<?, ?it/s]"
     ]
    },
    {
     "name": "stdout",
     "output_type": "stream",
     "text": [
      "new feedback gain is 12.456269668578072\n",
      "with cost of 0.9255175080766224\n",
      "starting epoch 696\n",
      "estimation error is 0.1116501906562851\n",
      "calculating optimal controller for estimated system\n"
     ]
    },
    {
     "name": "stderr",
     "output_type": "stream",
     "text": [
      "100%|██████████| 80/80 [00:00<00:00, 386.32it/s]\n"
     ]
    },
    {
     "name": "stdout",
     "output_type": "stream",
     "text": [
      "new feedback gain is 12.413174347289885\n",
      "with cost of 0.9201168918436025\n",
      "starting epoch 697\n"
     ]
    },
    {
     "name": "stderr",
     "output_type": "stream",
     "text": [
      " 64%|██████▍   | 51/80 [00:00<00:00, 465.44it/s]"
     ]
    },
    {
     "name": "stdout",
     "output_type": "stream",
     "text": [
      "estimation error is 0.11149302469638676\n",
      "calculating optimal controller for estimated system\n"
     ]
    },
    {
     "name": "stderr",
     "output_type": "stream",
     "text": [
      "100%|██████████| 80/80 [00:00<00:00, 398.26it/s]\n"
     ]
    },
    {
     "name": "stdout",
     "output_type": "stream",
     "text": [
      "new feedback gain is 12.37438855813052\n",
      "with cost of 0.9153098097771474\n",
      "starting epoch 698\n"
     ]
    },
    {
     "name": "stderr",
     "output_type": "stream",
     "text": [
      "100%|██████████| 80/80 [00:00<00:00, 452.39it/s]"
     ]
    },
    {
     "name": "stdout",
     "output_type": "stream",
     "text": [
      "estimation error is 0.11134273342396356\n",
      "calculating optimal controller for estimated system\n"
     ]
    },
    {
     "name": "stderr",
     "output_type": "stream",
     "text": [
      "\n"
     ]
    },
    {
     "name": "stdout",
     "output_type": "stream",
     "text": [
      "new feedback gain is 12.4660636263681\n",
      "with cost of 0.9267536967111303\n",
      "starting epoch 699\n"
     ]
    },
    {
     "name": "stderr",
     "output_type": "stream",
     "text": [
      "100%|██████████| 80/80 [00:00<00:00, 511.15it/s]"
     ]
    },
    {
     "name": "stdout",
     "output_type": "stream",
     "text": [
      "estimation error is 0.1111902780270905\n",
      "calculating optimal controller for estimated system\n",
      "new feedback gain is 12.548571187781924"
     ]
    },
    {
     "name": "stderr",
     "output_type": "stream",
     "text": [
      "\n",
      "  0%|          | 0/80 [00:00<?, ?it/s]"
     ]
    },
    {
     "name": "stdout",
     "output_type": "stream",
     "text": [
      "\n",
      "with cost of 0.9372999943442464\n",
      "starting epoch 700\n",
      "estimation error is 0.11105696195464494\n",
      "calculating optimal controller for estimated system\n"
     ]
    },
    {
     "name": "stderr",
     "output_type": "stream",
     "text": [
      "100%|██████████| 80/80 [00:00<00:00, 600.86it/s]\n",
      "  0%|          | 0/80 [00:00<?, ?it/s]"
     ]
    },
    {
     "name": "stdout",
     "output_type": "stream",
     "text": [
      "new feedback gain is 12.622827993054365\n",
      "with cost of 0.9469984539234219\n",
      "starting epoch 701\n",
      "estimation error is 0.11090193438379968\n",
      "calculating optimal controller for estimated system\n"
     ]
    },
    {
     "name": "stderr",
     "output_type": "stream",
     "text": [
      "100%|██████████| 80/80 [00:00<00:00, 599.50it/s]\n",
      "  0%|          | 0/80 [00:00<?, ?it/s]"
     ]
    },
    {
     "name": "stdout",
     "output_type": "stream",
     "text": [
      "new feedback gain is 12.689659117799561\n",
      "with cost of 0.9558998081592509\n",
      "starting epoch 702\n",
      "estimation error is 0.1107472582740338\n",
      "calculating optimal controller for estimated system\n"
     ]
    },
    {
     "name": "stderr",
     "output_type": "stream",
     "text": [
      "100%|██████████| 80/80 [00:00<00:00, 596.62it/s]\n"
     ]
    },
    {
     "name": "stdout",
     "output_type": "stream",
     "text": [
      "new feedback gain is 12.749807130070238\n",
      "with cost of 0.9640549188011366\n",
      "starting epoch 703\n"
     ]
    },
    {
     "name": "stderr",
     "output_type": "stream",
     "text": [
      "100%|██████████| 80/80 [00:00<00:00, 523.42it/s]"
     ]
    },
    {
     "name": "stdout",
     "output_type": "stream",
     "text": [
      "estimation error is 0.11058982445039056\n",
      "calculating optimal controller for estimated system\n"
     ]
    },
    {
     "name": "stderr",
     "output_type": "stream",
     "text": [
      "\n"
     ]
    },
    {
     "name": "stdout",
     "output_type": "stream",
     "text": [
      "new feedback gain is 12.803940341113847\n",
      "with cost of 0.9715140711053418\n",
      "starting epoch 704\n"
     ]
    },
    {
     "name": "stderr",
     "output_type": "stream",
     "text": [
      "100%|██████████| 80/80 [00:00<00:00, 479.29it/s]"
     ]
    },
    {
     "name": "stdout",
     "output_type": "stream",
     "text": [
      "estimation error is 0.1104212779738995\n",
      "calculating optimal controller for estimated system\n"
     ]
    },
    {
     "name": "stderr",
     "output_type": "stream",
     "text": [
      "\n"
     ]
    },
    {
     "name": "stdout",
     "output_type": "stream",
     "text": [
      "new feedback gain is 12.852660231053095\n",
      "with cost of 0.978326404877585\n",
      "starting epoch 705\n"
     ]
    },
    {
     "name": "stderr",
     "output_type": "stream",
     "text": [
      "100%|██████████| 80/80 [00:00<00:00, 470.95it/s]"
     ]
    },
    {
     "name": "stdout",
     "output_type": "stream",
     "text": [
      "estimation error is 0.11027252378806564\n",
      "calculating optimal controller for estimated system\n"
     ]
    },
    {
     "name": "stderr",
     "output_type": "stream",
     "text": [
      "\n"
     ]
    },
    {
     "name": "stdout",
     "output_type": "stream",
     "text": [
      "new feedback gain is 12.896508131998418\n",
      "with cost of 0.9845394693141841\n",
      "starting epoch 706\n"
     ]
    },
    {
     "name": "stderr",
     "output_type": "stream",
     "text": [
      "100%|██████████| 80/80 [00:00<00:00, 554.69it/s]"
     ]
    },
    {
     "name": "stdout",
     "output_type": "stream",
     "text": [
      "estimation error is 0.11014312922232077\n",
      "calculating optimal controller for estimated system\n",
      "new feedback gain is 13.062553521330223\n",
      "with cost of 1.0087980408906068\n"
     ]
    },
    {
     "name": "stderr",
     "output_type": "stream",
     "text": [
      "\n",
      "  0%|          | 0/80 [00:00<?, ?it/s]"
     ]
    },
    {
     "name": "stdout",
     "output_type": "stream",
     "text": [
      "starting epoch 707\n",
      "estimation error is 0.1099708748656859\n",
      "calculating optimal controller for estimated system\n"
     ]
    },
    {
     "name": "stderr",
     "output_type": "stream",
     "text": [
      "100%|██████████| 80/80 [00:00<00:00, 547.70it/s]\n"
     ]
    },
    {
     "name": "stdout",
     "output_type": "stream",
     "text": [
      "new feedback gain is 13.211994371728847\n",
      "with cost of 1.0316726960506062\n",
      "starting epoch 708\n"
     ]
    },
    {
     "name": "stderr",
     "output_type": "stream",
     "text": [
      "100%|██████████| 80/80 [00:00<00:00, 597.23it/s]"
     ]
    },
    {
     "name": "stdout",
     "output_type": "stream",
     "text": [
      "estimation error is 0.10981482616291492\n",
      "calculating optimal controller for estimated system\n",
      "new feedback gain is 13.34649113708761\n",
      "with cost of 1.0531623023067114\n"
     ]
    },
    {
     "name": "stderr",
     "output_type": "stream",
     "text": [
      "\n",
      "  0%|          | 0/80 [00:00<?, ?it/s]"
     ]
    },
    {
     "name": "stdout",
     "output_type": "stream",
     "text": [
      "starting epoch 709\n",
      "estimation error is 0.10969032006783415\n",
      "calculating optimal controller for estimated system\n"
     ]
    },
    {
     "name": "stderr",
     "output_type": "stream",
     "text": [
      "100%|██████████| 80/80 [00:00<00:00, 615.35it/s]\n"
     ]
    },
    {
     "name": "stdout",
     "output_type": "stream",
     "text": [
      "new feedback gain is 13.467538225910495\n",
      "with cost of 1.0732803132143334\n",
      "starting epoch 710\n"
     ]
    },
    {
     "name": "stderr",
     "output_type": "stream",
     "text": [
      "100%|██████████| 80/80 [00:00<00:00, 615.28it/s]"
     ]
    },
    {
     "name": "stdout",
     "output_type": "stream",
     "text": [
      "estimation error is 0.10953357538214557\n",
      "calculating optimal controller for estimated system\n",
      "new feedback gain is 13.576480605851092\n",
      "with cost of 1.0920527831085867\n",
      "starting epoch 711\n"
     ]
    },
    {
     "name": "stderr",
     "output_type": "stream",
     "text": [
      "\n",
      "100%|██████████| 80/80 [00:00<00:00, 684.97it/s]"
     ]
    },
    {
     "name": "stdout",
     "output_type": "stream",
     "text": [
      "estimation error is 0.10934289716668487\n",
      "calculating optimal controller for estimated system\n",
      "new feedback gain is 13.674528747797629\n",
      "with cost of 1.1095163449716572\n",
      "starting epoch 712\n"
     ]
    },
    {
     "name": "stderr",
     "output_type": "stream",
     "text": [
      "\n",
      "100%|██████████| 80/80 [00:00<00:00, 539.57it/s]"
     ]
    },
    {
     "name": "stdout",
     "output_type": "stream",
     "text": [
      "estimation error is 0.10918944875167465\n",
      "calculating optimal controller for estimated system\n"
     ]
    },
    {
     "name": "stderr",
     "output_type": "stream",
     "text": [
      "\n",
      "  0%|          | 0/80 [00:00<?, ?it/s]"
     ]
    },
    {
     "name": "stdout",
     "output_type": "stream",
     "text": [
      "new feedback gain is 13.762772075549512\n",
      "with cost of 1.1257162280812132\n",
      "starting epoch 713\n",
      "estimation error is 0.10906620826939574\n",
      "calculating optimal controller for estimated system\n"
     ]
    },
    {
     "name": "stderr",
     "output_type": "stream",
     "text": [
      "100%|██████████| 80/80 [00:00<00:00, 646.55it/s]\n"
     ]
    },
    {
     "name": "stdout",
     "output_type": "stream",
     "text": [
      "new feedback gain is 13.842191070526207\n",
      "with cost of 1.1407043755135877\n",
      "starting epoch 714\n"
     ]
    },
    {
     "name": "stderr",
     "output_type": "stream",
     "text": [
      "100%|██████████| 80/80 [00:00<00:00, 631.15it/s]"
     ]
    },
    {
     "name": "stdout",
     "output_type": "stream",
     "text": [
      "estimation error is 0.10894038000698734\n",
      "calculating optimal controller for estimated system\n",
      "new feedback gain is 13.913668166005232\n",
      "with cost of 1.1545377052266148\n",
      "starting epoch 715\n"
     ]
    },
    {
     "name": "stderr",
     "output_type": "stream",
     "text": [
      "\n",
      "100%|██████████| 80/80 [00:00<00:00, 612.47it/s]"
     ]
    },
    {
     "name": "stdout",
     "output_type": "stream",
     "text": [
      "estimation error is 0.10881249765029632\n",
      "calculating optimal controller for estimated system\n",
      "new feedback gain is 13.977997551936355\n",
      "with cost of 1.1672765433840722\n"
     ]
    },
    {
     "name": "stderr",
     "output_type": "stream",
     "text": [
      "\n",
      "  0%|          | 0/80 [00:00<?, ?it/s]"
     ]
    },
    {
     "name": "stdout",
     "output_type": "stream",
     "text": [
      "starting epoch 716\n",
      "estimation error is 0.1085912498774136\n",
      "calculating optimal controller for estimated system\n"
     ]
    },
    {
     "name": "stderr",
     "output_type": "stream",
     "text": [
      "100%|██████████| 80/80 [00:00<00:00, 584.41it/s]\n"
     ]
    },
    {
     "name": "stdout",
     "output_type": "stream",
     "text": [
      "new feedback gain is 14.035893999274366\n",
      "with cost of 1.1789832454799398\n",
      "starting epoch 717\n"
     ]
    },
    {
     "name": "stderr",
     "output_type": "stream",
     "text": [
      "100%|██████████| 80/80 [00:00<00:00, 597.74it/s]"
     ]
    },
    {
     "name": "stdout",
     "output_type": "stream",
     "text": [
      "estimation error is 0.10844963987767371\n",
      "calculating optimal controller for estimated system\n",
      "new feedback gain is 13.961418523397562\n",
      "with cost of 1.1639667751774019\n"
     ]
    },
    {
     "name": "stderr",
     "output_type": "stream",
     "text": [
      "\n",
      "  0%|          | 0/80 [00:00<?, ?it/s]"
     ]
    },
    {
     "name": "stdout",
     "output_type": "stream",
     "text": [
      "starting epoch 718\n",
      "estimation error is 0.10830373678805355\n",
      "calculating optimal controller for estimated system\n"
     ]
    },
    {
     "name": "stderr",
     "output_type": "stream",
     "text": [
      "100%|██████████| 80/80 [00:00<00:00, 701.27it/s]\n"
     ]
    },
    {
     "name": "stdout",
     "output_type": "stream",
     "text": [
      "new feedback gain is 14.020972873589452\n",
      "with cost of 1.1759438744051591\n",
      "starting epoch 719\n"
     ]
    },
    {
     "name": "stderr",
     "output_type": "stream",
     "text": [
      "100%|██████████| 80/80 [00:00<00:00, 586.53it/s]"
     ]
    },
    {
     "name": "stdout",
     "output_type": "stream",
     "text": [
      "estimation error is 0.10816819696143158\n",
      "calculating optimal controller for estimated system\n",
      "new feedback gain is 13.94798951028114\n",
      "with cost of 1.1612995346582766\n",
      "starting epoch 720\n"
     ]
    },
    {
     "name": "stderr",
     "output_type": "stream",
     "text": [
      "\n",
      "100%|██████████| 80/80 [00:00<00:00, 819.97it/s]"
     ]
    },
    {
     "name": "stdout",
     "output_type": "stream",
     "text": [
      "estimation error is 0.10803171915486244\n",
      "calculating optimal controller for estimated system\n",
      "new feedback gain is 14.008886761784673\n",
      "with cost of 1.1734933998507888\n",
      "starting epoch 721\n"
     ]
    },
    {
     "name": "stderr",
     "output_type": "stream",
     "text": [
      "\n",
      "100%|██████████| 80/80 [00:00<00:00, 710.85it/s]"
     ]
    },
    {
     "name": "stdout",
     "output_type": "stream",
     "text": [
      "estimation error is 0.10787490992376184\n",
      "calculating optimal controller for estimated system\n",
      "new feedback gain is 14.063694288137853\n",
      "with cost of 1.184687979021802\n",
      "starting epoch 722\n"
     ]
    },
    {
     "name": "stderr",
     "output_type": "stream",
     "text": [
      "\n",
      "100%|██████████| 80/80 [00:00<00:00, 776.99it/s]"
     ]
    },
    {
     "name": "stdout",
     "output_type": "stream",
     "text": [
      "estimation error is 0.10776237914895258\n",
      "calculating optimal controller for estimated system\n",
      "new feedback gain is 14.113021061855715\n",
      "with cost of 1.1949465031560595\n",
      "starting epoch 723\n"
     ]
    },
    {
     "name": "stderr",
     "output_type": "stream",
     "text": [
      "\n",
      "100%|██████████| 80/80 [00:00<00:00, 798.63it/s]"
     ]
    },
    {
     "name": "stdout",
     "output_type": "stream",
     "text": [
      "estimation error is 0.10767235284343478\n",
      "calculating optimal controller for estimated system\n",
      "new feedback gain is 14.15741515820179\n",
      "with cost of 1.2043316013144245\n",
      "starting epoch 724\n"
     ]
    },
    {
     "name": "stderr",
     "output_type": "stream",
     "text": [
      "\n",
      "100%|██████████| 80/80 [00:00<00:00, 760.77it/s]"
     ]
    },
    {
     "name": "stdout",
     "output_type": "stream",
     "text": [
      "estimation error is 0.10754105675556563\n",
      "calculating optimal controller for estimated system\n",
      "new feedback gain is 14.197369844913258\n",
      "with cost of 1.2129045698770204\n",
      "starting epoch 725\n"
     ]
    },
    {
     "name": "stderr",
     "output_type": "stream",
     "text": [
      "\n",
      "100%|██████████| 80/80 [00:00<00:00, 738.21it/s]"
     ]
    },
    {
     "name": "stdout",
     "output_type": "stream",
     "text": [
      "estimation error is 0.10742515782360569\n",
      "calculating optimal controller for estimated system\n",
      "new feedback gain is 14.233329062953578\n",
      "with cost of 1.220724798224663\n",
      "starting epoch 726\n"
     ]
    },
    {
     "name": "stderr",
     "output_type": "stream",
     "text": [
      "\n",
      "100%|██████████| 80/80 [00:00<00:00, 762.56it/s]"
     ]
    },
    {
     "name": "stdout",
     "output_type": "stream",
     "text": [
      "estimation error is 0.10725627685151093\n",
      "calculating optimal controller for estimated system\n",
      "new feedback gain is 14.265692359189867\n",
      "with cost of 1.2278493334882339\n",
      "starting epoch 727\n"
     ]
    },
    {
     "name": "stderr",
     "output_type": "stream",
     "text": [
      "\n",
      "100%|██████████| 80/80 [00:00<00:00, 1003.19it/s]"
     ]
    },
    {
     "name": "stdout",
     "output_type": "stream",
     "text": [
      "estimation error is 0.10710184481073823\n",
      "calculating optimal controller for estimated system\n",
      "new feedback gain is 14.42140160428354\n",
      "with cost of 1.2633179881222592\n",
      "starting epoch 728\n"
     ]
    },
    {
     "name": "stderr",
     "output_type": "stream",
     "text": [
      "\n",
      "100%|██████████| 80/80 [00:00<00:00, 959.16it/s]"
     ]
    },
    {
     "name": "stdout",
     "output_type": "stream",
     "text": [
      "estimation error is 0.10697350881294802\n",
      "calculating optimal controller for estimated system\n",
      "new feedback gain is 14.561539924867846\n",
      "with cost of 1.2970294555863529\n",
      "starting epoch 729\n"
     ]
    },
    {
     "name": "stderr",
     "output_type": "stream",
     "text": [
      "\n",
      "100%|██████████| 80/80 [00:00<00:00, 742.35it/s]"
     ]
    },
    {
     "name": "stdout",
     "output_type": "stream",
     "text": [
      "estimation error is 0.10681482941381124\n",
      "calculating optimal controller for estimated system\n",
      "new feedback gain is 14.561082134912708\n",
      "with cost of 1.2969164163303548\n",
      "starting epoch 730\n"
     ]
    },
    {
     "name": "stderr",
     "output_type": "stream",
     "text": [
      "\n",
      "100%|██████████| 80/80 [00:00<00:00, 919.11it/s]"
     ]
    },
    {
     "name": "stdout",
     "output_type": "stream",
     "text": [
      "estimation error is 0.10669108146916474\n",
      "calculating optimal controller for estimated system\n",
      "new feedback gain is 14.687252402434096\n",
      "with cost of 1.3288307585009977\n",
      "starting epoch 731\n"
     ]
    },
    {
     "name": "stderr",
     "output_type": "stream",
     "text": [
      "\n",
      "100%|██████████| 80/80 [00:00<00:00, 1045.35it/s]"
     ]
    },
    {
     "name": "stdout",
     "output_type": "stream",
     "text": [
      "estimation error is 0.10656018219005445\n",
      "calculating optimal controller for estimated system\n",
      "new feedback gain is 14.800805643203345\n",
      "with cost of 1.35891937502845\n",
      "starting epoch 732\n"
     ]
    },
    {
     "name": "stderr",
     "output_type": "stream",
     "text": [
      "\n",
      "100%|██████████| 80/80 [00:00<00:00, 1026.27it/s]"
     ]
    },
    {
     "name": "stdout",
     "output_type": "stream",
     "text": [
      "estimation error is 0.1064377023214686\n",
      "calculating optimal controller for estimated system\n",
      "new feedback gain is 14.903003559895671\n",
      "with cost of 1.3871814765965944\n",
      "starting epoch 733\n"
     ]
    },
    {
     "name": "stderr",
     "output_type": "stream",
     "text": [
      "\n",
      "100%|██████████| 80/80 [00:00<00:00, 1076.27it/s]"
     ]
    },
    {
     "name": "stdout",
     "output_type": "stream",
     "text": [
      "estimation error is 0.10630901196840088\n",
      "calculating optimal controller for estimated system\n",
      "new feedback gain is 14.994981684918764\n",
      "with cost of 1.4136354686326629\n",
      "starting epoch 734\n"
     ]
    },
    {
     "name": "stderr",
     "output_type": "stream",
     "text": [
      "\n",
      "100%|██████████| 80/80 [00:00<00:00, 759.90it/s]"
     ]
    },
    {
     "name": "stdout",
     "output_type": "stream",
     "text": [
      "estimation error is 0.10614551866171816\n",
      "calculating optimal controller for estimated system\n",
      "new feedback gain is 14.951179718958535\n",
      "with cost of 1.4009135424077155\n",
      "starting epoch 735\n"
     ]
    },
    {
     "name": "stderr",
     "output_type": "stream",
     "text": [
      "\n",
      "100%|██████████| 80/80 [00:00<00:00, 706.68it/s]"
     ]
    },
    {
     "name": "stdout",
     "output_type": "stream",
     "text": [
      "estimation error is 0.10601299394640168\n",
      "calculating optimal controller for estimated system\n",
      "new feedback gain is 14.911757949594328\n",
      "with cost of 1.389656881789024\n",
      "starting epoch 736\n"
     ]
    },
    {
     "name": "stderr",
     "output_type": "stream",
     "text": [
      "\n",
      "100%|██████████| 80/80 [00:00<00:00, 752.59it/s]"
     ]
    },
    {
     "name": "stdout",
     "output_type": "stream",
     "text": [
      "estimation error is 0.10588158658273737\n",
      "calculating optimal controller for estimated system\n",
      "new feedback gain is 14.876278357166543\n",
      "with cost of 1.3796785636528328\n",
      "starting epoch 737\n"
     ]
    },
    {
     "name": "stderr",
     "output_type": "stream",
     "text": [
      "\n",
      "100%|██████████| 80/80 [00:00<00:00, 988.41it/s]"
     ]
    },
    {
     "name": "stdout",
     "output_type": "stream",
     "text": [
      "estimation error is 0.10575118289986413\n",
      "calculating optimal controller for estimated system\n",
      "new feedback gain is 14.970929002462547\n",
      "with cost of 1.4066212700945062\n",
      "starting epoch 738\n"
     ]
    },
    {
     "name": "stderr",
     "output_type": "stream",
     "text": [
      "\n",
      "100%|██████████| 80/80 [00:00<00:00, 887.95it/s]"
     ]
    },
    {
     "name": "stdout",
     "output_type": "stream",
     "text": [
      "estimation error is 0.10561406749430376\n",
      "calculating optimal controller for estimated system\n",
      "new feedback gain is 15.056114583228952\n",
      "with cost of 1.4317798407845082\n",
      "starting epoch 739\n"
     ]
    },
    {
     "name": "stderr",
     "output_type": "stream",
     "text": [
      "\n",
      "100%|██████████| 80/80 [00:00<00:00, 758.17it/s]"
     ]
    },
    {
     "name": "stdout",
     "output_type": "stream",
     "text": [
      "estimation error is 0.10547762065513619\n",
      "calculating optimal controller for estimated system\n",
      "new feedback gain is 15.006199327437704\n",
      "with cost of 1.4169305672077463\n",
      "starting epoch 740\n"
     ]
    },
    {
     "name": "stderr",
     "output_type": "stream",
     "text": [
      "\n",
      "100%|██████████| 80/80 [00:00<00:00, 984.51it/s]"
     ]
    },
    {
     "name": "stdout",
     "output_type": "stream",
     "text": [
      "estimation error is 0.10539269976612668\n",
      "calculating optimal controller for estimated system\n",
      "new feedback gain is 15.087857875706593\n",
      "with cost of 1.4413851071332069\n",
      "starting epoch 741\n"
     ]
    },
    {
     "name": "stderr",
     "output_type": "stream",
     "text": [
      "\n",
      "100%|██████████| 80/80 [00:00<00:00, 858.30it/s]"
     ]
    },
    {
     "name": "stdout",
     "output_type": "stream",
     "text": [
      "estimation error is 0.10525334860297646\n",
      "calculating optimal controller for estimated system\n",
      "new feedback gain is 15.161350569148594\n",
      "with cost of 1.4641225502289543\n",
      "starting epoch 742\n"
     ]
    },
    {
     "name": "stderr",
     "output_type": "stream",
     "text": [
      "\n",
      "100%|██████████| 80/80 [00:00<00:00, 739.39it/s]"
     ]
    },
    {
     "name": "stdout",
     "output_type": "stream",
     "text": [
      "estimation error is 0.10509844870892096\n",
      "calculating optimal controller for estimated system\n",
      "new feedback gain is 15.227493993246394\n",
      "with cost of 1.4852042726231651\n",
      "starting epoch 743\n"
     ]
    },
    {
     "name": "stderr",
     "output_type": "stream",
     "text": [
      "\n",
      "100%|██████████| 80/80 [00:00<00:00, 860.53it/s]"
     ]
    },
    {
     "name": "stdout",
     "output_type": "stream",
     "text": [
      "estimation error is 0.10496368259812477\n",
      "calculating optimal controller for estimated system\n",
      "new feedback gain is 15.287023074934416\n",
      "with cost of 1.504700114636514\n",
      "starting epoch 744\n"
     ]
    },
    {
     "name": "stderr",
     "output_type": "stream",
     "text": [
      "\n",
      "100%|██████████| 80/80 [00:00<00:00, 883.19it/s]"
     ]
    },
    {
     "name": "stdout",
     "output_type": "stream",
     "text": [
      "estimation error is 0.10483052167714182\n",
      "calculating optimal controller for estimated system\n",
      "new feedback gain is 15.340599248453634\n",
      "with cost of 1.522686116255224\n",
      "starting epoch 745\n"
     ]
    },
    {
     "name": "stderr",
     "output_type": "stream",
     "text": [
      "\n",
      "100%|██████████| 80/80 [00:00<00:00, 923.43it/s]"
     ]
    },
    {
     "name": "stdout",
     "output_type": "stream",
     "text": [
      "estimation error is 0.10467578684668757\n",
      "calculating optimal controller for estimated system\n",
      "new feedback gain is 15.38881780462093\n",
      "with cost of 1.5392424861353682\n",
      "starting epoch 746\n"
     ]
    },
    {
     "name": "stderr",
     "output_type": "stream",
     "text": [
      "\n",
      "100%|██████████| 80/80 [00:00<00:00, 947.31it/s]"
     ]
    },
    {
     "name": "stdout",
     "output_type": "stream",
     "text": [
      "estimation error is 0.10455561692543695\n",
      "calculating optimal controller for estimated system\n",
      "new feedback gain is 15.432214505171496\n",
      "with cost of 1.554451821871783\n",
      "starting epoch 747\n"
     ]
    },
    {
     "name": "stderr",
     "output_type": "stream",
     "text": [
      "\n",
      "100%|██████████| 80/80 [00:00<00:00, 782.90it/s]"
     ]
    },
    {
     "name": "stdout",
     "output_type": "stream",
     "text": [
      "estimation error is 0.10442016344031994\n",
      "calculating optimal controller for estimated system\n",
      "new feedback gain is 15.471271535667006\n",
      "with cost of 1.5683975854758856\n",
      "starting epoch 748\n"
     ]
    },
    {
     "name": "stderr",
     "output_type": "stream",
     "text": [
      "\n",
      "100%|██████████| 80/80 [00:00<00:00, 596.56it/s]"
     ]
    },
    {
     "name": "stdout",
     "output_type": "stream",
     "text": [
      "estimation error is 0.10427475342106855\n",
      "calculating optimal controller for estimated system\n",
      "new feedback gain is 15.379840584631951\n",
      "with cost of 1.5361330329171292\n",
      "starting epoch 749\n"
     ]
    },
    {
     "name": "stderr",
     "output_type": "stream",
     "text": [
      "\n",
      "100%|██████████| 80/80 [00:00<00:00, 687.78it/s]"
     ]
    },
    {
     "name": "stdout",
     "output_type": "stream",
     "text": [
      "estimation error is 0.10415591291980446\n",
      "calculating optimal controller for estimated system\n",
      "new feedback gain is 15.424135007181416\n",
      "with cost of 1.5515976197163908\n",
      "starting epoch 750\n"
     ]
    },
    {
     "name": "stderr",
     "output_type": "stream",
     "text": [
      "\n",
      "100%|██████████| 80/80 [00:00<00:00, 458.34it/s]"
     ]
    },
    {
     "name": "stdout",
     "output_type": "stream",
     "text": [
      "estimation error is 0.1040086077089686\n",
      "calculating optimal controller for estimated system\n"
     ]
    },
    {
     "name": "stderr",
     "output_type": "stream",
     "text": [
      "\n"
     ]
    },
    {
     "name": "stdout",
     "output_type": "stream",
     "text": [
      "new feedback gain is 15.463999987475935\n",
      "with cost of 1.5657824105541507\n",
      "starting epoch 751\n"
     ]
    },
    {
     "name": "stderr",
     "output_type": "stream",
     "text": [
      "100%|██████████| 80/80 [00:00<00:00, 529.49it/s]"
     ]
    },
    {
     "name": "stdout",
     "output_type": "stream",
     "text": [
      "estimation error is 0.10389097631051458\n",
      "calculating optimal controller for estimated system\n",
      "new feedback gain is 15.499878469741\n",
      "with cost of 1.5787706244447224\n"
     ]
    },
    {
     "name": "stderr",
     "output_type": "stream",
     "text": [
      "\n",
      "  0%|          | 0/80 [00:00<?, ?it/s]"
     ]
    },
    {
     "name": "stdout",
     "output_type": "stream",
     "text": [
      "starting epoch 752\n",
      "estimation error is 0.10375089000492306\n",
      "calculating optimal controller for estimated system\n"
     ]
    },
    {
     "name": "stderr",
     "output_type": "stream",
     "text": [
      "100%|██████████| 80/80 [00:00<00:00, 726.40it/s]\n"
     ]
    },
    {
     "name": "stdout",
     "output_type": "stream",
     "text": [
      "new feedback gain is 15.53216910377956\n",
      "with cost of 1.5906442119134525\n",
      "starting epoch 753\n"
     ]
    },
    {
     "name": "stderr",
     "output_type": "stream",
     "text": [
      "100%|██████████| 80/80 [00:00<00:00, 611.63it/s]"
     ]
    },
    {
     "name": "stdout",
     "output_type": "stream",
     "text": [
      "estimation error is 0.10356075905583603\n",
      "calculating optimal controller for estimated system\n",
      "new feedback gain is 15.561230674414265\n",
      "with cost of 1.6014829876529593\n",
      "starting epoch 754\n"
     ]
    },
    {
     "name": "stderr",
     "output_type": "stream",
     "text": [
      "\n",
      "100%|██████████| 80/80 [00:00<00:00, 563.97it/s]"
     ]
    },
    {
     "name": "stdout",
     "output_type": "stream",
     "text": [
      "estimation error is 0.10339866848155857\n",
      "calculating optimal controller for estimated system\n",
      "new feedback gain is 15.587386087985498\n",
      "with cost of 1.6113639597798364\n"
     ]
    },
    {
     "name": "stderr",
     "output_type": "stream",
     "text": [
      "\n",
      "  0%|          | 0/80 [00:00<?, ?it/s]"
     ]
    },
    {
     "name": "stdout",
     "output_type": "stream",
     "text": [
      "starting epoch 755\n",
      "estimation error is 0.10327926425112623\n",
      "calculating optimal controller for estimated system\n"
     ]
    },
    {
     "name": "stderr",
     "output_type": "stream",
     "text": [
      "100%|██████████| 80/80 [00:00<00:00, 611.98it/s]\n"
     ]
    },
    {
     "name": "stdout",
     "output_type": "stream",
     "text": [
      "new feedback gain is 15.610925960199609\n",
      "with cost of 1.6203608320924663\n",
      "starting epoch 756\n"
     ]
    },
    {
     "name": "stderr",
     "output_type": "stream",
     "text": [
      "100%|██████████| 80/80 [00:00<00:00, 933.47it/s]"
     ]
    },
    {
     "name": "stdout",
     "output_type": "stream",
     "text": [
      "estimation error is 0.1031366521245242\n",
      "calculating optimal controller for estimated system\n",
      "new feedback gain is 15.758694123673319\n",
      "with cost of 1.6791952064423972\n",
      "starting epoch 757\n"
     ]
    },
    {
     "name": "stderr",
     "output_type": "stream",
     "text": [
      "\n",
      "100%|██████████| 80/80 [00:00<00:00, 708.39it/s]"
     ]
    },
    {
     "name": "stdout",
     "output_type": "stream",
     "text": [
      "estimation error is 0.10297243674527888\n",
      "calculating optimal controller for estimated system\n",
      "new feedback gain is 15.765103192318646\n",
      "with cost of 1.6818429925558702\n",
      "starting epoch 758\n"
     ]
    },
    {
     "name": "stderr",
     "output_type": "stream",
     "text": [
      "\n",
      "100%|██████████| 80/80 [00:00<00:00, 742.14it/s]"
     ]
    },
    {
     "name": "stdout",
     "output_type": "stream",
     "text": [
      "estimation error is 0.10287307062505606\n",
      "calculating optimal controller for estimated system\n",
      "new feedback gain is 15.770871354099441\n",
      "with cost of 1.6842330880443415\n",
      "starting epoch 759\n"
     ]
    },
    {
     "name": "stderr",
     "output_type": "stream",
     "text": [
      "\n",
      "100%|██████████| 80/80 [00:00<00:00, 751.92it/s]"
     ]
    },
    {
     "name": "stdout",
     "output_type": "stream",
     "text": [
      "estimation error is 0.10274100557411188\n",
      "calculating optimal controller for estimated system\n",
      "new feedback gain is 15.776062699702157\n",
      "with cost of 1.6863899394247066\n",
      "starting epoch 760\n"
     ]
    },
    {
     "name": "stderr",
     "output_type": "stream",
     "text": [
      "\n",
      "100%|██████████| 80/80 [00:00<00:00, 767.40it/s]"
     ]
    },
    {
     "name": "stdout",
     "output_type": "stream",
     "text": [
      "estimation error is 0.10258351912700635\n",
      "calculating optimal controller for estimated system\n",
      "new feedback gain is 15.7807349107446\n",
      "with cost of 1.6883357933886582\n",
      "starting epoch 761\n"
     ]
    },
    {
     "name": "stderr",
     "output_type": "stream",
     "text": [
      "\n",
      "100%|██████████| 80/80 [00:00<00:00, 903.15it/s]"
     ]
    },
    {
     "name": "stdout",
     "output_type": "stream",
     "text": [
      "estimation error is 0.10246459404552889\n",
      "calculating optimal controller for estimated system\n",
      "new feedback gain is 15.911522179163814\n",
      "with cost of 1.7446708866829066\n",
      "starting epoch 762\n"
     ]
    },
    {
     "name": "stderr",
     "output_type": "stream",
     "text": [
      "\n",
      "100%|██████████| 80/80 [00:00<00:00, 738.89it/s]"
     ]
    },
    {
     "name": "stdout",
     "output_type": "stream",
     "text": [
      "estimation error is 0.10230884764124504\n",
      "calculating optimal controller for estimated system\n",
      "new feedback gain is 15.902648442260093\n",
      "with cost of 1.740731102963368\n",
      "starting epoch 763\n"
     ]
    },
    {
     "name": "stderr",
     "output_type": "stream",
     "text": [
      "\n",
      "100%|██████████| 80/80 [00:00<00:00, 937.25it/s]"
     ]
    },
    {
     "name": "stdout",
     "output_type": "stream",
     "text": [
      "estimation error is 0.10214390228662748\n",
      "calculating optimal controller for estimated system\n",
      "new feedback gain is 16.021244357527756\n",
      "with cost of 1.794886743997706\n",
      "starting epoch 764\n"
     ]
    },
    {
     "name": "stderr",
     "output_type": "stream",
     "text": [
      "\n",
      "100%|██████████| 80/80 [00:00<00:00, 857.49it/s]"
     ]
    },
    {
     "name": "stdout",
     "output_type": "stream",
     "text": [
      "estimation error is 0.1020150826230607\n",
      "calculating optimal controller for estimated system\n",
      "new feedback gain is 16.127980681268653\n",
      "with cost of 1.8465601441301112\n",
      "starting epoch 765\n"
     ]
    },
    {
     "name": "stderr",
     "output_type": "stream",
     "text": [
      "\n",
      "100%|██████████| 80/80 [00:00<00:00, 969.79it/s]"
     ]
    },
    {
     "name": "stdout",
     "output_type": "stream",
     "text": [
      "estimation error is 0.10190573217727614\n",
      "calculating optimal controller for estimated system\n",
      "new feedback gain is 16.22404337263546\n",
      "with cost of 1.895649165865451\n",
      "starting epoch 766\n"
     ]
    },
    {
     "name": "stderr",
     "output_type": "stream",
     "text": [
      "\n",
      "100%|██████████| 80/80 [00:00<00:00, 930.59it/s]"
     ]
    },
    {
     "name": "stdout",
     "output_type": "stream",
     "text": [
      "estimation error is 0.10177296195972516\n",
      "calculating optimal controller for estimated system\n",
      "new feedback gain is 16.310499794865585\n",
      "with cost of 1.9420892326256087\n",
      "starting epoch 767\n"
     ]
    },
    {
     "name": "stderr",
     "output_type": "stream",
     "text": [
      "\n",
      "100%|██████████| 80/80 [00:00<00:00, 851.33it/s]"
     ]
    },
    {
     "name": "stdout",
     "output_type": "stream",
     "text": [
      "estimation error is 0.1016747175661\n",
      "calculating optimal controller for estimated system\n",
      "new feedback gain is 16.388310574872698\n",
      "with cost of 1.9858506895163428\n",
      "starting epoch 768\n"
     ]
    },
    {
     "name": "stderr",
     "output_type": "stream",
     "text": [
      "\n",
      "100%|██████████| 80/80 [00:00<00:00, 1005.93it/s]"
     ]
    },
    {
     "name": "stdout",
     "output_type": "stream",
     "text": [
      "estimation error is 0.10154167369664048\n",
      "calculating optimal controller for estimated system\n",
      "new feedback gain is 16.4583402768791\n",
      "with cost of 2.026935516510199\n",
      "starting epoch 769\n"
     ]
    },
    {
     "name": "stderr",
     "output_type": "stream",
     "text": [
      "\n",
      "100%|██████████| 80/80 [00:00<00:00, 1534.51it/s]"
     ]
    },
    {
     "name": "stdout",
     "output_type": "stream",
     "text": [
      "estimation error is 0.1014237078277576\n",
      "calculating optimal controller for estimated system\n",
      "new feedback gain is 14.82250624919119\n",
      "with cost of 1.3648243432286387\n",
      "starting epoch 770\n"
     ]
    },
    {
     "name": "stderr",
     "output_type": "stream",
     "text": [
      "\n",
      "100%|██████████| 80/80 [00:00<00:00, 1002.93it/s]"
     ]
    },
    {
     "name": "stdout",
     "output_type": "stream",
     "text": [
      "estimation error is 0.1012791393913433\n",
      "calculating optimal controller for estimated system\n",
      "new feedback gain is 15.049116383765742\n",
      "with cost of 1.4296793327225308\n",
      "starting epoch 771\n"
     ]
    },
    {
     "name": "stderr",
     "output_type": "stream",
     "text": [
      "\n",
      "100%|██████████| 80/80 [00:00<00:00, 977.92it/s]"
     ]
    },
    {
     "name": "stdout",
     "output_type": "stream",
     "text": [
      "estimation error is 0.10114065791203604\n",
      "calculating optimal controller for estimated system\n",
      "new feedback gain is 15.25306550488284\n",
      "with cost of 1.4935171483155405\n",
      "starting epoch 772\n"
     ]
    },
    {
     "name": "stderr",
     "output_type": "stream",
     "text": [
      "\n",
      "100%|██████████| 80/80 [00:00<00:00, 892.24it/s]"
     ]
    },
    {
     "name": "stdout",
     "output_type": "stream",
     "text": [
      "estimation error is 0.10101045603860533\n",
      "calculating optimal controller for estimated system\n",
      "new feedback gain is 15.43661971388823\n",
      "with cost of 1.5560124224941076\n",
      "starting epoch 773\n"
     ]
    },
    {
     "name": "stderr",
     "output_type": "stream",
     "text": [
      "\n",
      "100%|██████████| 80/80 [00:00<00:00, 932.22it/s]"
     ]
    },
    {
     "name": "stdout",
     "output_type": "stream",
     "text": [
      "estimation error is 0.10089677504462953\n",
      "calculating optimal controller for estimated system\n",
      "new feedback gain is 15.60181850199308\n",
      "with cost of 1.6168681916757148\n",
      "starting epoch 774\n"
     ]
    },
    {
     "name": "stderr",
     "output_type": "stream",
     "text": [
      "\n",
      "100%|██████████| 80/80 [00:00<00:00, 1372.38it/s]"
     ]
    },
    {
     "name": "stdout",
     "output_type": "stream",
     "text": [
      "estimation error is 0.1007959702182604\n",
      "calculating optimal controller for estimated system\n",
      "new feedback gain is 14.051636651793771\n",
      "with cost of 1.1822069655211025\n",
      "starting epoch 775\n"
     ]
    },
    {
     "name": "stderr",
     "output_type": "stream",
     "text": [
      "\n",
      "100%|██████████| 80/80 [00:00<00:00, 1481.43it/s]"
     ]
    },
    {
     "name": "stdout",
     "output_type": "stream",
     "text": [
      "estimation error is 0.10064025803560424\n",
      "calculating optimal controller for estimated system\n",
      "new feedback gain is 12.656472986614395\n",
      "with cost of 0.951458926906015\n",
      "starting epoch 776\n"
     ]
    },
    {
     "name": "stderr",
     "output_type": "stream",
     "text": [
      "\n",
      "100%|██████████| 80/80 [00:00<00:00, 1543.53it/s]"
     ]
    },
    {
     "name": "stdout",
     "output_type": "stream",
     "text": [
      "estimation error is 0.10045792031915432\n",
      "calculating optimal controller for estimated system\n",
      "new feedback gain is 11.400825687952954\n",
      "with cost of 0.8091649087238691\n",
      "starting epoch 777\n"
     ]
    },
    {
     "name": "stderr",
     "output_type": "stream",
     "text": [
      "\n",
      "100%|██████████| 80/80 [00:00<00:00, 1526.39it/s]"
     ]
    },
    {
     "name": "stdout",
     "output_type": "stream",
     "text": [
      "estimation error is 0.10026188373268453\n",
      "calculating optimal controller for estimated system\n",
      "new feedback gain is 10.27074311915766\n",
      "with cost of 0.7131242326528439\n",
      "starting epoch 778\n"
     ]
    },
    {
     "name": "stderr",
     "output_type": "stream",
     "text": [
      "\n",
      "100%|██████████| 80/80 [00:00<00:00, 1460.11it/s]"
     ]
    },
    {
     "name": "stdout",
     "output_type": "stream",
     "text": [
      "estimation error is 0.10006122845005155\n",
      "calculating optimal controller for estimated system\n",
      "new feedback gain is 9.253668807241894\n",
      "with cost of 0.6442770499372256\n",
      "starting epoch 779\n"
     ]
    },
    {
     "name": "stderr",
     "output_type": "stream",
     "text": [
      "\n",
      "100%|██████████| 80/80 [00:00<00:00, 1509.75it/s]"
     ]
    },
    {
     "name": "stdout",
     "output_type": "stream",
     "text": [
      "estimation error is 0.0998567959494367\n",
      "calculating optimal controller for estimated system\n",
      "new feedback gain is 8.338301926517705\n",
      "with cost of 0.5927608594442317\n",
      "starting epoch 780\n"
     ]
    },
    {
     "name": "stderr",
     "output_type": "stream",
     "text": [
      "\n",
      "100%|██████████| 80/80 [00:00<00:00, 1492.60it/s]"
     ]
    },
    {
     "name": "stdout",
     "output_type": "stream",
     "text": [
      "estimation error is 0.09970148421379725\n",
      "calculating optimal controller for estimated system\n",
      "new feedback gain is 7.514471733865935\n",
      "with cost of 0.5530140331644455\n",
      "starting epoch 781\n"
     ]
    },
    {
     "name": "stderr",
     "output_type": "stream",
     "text": [
      "\n",
      "100%|██████████| 80/80 [00:00<00:00, 1419.64it/s]"
     ]
    },
    {
     "name": "stdout",
     "output_type": "stream",
     "text": [
      "estimation error is 0.09955718072004861\n",
      "calculating optimal controller for estimated system\n",
      "new feedback gain is 6.773024560479341\n",
      "with cost of 0.5240471001567916\n",
      "starting epoch 782\n"
     ]
    },
    {
     "name": "stderr",
     "output_type": "stream",
     "text": [
      "\n",
      "100%|██████████| 80/80 [00:00<00:00, 1471.64it/s]"
     ]
    },
    {
     "name": "stdout",
     "output_type": "stream",
     "text": [
      "estimation error is 0.09940002101117111\n",
      "calculating optimal controller for estimated system\n",
      "new feedback gain is 6.105722104431407\n",
      "with cost of 0.5081784666816543\n",
      "starting epoch 783\n"
     ]
    },
    {
     "name": "stderr",
     "output_type": "stream",
     "text": [
      "\n",
      "100%|██████████| 80/80 [00:00<00:00, 932.52it/s]"
     ]
    },
    {
     "name": "stdout",
     "output_type": "stream",
     "text": [
      "estimation error is 0.09923292056934473\n",
      "calculating optimal controller for estimated system\n",
      "new feedback gain is 7.204010653481938\n",
      "with cost of 0.5399116895760583\n",
      "starting epoch 784\n"
     ]
    },
    {
     "name": "stderr",
     "output_type": "stream",
     "text": [
      "\n",
      "100%|██████████| 80/80 [00:00<00:00, 1514.95it/s]"
     ]
    },
    {
     "name": "stdout",
     "output_type": "stream",
     "text": [
      "estimation error is 0.099151865743082\n",
      "calculating optimal controller for estimated system\n",
      "new feedback gain is 6.493609588133745\n",
      "with cost of 0.5157224209905342\n",
      "starting epoch 785\n"
     ]
    },
    {
     "name": "stderr",
     "output_type": "stream",
     "text": [
      "\n",
      "100%|██████████| 80/80 [00:00<00:00, 946.50it/s]"
     ]
    },
    {
     "name": "stdout",
     "output_type": "stream",
     "text": [
      "estimation error is 0.0989759481393193\n",
      "calculating optimal controller for estimated system\n",
      "new feedback gain is 7.553109388814042\n",
      "with cost of 0.5547308377393227\n",
      "starting epoch 786\n"
     ]
    },
    {
     "name": "stderr",
     "output_type": "stream",
     "text": [
      "\n",
      "100%|██████████| 80/80 [00:00<00:00, 993.42it/s]"
     ]
    },
    {
     "name": "stdout",
     "output_type": "stream",
     "text": [
      "estimation error is 0.09894924122592151\n",
      "calculating optimal controller for estimated system\n",
      "new feedback gain is 8.50665920942631\n",
      "with cost of 0.6016090609748641\n",
      "starting epoch 787\n"
     ]
    },
    {
     "name": "stderr",
     "output_type": "stream",
     "text": [
      "\n",
      "100%|██████████| 80/80 [00:00<00:00, 866.27it/s]"
     ]
    },
    {
     "name": "stdout",
     "output_type": "stream",
     "text": [
      "estimation error is 0.09885720151454613\n",
      "calculating optimal controller for estimated system\n",
      "new feedback gain is 9.364854047977351\n",
      "with cost of 0.6511500826276789\n",
      "starting epoch 788\n"
     ]
    },
    {
     "name": "stderr",
     "output_type": "stream",
     "text": [
      "\n",
      "100%|██████████| 80/80 [00:00<00:00, 1241.33it/s]"
     ]
    },
    {
     "name": "stdout",
     "output_type": "stream",
     "text": [
      "estimation error is 0.09878485578210226\n",
      "calculating optimal controller for estimated system\n",
      "new feedback gain is 8.438368643179617\n",
      "with cost of 0.5979883576771391\n",
      "starting epoch 789\n"
     ]
    },
    {
     "name": "stderr",
     "output_type": "stream",
     "text": [
      "\n",
      "100%|██████████| 80/80 [00:00<00:00, 927.58it/s]"
     ]
    },
    {
     "name": "stdout",
     "output_type": "stream",
     "text": [
      "estimation error is 0.09861431605239547\n",
      "calculating optimal controller for estimated system\n",
      "new feedback gain is 9.303392538355327\n",
      "with cost of 0.6473327777768166\n",
      "starting epoch 790\n"
     ]
    },
    {
     "name": "stderr",
     "output_type": "stream",
     "text": [
      "\n",
      "100%|██████████| 80/80 [00:00<00:00, 885.11it/s]"
     ]
    },
    {
     "name": "stdout",
     "output_type": "stream",
     "text": [
      "estimation error is 0.09854985023587516\n",
      "calculating optimal controller for estimated system\n",
      "new feedback gain is 10.081914044013466\n",
      "with cost of 0.6992530615216235\n",
      "starting epoch 791\n"
     ]
    },
    {
     "name": "stderr",
     "output_type": "stream",
     "text": [
      "\n",
      "100%|██████████| 80/80 [00:00<00:00, 1010.84it/s]"
     ]
    },
    {
     "name": "stdout",
     "output_type": "stream",
     "text": [
      "estimation error is 0.0984839212629841\n",
      "calculating optimal controller for estimated system\n",
      "new feedback gain is 10.782583399105793\n",
      "with cost of 0.7536433331292501\n",
      "starting epoch 792\n"
     ]
    },
    {
     "name": "stderr",
     "output_type": "stream",
     "text": [
      "\n",
      "100%|██████████| 80/80 [00:00<00:00, 976.86it/s]"
     ]
    },
    {
     "name": "stdout",
     "output_type": "stream",
     "text": [
      "estimation error is 0.09839248330602317\n",
      "calculating optimal controller for estimated system\n",
      "new feedback gain is 11.413185818688884\n",
      "with cost of 0.8103582857420689\n",
      "starting epoch 793\n"
     ]
    },
    {
     "name": "stderr",
     "output_type": "stream",
     "text": [
      "\n",
      "100%|██████████| 80/80 [00:00<00:00, 978.88it/s]"
     ]
    },
    {
     "name": "stdout",
     "output_type": "stream",
     "text": [
      "estimation error is 0.09830605592614387\n",
      "calculating optimal controller for estimated system\n",
      "new feedback gain is 11.980727996313668\n",
      "with cost of 0.8692126154461199\n",
      "starting epoch 794\n"
     ]
    },
    {
     "name": "stderr",
     "output_type": "stream",
     "text": [
      "\n",
      "100%|██████████| 80/80 [00:00<00:00, 668.10it/s]"
     ]
    },
    {
     "name": "stdout",
     "output_type": "stream",
     "text": [
      "estimation error is 0.09821128915301554\n",
      "calculating optimal controller for estimated system\n",
      "new feedback gain is 12.36493367769496\n",
      "with cost of 0.9141455646856214\n",
      "starting epoch 795\n"
     ]
    },
    {
     "name": "stderr",
     "output_type": "stream",
     "text": [
      "\n",
      "100%|██████████| 80/80 [00:00<00:00, 701.59it/s]"
     ]
    },
    {
     "name": "stdout",
     "output_type": "stream",
     "text": [
      "estimation error is 0.09809862113747107\n",
      "calculating optimal controller for estimated system\n",
      "new feedback gain is 12.710718790938124\n",
      "with cost of 0.9587394636448315\n",
      "starting epoch 796\n"
     ]
    },
    {
     "name": "stderr",
     "output_type": "stream",
     "text": [
      "\n",
      "100%|██████████| 80/80 [00:00<00:00, 714.35it/s]"
     ]
    },
    {
     "name": "stdout",
     "output_type": "stream",
     "text": [
      "estimation error is 0.09801655513754848\n",
      "calculating optimal controller for estimated system\n",
      "new feedback gain is 13.021925392856971\n",
      "with cost of 1.002752960323913\n",
      "starting epoch 797\n"
     ]
    },
    {
     "name": "stderr",
     "output_type": "stream",
     "text": [
      "\n",
      "100%|██████████| 80/80 [00:00<00:00, 696.45it/s]"
     ]
    },
    {
     "name": "stdout",
     "output_type": "stream",
     "text": [
      "estimation error is 0.09791406300680047\n",
      "calculating optimal controller for estimated system\n",
      "new feedback gain is 13.302011334583934\n",
      "with cost of 1.04595733718229\n",
      "starting epoch 798\n"
     ]
    },
    {
     "name": "stderr",
     "output_type": "stream",
     "text": [
      "\n",
      "100%|██████████| 80/80 [00:00<00:00, 885.88it/s]"
     ]
    },
    {
     "name": "stdout",
     "output_type": "stream",
     "text": [
      "estimation error is 0.09780566439074619\n",
      "calculating optimal controller for estimated system\n",
      "new feedback gain is 13.680670960619214\n",
      "with cost of 1.1106288878402029\n",
      "starting epoch 799\n"
     ]
    },
    {
     "name": "stderr",
     "output_type": "stream",
     "text": [
      "\n",
      "100%|██████████| 80/80 [00:00<00:00, 900.16it/s]"
     ]
    },
    {
     "name": "stdout",
     "output_type": "stream",
     "text": [
      "estimation error is 0.09770441274583833\n",
      "calculating optimal controller for estimated system\n",
      "new feedback gain is 14.021464624050964\n",
      "with cost of 1.176043793223775\n",
      "starting epoch 800\n"
     ]
    },
    {
     "name": "stderr",
     "output_type": "stream",
     "text": [
      "\n",
      "100%|██████████| 80/80 [00:00<00:00, 686.95it/s]"
     ]
    },
    {
     "name": "stdout",
     "output_type": "stream",
     "text": [
      "estimation error is 0.09762765432958066\n",
      "calculating optimal controller for estimated system\n",
      "new feedback gain is 14.201596642658528\n",
      "with cost of 1.2138186150068315\n",
      "starting epoch 801\n"
     ]
    },
    {
     "name": "stderr",
     "output_type": "stream",
     "text": [
      "\n",
      "100%|██████████| 80/80 [00:00<00:00, 698.01it/s]"
     ]
    },
    {
     "name": "stdout",
     "output_type": "stream",
     "text": [
      "estimation error is 0.09752103602205597\n",
      "calculating optimal controller for estimated system\n",
      "new feedback gain is 14.490297737886348\n",
      "with cost of 1.2796708105073913\n"
     ]
    },
    {
     "name": "stderr",
     "output_type": "stream",
     "text": [
      "\n",
      "  0%|          | 0/80 [00:00<?, ?it/s]"
     ]
    },
    {
     "name": "stdout",
     "output_type": "stream",
     "text": [
      "starting epoch 802\n",
      "estimation error is 0.0974204963513469\n",
      "calculating optimal controller for estimated system\n"
     ]
    },
    {
     "name": "stderr",
     "output_type": "stream",
     "text": [
      "100%|██████████| 80/80 [00:00<00:00, 676.47it/s]\n",
      "  0%|          | 0/80 [00:00<?, ?it/s]"
     ]
    },
    {
     "name": "stdout",
     "output_type": "stream",
     "text": [
      "new feedback gain is 14.623546445110373\n",
      "with cost of 1.3125236515464747\n",
      "starting epoch 803\n",
      "estimation error is 0.09728887814185018\n",
      "calculating optimal controller for estimated system\n"
     ]
    },
    {
     "name": "stderr",
     "output_type": "stream",
     "text": [
      "100%|██████████| 80/80 [00:00<00:00, 661.30it/s]\n",
      "  0%|          | 0/80 [00:00<?, ?it/s]"
     ]
    },
    {
     "name": "stdout",
     "output_type": "stream",
     "text": [
      "new feedback gain is 14.743470281611994\n",
      "with cost of 1.3435595497905641\n",
      "starting epoch 804\n",
      "estimation error is 0.0971830579062767\n",
      "calculating optimal controller for estimated system\n"
     ]
    },
    {
     "name": "stderr",
     "output_type": "stream",
     "text": [
      "100%|██████████| 80/80 [00:00<00:00, 865.56it/s]\n",
      "  0%|          | 0/80 [00:00<?, ?it/s]"
     ]
    },
    {
     "name": "stdout",
     "output_type": "stream",
     "text": [
      "new feedback gain is 14.977984012944468\n",
      "with cost of 1.4086714578611716\n",
      "starting epoch 805\n",
      "estimation error is 0.09707964599308158\n",
      "calculating optimal controller for estimated system\n"
     ]
    },
    {
     "name": "stderr",
     "output_type": "stream",
     "text": [
      "100%|██████████| 80/80 [00:00<00:00, 682.10it/s]\n",
      "  0%|          | 0/80 [00:00<?, ?it/s]"
     ]
    },
    {
     "name": "stdout",
     "output_type": "stream",
     "text": [
      "new feedback gain is 15.062464092662681\n",
      "with cost of 1.4336909591325593\n",
      "starting epoch 806\n",
      "estimation error is 0.09695661272195152\n",
      "calculating optimal controller for estimated system\n"
     ]
    },
    {
     "name": "stderr",
     "output_type": "stream",
     "text": [
      "100%|██████████| 80/80 [00:00<00:00, 520.67it/s]\n"
     ]
    },
    {
     "name": "stdout",
     "output_type": "stream",
     "text": [
      "new feedback gain is 15.138496164409073\n",
      "with cost of 1.4569757815766327\n",
      "starting epoch 807\n"
     ]
    },
    {
     "name": "stderr",
     "output_type": "stream",
     "text": [
      "100%|██████████| 80/80 [00:00<00:00, 484.45it/s]"
     ]
    },
    {
     "name": "stdout",
     "output_type": "stream",
     "text": [
      "estimation error is 0.09682059941265118\n",
      "calculating optimal controller for estimated system\n"
     ]
    },
    {
     "name": "stderr",
     "output_type": "stream",
     "text": [
      "\n"
     ]
    },
    {
     "name": "stdout",
     "output_type": "stream",
     "text": [
      "new feedback gain is 15.206925028980825\n",
      "with cost of 1.4785840554894325\n",
      "starting epoch 808\n"
     ]
    },
    {
     "name": "stderr",
     "output_type": "stream",
     "text": [
      "100%|██████████| 80/80 [00:00<00:00, 612.47it/s]"
     ]
    },
    {
     "name": "stdout",
     "output_type": "stream",
     "text": [
      "estimation error is 0.09669173689394123\n",
      "calculating optimal controller for estimated system\n",
      "new feedback gain is 15.268511007095402\n",
      "with cost of 1.4985831500598648\n"
     ]
    },
    {
     "name": "stderr",
     "output_type": "stream",
     "text": [
      "\n",
      "  0%|          | 0/80 [00:00<?, ?it/s]"
     ]
    },
    {
     "name": "stdout",
     "output_type": "stream",
     "text": [
      "starting epoch 809\n",
      "estimation error is 0.09652958029533311\n",
      "calculating optimal controller for estimated system\n"
     ]
    },
    {
     "name": "stderr",
     "output_type": "stream",
     "text": [
      "100%|██████████| 80/80 [00:00<00:00, 575.13it/s]\n",
      "  0%|          | 0/80 [00:00<?, ?it/s]"
     ]
    },
    {
     "name": "stdout",
     "output_type": "stream",
     "text": [
      "new feedback gain is 15.323938387398522\n",
      "with cost of 1.5170473400373843\n",
      "starting epoch 810\n",
      "estimation error is 0.09644555287754304\n",
      "calculating optimal controller for estimated system\n"
     ]
    },
    {
     "name": "stderr",
     "output_type": "stream",
     "text": [
      "100%|██████████| 80/80 [00:00<00:00, 730.37it/s]\n",
      "  0%|          | 0/80 [00:00<?, ?it/s]"
     ]
    },
    {
     "name": "stdout",
     "output_type": "stream",
     "text": [
      "new feedback gain is 15.500405308152342\n",
      "with cost of 1.5789629362564095\n",
      "starting epoch 811\n",
      "estimation error is 0.09630754342424307\n",
      "calculating optimal controller for estimated system\n"
     ]
    },
    {
     "name": "stderr",
     "output_type": "stream",
     "text": [
      "100%|██████████| 80/80 [00:00<00:00, 685.61it/s]\n",
      "  0%|          | 0/80 [00:00<?, ?it/s]"
     ]
    },
    {
     "name": "stdout",
     "output_type": "stream",
     "text": [
      "new feedback gain is 15.659225536830778\n",
      "with cost of 1.6391363958933947\n",
      "starting epoch 812\n",
      "estimation error is 0.09621950729479917\n",
      "calculating optimal controller for estimated system\n"
     ]
    },
    {
     "name": "stderr",
     "output_type": "stream",
     "text": [
      "100%|██████████| 80/80 [00:00<00:00, 545.42it/s]\n"
     ]
    },
    {
     "name": "stdout",
     "output_type": "stream",
     "text": [
      "new feedback gain is 15.675581464160361\n",
      "with cost of 1.6455926554671527\n",
      "starting epoch 813\n"
     ]
    },
    {
     "name": "stderr",
     "output_type": "stream",
     "text": [
      "100%|██████████| 80/80 [00:00<00:00, 529.68it/s]"
     ]
    },
    {
     "name": "stdout",
     "output_type": "stream",
     "text": [
      "estimation error is 0.09609936754952719\n",
      "calculating optimal controller for estimated system\n",
      "new feedback gain is 15.690301798756984\n",
      "with cost of 1.6514465682409656\n"
     ]
    },
    {
     "name": "stderr",
     "output_type": "stream",
     "text": [
      "\n",
      "  0%|          | 0/80 [00:00<?, ?it/s]"
     ]
    },
    {
     "name": "stdout",
     "output_type": "stream",
     "text": [
      "starting epoch 814\n",
      "estimation error is 0.09601209892282961\n",
      "calculating optimal controller for estimated system\n"
     ]
    },
    {
     "name": "stderr",
     "output_type": "stream",
     "text": [
      "100%|██████████| 80/80 [00:00<00:00, 479.05it/s]\n",
      "  0%|          | 0/80 [00:00<?, ?it/s]"
     ]
    },
    {
     "name": "stdout",
     "output_type": "stream",
     "text": [
      "new feedback gain is 15.703550099893945\n",
      "with cost of 1.656750516275494\n",
      "starting epoch 815\n",
      "estimation error is 0.09588030044678698\n",
      "calculating optimal controller for estimated system\n"
     ]
    },
    {
     "name": "stderr",
     "output_type": "stream",
     "text": [
      "100%|██████████| 80/80 [00:00<00:00, 626.03it/s]\n",
      "  0%|          | 0/80 [00:00<?, ?it/s]"
     ]
    },
    {
     "name": "stdout",
     "output_type": "stream",
     "text": [
      "new feedback gain is 15.715473570917212\n",
      "with cost of 1.6615530386379036\n",
      "starting epoch 816\n",
      "estimation error is 0.09578344747483959\n",
      "calculating optimal controller for estimated system\n"
     ]
    },
    {
     "name": "stderr",
     "output_type": "stream",
     "text": [
      "100%|██████████| 80/80 [00:00<00:00, 544.71it/s]\n",
      "  0%|          | 0/80 [00:00<?, ?it/s]"
     ]
    },
    {
     "name": "stdout",
     "output_type": "stream",
     "text": [
      "new feedback gain is 15.72620469483815\n",
      "with cost of 1.6658989756391418\n",
      "starting epoch 817\n",
      "estimation error is 0.09568996729243469\n",
      "calculating optimal controller for estimated system\n"
     ]
    },
    {
     "name": "stderr",
     "output_type": "stream",
     "text": [
      "100%|██████████| 80/80 [00:00<00:00, 538.33it/s]\n",
      "  0%|          | 0/80 [00:00<?, ?it/s]"
     ]
    },
    {
     "name": "stdout",
     "output_type": "stream",
     "text": [
      "new feedback gain is 15.735862706366996\n",
      "with cost of 1.6698296378745994\n",
      "starting epoch 818\n",
      "estimation error is 0.09553495372170898\n",
      "calculating optimal controller for estimated system\n"
     ]
    },
    {
     "name": "stderr",
     "output_type": "stream",
     "text": [
      "100%|██████████| 80/80 [00:00<00:00, 565.64it/s]\n"
     ]
    },
    {
     "name": "stdout",
     "output_type": "stream",
     "text": [
      "new feedback gain is 15.744554916742956\n",
      "with cost of 1.6733829917339544\n",
      "starting epoch 819\n",
      "estimation error is 0.09543784249001425\n"
     ]
    },
    {
     "name": "stderr",
     "output_type": "stream",
     "text": [
      "100%|██████████| 80/80 [00:00<00:00, 587.39it/s]"
     ]
    },
    {
     "name": "stdout",
     "output_type": "stream",
     "text": [
      "calculating optimal controller for estimated system\n",
      "new feedback gain is 15.752377906081321\n",
      "with cost of 1.6765938546009005\n",
      "starting epoch 820\n"
     ]
    },
    {
     "name": "stderr",
     "output_type": "stream",
     "text": [
      "\n",
      "100%|██████████| 80/80 [00:00<00:00, 626.19it/s]"
     ]
    },
    {
     "name": "stdout",
     "output_type": "stream",
     "text": [
      "estimation error is 0.09533306750305409\n",
      "calculating optimal controller for estimated system\n",
      "new feedback gain is 15.75941859648585\n",
      "with cost of 1.6794940943180754\n",
      "starting epoch 821\n"
     ]
    },
    {
     "name": "stderr",
     "output_type": "stream",
     "text": [
      "\n",
      "100%|██████████| 80/80 [00:00<00:00, 609.31it/s]"
     ]
    },
    {
     "name": "stdout",
     "output_type": "stream",
     "text": [
      "estimation error is 0.09520677299783172\n",
      "calculating optimal controller for estimated system\n",
      "new feedback gain is 15.765755217849923\n",
      "with cost of 1.6821128286543352\n",
      "starting epoch 822\n"
     ]
    },
    {
     "name": "stderr",
     "output_type": "stream",
     "text": [
      "\n",
      "100%|██████████| 80/80 [00:00<00:00, 607.64it/s]"
     ]
    },
    {
     "name": "stdout",
     "output_type": "stream",
     "text": [
      "estimation error is 0.09510729940503264\n",
      "calculating optimal controller for estimated system\n",
      "new feedback gain is 15.77145817707759\n",
      "with cost of 1.6844766214949605\n",
      "starting epoch 823\n"
     ]
    },
    {
     "name": "stderr",
     "output_type": "stream",
     "text": [
      "\n",
      "100%|██████████| 80/80 [00:00<00:00, 647.21it/s]"
     ]
    },
    {
     "name": "stdout",
     "output_type": "stream",
     "text": [
      "estimation error is 0.095003803498458\n",
      "calculating optimal controller for estimated system\n",
      "new feedback gain is 15.776590840382491\n",
      "with cost of 1.6866096732965707\n",
      "starting epoch 824\n"
     ]
    },
    {
     "name": "stderr",
     "output_type": "stream",
     "text": [
      "\n",
      "100%|██████████| 80/80 [00:00<00:00, 631.31it/s]"
     ]
    },
    {
     "name": "stdout",
     "output_type": "stream",
     "text": [
      "estimation error is 0.09490544632628238\n",
      "calculating optimal controller for estimated system\n",
      "new feedback gain is 15.781210237356902\n",
      "with cost of 1.6885340040263832\n",
      "starting epoch 825\n"
     ]
    },
    {
     "name": "stderr",
     "output_type": "stream",
     "text": [
      "\n",
      "100%|██████████| 80/80 [00:00<00:00, 586.71it/s]"
     ]
    },
    {
     "name": "stdout",
     "output_type": "stream",
     "text": [
      "estimation error is 0.09480458568400632\n",
      "calculating optimal controller for estimated system\n",
      "new feedback gain is 15.785367694633871\n",
      "with cost of 1.6902696273576154\n"
     ]
    },
    {
     "name": "stderr",
     "output_type": "stream",
     "text": [
      "\n",
      "  0%|          | 0/80 [00:00<?, ?it/s]"
     ]
    },
    {
     "name": "stdout",
     "output_type": "stream",
     "text": [
      "starting epoch 826\n",
      "estimation error is 0.09473424176019574\n",
      "calculating optimal controller for estimated system\n"
     ]
    },
    {
     "name": "stderr",
     "output_type": "stream",
     "text": [
      "100%|██████████| 80/80 [00:00<00:00, 533.97it/s]\n",
      "  0%|          | 0/80 [00:00<?, ?it/s]"
     ]
    },
    {
     "name": "stdout",
     "output_type": "stream",
     "text": [
      "new feedback gain is 15.789109406183144\n",
      "with cost of 1.69183471533737\n",
      "starting epoch 827\n",
      "estimation error is 0.09465107296479955\n",
      "calculating optimal controller for estimated system\n"
     ]
    },
    {
     "name": "stderr",
     "output_type": "stream",
     "text": [
      "100%|██████████| 80/80 [00:00<00:00, 581.98it/s]\n",
      "  0%|          | 0/80 [00:00<?, ?it/s]"
     ]
    },
    {
     "name": "stdout",
     "output_type": "stream",
     "text": [
      "new feedback gain is 15.792476946577489\n",
      "with cost of 1.6932457530960687\n",
      "starting epoch 828\n",
      "estimation error is 0.09453841990906649\n",
      "calculating optimal controller for estimated system\n"
     ]
    },
    {
     "name": "stderr",
     "output_type": "stream",
     "text": [
      "100%|██████████| 80/80 [00:00<00:00, 618.21it/s]\n",
      "  0%|          | 0/80 [00:00<?, ?it/s]"
     ]
    },
    {
     "name": "stdout",
     "output_type": "stream",
     "text": [
      "new feedback gain is 15.7955077329324\n",
      "with cost of 1.6945176834432918\n",
      "starting epoch 829\n",
      "estimation error is 0.09441588324916103\n",
      "calculating optimal controller for estimated system\n"
     ]
    },
    {
     "name": "stderr",
     "output_type": "stream",
     "text": [
      "100%|██████████| 80/80 [00:00<00:00, 610.45it/s]\n",
      "  0%|          | 0/80 [00:00<?, ?it/s]"
     ]
    },
    {
     "name": "stdout",
     "output_type": "stream",
     "text": [
      "new feedback gain is 15.798235440651819\n",
      "with cost of 1.6956640414066328\n",
      "starting epoch 830\n",
      "estimation error is 0.09432240950610778\n",
      "calculating optimal controller for estimated system\n"
     ]
    },
    {
     "name": "stderr",
     "output_type": "stream",
     "text": [
      "100%|██████████| 80/80 [00:00<00:00, 507.93it/s]\n"
     ]
    },
    {
     "name": "stdout",
     "output_type": "stream",
     "text": [
      "new feedback gain is 15.800690377599297\n",
      "with cost of 1.696697078929416\n",
      "starting epoch 831\n"
     ]
    },
    {
     "name": "stderr",
     "output_type": "stream",
     "text": [
      "100%|██████████| 80/80 [00:00<00:00, 587.15it/s]"
     ]
    },
    {
     "name": "stdout",
     "output_type": "stream",
     "text": [
      "estimation error is 0.09420973852103423\n",
      "calculating optimal controller for estimated system\n",
      "new feedback gain is 15.802899820852026\n",
      "with cost of 1.6976278800591627\n"
     ]
    },
    {
     "name": "stderr",
     "output_type": "stream",
     "text": [
      "\n",
      "  0%|          | 0/80 [00:00<?, ?it/s]"
     ]
    },
    {
     "name": "stdout",
     "output_type": "stream",
     "text": [
      "starting epoch 832\n",
      "estimation error is 0.09411117321513943\n",
      "calculating optimal controller for estimated system\n"
     ]
    },
    {
     "name": "stderr",
     "output_type": "stream",
     "text": [
      "100%|██████████| 80/80 [00:00<00:00, 623.65it/s]\n"
     ]
    },
    {
     "name": "stdout",
     "output_type": "stream",
     "text": [
      "new feedback gain is 15.931470598260496\n",
      "with cost of 1.7535924648542018\n",
      "starting epoch 833\n",
      "estimation error is 0.09398826517298405\n"
     ]
    },
    {
     "name": "stderr",
     "output_type": "stream",
     "text": [
      "100%|██████████| 80/80 [00:00<00:00, 718.51it/s]"
     ]
    },
    {
     "name": "stdout",
     "output_type": "stream",
     "text": [
      "calculating optimal controller for estimated system\n",
      "new feedback gain is 16.04718429792812\n",
      "with cost of 1.8071796645556282\n",
      "starting epoch 834\n"
     ]
    },
    {
     "name": "stderr",
     "output_type": "stream",
     "text": [
      "\n",
      "100%|██████████| 80/80 [00:00<00:00, 740.23it/s]"
     ]
    },
    {
     "name": "stdout",
     "output_type": "stream",
     "text": [
      "estimation error is 0.09385497426932858\n",
      "calculating optimal controller for estimated system\n",
      "new feedback gain is 16.15132662762898\n",
      "with cost of 1.8582573023207138\n",
      "starting epoch 835\n"
     ]
    },
    {
     "name": "stderr",
     "output_type": "stream",
     "text": [
      "\n",
      "100%|██████████| 80/80 [00:00<00:00, 734.68it/s]"
     ]
    },
    {
     "name": "stdout",
     "output_type": "stream",
     "text": [
      "estimation error is 0.0937429985450376\n",
      "calculating optimal controller for estimated system\n",
      "new feedback gain is 16.245054724359754\n",
      "with cost of 1.906732205375215\n",
      "starting epoch 836\n"
     ]
    },
    {
     "name": "stderr",
     "output_type": "stream",
     "text": [
      "\n",
      "100%|██████████| 80/80 [00:00<00:00, 722.69it/s]"
     ]
    },
    {
     "name": "stdout",
     "output_type": "stream",
     "text": [
      "estimation error is 0.09366646794528954\n",
      "calculating optimal controller for estimated system\n",
      "new feedback gain is 16.32941001141745\n",
      "with cost of 1.9525482155127194\n",
      "starting epoch 837\n"
     ]
    },
    {
     "name": "stderr",
     "output_type": "stream",
     "text": [
      "\n",
      "100%|██████████| 80/80 [00:00<00:00, 690.88it/s]"
     ]
    },
    {
     "name": "stdout",
     "output_type": "stream",
     "text": [
      "estimation error is 0.09358211730210365\n",
      "calculating optimal controller for estimated system\n",
      "new feedback gain is 16.405329769769377\n",
      "with cost of 1.9956833783000911\n",
      "starting epoch 838\n"
     ]
    },
    {
     "name": "stderr",
     "output_type": "stream",
     "text": [
      "\n",
      "100%|██████████| 80/80 [00:00<00:00, 686.03it/s]"
     ]
    },
    {
     "name": "stdout",
     "output_type": "stream",
     "text": [
      "estimation error is 0.09347767143034641\n",
      "calculating optimal controller for estimated system\n",
      "new feedback gain is 16.473657552286113\n",
      "with cost of 2.0361465374987446\n",
      "starting epoch 839\n"
     ]
    },
    {
     "name": "stderr",
     "output_type": "stream",
     "text": [
      "\n",
      "100%|██████████| 80/80 [00:00<00:00, 876.76it/s]"
     ]
    },
    {
     "name": "stdout",
     "output_type": "stream",
     "text": [
      "estimation error is 0.09334515196032724\n",
      "calculating optimal controller for estimated system\n",
      "new feedback gain is 16.661734835032185\n",
      "with cost of 2.1563718159328964\n",
      "starting epoch 840\n"
     ]
    },
    {
     "name": "stderr",
     "output_type": "stream",
     "text": [
      "\n",
      "100%|██████████| 80/80 [00:00<00:00, 975.28it/s]"
     ]
    },
    {
     "name": "stdout",
     "output_type": "stream",
     "text": [
      "estimation error is 0.0932449074313117\n",
      "calculating optimal controller for estimated system\n",
      "new feedback gain is 16.83100438950365\n",
      "with cost of 2.277191033594655\n",
      "starting epoch 841\n"
     ]
    },
    {
     "name": "stderr",
     "output_type": "stream",
     "text": [
      "\n",
      "100%|██████████| 80/80 [00:00<00:00, 965.48it/s]"
     ]
    },
    {
     "name": "stdout",
     "output_type": "stream",
     "text": [
      "estimation error is 0.09313104381897379\n",
      "calculating optimal controller for estimated system\n",
      "new feedback gain is 16.98334698852797\n",
      "with cost of 2.397903221810146\n",
      "starting epoch 842\n"
     ]
    },
    {
     "name": "stderr",
     "output_type": "stream",
     "text": [
      "\n",
      "100%|██████████| 80/80 [00:00<00:00, 982.73it/s]"
     ]
    },
    {
     "name": "stdout",
     "output_type": "stream",
     "text": [
      "estimation error is 0.09301543727369586\n",
      "calculating optimal controller for estimated system\n",
      "new feedback gain is 17.120455327649857\n",
      "with cost of 2.517809785277441\n",
      "starting epoch 843\n"
     ]
    },
    {
     "name": "stderr",
     "output_type": "stream",
     "text": [
      "\n",
      "100%|██████████| 80/80 [00:00<00:00, 991.52it/s]"
     ]
    },
    {
     "name": "stdout",
     "output_type": "stream",
     "text": [
      "estimation error is 0.09291226298718339\n",
      "calculating optimal controller for estimated system\n",
      "new feedback gain is 17.243852832859556\n",
      "with cost of 2.636230938819068\n",
      "starting epoch 844\n"
     ]
    },
    {
     "name": "stderr",
     "output_type": "stream",
     "text": [
      "\n",
      "100%|██████████| 80/80 [00:00<00:00, 719.56it/s]"
     ]
    },
    {
     "name": "stdout",
     "output_type": "stream",
     "text": [
      "estimation error is 0.09277332015178938\n",
      "calculating optimal controller for estimated system\n",
      "new feedback gain is 17.228328309067273\n",
      "with cost of 2.6207365119696457\n",
      "starting epoch 845\n"
     ]
    },
    {
     "name": "stderr",
     "output_type": "stream",
     "text": [
      "\n",
      "100%|██████████| 80/80 [00:00<00:00, 923.11it/s]"
     ]
    },
    {
     "name": "stdout",
     "output_type": "stream",
     "text": [
      "estimation error is 0.09266867687207463\n",
      "calculating optimal controller for estimated system\n",
      "new feedback gain is 17.340938516135232\n",
      "with cost of 2.7373428698716418\n",
      "starting epoch 846\n"
     ]
    },
    {
     "name": "stderr",
     "output_type": "stream",
     "text": [
      "\n",
      "100%|██████████| 80/80 [00:00<00:00, 978.19it/s]"
     ]
    },
    {
     "name": "stdout",
     "output_type": "stream",
     "text": [
      "estimation error is 0.09257074922166889\n",
      "calculating optimal controller for estimated system\n",
      "new feedback gain is 17.442287702496394\n",
      "with cost of 2.851296491325744\n",
      "starting epoch 847\n"
     ]
    },
    {
     "name": "stderr",
     "output_type": "stream",
     "text": [
      "\n",
      "100%|██████████| 80/80 [00:00<00:00, 929.46it/s]"
     ]
    },
    {
     "name": "stdout",
     "output_type": "stream",
     "text": [
      "estimation error is 0.09247196008163197\n",
      "calculating optimal controller for estimated system\n",
      "new feedback gain is 17.533501970221437\n",
      "with cost of 2.9620512064521987\n",
      "starting epoch 848\n"
     ]
    },
    {
     "name": "stderr",
     "output_type": "stream",
     "text": [
      "\n",
      "100%|██████████| 80/80 [00:00<00:00, 820.58it/s]"
     ]
    },
    {
     "name": "stdout",
     "output_type": "stream",
     "text": [
      "estimation error is 0.09234985846256775\n",
      "calculating optimal controller for estimated system\n",
      "new feedback gain is 17.615594811173978\n",
      "with cost of 3.0691282537704074\n",
      "starting epoch 849\n"
     ]
    },
    {
     "name": "stderr",
     "output_type": "stream",
     "text": [
      "\n",
      "100%|██████████| 80/80 [00:00<00:00, 964.26it/s]"
     ]
    },
    {
     "name": "stdout",
     "output_type": "stream",
     "text": [
      "estimation error is 0.09224037056526163\n",
      "calculating optimal controller for estimated system\n",
      "new feedback gain is 17.689478368031267\n",
      "with cost of 3.172122519911886\n",
      "starting epoch 850\n"
     ]
    },
    {
     "name": "stderr",
     "output_type": "stream",
     "text": [
      "\n",
      "100%|██████████| 80/80 [00:00<00:00, 968.65it/s]"
     ]
    },
    {
     "name": "stdout",
     "output_type": "stream",
     "text": [
      "estimation error is 0.09213696353473139\n",
      "calculating optimal controller for estimated system\n",
      "new feedback gain is 17.755973569202823\n",
      "with cost of 3.2707058253925148\n",
      "starting epoch 851\n"
     ]
    },
    {
     "name": "stderr",
     "output_type": "stream",
     "text": [
      "\n",
      "100%|██████████| 80/80 [00:00<00:00, 935.42it/s]"
     ]
    },
    {
     "name": "stdout",
     "output_type": "stream",
     "text": [
      "estimation error is 0.09202844395195563\n",
      "calculating optimal controller for estimated system\n",
      "new feedback gain is 17.815819250257228\n",
      "with cost of 3.364627408911408\n",
      "starting epoch 852\n"
     ]
    },
    {
     "name": "stderr",
     "output_type": "stream",
     "text": [
      "\n",
      "100%|██████████| 80/80 [00:00<00:00, 997.48it/s]"
     ]
    },
    {
     "name": "stdout",
     "output_type": "stream",
     "text": [
      "estimation error is 0.09191889371495628\n",
      "calculating optimal controller for estimated system\n",
      "new feedback gain is 17.86968036320619\n",
      "with cost of 3.4537119134978504\n",
      "starting epoch 853\n"
     ]
    },
    {
     "name": "stderr",
     "output_type": "stream",
     "text": [
      "\n",
      "100%|██████████| 80/80 [00:00<00:00, 970.92it/s]"
     ]
    },
    {
     "name": "stdout",
     "output_type": "stream",
     "text": [
      "estimation error is 0.09177488807487261\n",
      "calculating optimal controller for estimated system\n",
      "new feedback gain is 17.918155364860255\n",
      "with cost of 3.537855283262043\n",
      "starting epoch 854\n"
     ]
    },
    {
     "name": "stderr",
     "output_type": "stream",
     "text": [
      "\n",
      "100%|██████████| 80/80 [00:00<00:00, 941.71it/s]"
     ]
    },
    {
     "name": "stdout",
     "output_type": "stream",
     "text": [
      "estimation error is 0.09164280303403172\n",
      "calculating optimal controller for estimated system\n",
      "new feedback gain is 17.961782866348916\n",
      "with cost of 3.617019037200434\n",
      "starting epoch 855\n"
     ]
    },
    {
     "name": "stderr",
     "output_type": "stream",
     "text": [
      "\n",
      "100%|██████████| 80/80 [00:00<00:00, 953.75it/s]"
     ]
    },
    {
     "name": "stdout",
     "output_type": "stream",
     "text": [
      "estimation error is 0.09148295884881824\n",
      "calculating optimal controller for estimated system\n",
      "new feedback gain is 18.00104761768871\n",
      "with cost of 3.6912234000594966\n",
      "starting epoch 856\n"
     ]
    },
    {
     "name": "stderr",
     "output_type": "stream",
     "text": [
      "\n",
      "100%|██████████| 80/80 [00:00<00:00, 977.13it/s]"
     ]
    },
    {
     "name": "stdout",
     "output_type": "stream",
     "text": [
      "estimation error is 0.09138307667393439\n",
      "calculating optimal controller for estimated system\n",
      "new feedback gain is 18.036385893894522\n",
      "with cost of 3.760539747420297\n",
      "starting epoch 857\n"
     ]
    },
    {
     "name": "stderr",
     "output_type": "stream",
     "text": [
      "\n",
      "100%|██████████| 80/80 [00:00<00:00, 1544.82it/s]"
     ]
    },
    {
     "name": "stdout",
     "output_type": "stream",
     "text": [
      "estimation error is 0.09128032840826718\n",
      "calculating optimal controller for estimated system\n",
      "new feedback gain is 16.242747304505073\n",
      "with cost of 1.9055088303247434\n",
      "starting epoch 858\n"
     ]
    },
    {
     "name": "stderr",
     "output_type": "stream",
     "text": [
      "\n",
      "100%|██████████| 80/80 [00:00<00:00, 1398.84it/s]"
     ]
    },
    {
     "name": "stdout",
     "output_type": "stream",
     "text": [
      "estimation error is 0.09113566716107481\n",
      "calculating optimal controller for estimated system\n",
      "new feedback gain is 14.628472574054566\n",
      "with cost of 1.3137703985406186\n",
      "starting epoch 859\n"
     ]
    },
    {
     "name": "stderr",
     "output_type": "stream",
     "text": [
      "\n",
      "100%|██████████| 80/80 [00:00<00:00, 1453.52it/s]"
     ]
    },
    {
     "name": "stdout",
     "output_type": "stream",
     "text": [
      "estimation error is 0.09102162377234999\n",
      "calculating optimal controller for estimated system\n",
      "new feedback gain is 13.175625316649109\n",
      "with cost of 1.0260110605971213\n",
      "starting epoch 860\n"
     ]
    },
    {
     "name": "stderr",
     "output_type": "stream",
     "text": [
      "\n",
      "100%|██████████| 80/80 [00:00<00:00, 1510.32it/s]"
     ]
    },
    {
     "name": "stdout",
     "output_type": "stream",
     "text": [
      "estimation error is 0.09088790343852249\n",
      "calculating optimal controller for estimated system\n",
      "new feedback gain is 11.868062784984199\n",
      "with cost of 0.8568602414896734\n",
      "starting epoch 861\n"
     ]
    },
    {
     "name": "stderr",
     "output_type": "stream",
     "text": [
      "\n",
      "100%|██████████| 80/80 [00:00<00:00, 1475.71it/s]"
     ]
    },
    {
     "name": "stdout",
     "output_type": "stream",
     "text": [
      "estimation error is 0.0907204064709304\n",
      "calculating optimal controller for estimated system\n",
      "new feedback gain is 10.691256506485779\n",
      "with cost of 0.7460800223248993\n",
      "starting epoch 862\n"
     ]
    },
    {
     "name": "stderr",
     "output_type": "stream",
     "text": [
      "\n",
      "100%|██████████| 80/80 [00:00<00:00, 1528.46it/s]"
     ]
    },
    {
     "name": "stdout",
     "output_type": "stream",
     "text": [
      "estimation error is 0.09057579527041036\n",
      "calculating optimal controller for estimated system\n",
      "new feedback gain is 9.6321308558372\n",
      "with cost of 0.6682869953187308\n",
      "starting epoch 863\n"
     ]
    },
    {
     "name": "stderr",
     "output_type": "stream",
     "text": [
      "\n",
      "100%|██████████| 80/80 [00:00<00:00, 1445.35it/s]"
     ]
    },
    {
     "name": "stdout",
     "output_type": "stream",
     "text": [
      "estimation error is 0.09043796296315021\n",
      "calculating optimal controller for estimated system\n",
      "new feedback gain is 8.67891777025348\n",
      "with cost of 0.6109396378431456\n",
      "starting epoch 864\n"
     ]
    },
    {
     "name": "stderr",
     "output_type": "stream",
     "text": [
      "\n",
      "100%|██████████| 80/80 [00:00<00:00, 1482.14it/s]"
     ]
    },
    {
     "name": "stdout",
     "output_type": "stream",
     "text": [
      "estimation error is 0.09029822968001412\n",
      "calculating optimal controller for estimated system\n",
      "new feedback gain is 7.821025993228132\n",
      "with cost of 0.5671312993012707\n",
      "starting epoch 865\n"
     ]
    },
    {
     "name": "stderr",
     "output_type": "stream",
     "text": [
      "\n",
      "100%|██████████| 80/80 [00:00<00:00, 1416.55it/s]"
     ]
    },
    {
     "name": "stdout",
     "output_type": "stream",
     "text": [
      "estimation error is 0.09009522420224036\n",
      "calculating optimal controller for estimated system\n",
      "new feedback gain is 7.048923393905319\n",
      "with cost of 0.533865641936278\n",
      "starting epoch 866\n"
     ]
    },
    {
     "name": "stderr",
     "output_type": "stream",
     "text": [
      "\n",
      "100%|██████████| 80/80 [00:00<00:00, 1457.65it/s]"
     ]
    },
    {
     "name": "stdout",
     "output_type": "stream",
     "text": [
      "estimation error is 0.08997471733989819\n",
      "calculating optimal controller for estimated system\n",
      "new feedback gain is 6.354031054514787\n",
      "with cost of 0.5124433081647891\n",
      "starting epoch 867\n"
     ]
    },
    {
     "name": "stderr",
     "output_type": "stream",
     "text": [
      "\n",
      "100%|██████████| 80/80 [00:00<00:00, 1501.84it/s]"
     ]
    },
    {
     "name": "stdout",
     "output_type": "stream",
     "text": [
      "estimation error is 0.08980387142277796\n",
      "calculating optimal controller for estimated system\n",
      "new feedback gain is 5.728627949063308\n",
      "with cost of 0.5044955055659648\n",
      "starting epoch 868\n"
     ]
    },
    {
     "name": "stderr",
     "output_type": "stream",
     "text": [
      "\n",
      "100%|██████████| 80/80 [00:00<00:00, 948.17it/s]"
     ]
    },
    {
     "name": "stdout",
     "output_type": "stream",
     "text": [
      "estimation error is 0.08963524800999158\n",
      "calculating optimal controller for estimated system\n",
      "new feedback gain is 7.1177904706126744\n",
      "with cost of 0.5364820314803065\n",
      "starting epoch 869\n"
     ]
    },
    {
     "name": "stderr",
     "output_type": "stream",
     "text": [
      "\n",
      "100%|██████████| 80/80 [00:00<00:00, 726.43it/s]"
     ]
    },
    {
     "name": "stdout",
     "output_type": "stream",
     "text": [
      "estimation error is 0.08962588205421718\n",
      "calculating optimal controller for estimated system\n",
      "new feedback gain is 8.241454461526091\n",
      "with cost of 0.5877877484333838\n",
      "starting epoch 870\n"
     ]
    },
    {
     "name": "stderr",
     "output_type": "stream",
     "text": [
      "\n",
      "100%|██████████| 80/80 [00:00<00:00, 741.80it/s]"
     ]
    },
    {
     "name": "stdout",
     "output_type": "stream",
     "text": [
      "estimation error is 0.08958271769905168\n",
      "calculating optimal controller for estimated system\n",
      "new feedback gain is 9.252752053348168\n",
      "with cost of 0.6442209821267755\n",
      "starting epoch 871\n"
     ]
    },
    {
     "name": "stderr",
     "output_type": "stream",
     "text": [
      "\n",
      "100%|██████████| 80/80 [00:00<00:00, 730.48it/s]"
     ]
    },
    {
     "name": "stdout",
     "output_type": "stream",
     "text": [
      "estimation error is 0.08955012223686137\n",
      "calculating optimal controller for estimated system\n",
      "new feedback gain is 10.162919885988035\n",
      "with cost of 0.7051371099586632\n",
      "starting epoch 872\n"
     ]
    },
    {
     "name": "stderr",
     "output_type": "stream",
     "text": [
      "\n",
      "100%|██████████| 80/80 [00:00<00:00, 704.34it/s]"
     ]
    },
    {
     "name": "stdout",
     "output_type": "stream",
     "text": [
      "estimation error is 0.08948335594289206\n",
      "calculating optimal controller for estimated system\n",
      "new feedback gain is 10.982070935363916\n",
      "with cost of 0.7707084638055233\n",
      "starting epoch 873\n"
     ]
    },
    {
     "name": "stderr",
     "output_type": "stream",
     "text": [
      "\n",
      "100%|██████████| 80/80 [00:00<00:00, 741.04it/s]"
     ]
    },
    {
     "name": "stdout",
     "output_type": "stream",
     "text": [
      "estimation error is 0.08945209947978573\n",
      "calculating optimal controller for estimated system\n",
      "new feedback gain is 11.71930687980221\n",
      "with cost of 0.8410777234883234\n",
      "starting epoch 874\n"
     ]
    },
    {
     "name": "stderr",
     "output_type": "stream",
     "text": [
      "\n",
      "100%|██████████| 80/80 [00:00<00:00, 729.77it/s]"
     ]
    },
    {
     "name": "stdout",
     "output_type": "stream",
     "text": [
      "estimation error is 0.08935330209292662\n",
      "calculating optimal controller for estimated system\n",
      "new feedback gain is 12.382819229796674\n",
      "with cost of 0.9163504345394737\n",
      "starting epoch 875\n"
     ]
    },
    {
     "name": "stderr",
     "output_type": "stream",
     "text": [
      "\n",
      "100%|██████████| 80/80 [00:00<00:00, 740.51it/s]"
     ]
    },
    {
     "name": "stdout",
     "output_type": "stream",
     "text": [
      "estimation error is 0.08929206290199962\n",
      "calculating optimal controller for estimated system\n",
      "new feedback gain is 12.979980344791691\n",
      "with cost of 0.9965872512271118\n",
      "starting epoch 876\n"
     ]
    },
    {
     "name": "stderr",
     "output_type": "stream",
     "text": [
      "\n",
      "100%|██████████| 80/80 [00:00<00:00, 718.34it/s]"
     ]
    },
    {
     "name": "stdout",
     "output_type": "stream",
     "text": [
      "estimation error is 0.08921368827496079\n",
      "calculating optimal controller for estimated system\n",
      "new feedback gain is 13.517425348287206\n",
      "with cost of 1.0817961865160584\n",
      "starting epoch 877\n"
     ]
    },
    {
     "name": "stderr",
     "output_type": "stream",
     "text": [
      "\n",
      "100%|██████████| 80/80 [00:00<00:00, 728.21it/s]"
     ]
    },
    {
     "name": "stdout",
     "output_type": "stream",
     "text": [
      "estimation error is 0.08912198838642452\n",
      "calculating optimal controller for estimated system\n",
      "new feedback gain is 14.001125851433171\n",
      "with cost of 1.1719252205250839\n",
      "starting epoch 878\n"
     ]
    },
    {
     "name": "stderr",
     "output_type": "stream",
     "text": [
      "\n",
      "100%|██████████| 80/80 [00:00<00:00, 712.22it/s]"
     ]
    },
    {
     "name": "stdout",
     "output_type": "stream",
     "text": [
      "estimation error is 0.08903130045576337\n",
      "calculating optimal controller for estimated system\n",
      "new feedback gain is 14.436456304264539\n",
      "with cost of 1.2668556802458375\n",
      "starting epoch 879\n"
     ]
    },
    {
     "name": "stderr",
     "output_type": "stream",
     "text": [
      "\n",
      "100%|██████████| 80/80 [00:00<00:00, 739.16it/s]"
     ]
    },
    {
     "name": "stdout",
     "output_type": "stream",
     "text": [
      "estimation error is 0.08889523549423096\n",
      "calculating optimal controller for estimated system\n",
      "new feedback gain is 14.828253711812769\n",
      "with cost of 1.3663968468201646\n",
      "starting epoch 880\n"
     ]
    },
    {
     "name": "stderr",
     "output_type": "stream",
     "text": [
      "\n",
      "100%|██████████| 80/80 [00:00<00:00, 747.54it/s]"
     ]
    },
    {
     "name": "stdout",
     "output_type": "stream",
     "text": [
      "estimation error is 0.08879941571632363\n",
      "calculating optimal controller for estimated system\n",
      "new feedback gain is 15.180871378606177\n",
      "with cost of 1.470282262795754\n",
      "starting epoch 881\n"
     ]
    },
    {
     "name": "stderr",
     "output_type": "stream",
     "text": [
      "\n",
      "100%|██████████| 80/80 [00:00<00:00, 739.88it/s]"
     ]
    },
    {
     "name": "stdout",
     "output_type": "stream",
     "text": [
      "estimation error is 0.08866212271201156\n",
      "calculating optimal controller for estimated system\n",
      "new feedback gain is 15.498227278720245\n",
      "with cost of 1.578168191316189\n",
      "starting epoch 882\n"
     ]
    },
    {
     "name": "stderr",
     "output_type": "stream",
     "text": [
      "\n",
      "100%|██████████| 80/80 [00:00<00:00, 719.93it/s]"
     ]
    },
    {
     "name": "stdout",
     "output_type": "stream",
     "text": [
      "estimation error is 0.08858387404338756\n",
      "calculating optimal controller for estimated system\n",
      "new feedback gain is 15.783847588822905\n",
      "with cost of 1.6896346152019284\n",
      "starting epoch 883\n"
     ]
    },
    {
     "name": "stderr",
     "output_type": "stream",
     "text": [
      "\n",
      "100%|██████████| 80/80 [00:00<00:00, 968.39it/s]"
     ]
    },
    {
     "name": "stdout",
     "output_type": "stream",
     "text": [
      "estimation error is 0.08846997532114995\n",
      "calculating optimal controller for estimated system\n",
      "new feedback gain is 16.167488146396312\n",
      "with cost of 1.866441064505093\n",
      "starting epoch 884\n"
     ]
    },
    {
     "name": "stderr",
     "output_type": "stream",
     "text": [
      "\n",
      "100%|██████████| 80/80 [00:00<00:00, 985.68it/s]"
     ]
    },
    {
     "name": "stdout",
     "output_type": "stream",
     "text": [
      "estimation error is 0.0883911811828682\n",
      "calculating optimal controller for estimated system\n",
      "new feedback gain is 16.51276464821238\n",
      "with cost of 2.0600427207113112\n",
      "starting epoch 885\n"
     ]
    },
    {
     "name": "stderr",
     "output_type": "stream",
     "text": [
      "\n",
      "100%|██████████| 80/80 [00:00<00:00, 807.11it/s]"
     ]
    },
    {
     "name": "stdout",
     "output_type": "stream",
     "text": [
      "estimation error is 0.08826386655043172\n",
      "calculating optimal controller for estimated system\n",
      "new feedback gain is 16.82351349984684\n",
      "with cost of 2.2715631970461065\n",
      "starting epoch 886\n"
     ]
    },
    {
     "name": "stderr",
     "output_type": "stream",
     "text": [
      "\n",
      "100%|██████████| 80/80 [00:00<00:00, 955.42it/s]"
     ]
    },
    {
     "name": "stdout",
     "output_type": "stream",
     "text": [
      "estimation error is 0.08814671009793984\n",
      "calculating optimal controller for estimated system\n",
      "new feedback gain is 17.103187466317852\n",
      "with cost of 2.502065171341995\n",
      "starting epoch 887\n"
     ]
    },
    {
     "name": "stderr",
     "output_type": "stream",
     "text": [
      "\n",
      "100%|██████████| 80/80 [00:00<00:00, 709.55it/s]"
     ]
    },
    {
     "name": "stdout",
     "output_type": "stream",
     "text": [
      "estimation error is 0.08805040206717124\n",
      "calculating optimal controller for estimated system\n",
      "new feedback gain is 17.22831175766075\n",
      "with cost of 2.6207200877691452\n",
      "starting epoch 888\n"
     ]
    },
    {
     "name": "stderr",
     "output_type": "stream",
     "text": [
      "\n",
      "100%|██████████| 80/80 [00:00<00:00, 638.58it/s]"
     ]
    },
    {
     "name": "stdout",
     "output_type": "stream",
     "text": [
      "estimation error is 0.0879581496634789\n",
      "calculating optimal controller for estimated system\n",
      "new feedback gain is 17.34092361986936\n",
      "with cost of 2.737326774793456\n",
      "starting epoch 889\n"
     ]
    },
    {
     "name": "stderr",
     "output_type": "stream",
     "text": [
      "\n",
      "100%|██████████| 80/80 [00:00<00:00, 743.69it/s]"
     ]
    },
    {
     "name": "stdout",
     "output_type": "stream",
     "text": [
      "estimation error is 0.08786334165286658\n",
      "calculating optimal controller for estimated system\n",
      "new feedback gain is 17.44227429585711\n",
      "with cost of 2.851280805870077\n",
      "starting epoch 890\n"
     ]
    },
    {
     "name": "stderr",
     "output_type": "stream",
     "text": [
      "\n",
      "100%|██████████| 80/80 [00:00<00:00, 850.59it/s]"
     ]
    },
    {
     "name": "stdout",
     "output_type": "stream",
     "text": [
      "estimation error is 0.08777364599546628\n",
      "calculating optimal controller for estimated system\n",
      "new feedback gain is 17.533489904246082\n",
      "with cost of 2.96203600228862\n",
      "starting epoch 891\n"
     ]
    },
    {
     "name": "stderr",
     "output_type": "stream",
     "text": [
      "\n",
      "100%|██████████| 80/80 [00:00<00:00, 710.10it/s]"
     ]
    },
    {
     "name": "stdout",
     "output_type": "stream",
     "text": [
      "estimation error is 0.08764331698555544\n",
      "calculating optimal controller for estimated system\n",
      "new feedback gain is 17.61558395179616\n",
      "with cost of 3.069113592660601\n",
      "starting epoch 892\n"
     ]
    },
    {
     "name": "stderr",
     "output_type": "stream",
     "text": [
      "\n",
      "100%|██████████| 80/80 [00:00<00:00, 741.07it/s]"
     ]
    },
    {
     "name": "stdout",
     "output_type": "stream",
     "text": [
      "estimation error is 0.08752602216983052\n",
      "calculating optimal controller for estimated system\n",
      "new feedback gain is 17.68946859459123\n",
      "with cost of 3.1721084530467207\n",
      "starting epoch 893\n"
     ]
    },
    {
     "name": "stderr",
     "output_type": "stream",
     "text": [
      "\n",
      "100%|██████████| 80/80 [00:00<00:00, 750.19it/s]"
     ]
    },
    {
     "name": "stdout",
     "output_type": "stream",
     "text": [
      "estimation error is 0.0874325911365122\n",
      "calculating optimal controller for estimated system\n",
      "new feedback gain is 17.75596477310679\n",
      "with cost of 3.2706923931345457\n",
      "starting epoch 894\n"
     ]
    },
    {
     "name": "stderr",
     "output_type": "stream",
     "text": [
      "\n",
      "100%|██████████| 80/80 [00:00<00:00, 745.18it/s]"
     ]
    },
    {
     "name": "stdout",
     "output_type": "stream",
     "text": [
      "estimation error is 0.08734915923005229\n",
      "calculating optimal controller for estimated system\n",
      "new feedback gain is 17.815811333770796\n",
      "with cost of 3.3646146409100552\n",
      "starting epoch 895\n"
     ]
    },
    {
     "name": "stderr",
     "output_type": "stream",
     "text": [
      "\n",
      "100%|██████████| 80/80 [00:00<00:00, 662.17it/s]"
     ]
    },
    {
     "name": "stdout",
     "output_type": "stream",
     "text": [
      "estimation error is 0.08725074138858212\n",
      "calculating optimal controller for estimated system\n",
      "new feedback gain is 17.869673238368403\n",
      "with cost of 3.453699829126447\n",
      "starting epoch 896\n"
     ]
    },
    {
     "name": "stderr",
     "output_type": "stream",
     "text": [
      "\n",
      "100%|██████████| 80/80 [00:00<00:00, 764.41it/s]"
     ]
    },
    {
     "name": "stdout",
     "output_type": "stream",
     "text": [
      "estimation error is 0.08715015403702049\n",
      "calculating optimal controller for estimated system\n",
      "new feedback gain is 17.918148952506247\n",
      "with cost of 3.537843892314582\n",
      "starting epoch 897\n"
     ]
    },
    {
     "name": "stderr",
     "output_type": "stream",
     "text": [
      "\n",
      "100%|██████████| 80/80 [00:00<00:00, 711.37it/s]"
     ]
    },
    {
     "name": "stdout",
     "output_type": "stream",
     "text": [
      "estimation error is 0.08704977355917881\n",
      "calculating optimal controller for estimated system\n",
      "new feedback gain is 17.961777095230307\n",
      "with cost of 3.6170083407811413\n",
      "starting epoch 898\n"
     ]
    },
    {
     "name": "stderr",
     "output_type": "stream",
     "text": [
      "\n",
      "100%|██████████| 80/80 [00:00<00:00, 710.98it/s]"
     ]
    },
    {
     "name": "stdout",
     "output_type": "stream",
     "text": [
      "estimation error is 0.0869587694661671\n",
      "calculating optimal controller for estimated system\n",
      "new feedback gain is 18.001042423681962\n",
      "with cost of 3.6912133915990966\n",
      "starting epoch 899\n"
     ]
    },
    {
     "name": "stderr",
     "output_type": "stream",
     "text": [
      "\n",
      "100%|██████████| 80/80 [00:00<00:00, 716.68it/s]"
     ]
    },
    {
     "name": "stdout",
     "output_type": "stream",
     "text": [
      "estimation error is 0.08686881185336699\n",
      "calculating optimal controller for estimated system\n",
      "new feedback gain is 18.03638121928845\n",
      "with cost of 3.7605304137580253\n",
      "starting epoch 900\n"
     ]
    },
    {
     "name": "stderr",
     "output_type": "stream",
     "text": [
      "\n",
      "100%|██████████| 80/80 [00:00<00:00, 715.26it/s]"
     ]
    },
    {
     "name": "stdout",
     "output_type": "stream",
     "text": [
      "estimation error is 0.08677239768548063\n",
      "calculating optimal controller for estimated system\n",
      "new feedback gain is 18.06818613533429\n",
      "with cost of 3.825074095297546\n",
      "starting epoch 901\n"
     ]
    },
    {
     "name": "stderr",
     "output_type": "stream",
     "text": [
      "\n",
      "100%|██████████| 80/80 [00:00<00:00, 705.34it/s]"
     ]
    },
    {
     "name": "stdout",
     "output_type": "stream",
     "text": [
      "estimation error is 0.08668533904126137\n",
      "calculating optimal controller for estimated system\n",
      "new feedback gain is 18.096810559775545\n",
      "with cost of 3.8849946746219928\n",
      "starting epoch 902\n"
     ]
    },
    {
     "name": "stderr",
     "output_type": "stream",
     "text": [
      "\n",
      "100%|██████████| 80/80 [00:00<00:00, 753.94it/s]"
     ]
    },
    {
     "name": "stdout",
     "output_type": "stream",
     "text": [
      "estimation error is 0.0865974448047725\n",
      "calculating optimal controller for estimated system\n",
      "new feedback gain is 18.122572541772676\n",
      "with cost of 3.940470505503374\n",
      "starting epoch 903\n"
     ]
    },
    {
     "name": "stderr",
     "output_type": "stream",
     "text": [
      "\n",
      "100%|██████████| 80/80 [00:00<00:00, 834.30it/s]"
     ]
    },
    {
     "name": "stdout",
     "output_type": "stream",
     "text": [
      "estimation error is 0.08649357204355218\n",
      "calculating optimal controller for estimated system\n",
      "new feedback gain is 18.272340604051106\n",
      "with cost of 4.295196245131992\n",
      "starting epoch 904\n"
     ]
    },
    {
     "name": "stderr",
     "output_type": "stream",
     "text": [
      "\n",
      "100%|██████████| 80/80 [00:00<00:00, 957.33it/s]"
     ]
    },
    {
     "name": "stdout",
     "output_type": "stream",
     "text": [
      "estimation error is 0.08640036528495373\n",
      "calculating optimal controller for estimated system\n",
      "new feedback gain is 18.407131860101693\n",
      "with cost of 4.66979990390053\n",
      "starting epoch 905\n"
     ]
    },
    {
     "name": "stderr",
     "output_type": "stream",
     "text": [
      "\n",
      "100%|██████████| 80/80 [00:00<00:00, 973.38it/s]"
     ]
    },
    {
     "name": "stdout",
     "output_type": "stream",
     "text": [
      "estimation error is 0.08633296710616427\n",
      "calculating optimal controller for estimated system\n",
      "new feedback gain is 18.52844399054722\n",
      "with cost of 5.062797381375515\n",
      "starting epoch 906\n"
     ]
    },
    {
     "name": "stderr",
     "output_type": "stream",
     "text": [
      "\n",
      "100%|██████████| 80/80 [00:00<00:00, 951.92it/s]"
     ]
    },
    {
     "name": "stdout",
     "output_type": "stream",
     "text": [
      "estimation error is 0.0862331397753918\n",
      "calculating optimal controller for estimated system\n",
      "new feedback gain is 18.637624907948197\n",
      "with cost of 5.472275753524376\n",
      "starting epoch 907\n"
     ]
    },
    {
     "name": "stderr",
     "output_type": "stream",
     "text": [
      "\n",
      "100%|██████████| 80/80 [00:00<00:00, 947.42it/s]"
     ]
    },
    {
     "name": "stdout",
     "output_type": "stream",
     "text": [
      "estimation error is 0.0861469539954122\n",
      "calculating optimal controller for estimated system\n",
      "new feedback gain is 18.735887733609076\n",
      "with cost of 5.895982337001857\n",
      "starting epoch 908\n"
     ]
    },
    {
     "name": "stderr",
     "output_type": "stream",
     "text": [
      "\n",
      "100%|██████████| 80/80 [00:00<00:00, 987.55it/s]"
     ]
    },
    {
     "name": "stdout",
     "output_type": "stream",
     "text": [
      "estimation error is 0.08604907360957337\n",
      "calculating optimal controller for estimated system\n",
      "new feedback gain is 18.824324276703866\n",
      "with cost of 6.331445084334571\n",
      "starting epoch 909\n"
     ]
    },
    {
     "name": "stderr",
     "output_type": "stream",
     "text": [
      "\n",
      "100%|██████████| 80/80 [00:00<00:00, 925.38it/s]"
     ]
    },
    {
     "name": "stdout",
     "output_type": "stream",
     "text": [
      "estimation error is 0.08595279911223519\n",
      "calculating optimal controller for estimated system\n",
      "new feedback gain is 18.903917165489176\n",
      "with cost of 6.776103719375007\n",
      "starting epoch 910\n"
     ]
    },
    {
     "name": "stderr",
     "output_type": "stream",
     "text": [
      "\n",
      "100%|██████████| 80/80 [00:00<00:00, 948.08it/s]"
     ]
    },
    {
     "name": "stdout",
     "output_type": "stream",
     "text": [
      "estimation error is 0.08583760139770255\n",
      "calculating optimal controller for estimated system\n",
      "new feedback gain is 18.97555076539596\n",
      "with cost of 7.227428578481692\n",
      "starting epoch 911\n"
     ]
    },
    {
     "name": "stderr",
     "output_type": "stream",
     "text": [
      "\n",
      "100%|██████████| 80/80 [00:00<00:00, 970.06it/s]"
     ]
    },
    {
     "name": "stdout",
     "output_type": "stream",
     "text": [
      "estimation error is 0.08572665817529014\n",
      "calculating optimal controller for estimated system\n",
      "new feedback gain is 19.04002100531206\n",
      "with cost of 7.683008253953027\n",
      "starting epoch 912\n"
     ]
    },
    {
     "name": "stderr",
     "output_type": "stream",
     "text": [
      "\n",
      "100%|██████████| 80/80 [00:00<00:00, 976.83it/s]"
     ]
    },
    {
     "name": "stdout",
     "output_type": "stream",
     "text": [
      "estimation error is 0.08564797632473446\n",
      "calculating optimal controller for estimated system\n",
      "new feedback gain is 19.098044221236552\n",
      "with cost of 8.140596218731993\n",
      "starting epoch 913\n"
     ]
    },
    {
     "name": "stderr",
     "output_type": "stream",
     "text": [
      "\n",
      "100%|██████████| 80/80 [00:00<00:00, 882.82it/s]"
     ]
    },
    {
     "name": "stdout",
     "output_type": "stream",
     "text": [
      "estimation error is 0.08554950818416995\n",
      "calculating optimal controller for estimated system\n",
      "new feedback gain is 19.150265115568594\n",
      "with cost of 8.598117403521575\n",
      "starting epoch 914\n"
     ]
    },
    {
     "name": "stderr",
     "output_type": "stream",
     "text": [
      "\n",
      "100%|██████████| 80/80 [00:00<00:00, 988.35it/s]"
     ]
    },
    {
     "name": "stdout",
     "output_type": "stream",
     "text": [
      "estimation error is 0.08545738076535618\n",
      "calculating optimal controller for estimated system\n",
      "new feedback gain is 19.19726392046743\n",
      "with cost of 9.053644771254527\n",
      "starting epoch 915\n"
     ]
    },
    {
     "name": "stderr",
     "output_type": "stream",
     "text": [
      "\n",
      "100%|██████████| 80/80 [00:00<00:00, 981.19it/s]"
     ]
    },
    {
     "name": "stdout",
     "output_type": "stream",
     "text": [
      "estimation error is 0.08535478436476937\n",
      "calculating optimal controller for estimated system\n",
      "new feedback gain is 19.239562844876385\n",
      "with cost of 9.505360941349894\n",
      "starting epoch 916\n"
     ]
    },
    {
     "name": "stderr",
     "output_type": "stream",
     "text": [
      "\n",
      "100%|██████████| 80/80 [00:00<00:00, 690.61it/s]"
     ]
    },
    {
     "name": "stdout",
     "output_type": "stream",
     "text": [
      "estimation error is 0.08527402863197715\n",
      "calculating optimal controller for estimated system\n",
      "new feedback gain is 19.277631876844445\n",
      "with cost of 9.951520200907307\n",
      "starting epoch 917\n"
     ]
    },
    {
     "name": "stderr",
     "output_type": "stream",
     "text": [
      "\n",
      "100%|██████████| 80/80 [00:00<00:00, 971.22it/s]"
     ]
    },
    {
     "name": "stdout",
     "output_type": "stream",
     "text": [
      "estimation error is 0.0851773066472556\n",
      "calculating optimal controller for estimated system\n",
      "new feedback gain is 19.3118940056157\n",
      "with cost of 10.390422699012396\n",
      "starting epoch 918\n"
     ]
    },
    {
     "name": "stderr",
     "output_type": "stream",
     "text": [
      "\n",
      "100%|██████████| 80/80 [00:00<00:00, 722.99it/s]"
     ]
    },
    {
     "name": "stdout",
     "output_type": "stream",
     "text": [
      "estimation error is 0.08508236372431904\n",
      "calculating optimal controller for estimated system\n",
      "new feedback gain is 19.34272992150983\n",
      "with cost of 10.820407051299743\n",
      "starting epoch 919\n"
     ]
    },
    {
     "name": "stderr",
     "output_type": "stream",
     "text": [
      "\n",
      "100%|██████████| 80/80 [00:00<00:00, 578.88it/s]"
     ]
    },
    {
     "name": "stdout",
     "output_type": "stream",
     "text": [
      "estimation error is 0.08500361536948578\n",
      "calculating optimal controller for estimated system\n",
      "new feedback gain is 19.24389996733353\n",
      "with cost of 9.55418177899431\n"
     ]
    },
    {
     "name": "stderr",
     "output_type": "stream",
     "text": [
      "\n"
     ]
    },
    {
     "name": "stdout",
     "output_type": "stream",
     "text": [
      "starting epoch 920\n"
     ]
    },
    {
     "name": "stderr",
     "output_type": "stream",
     "text": [
      "100%|██████████| 80/80 [00:00<00:00, 575.69it/s]"
     ]
    },
    {
     "name": "stdout",
     "output_type": "stream",
     "text": [
      "estimation error is 0.08493238589838013\n",
      "calculating optimal controller for estimated system\n",
      "new feedback gain is 19.15495300857486\n",
      "with cost of 8.641573831673536\n"
     ]
    },
    {
     "name": "stderr",
     "output_type": "stream",
     "text": [
      "\n"
     ]
    },
    {
     "name": "stdout",
     "output_type": "stream",
     "text": [
      "starting epoch 921\n"
     ]
    },
    {
     "name": "stderr",
     "output_type": "stream",
     "text": [
      "100%|██████████| 80/80 [00:00<00:00, 749.74it/s]"
     ]
    },
    {
     "name": "stdout",
     "output_type": "stream",
     "text": [
      "estimation error is 0.08484433956026831\n",
      "calculating optimal controller for estimated system\n",
      "new feedback gain is 19.201483024173072\n",
      "with cost of 9.09681542621218\n",
      "starting epoch 922\n"
     ]
    },
    {
     "name": "stderr",
     "output_type": "stream",
     "text": [
      "\n",
      "100%|██████████| 80/80 [00:00<00:00, 653.02it/s]"
     ]
    },
    {
     "name": "stdout",
     "output_type": "stream",
     "text": [
      "estimation error is 0.08476751520789337\n",
      "calculating optimal controller for estimated system\n",
      "new feedback gain is 19.243360038211463\n",
      "with cost of 9.548077166783207\n"
     ]
    },
    {
     "name": "stderr",
     "output_type": "stream",
     "text": [
      "\n"
     ]
    },
    {
     "name": "stdout",
     "output_type": "stream",
     "text": [
      "starting epoch 923\n",
      "estimation error is 0.0846623560290674\n"
     ]
    },
    {
     "name": "stderr",
     "output_type": "stream",
     "text": [
      "100%|██████████| 80/80 [00:00<00:00, 597.62it/s]"
     ]
    },
    {
     "name": "stdout",
     "output_type": "stream",
     "text": [
      "calculating optimal controller for estimated system\n",
      "new feedback gain is 19.154467072365\n",
      "with cost of 8.637049839550269\n",
      "starting epoch 924\n"
     ]
    },
    {
     "name": "stderr",
     "output_type": "stream",
     "text": [
      "\n",
      "100%|██████████| 80/80 [00:00<00:00, 648.61it/s]"
     ]
    },
    {
     "name": "stdout",
     "output_type": "stream",
     "text": [
      "estimation error is 0.08455431446869636\n",
      "calculating optimal controller for estimated system\n",
      "new feedback gain is 19.074463403103188\n",
      "with cost of 7.948672317838591\n",
      "starting epoch 925\n"
     ]
    },
    {
     "name": "stderr",
     "output_type": "stream",
     "text": [
      "\n",
      "100%|██████████| 80/80 [00:00<00:00, 582.54it/s]"
     ]
    },
    {
     "name": "stdout",
     "output_type": "stream",
     "text": [
      "estimation error is 0.08446108767580755\n",
      "calculating optimal controller for estimated system\n",
      "new feedback gain is 19.002460100767554\n",
      "with cost of 7.411401911544824\n"
     ]
    },
    {
     "name": "stderr",
     "output_type": "stream",
     "text": [
      "\n",
      "  0%|          | 0/80 [00:00<?, ?it/s]"
     ]
    },
    {
     "name": "stdout",
     "output_type": "stream",
     "text": [
      "starting epoch 926\n",
      "estimation error is 0.08438204592755863\n",
      "calculating optimal controller for estimated system\n"
     ]
    },
    {
     "name": "stderr",
     "output_type": "stream",
     "text": [
      "100%|██████████| 80/80 [00:00<00:00, 579.45it/s]\n"
     ]
    },
    {
     "name": "stdout",
     "output_type": "stream",
     "text": [
      "new feedback gain is 18.93765712866548\n",
      "with cost of 6.98209344655964\n",
      "starting epoch 927\n"
     ]
    },
    {
     "name": "stderr",
     "output_type": "stream",
     "text": [
      "100%|██████████| 80/80 [00:00<00:00, 584.38it/s]"
     ]
    },
    {
     "name": "stdout",
     "output_type": "stream",
     "text": [
      "estimation error is 0.08426769554879751\n",
      "calculating optimal controller for estimated system\n",
      "new feedback gain is 18.87933445377362\n",
      "with cost of 6.632857251989178\n"
     ]
    },
    {
     "name": "stderr",
     "output_type": "stream",
     "text": [
      "\n",
      "  0%|          | 0/80 [00:00<?, ?it/s]"
     ]
    },
    {
     "name": "stdout",
     "output_type": "stream",
     "text": [
      "starting epoch 928\n",
      "estimation error is 0.08417498805237027\n",
      "calculating optimal controller for estimated system\n"
     ]
    },
    {
     "name": "stderr",
     "output_type": "stream",
     "text": [
      "100%|██████████| 80/80 [00:00<00:00, 516.68it/s]\n"
     ]
    },
    {
     "name": "stdout",
     "output_type": "stream",
     "text": [
      "new feedback gain is 18.826844046370944\n",
      "with cost of 6.344705816644968\n",
      "starting epoch 929\n"
     ]
    },
    {
     "name": "stderr",
     "output_type": "stream",
     "text": [
      "100%|██████████| 80/80 [00:00<00:00, 569.83it/s]"
     ]
    },
    {
     "name": "stdout",
     "output_type": "stream",
     "text": [
      "estimation error is 0.08407207340847317\n",
      "calculating optimal controller for estimated system\n",
      "new feedback gain is 18.779602679708535\n",
      "with cost of 6.104195717712413\n"
     ]
    },
    {
     "name": "stderr",
     "output_type": "stream",
     "text": [
      "\n",
      "100%|██████████| 80/80 [00:00<00:00, 619.38it/s]"
     ]
    },
    {
     "name": "stdout",
     "output_type": "stream",
     "text": [
      "starting epoch 930\n",
      "estimation error is 0.08398291134123125\n",
      "calculating optimal controller for estimated system\n",
      "new feedback gain is 18.737085449712367\n",
      "with cost of 5.9015144586209916\n"
     ]
    },
    {
     "name": "stderr",
     "output_type": "stream",
     "text": [
      "\n",
      "  0%|          | 0/80 [00:00<?, ?it/s]"
     ]
    },
    {
     "name": "stdout",
     "output_type": "stream",
     "text": [
      "starting epoch 931\n",
      "estimation error is 0.08391476519967846\n",
      "calculating optimal controller for estimated system\n"
     ]
    },
    {
     "name": "stderr",
     "output_type": "stream",
     "text": [
      "100%|██████████| 80/80 [00:00<00:00, 587.32it/s]\n"
     ]
    },
    {
     "name": "stdout",
     "output_type": "stream",
     "text": [
      "new feedback gain is 18.698819942715815\n",
      "with cost of 5.7293225074187095\n",
      "starting epoch 932\n"
     ]
    },
    {
     "name": "stderr",
     "output_type": "stream",
     "text": [
      "100%|██████████| 80/80 [00:00<00:00, 597.47it/s]"
     ]
    },
    {
     "name": "stdout",
     "output_type": "stream",
     "text": [
      "estimation error is 0.08383971397174589\n",
      "calculating optimal controller for estimated system\n",
      "new feedback gain is 18.66438098641892\n",
      "with cost of 5.582017903131284\n",
      "starting epoch 933\n"
     ]
    },
    {
     "name": "stderr",
     "output_type": "stream",
     "text": [
      "\n",
      "100%|██████████| 80/80 [00:00<00:00, 663.48it/s]"
     ]
    },
    {
     "name": "stdout",
     "output_type": "stream",
     "text": [
      "estimation error is 0.08376261531612647\n",
      "calculating optimal controller for estimated system\n",
      "new feedback gain is 18.633385925751714\n",
      "with cost of 5.4552509660884425\n",
      "starting epoch 934\n"
     ]
    },
    {
     "name": "stderr",
     "output_type": "stream",
     "text": [
      "\n",
      "100%|██████████| 80/80 [00:00<00:00, 581.76it/s]"
     ]
    },
    {
     "name": "stdout",
     "output_type": "stream",
     "text": [
      "estimation error is 0.08368224987076901\n",
      "calculating optimal controller for estimated system\n",
      "new feedback gain is 18.605490371151227\n",
      "with cost of 5.3455939515574045\n"
     ]
    },
    {
     "name": "stderr",
     "output_type": "stream",
     "text": [
      "\n",
      "  0%|          | 0/80 [00:00<?, ?it/s]"
     ]
    },
    {
     "name": "stdout",
     "output_type": "stream",
     "text": [
      "starting epoch 935\n",
      "estimation error is 0.08357449846516406\n",
      "calculating optimal controller for estimated system\n"
     ]
    },
    {
     "name": "stderr",
     "output_type": "stream",
     "text": [
      "100%|██████████| 80/80 [00:00<00:00, 586.81it/s]\n"
     ]
    },
    {
     "name": "stdout",
     "output_type": "stream",
     "text": [
      "new feedback gain is 18.58038437201079\n",
      "with cost of 5.250310328872331\n",
      "starting epoch 936\n"
     ]
    },
    {
     "name": "stderr",
     "output_type": "stream",
     "text": [
      "100%|██████████| 80/80 [00:00<00:00, 719.22it/s]"
     ]
    },
    {
     "name": "stdout",
     "output_type": "stream",
     "text": [
      "estimation error is 0.08348851556715463\n",
      "calculating optimal controller for estimated system\n",
      "new feedback gain is 18.68437125126541\n",
      "with cost of 5.666667259458742\n",
      "starting epoch 937\n"
     ]
    },
    {
     "name": "stderr",
     "output_type": "stream",
     "text": [
      "\n",
      "100%|██████████| 80/80 [00:00<00:00, 436.14it/s]"
     ]
    },
    {
     "name": "stdout",
     "output_type": "stream",
     "text": [
      "estimation error is 0.0833945373720616\n",
      "calculating optimal controller for estimated system\n"
     ]
    },
    {
     "name": "stderr",
     "output_type": "stream",
     "text": [
      "\n"
     ]
    },
    {
     "name": "stdout",
     "output_type": "stream",
     "text": [
      "new feedback gain is 18.651377164113555\n",
      "with cost of 5.528183738002311\n",
      "starting epoch 938\n"
     ]
    },
    {
     "name": "stderr",
     "output_type": "stream",
     "text": [
      "100%|██████████| 80/80 [00:00<00:00, 605.96it/s]"
     ]
    },
    {
     "name": "stdout",
     "output_type": "stream",
     "text": [
      "estimation error is 0.08331685859339705\n",
      "calculating optimal controller for estimated system\n",
      "new feedback gain is 18.7482647641579\n",
      "with cost of 5.953609452999078\n"
     ]
    },
    {
     "name": "stderr",
     "output_type": "stream",
     "text": [
      "\n"
     ]
    },
    {
     "name": "stdout",
     "output_type": "stream",
     "text": [
      "starting epoch 939\n"
     ]
    },
    {
     "name": "stderr",
     "output_type": "stream",
     "text": [
      "100%|██████████| 80/80 [00:00<00:00, 702.51it/s]"
     ]
    },
    {
     "name": "stdout",
     "output_type": "stream",
     "text": [
      "estimation error is 0.08323334511977085\n",
      "calculating optimal controller for estimated system\n",
      "new feedback gain is 18.835463604197805\n",
      "with cost of 6.390451126967803\n",
      "starting epoch 940\n"
     ]
    },
    {
     "name": "stderr",
     "output_type": "stream",
     "text": [
      "\n",
      "100%|██████████| 80/80 [00:00<00:00, 631.05it/s]"
     ]
    },
    {
     "name": "stdout",
     "output_type": "stream",
     "text": [
      "estimation error is 0.08315162751183174\n",
      "calculating optimal controller for estimated system\n",
      "new feedback gain is 18.913942560233725\n",
      "with cost of 6.836146215233542\n",
      "starting epoch 941\n"
     ]
    },
    {
     "name": "stderr",
     "output_type": "stream",
     "text": [
      "\n",
      "100%|██████████| 80/80 [00:00<00:00, 601.80it/s]"
     ]
    },
    {
     "name": "stdout",
     "output_type": "stream",
     "text": [
      "estimation error is 0.08305492496905167\n",
      "calculating optimal controller for estimated system\n",
      "new feedback gain is 18.98457362066605\n",
      "with cost of 7.288176640257839\n"
     ]
    },
    {
     "name": "stderr",
     "output_type": "stream",
     "text": [
      "\n"
     ]
    },
    {
     "name": "stdout",
     "output_type": "stream",
     "text": [
      "starting epoch 942\n"
     ]
    },
    {
     "name": "stderr",
     "output_type": "stream",
     "text": [
      "100%|██████████| 80/80 [00:00<00:00, 679.80it/s]"
     ]
    },
    {
     "name": "stdout",
     "output_type": "stream",
     "text": [
      "estimation error is 0.08296361018773894\n",
      "calculating optimal controller for estimated system\n",
      "new feedback gain is 19.048141575055144\n",
      "with cost of 7.744151282153056\n",
      "starting epoch 943\n"
     ]
    },
    {
     "name": "stderr",
     "output_type": "stream",
     "text": [
      "\n",
      "100%|██████████| 80/80 [00:00<00:00, 719.29it/s]"
     ]
    },
    {
     "name": "stdout",
     "output_type": "stream",
     "text": [
      "estimation error is 0.08286086728828752\n",
      "calculating optimal controller for estimated system\n",
      "new feedback gain is 19.10535273400533\n",
      "with cost of 8.201846960244664\n",
      "starting epoch 944\n"
     ]
    },
    {
     "name": "stderr",
     "output_type": "stream",
     "text": [
      "\n",
      "100%|██████████| 80/80 [00:00<00:00, 713.71it/s]"
     ]
    },
    {
     "name": "stdout",
     "output_type": "stream",
     "text": [
      "estimation error is 0.08276638363411244\n",
      "calculating optimal controller for estimated system\n",
      "new feedback gain is 19.156842777060493\n",
      "with cost of 8.659210256941298\n",
      "starting epoch 945\n"
     ]
    },
    {
     "name": "stderr",
     "output_type": "stream",
     "text": [
      "\n",
      "100%|██████████| 80/80 [00:00<00:00, 488.73it/s]"
     ]
    },
    {
     "name": "stdout",
     "output_type": "stream",
     "text": [
      "estimation error is 0.08266239821865781\n",
      "calculating optimal controller for estimated system\n",
      "new feedback gain is 19.07660153732913\n",
      "with cost of 7.965726026449202\n"
     ]
    },
    {
     "name": "stderr",
     "output_type": "stream",
     "text": [
      "\n"
     ]
    },
    {
     "name": "stdout",
     "output_type": "stream",
     "text": [
      "starting epoch 946\n"
     ]
    },
    {
     "name": "stderr",
     "output_type": "stream",
     "text": [
      "100%|██████████| 80/80 [00:00<00:00, 479.67it/s]"
     ]
    },
    {
     "name": "stdout",
     "output_type": "stream",
     "text": [
      "estimation error is 0.08257946693640329\n",
      "calculating optimal controller for estimated system\n"
     ]
    },
    {
     "name": "stderr",
     "output_type": "stream",
     "text": [
      "\n"
     ]
    },
    {
     "name": "stdout",
     "output_type": "stream",
     "text": [
      "new feedback gain is 19.0043844215709\n",
      "with cost of 7.424886656725865\n",
      "starting epoch 947\n"
     ]
    },
    {
     "name": "stderr",
     "output_type": "stream",
     "text": [
      "100%|██████████| 80/80 [00:00<00:00, 571.34it/s]"
     ]
    },
    {
     "name": "stdout",
     "output_type": "stream",
     "text": [
      "estimation error is 0.0824847212636132\n",
      "calculating optimal controller for estimated system\n",
      "new feedback gain is 19.06597129586951\n",
      "with cost of 7.881604116843449\n"
     ]
    },
    {
     "name": "stderr",
     "output_type": "stream",
     "text": [
      "\n"
     ]
    },
    {
     "name": "stdout",
     "output_type": "stream",
     "text": [
      "starting epoch 948\n"
     ]
    },
    {
     "name": "stderr",
     "output_type": "stream",
     "text": [
      "100%|██████████| 80/80 [00:00<00:00, 645.08it/s]"
     ]
    },
    {
     "name": "stdout",
     "output_type": "stream",
     "text": [
      "estimation error is 0.08239401273265233\n",
      "calculating optimal controller for estimated system\n",
      "new feedback gain is 19.12139948273826\n",
      "with cost of 8.339408505126894\n",
      "starting epoch 949\n"
     ]
    },
    {
     "name": "stderr",
     "output_type": "stream",
     "text": [
      "\n",
      "100%|██████████| 80/80 [00:00<00:00, 732.52it/s]"
     ]
    },
    {
     "name": "stdout",
     "output_type": "stream",
     "text": [
      "estimation error is 0.08228258312652104\n",
      "calculating optimal controller for estimated system\n",
      "new feedback gain is 19.17128485092013\n",
      "with cost of 8.796293164965048\n",
      "starting epoch 950\n"
     ]
    },
    {
     "name": "stderr",
     "output_type": "stream",
     "text": [
      "\n",
      "100%|██████████| 80/80 [00:00<00:00, 574.92it/s]"
     ]
    },
    {
     "name": "stdout",
     "output_type": "stream",
     "text": [
      "estimation error is 0.08219807092374304\n",
      "calculating optimal controller for estimated system\n",
      "new feedback gain is 19.089599403802804\n",
      "with cost of 8.070879554076273\n",
      "starting epoch 951\n"
     ]
    },
    {
     "name": "stderr",
     "output_type": "stream",
     "text": [
      "\n",
      "100%|██████████| 80/80 [00:00<00:00, 804.72it/s]"
     ]
    },
    {
     "name": "stdout",
     "output_type": "stream",
     "text": [
      "estimation error is 0.08212856360275815\n",
      "calculating optimal controller for estimated system\n",
      "new feedback gain is 19.14266477987822\n",
      "with cost of 8.528538539069196\n",
      "starting epoch 952\n"
     ]
    },
    {
     "name": "stderr",
     "output_type": "stream",
     "text": [
      "\n",
      "100%|██████████| 80/80 [00:00<00:00, 706.00it/s]"
     ]
    },
    {
     "name": "stdout",
     "output_type": "stream",
     "text": [
      "estimation error is 0.08204420480236715\n",
      "calculating optimal controller for estimated system\n",
      "new feedback gain is 19.190423618346095\n",
      "with cost of 8.98448901933827\n",
      "starting epoch 953\n"
     ]
    },
    {
     "name": "stderr",
     "output_type": "stream",
     "text": [
      "\n",
      "100%|██████████| 80/80 [00:00<00:00, 718.52it/s]"
     ]
    },
    {
     "name": "stdout",
     "output_type": "stream",
     "text": [
      "estimation error is 0.08195872541984142\n",
      "calculating optimal controller for estimated system\n",
      "new feedback gain is 19.233406572967183\n",
      "with cost of 9.436899538930627\n",
      "starting epoch 954\n"
     ]
    },
    {
     "name": "stderr",
     "output_type": "stream",
     "text": [
      "\n",
      "100%|██████████| 80/80 [00:00<00:00, 972.35it/s]"
     ]
    },
    {
     "name": "stdout",
     "output_type": "stream",
     "text": [
      "estimation error is 0.08187557705900199\n",
      "calculating optimal controller for estimated system\n",
      "new feedback gain is 19.39867351060718\n",
      "with cost of 11.701920383622962\n",
      "starting epoch 955\n"
     ]
    },
    {
     "name": "stderr",
     "output_type": "stream",
     "text": [
      "\n",
      "100%|██████████| 80/80 [00:00<00:00, 997.18it/s]"
     ]
    },
    {
     "name": "stdout",
     "output_type": "stream",
     "text": [
      "estimation error is 0.08180150955169445\n",
      "calculating optimal controller for estimated system\n",
      "new feedback gain is 19.547413754483173\n",
      "with cost of 14.993710374794013\n",
      "starting epoch 956\n"
     ]
    },
    {
     "name": "stderr",
     "output_type": "stream",
     "text": [
      "\n",
      "100%|██████████| 80/80 [00:00<00:00, 929.48it/s]"
     ]
    },
    {
     "name": "stdout",
     "output_type": "stream",
     "text": [
      "estimation error is 0.08172663450183179\n",
      "calculating optimal controller for estimated system\n",
      "new feedback gain is 19.681279973971566\n",
      "with cost of 20.1146614932738\n",
      "starting epoch 957\n"
     ]
    },
    {
     "name": "stderr",
     "output_type": "stream",
     "text": [
      "\n",
      "100%|██████████| 80/80 [00:00<00:00, 1012.81it/s]"
     ]
    },
    {
     "name": "stdout",
     "output_type": "stream",
     "text": [
      "estimation error is 0.08164443377448158\n",
      "calculating optimal controller for estimated system\n",
      "new feedback gain is 19.80175957151112\n",
      "with cost of 28.263052326872568\n",
      "starting epoch 958\n"
     ]
    },
    {
     "name": "stderr",
     "output_type": "stream",
     "text": [
      "\n",
      "100%|██████████| 80/80 [00:00<00:00, 870.44it/s]"
     ]
    },
    {
     "name": "stdout",
     "output_type": "stream",
     "text": [
      "estimation error is 0.08153582372440633\n",
      "calculating optimal controller for estimated system\n",
      "new feedback gain is 19.91019120929672\n",
      "with cost of 40.91416289261653\n",
      "starting epoch 959\n"
     ]
    },
    {
     "name": "stderr",
     "output_type": "stream",
     "text": [
      "\n",
      "100%|██████████| 80/80 [00:00<00:00, 977.37it/s]"
     ]
    },
    {
     "name": "stdout",
     "output_type": "stream",
     "text": [
      "estimation error is 0.08145813144049803\n",
      "calculating optimal controller for estimated system\n",
      "new feedback gain is 20.00777968330376\n",
      "with cost of 59.65235961232639\n",
      "starting epoch 960\n"
     ]
    },
    {
     "name": "stderr",
     "output_type": "stream",
     "text": [
      "\n",
      "100%|██████████| 80/80 [00:00<00:00, 954.67it/s]"
     ]
    },
    {
     "name": "stdout",
     "output_type": "stream",
     "text": [
      "estimation error is 0.0813815487390984\n",
      "calculating optimal controller for estimated system\n",
      "new feedback gain is 20.095609309910095\n",
      "with cost of 86.0464757932642\n",
      "starting epoch 961\n"
     ]
    },
    {
     "name": "stderr",
     "output_type": "stream",
     "text": [
      "\n",
      "100%|██████████| 80/80 [00:00<00:00, 812.69it/s]"
     ]
    },
    {
     "name": "stdout",
     "output_type": "stream",
     "text": [
      "estimation error is 0.0812850212269823\n",
      "calculating optimal controller for estimated system\n",
      "new feedback gain is 20.1746559738558\n",
      "with cost of 121.54739204435451\n",
      "starting epoch 962\n"
     ]
    },
    {
     "name": "stderr",
     "output_type": "stream",
     "text": [
      "\n",
      "100%|██████████| 80/80 [00:00<00:00, 1069.60it/s]"
     ]
    },
    {
     "name": "stdout",
     "output_type": "stream",
     "text": [
      "estimation error is 0.08119475702228157\n",
      "calculating optimal controller for estimated system\n",
      "new feedback gain is 20.24579797140693\n",
      "with cost of 167.37940476480722\n",
      "starting epoch 963\n"
     ]
    },
    {
     "name": "stderr",
     "output_type": "stream",
     "text": [
      "\n",
      "100%|██████████| 80/80 [00:00<00:00, 942.09it/s]"
     ]
    },
    {
     "name": "stdout",
     "output_type": "stream",
     "text": [
      "estimation error is 0.08112664648896149\n",
      "calculating optimal controller for estimated system\n",
      "new feedback gain is 20.30982576920295\n",
      "with cost of 224.4346742835839\n",
      "starting epoch 964\n"
     ]
    },
    {
     "name": "stderr",
     "output_type": "stream",
     "text": [
      "\n",
      "100%|██████████| 80/80 [00:00<00:00, 918.64it/s]"
     ]
    },
    {
     "name": "stdout",
     "output_type": "stream",
     "text": [
      "estimation error is 0.08101919756604099\n",
      "calculating optimal controller for estimated system\n",
      "new feedback gain is 20.367450787219365\n",
      "with cost of 293.1917522851244\n",
      "starting epoch 965\n"
     ]
    },
    {
     "name": "stderr",
     "output_type": "stream",
     "text": [
      "\n",
      "100%|██████████| 80/80 [00:00<00:00, 997.49it/s]"
     ]
    },
    {
     "name": "stdout",
     "output_type": "stream",
     "text": [
      "estimation error is 0.08095228761011554\n",
      "calculating optimal controller for estimated system\n",
      "new feedback gain is 20.41931330343414\n",
      "with cost of 373.6724841472326\n",
      "starting epoch 966\n"
     ]
    },
    {
     "name": "stderr",
     "output_type": "stream",
     "text": [
      "\n",
      "100%|██████████| 80/80 [00:00<00:00, 858.36it/s]"
     ]
    },
    {
     "name": "stdout",
     "output_type": "stream",
     "text": [
      "estimation error is 0.08086707505309024\n",
      "calculating optimal controller for estimated system\n",
      "new feedback gain is 20.46598956802744\n",
      "with cost of 465.4415775602861\n",
      "starting epoch 967\n"
     ]
    },
    {
     "name": "stderr",
     "output_type": "stream",
     "text": [
      "\n",
      "100%|██████████| 80/80 [00:00<00:00, 580.45it/s]"
     ]
    },
    {
     "name": "stdout",
     "output_type": "stream",
     "text": [
      "estimation error is 0.08078301495745017\n",
      "calculating optimal controller for estimated system\n",
      "new feedback gain is 20.507998206161407\n",
      "with cost of 567.6450283519728\n"
     ]
    },
    {
     "name": "stderr",
     "output_type": "stream",
     "text": [
      "\n",
      "100%|██████████| 80/80 [00:00<00:00, 648.58it/s]"
     ]
    },
    {
     "name": "stdout",
     "output_type": "stream",
     "text": [
      "starting epoch 968\n",
      "estimation error is 0.08068811257096456\n",
      "calculating optimal controller for estimated system\n",
      "new feedback gain is 20.545805980481976\n",
      "with cost of 679.07843896792\n"
     ]
    },
    {
     "name": "stderr",
     "output_type": "stream",
     "text": [
      "\n"
     ]
    },
    {
     "name": "stdout",
     "output_type": "stream",
     "text": [
      "starting epoch 969\n"
     ]
    },
    {
     "name": "stderr",
     "output_type": "stream",
     "text": [
      "100%|██████████| 80/80 [00:00<00:00, 701.44it/s]"
     ]
    },
    {
     "name": "stdout",
     "output_type": "stream",
     "text": [
      "estimation error is 0.0805983941891492\n",
      "calculating optimal controller for estimated system\n",
      "new feedback gain is 20.57983297737049\n",
      "with cost of 798.2739608343282\n"
     ]
    },
    {
     "name": "stderr",
     "output_type": "stream",
     "text": [
      "\n"
     ]
    },
    {
     "name": "stdout",
     "output_type": "stream",
     "text": [
      "starting epoch 970\n"
     ]
    },
    {
     "name": "stderr",
     "output_type": "stream",
     "text": [
      "100%|██████████| 80/80 [00:00<00:00, 687.72it/s]"
     ]
    },
    {
     "name": "stdout",
     "output_type": "stream",
     "text": [
      "estimation error is 0.08053171328336262\n",
      "calculating optimal controller for estimated system\n",
      "new feedback gain is 20.61045727457015\n",
      "with cost of 923.5946100372296\n"
     ]
    },
    {
     "name": "stderr",
     "output_type": "stream",
     "text": [
      "\n"
     ]
    },
    {
     "name": "stdout",
     "output_type": "stream",
     "text": [
      "starting epoch 971\n"
     ]
    },
    {
     "name": "stderr",
     "output_type": "stream",
     "text": [
      "100%|██████████| 80/80 [00:00<00:00, 614.78it/s]"
     ]
    },
    {
     "name": "stdout",
     "output_type": "stream",
     "text": [
      "estimation error is 0.0804423941664259\n",
      "calculating optimal controller for estimated system\n",
      "new feedback gain is 20.63801914204985\n",
      "with cost of 1053.3263157909269\n"
     ]
    },
    {
     "name": "stderr",
     "output_type": "stream",
     "text": [
      "\n"
     ]
    },
    {
     "name": "stdout",
     "output_type": "stream",
     "text": [
      "starting epoch 972\n"
     ]
    },
    {
     "name": "stderr",
     "output_type": "stream",
     "text": [
      "100%|██████████| 80/80 [00:00<00:00, 710.42it/s]"
     ]
    },
    {
     "name": "stdout",
     "output_type": "stream",
     "text": [
      "estimation error is 0.08036055010350214\n",
      "calculating optimal controller for estimated system\n",
      "new feedback gain is 20.662824822781577\n",
      "with cost of 1185.7605146620813\n"
     ]
    },
    {
     "name": "stderr",
     "output_type": "stream",
     "text": [
      "\n"
     ]
    },
    {
     "name": "stdout",
     "output_type": "stream",
     "text": [
      "starting epoch 973\n"
     ]
    },
    {
     "name": "stderr",
     "output_type": "stream",
     "text": [
      "100%|██████████| 80/80 [00:00<00:00, 540.37it/s]"
     ]
    },
    {
     "name": "stdout",
     "output_type": "stream",
     "text": [
      "estimation error is 0.0802808814225708\n",
      "calculating optimal controller for estimated system\n"
     ]
    },
    {
     "name": "stderr",
     "output_type": "stream",
     "text": [
      "\n"
     ]
    },
    {
     "name": "stdout",
     "output_type": "stream",
     "text": [
      "new feedback gain is 20.68514993544013\n",
      "with cost of 1319.2627710182874\n",
      "starting epoch 974\n"
     ]
    },
    {
     "name": "stderr",
     "output_type": "stream",
     "text": [
      "100%|██████████| 80/80 [00:00<00:00, 632.81it/s]"
     ]
    },
    {
     "name": "stdout",
     "output_type": "stream",
     "text": [
      "estimation error is 0.08018634989212252\n",
      "calculating optimal controller for estimated system\n",
      "new feedback gain is 20.705242536832827\n",
      "with cost of 1452.3253429492079\n"
     ]
    },
    {
     "name": "stderr",
     "output_type": "stream",
     "text": [
      "\n"
     ]
    },
    {
     "name": "stdout",
     "output_type": "stream",
     "text": [
      "starting epoch 975\n"
     ]
    },
    {
     "name": "stderr",
     "output_type": "stream",
     "text": [
      "100%|██████████| 80/80 [00:00<00:00, 689.92it/s]"
     ]
    },
    {
     "name": "stdout",
     "output_type": "stream",
     "text": [
      "estimation error is 0.08011116514584823\n",
      "calculating optimal controller for estimated system\n",
      "new feedback gain is 20.723325878086257\n",
      "with cost of 1583.6035732867174\n"
     ]
    },
    {
     "name": "stderr",
     "output_type": "stream",
     "text": [
      "\n"
     ]
    },
    {
     "name": "stdout",
     "output_type": "stream",
     "text": [
      "starting epoch 976\n"
     ]
    },
    {
     "name": "stderr",
     "output_type": "stream",
     "text": [
      "100%|██████████| 80/80 [00:00<00:00, 706.69it/s]"
     ]
    },
    {
     "name": "stdout",
     "output_type": "stream",
     "text": [
      "estimation error is 0.08001157090701883\n",
      "calculating optimal controller for estimated system\n",
      "new feedback gain is 20.739600885214344\n",
      "with cost of 1711.937378187847\n",
      "starting epoch 977\n"
     ]
    },
    {
     "name": "stderr",
     "output_type": "stream",
     "text": [
      "\n",
      "100%|██████████| 80/80 [00:00<00:00, 622.66it/s]"
     ]
    },
    {
     "name": "stdout",
     "output_type": "stream",
     "text": [
      "estimation error is 0.07992298047819976\n",
      "calculating optimal controller for estimated system\n",
      "new feedback gain is 20.75424839162962\n",
      "with cost of 1836.359954039376\n"
     ]
    },
    {
     "name": "stderr",
     "output_type": "stream",
     "text": [
      "\n",
      "100%|██████████| 80/80 [00:00<00:00, 616.49it/s]"
     ]
    },
    {
     "name": "stdout",
     "output_type": "stream",
     "text": [
      "starting epoch 978\n",
      "estimation error is 0.07985244619653922\n",
      "calculating optimal controller for estimated system\n",
      "new feedback gain is 20.767431147403368\n",
      "with cost of 1956.0962144943692\n"
     ]
    },
    {
     "name": "stderr",
     "output_type": "stream",
     "text": [
      "\n"
     ]
    },
    {
     "name": "stdout",
     "output_type": "stream",
     "text": [
      "starting epoch 979\n"
     ]
    },
    {
     "name": "stderr",
     "output_type": "stream",
     "text": [
      "100%|██████████| 80/80 [00:00<00:00, 695.97it/s]"
     ]
    },
    {
     "name": "stdout",
     "output_type": "stream",
     "text": [
      "estimation error is 0.07977760324254894\n",
      "calculating optimal controller for estimated system\n",
      "new feedback gain is 20.779295627599744\n",
      "with cost of 2070.553516433227\n",
      "starting epoch 980\n"
     ]
    },
    {
     "name": "stderr",
     "output_type": "stream",
     "text": [
      "\n",
      "100%|██████████| 80/80 [00:00<00:00, 705.54it/s]"
     ]
    },
    {
     "name": "stdout",
     "output_type": "stream",
     "text": [
      "estimation error is 0.07968481388023956\n",
      "calculating optimal controller for estimated system\n",
      "new feedback gain is 20.789973659776482\n",
      "with cost of 2179.3070493349023\n",
      "starting epoch 981\n"
     ]
    },
    {
     "name": "stderr",
     "output_type": "stream",
     "text": [
      "\n",
      "100%|██████████| 80/80 [00:00<00:00, 791.95it/s]"
     ]
    },
    {
     "name": "stdout",
     "output_type": "stream",
     "text": [
      "estimation error is 0.07960542698631985\n",
      "calculating optimal controller for estimated system\n",
      "new feedback gain is 20.799583888735544\n",
      "with cost of 2282.0819443647124\n",
      "starting epoch 982\n"
     ]
    },
    {
     "name": "stderr",
     "output_type": "stream",
     "text": [
      "\n",
      "100%|██████████| 80/80 [00:00<00:00, 693.14it/s]"
     ]
    },
    {
     "name": "stdout",
     "output_type": "stream",
     "text": [
      "estimation error is 0.07954982315945035\n",
      "calculating optimal controller for estimated system\n",
      "new feedback gain is 20.8082330947987\n",
      "with cost of 2378.7337831414593\n",
      "starting epoch 983\n"
     ]
    },
    {
     "name": "stderr",
     "output_type": "stream",
     "text": [
      "\n",
      "100%|██████████| 80/80 [00:00<00:00, 606.19it/s]"
     ]
    },
    {
     "name": "stdout",
     "output_type": "stream",
     "text": [
      "estimation error is 0.07946415801461061\n",
      "calculating optimal controller for estimated system\n",
      "new feedback gain is 20.816017380255545\n",
      "with cost of 2469.2288051316846\n"
     ]
    },
    {
     "name": "stderr",
     "output_type": "stream",
     "text": [
      "\n"
     ]
    },
    {
     "name": "stdout",
     "output_type": "stream",
     "text": [
      "starting epoch 984\n"
     ]
    },
    {
     "name": "stderr",
     "output_type": "stream",
     "text": [
      "100%|██████████| 80/80 [00:00<00:00, 640.51it/s]"
     ]
    },
    {
     "name": "stdout",
     "output_type": "stream",
     "text": [
      "estimation error is 0.07938586571762353\n",
      "calculating optimal controller for estimated system\n",
      "new feedback gain is 20.8230232371667\n",
      "with cost of 2553.6247608361073\n"
     ]
    },
    {
     "name": "stderr",
     "output_type": "stream",
     "text": [
      "\n"
     ]
    },
    {
     "name": "stdout",
     "output_type": "stream",
     "text": [
      "starting epoch 985\n"
     ]
    },
    {
     "name": "stderr",
     "output_type": "stream",
     "text": [
      "100%|██████████| 80/80 [00:00<00:00, 721.52it/s]"
     ]
    },
    {
     "name": "stdout",
     "output_type": "stream",
     "text": [
      "estimation error is 0.07930430631276353\n",
      "calculating optimal controller for estimated system\n",
      "new feedback gain is 20.829328508386745\n",
      "with cost of 2632.053053786151\n",
      "starting epoch 986\n"
     ]
    },
    {
     "name": "stderr",
     "output_type": "stream",
     "text": [
      "\n",
      "100%|██████████| 80/80 [00:00<00:00, 651.50it/s]"
     ]
    },
    {
     "name": "stdout",
     "output_type": "stream",
     "text": [
      "estimation error is 0.07922595709159583\n",
      "calculating optimal controller for estimated system\n",
      "new feedback gain is 20.835003252484782\n",
      "with cost of 2704.7025650022442\n"
     ]
    },
    {
     "name": "stderr",
     "output_type": "stream",
     "text": [
      "\n"
     ]
    },
    {
     "name": "stdout",
     "output_type": "stream",
     "text": [
      "starting epoch 987\n"
     ]
    },
    {
     "name": "stderr",
     "output_type": "stream",
     "text": [
      "100%|██████████| 80/80 [00:00<00:00, 706.59it/s]"
     ]
    },
    {
     "name": "stdout",
     "output_type": "stream",
     "text": [
      "estimation error is 0.07914947809990142\n",
      "calculating optimal controller for estimated system\n",
      "new feedback gain is 20.840110522173017\n",
      "with cost of 2771.8053586263313\n"
     ]
    },
    {
     "name": "stderr",
     "output_type": "stream",
     "text": [
      "\n"
     ]
    },
    {
     "name": "stdout",
     "output_type": "stream",
     "text": [
      "starting epoch 988\n"
     ]
    },
    {
     "name": "stderr",
     "output_type": "stream",
     "text": [
      "100%|██████████| 80/80 [00:00<00:00, 640.11it/s]"
     ]
    },
    {
     "name": "stdout",
     "output_type": "stream",
     "text": [
      "estimation error is 0.07907597790554474\n",
      "calculating optimal controller for estimated system\n",
      "new feedback gain is 20.844707064892425\n",
      "with cost of 2833.624322093822\n",
      "starting epoch 989\n"
     ]
    },
    {
     "name": "stderr",
     "output_type": "stream",
     "text": [
      "\n",
      "100%|██████████| 80/80 [00:00<00:00, 588.47it/s]"
     ]
    },
    {
     "name": "stdout",
     "output_type": "stream",
     "text": [
      "estimation error is 0.07896209836704425\n",
      "calculating optimal controller for estimated system\n",
      "new feedback gain is 20.848843953339895\n",
      "with cost of 2890.4426914043406\n"
     ]
    },
    {
     "name": "stderr",
     "output_type": "stream",
     "text": [
      "\n"
     ]
    },
    {
     "name": "stdout",
     "output_type": "stream",
     "text": [
      "starting epoch 990\n"
     ]
    },
    {
     "name": "stderr",
     "output_type": "stream",
     "text": [
      "100%|██████████| 80/80 [00:00<00:00, 542.53it/s]"
     ]
    },
    {
     "name": "stdout",
     "output_type": "stream",
     "text": [
      "estimation error is 0.07887918990906326\n",
      "calculating optimal controller for estimated system\n",
      "new feedback gain is 20.852567152942616\n",
      "with cost of 2942.555344014844\n"
     ]
    },
    {
     "name": "stderr",
     "output_type": "stream",
     "text": [
      "\n"
     ]
    },
    {
     "name": "stdout",
     "output_type": "stream",
     "text": [
      "starting epoch 991\n"
     ]
    },
    {
     "name": "stderr",
     "output_type": "stream",
     "text": [
      "100%|██████████| 80/80 [00:00<00:00, 554.90it/s]"
     ]
    },
    {
     "name": "stdout",
     "output_type": "stream",
     "text": [
      "estimation error is 0.07881962880422035\n",
      "calculating optimal controller for estimated system\n",
      "new feedback gain is 20.855918032585066\n",
      "with cost of 2990.2617010773506\n"
     ]
    },
    {
     "name": "stderr",
     "output_type": "stream",
     "text": [
      "\n"
     ]
    },
    {
     "name": "stdout",
     "output_type": "stream",
     "text": [
      "starting epoch 992\n"
     ]
    },
    {
     "name": "stderr",
     "output_type": "stream",
     "text": [
      "100%|██████████| 80/80 [00:00<00:00, 587.24it/s]"
     ]
    },
    {
     "name": "stdout",
     "output_type": "stream",
     "text": [
      "estimation error is 0.07873711326963417\n",
      "calculating optimal controller for estimated system\n",
      "new feedback gain is 20.85893382426327\n",
      "with cost of 3033.8600604649573\n"
     ]
    },
    {
     "name": "stderr",
     "output_type": "stream",
     "text": [
      "\n"
     ]
    },
    {
     "name": "stdout",
     "output_type": "stream",
     "text": [
      "starting epoch 993\n"
     ]
    },
    {
     "name": "stderr",
     "output_type": "stream",
     "text": [
      "100%|██████████| 80/80 [00:00<00:00, 681.63it/s]"
     ]
    },
    {
     "name": "stdout",
     "output_type": "stream",
     "text": [
      "estimation error is 0.07865293906360699\n",
      "calculating optimal controller for estimated system\n",
      "new feedback gain is 20.861648036773655\n",
      "with cost of 3073.6431765436796\n",
      "starting epoch 994\n"
     ]
    },
    {
     "name": "stderr",
     "output_type": "stream",
     "text": [
      "\n",
      "100%|██████████| 80/80 [00:00<00:00, 602.93it/s]"
     ]
    },
    {
     "name": "stdout",
     "output_type": "stream",
     "text": [
      "estimation error is 0.07858315889280792\n",
      "calculating optimal controller for estimated system\n",
      "new feedback gain is 20.864090828033\n",
      "with cost of 3109.8949073319745\n"
     ]
    },
    {
     "name": "stderr",
     "output_type": "stream",
     "text": [
      "\n"
     ]
    },
    {
     "name": "stdout",
     "output_type": "stream",
     "text": [
      "starting epoch 995\n"
     ]
    },
    {
     "name": "stderr",
     "output_type": "stream",
     "text": [
      "100%|██████████| 80/80 [00:00<00:00, 579.18it/s]"
     ]
    },
    {
     "name": "stdout",
     "output_type": "stream",
     "text": [
      "estimation error is 0.07848453585938979\n",
      "calculating optimal controller for estimated system\n",
      "new feedback gain is 20.86628934016641\n",
      "with cost of 3142.887760913728\n"
     ]
    },
    {
     "name": "stderr",
     "output_type": "stream",
     "text": [
      "\n"
     ]
    },
    {
     "name": "stdout",
     "output_type": "stream",
     "text": [
      "starting epoch 996\n"
     ]
    },
    {
     "name": "stderr",
     "output_type": "stream",
     "text": [
      "100%|██████████| 80/80 [00:00<00:00, 911.63it/s]"
     ]
    },
    {
     "name": "stdout",
     "output_type": "stream",
     "text": [
      "estimation error is 0.0784015472435816\n",
      "calculating optimal controller for estimated system\n",
      "new feedback gain is 20.99485027956749\n",
      "with cost of 5827.168599775955\n",
      "starting epoch 997\n"
     ]
    },
    {
     "name": "stderr",
     "output_type": "stream",
     "text": [
      "\n",
      "100%|██████████| 80/80 [00:00<00:00, 676.73it/s]"
     ]
    },
    {
     "name": "stdout",
     "output_type": "stream",
     "text": [
      "estimation error is 0.07831846630141308\n",
      "calculating optimal controller for estimated system\n",
      "new feedback gain is 20.983972846547452\n",
      "with cost of 5530.532487745128\n"
     ]
    },
    {
     "name": "stderr",
     "output_type": "stream",
     "text": [
      "\n",
      "100%|██████████| 80/80 [00:00<00:00, 1026.30it/s]"
     ]
    },
    {
     "name": "stdout",
     "output_type": "stream",
     "text": [
      "starting epoch 998\n",
      "estimation error is 0.07825422969488528\n",
      "calculating optimal controller for estimated system\n",
      "new feedback gain is 21.10076543531043\n",
      "with cost of 9690.865336224464\n",
      "starting epoch 999\n"
     ]
    },
    {
     "name": "stderr",
     "output_type": "stream",
     "text": [
      "\n",
      "100%|██████████| 80/80 [00:00<00:00, 831.26it/s]"
     ]
    },
    {
     "name": "stdout",
     "output_type": "stream",
     "text": [
      "estimation error is 0.07817477896536235\n",
      "calculating optimal controller for estimated system\n",
      "new feedback gain is 21.205878765197106\n",
      "with cost of 16047.713957239144\n"
     ]
    },
    {
     "name": "stderr",
     "output_type": "stream",
     "text": [
      "\n"
     ]
    }
   ],
   "source": [
    "np.random.seed(42)\n",
    "\n",
    "A = np.random.normal(0,1, (5,5))*.2\n",
    "\n",
    "B = np.random.normal(0,1,(5,))*.2\n",
    "\n",
    "C = np.random.normal(0,1,(5,))*.2\n",
    "\n",
    "v = .1\n",
    "\n",
    "f= .5\n",
    "\n",
    "\n",
    "system = LTISystem(A,B,C,f,v,v)\n",
    "\n",
    "# hinf = system.HinfinityNorm(closedLoop=True)\n",
    "\n",
    "\n",
    "\n",
    "G = system.markovParametersScaled/system.f\n",
    "\n",
    "hankel = system.constructHankel(G,20) + .1*np.random.normal(0,1,(20,20))\n",
    "\n",
    "\n",
    "Aest,Best,Cest = system.hoKalman(hankel,n=5)\n",
    "\n",
    "# feedbackvalue,gain = system.optimalControlHinfinity(fmin = -20,fmax = 20)\n",
    "\n",
    "text = input(\"write continue to continue\")\n",
    "assert text == 'continue'\n",
    "\n",
    "\n",
    "\n",
    "\n",
    "regret,fvals,error_over_time = system.adaptiveControl(num_epochs =  1000,n=5,threshold = .00001)"
   ]
  },
  {
   "cell_type": "code",
   "execution_count": 385,
   "metadata": {},
   "outputs": [
    {
     "data": {
      "image/png": "[encoded data removed]",
      "text/plain": [
       "<Figure size 432x288 with 1 Axes>"
      ]
     },
     "metadata": {
      "needs_background": "light"
     },
     "output_type": "display_data"
    },
    {
     "data": {
      "image/png": "[encoded data removed]",
      "text/plain": [
       "<Figure size 432x288 with 1 Axes>"
      ]
     },
     "metadata": {
      "needs_background": "light"
     },
     "output_type": "display_data"
    },
    {
     "data": {
      "image/png": "[encoded data removed]",
      "text/plain": [
       "<Figure size 432x288 with 1 Axes>"
      ]
     },
     "metadata": {
      "needs_background": "light"
     },
     "output_type": "display_data"
    }
   ],
   "source": [
    "plt.figure()\n",
    "plt.plot(np.ones(len(fvals))*feedbackvalue,label = 'optimal feedback gain')\n",
    "plt.plot(fvals,label = 'estimated feedback')\n",
    "plt.legend()\n",
    "plt.show()\n",
    "\n",
    "plt.figure()\n",
    "plt.plot(error_over_time)\n",
    "plt.show()\n",
    "\n",
    "plt.figure()\n",
    "plt.plot(regret)\n",
    "plt.show()"
   ]
  },
  {
   "cell_type": "code",
   "execution_count": 206,
   "metadata": {},
   "outputs": [
    {
     "name": "stderr",
     "output_type": "stream",
     "text": [
      "\r",
      "  0%|          | 0/100 [00:00<?, ?it/s]"
     ]
    },
    {
     "name": "stdout",
     "output_type": "stream",
     "text": [
      "Closed Loop max eigenvalue is: \n",
      "0.05103287545439515\n",
      "Closed Loop max eigenvalue is: \n",
      "0.37967834619399893\n",
      "Closed Loop max eigenvalue is: \n",
      "0.40782057906850705\n"
     ]
    },
    {
     "name": "stderr",
     "output_type": "stream",
     "text": [
      "100%|██████████| 100/100 [02:18<00:00,  1.38s/it]\n"
     ]
    }
   ],
   "source": [
    "#make plot of variance vs cmin\n",
    "from tqdm import tqdm\n",
    "\n",
    "variances = np.linspace(.1,10,100)\n",
    "\n",
    "A1 = np.random.normal(0,1, (5,5))*.01\n",
    "\n",
    "B1 = np.random.normal(0,1,(5,))*.5\n",
    "\n",
    "C1 = np.random.normal(0,1,(5,))*.5\n",
    "\n",
    "f1 = -.1\n",
    "\n",
    "system1 = LTISystem(A1,B1,C1,f1,1,1)\n",
    "\n",
    "\n",
    "A2 = np.random.normal(0,1, (5,5))*.15\n",
    "\n",
    "B2 = np.random.normal(0,1,(5,))*.5\n",
    "\n",
    "C2 = np.random.normal(0,1,(5,))*.5\n",
    "\n",
    "f2 = -.1\n",
    "\n",
    "system2 = LTISystem(A2,B2,C2,f2,1,1)\n",
    "\n",
    "\n",
    "A3 = np.random.normal(0,1, (20,20))*.1\n",
    "\n",
    "B3 = np.random.normal(0,1,(20,))*.3\n",
    "\n",
    "C3 = np.random.normal(0,1,(20,))*.3\n",
    "\n",
    "f3 = -.1\n",
    "\n",
    "system3 = LTISystem(A3,B3,C3,f3,1,1)\n",
    "\n",
    "\n",
    "cmin1 = []\n",
    "cmin2 = []\n",
    "cmin3 = []\n",
    "\n",
    "vartouse = np.sqrt(variances)\n",
    "\n",
    "\n",
    "for i in tqdm(range(len(variances))):\n",
    "    system1.set_variance(vartouse[i])\n",
    "    system2.set_variance(vartouse[i])\n",
    "    system3.set_variance(vartouse[i])\n",
    "    cmin1.append(system1.cmin_calculator())\n",
    "    cmin2.append(system2.cmin_calculator())\n",
    "    cmin3.append(system3.cmin_calculator())\n",
    "    system1.wipe()\n",
    "    system2.wipe()\n",
    "    system3.wipe()\n",
    "    \n",
    "\n",
    "\n",
    "# system.cmin_calculator()"
   ]
  },
  {
   "cell_type": "code",
   "execution_count": null,
   "metadata": {},
   "outputs": [],
   "source": []
  },
  {
   "cell_type": "code",
   "execution_count": 210,
   "metadata": {},
   "outputs": [
    {
     "data": {
      "image/png": "[encoded data removed]",
      "text/plain": [
       "<Figure size 432x288 with 1 Axes>"
      ]
     },
     "metadata": {
      "needs_background": "light"
     },
     "output_type": "display_data"
    }
   ],
   "source": [
    "plt.figure()\n",
    "# plt.scatter(variances,cmin1, label = 'System 1')\n",
    "plt.scatter(variances,cmin2, label = 'System 1')\n",
    "plt.scatter(variances,cmin3, label = 'System 2')\n",
    "plt.legend()\n",
    "plt.title(r\"Lower bound of $Z_T$ Scaling with Noise Magnitude\")\n",
    "plt.xlabel(r'$\\sigma_w^2 = \\sigma_v^2$',fontsize = 14)\n",
    "plt.ylabel(r'$c_{min}$',fontsize = 15)\n",
    "plt.savefig('cminplot.png',bbox_inches='tight')\n",
    "plt.show()"
   ]
  },
  {
   "cell_type": "code",
   "execution_count": 123,
   "metadata": {},
   "outputs": [
    {
     "name": "stderr",
     "output_type": "stream",
     "text": [
      "/Users/daltonjones/opt/anaconda3/lib/python3.8/site-packages/scipy/signal/filter_design.py:1625: BadCoefficients: Badly conditioned filter coefficients (numerator): the results may be meaningless\n",
      "  warnings.warn(\"Badly conditioned filter coefficients (numerator): the \"\n"
     ]
    },
    {
     "name": "stdout",
     "output_type": "stream",
     "text": [
      "Closed Loop max eigenvalue is: \n",
      "0.32475857359060506\n",
      "Closed Loop max eigenvalue is: \n",
      "0.32475857359060506\n",
      "Closed Loop max eigenvalue is: \n",
      "0.32475857359060506\n"
     ]
    },
    {
     "data": {
      "image/png": "[encoded data removed]",
      "text/plain": [
       "<Figure size 432x288 with 1 Axes>"
      ]
     },
     "metadata": {
      "needs_background": "light"
     },
     "output_type": "display_data"
    }
   ],
   "source": [
    "\n",
    "A = np.random.normal(0,1, (10,10))*.1\n",
    "\n",
    "B = np.random.normal(0,1,(10,))*.5\n",
    "\n",
    "C = np.random.normal(0,1,(10,))*.5\n",
    "\n",
    "\n",
    "f = -.1\n",
    "\n",
    "\n",
    "system = LTISystem(A,B,C,f,.1,.1)\n",
    "\n",
    "system.simulate_in_closed_loop(1000)\n",
    "output1 = system.outputs\n",
    "\n",
    "yvals1 = []\n",
    "for i in range(30,530):\n",
    "    yvals1.append(np.array(output1[i-30:i]))\n",
    "yvals1 = np.array(yvals1)\n",
    "\n",
    "y1 = np.array(output1[30:30+500])\n",
    "\n",
    "\n",
    "\n",
    "\n",
    "system = LTISystem(A,B,C,f,10,10)\n",
    "\n",
    "\n",
    "system.simulate_in_closed_loop(1000)\n",
    "output2 = system.outputs\n",
    "\n",
    "# plt.figure()\n",
    "# plt.plot(output2)\n",
    "# plt.show()\n",
    "\n",
    "yvals2 = []\n",
    "for i in range(30,530):\n",
    "    yvals2.append(np.array(output2[i-30:i]))\n",
    "yvals2 = np.array(yvals2)\n",
    "\n",
    "y2 = np.array(output2[30:30+500])\n",
    "\n",
    "\n",
    "system = LTISystem(A,B,C,f,1000,1000)\n",
    "\n",
    "\n",
    "system.simulate_in_closed_loop(1000)\n",
    "output3 = system.outputs\n",
    "\n",
    "# plt.figure()\n",
    "# plt.plot(output3)\n",
    "# plt.show()\n",
    "\n",
    "yvals3 = []\n",
    "for i in range(30,530):\n",
    "    yvals3.append(np.array(output3[i-30:i]))\n",
    "yvals3 = np.array(yvals3)\n",
    "\n",
    "y3 = np.array(output3[30:30+500])\n",
    "\n",
    "normvals1 = []\n",
    "normvals2 = []\n",
    "normvals3 = []\n",
    "\n",
    "#time window 30\n",
    "\n",
    "Tvals = np.arange(50,300)\n",
    "\n",
    "for t in Tvals:\n",
    "    mat11 = np.linalg.inv(yvals1[:t,:].T.dot(yvals1[:t,:]))\n",
    "    mat12 = yvals1[:t,:].T.dot(y1[:t])\n",
    "    \n",
    "    normvals1.append(np.linalg.norm(mat12)*np.linalg.norm(mat11))\n",
    "    \n",
    "    mat21 = np.linalg.inv(yvals2[:t,:].T.dot(yvals2[:t,:]))\n",
    "    mat22 = yvals2[:t,:].T.dot(y2[:t])\n",
    "    \n",
    "    normvals2.append(np.linalg.norm(mat22)*np.linalg.norm(mat21))\n",
    "    \n",
    "    mat31 = np.linalg.inv(yvals3[:t,:].T.dot(yvals3[:t,:]))\n",
    "    mat32 = yvals3[:t,:].T.dot(y3[:t])\n",
    "    \n",
    "    normvals3.append(np.linalg.norm(mat32)*np.linalg.norm(mat31))\n",
    "    \n",
    "plt.figure()\n",
    "plt.plot(Tvals,normvals1,label = r\"$\\sigma_w = \\sigma_v = .1$\")\n",
    "plt.plot(Tvals,normvals2,label = r\"$\\sigma_w = \\sigma_v = 10$\")\n",
    "plt.plot(Tvals,normvals3,label = r\"$\\sigma_w = \\sigma_v = 1000$\")\n",
    "plt.ylabel(r\"$||Z_T^{-1}||_F||S_T||_F$\")\n",
    "plt.xlabel(\"T (Sample Size)\")\n",
    "plt.legend()\n",
    "plt.title(\"Components of Least Square Solutions \\n Grow Commensurately With Noise Magnitude\")\n",
    "plt.savefig('SigmaCollapse2.png',bbox_inches='tight')\n",
    "plt.show()\n",
    "\n",
    "\n"
   ]
  },
  {
   "cell_type": "code",
   "execution_count": null,
   "metadata": {},
   "outputs": [],
   "source": [
    "assert False\n",
    "    \n",
    "\n",
    "\n",
    "G_hat,err = system.estimate_markov_parameters(window = 10,T=200,num_iter=400, run = True)\n",
    "\n",
    "print(G_hat)\n",
    "print(err)\n",
    "\n",
    "assert False\n",
    "\n",
    "cov,lambda_min = system.calculate_empirical_variance(5,20)\n",
    "\n",
    "# print(lambda_min)\n",
    "\n",
    "lambdas = []\n",
    "\n",
    "Tvals = np.arange(10,150)\n",
    "for T in Tvals:\n",
    "    \n",
    "    cov,l = system.calculate_empirical_variance(5,T,200)\n",
    "    lambdas.append(l)\n",
    "    \n",
    "plt.figure()\n",
    "plt.scatter(Tvals,lambdas)\n",
    "plt.show()\n",
    "    "
   ]
  },
  {
   "cell_type": "code",
   "execution_count": 62,
   "metadata": {},
   "outputs": [
    {
     "data": {
      "text/plain": [
       "array([[62.95387548, 34.82074433, 24.58178407, 27.84490816, 25.61774176],\n",
       "       [34.82074433, 62.59611989, 33.88415733, 22.63872558, 25.8276781 ],\n",
       "       [24.58178407, 33.88415733, 63.62371875, 24.45973796, 10.25951504],\n",
       "       [27.84490816, 22.63872558, 24.45973796, 58.47771449, 22.35226424],\n",
       "       [25.61774176, 25.8276781 , 10.25951504, 22.35226424, 61.58362277]])"
      ]
     },
     "execution_count": 62,
     "metadata": {},
     "output_type": "execute_result"
    }
   ],
   "source": [
    "cov"
   ]
  },
  {
   "cell_type": "code",
   "execution_count": 45,
   "metadata": {},
   "outputs": [
    {
     "name": "stdout",
     "output_type": "stream",
     "text": [
      "[[ 0.42  -0.271  0.25  -0.1  ]\n",
      " [ 1.     0.     0.     0.   ]\n",
      " [ 0.     1.     0.     0.   ]\n",
      " [ 0.     0.     1.     0.   ]]\n",
      "0.6430510969328234\n"
     ]
    },
    {
     "data": {
      "text/plain": [
       "[<matplotlib.lines.Line2D at 0x7f9c708e00a0>]"
      ]
     },
     "execution_count": 45,
     "metadata": {},
     "output_type": "execute_result"
    },
    {
     "data": {
      "image/png": "[encoded data removed]",
      "text/plain": [
       "<Figure size 432x288 with 1 Axes>"
      ]
     },
     "metadata": {
      "needs_background": "light"
     },
     "output_type": "display_data"
    }
   ],
   "source": [
    "coeffs = np.array([.42,-.271,.25,-.1])\n",
    "\n",
    "#try making matrix...\n",
    "\n",
    "coeffs_mat = np.zeros((4,4))\n",
    "\n",
    "coeffs_mat[0,:] = coeffs\n",
    "coeffs_mat[1:,:3] = np.eye(3)\n",
    "\n",
    "print(coeffs_mat)\n",
    "\n",
    "\n",
    "print(np.max(np.abs(np.linalg.eigvals(coeffs_mat))))\n",
    "\n",
    "\n",
    "\n",
    "y = np.array([1,2,-1,.5])\n",
    "\n",
    "y_list = [y[-1]]\n",
    "\n",
    "for i in range(100):\n",
    "    y = coeffs_mat.dot(y)\n",
    "    y_list.append(y[-1])\n",
    "    \n",
    "\n",
    "plt.plot(y_list)\n",
    "    \n",
    "    \n",
    "    "
   ]
  },
  {
   "cell_type": "code",
   "execution_count": 159,
   "metadata": {},
   "outputs": [
    {
     "name": "stdout",
     "output_type": "stream",
     "text": [
      "0.9379797651759967\n",
      "[0.0037099784732466516, 0.0054094057310715175, 0.007475158174704547, 0.009898078051682267, 0.01265783542942965, 0.01572491973978124, 0.019062696117423592, 0.022629411315105125, 0.02638007073892864, 0.030268136519313857, 0.034247017974858594, 0.03827134166034531, 9.223330447945822e-16, 1.0449416080589952e-15, 1.1655006127285608e-15, 1.2047502978955266e-15, 1.3092471128191966e-15, 1.3664806115641616e-15, 3.8100346458430455e-15, 3.810075834214083e-15, 3.810063153984394e-15, 3.810027445430209e-15, 3.809988150551481e-15, 3.8099567119499686e-15, 3.8099390799055015e-15, 3.809937542543415e-15, 3.80995204526049e-15, 6.604638215756615e-15, 3.960835157317162e-15, 3.810073859391743e-15, 3.810132434355387e-15, 7.137949722507565e-15, 6.233205563808157e-15, 4.608159638824283e-15, 3.81039595907907e-15, 4.388702308588015e-15, 5.620128483305514e-15, 6.865489140690106e-15, 8.455549827594776e-15, 9.52275194047401e-15, 8.045960590018943e-15, 9.323405941395282e-15, 1.0482551184929503e-14, 1.3442198761850112e-14, 8.716159945225074e-15, 1.2554153542001884e-14, 7.936507616828956e-15, 1.1256674995867178e-14, 1.4912319223360492e-14, 1.1578113730648237e-14, 1.0611493095935971e-14, 6.802437931098709e-15, 9.177697642877509e-15, 8.702752023809728e-15, 1.1301354573497288e-14, 1.4555376204750946e-14, 1.797135753786655e-14, 1.0775812898224336e-14, 9.821497886814634e-15, 7.959665910508962e-15, 1.7909594679138668e-14, 1.7683966199761517e-14, 6.715739447859893e-15, 1.5251205749874985e-14, 1.5298395503720413e-14, 1.762897433724328e-14, 9.040019253017465e-15, 1.3901053375272206e-14, 1.439001111832425e-14, 2.0616300875523645e-14, 1.770334577992527e-14, 1.8272677072306752e-14, 2.0626621747987862e-14, 2.281625719181673e-14, 2.7160839770310732e-14, 3.233427865248966e-14, 3.427585482486149e-14, 3.837845900917126e-14, 4.1487177343202215e-14, 4.484648715579122e-14, 5.304784951838217e-14, 5.612788154779654e-14, 6.499687135767291e-14, 7.283072034093412e-14, 7.806054169550951e-14, 8.600115038645129e-14, 9.570692767888716e-14, 1.0340300399587772e-13, 1.161412944671481e-13, 1.272359032533862e-13, 1.3531888584710317e-13, 1.4870438388935417e-13]\n"
     ]
    },
    {
     "data": {
      "image/png": "[encoded data removed]",
      "text/plain": [
       "<Figure size 432x288 with 1 Axes>"
      ]
     },
     "metadata": {
      "needs_background": "light"
     },
     "output_type": "display_data"
    }
   ],
   "source": [
    "# np.random.seed(3)\n",
    "\n",
    "# A_0 = np.round(np.random.normal(0,1,(10,10))/6,2)\n",
    "A_0 = np.eye(10)*.9+.1*np.round(np.random.normal(0,1,(10,10))/6,2)\n",
    "B_0 = np.ones((10,1))\n",
    "C_0 = np.ones((1,10))\n",
    "\n",
    "print(np.max(np.abs(np.linalg.eigvals(A_0))))\n",
    "\n",
    "C_0.dot(A_0.dot(B_0))[0,0]\n",
    "\n",
    "\n",
    "hankel_sing_val_mins =[]\n",
    "\n",
    "for i in range(8,100):\n",
    "    hank = np.zeros((i,i))\n",
    "    for j in range(i):\n",
    "        for k in range(i):\n",
    "            hank[j,k] = C_0.dot(np.linalg.matrix_power(A_0,j+k).dot(B_0))[0,0]\n",
    "    \n",
    "    _, s, _ = np.linalg.svd(hank, full_matrices=True)\n",
    "    \n",
    "    if len(s)<20:\n",
    "        s = np.array(list(filter(lambda a: a > .001, s)))\n",
    "    \n",
    "#     print(s)\n",
    "        try:\n",
    "            hankel_sing_val_mins.append(np.min(s))\n",
    "        except:\n",
    "            pass\n",
    "        \n",
    "    else:\n",
    "        hankel_sing_val_mins.append(s[9])\n",
    "#         print(s)\n",
    "#         assert False\n",
    "    \n",
    "print(hankel_sing_val_mins)\n",
    "plt.figure()\n",
    "plt.plot(hankel_sing_val_mins)\n",
    "plt.show()\n",
    "    "
   ]
  },
  {
   "cell_type": "code",
   "execution_count": 263,
   "metadata": {},
   "outputs": [],
   "source": [
    "def jury ( p ) :\n",
    "    \"\"\"\n",
    "    Função para verificar se um sistema é ou não\n",
    "    estável, utilizando o critério de Jury.\n",
    "    ---\n",
    "    Function to verify the stability of a system\n",
    "    according to Jury criterion.\n",
    "    \"\"\"\n",
    "\n",
    "    debug = False\n",
    "\n",
    "    def eval ( p, v ) :\n",
    "        \"\"\"\n",
    "        Função para calcular um valor 'v' aplicado\n",
    "        em um polinômio 'p'\n",
    "        ----\n",
    "        Function to evaluate a value 'v' in a poly-\n",
    "        nom 'p'\n",
    "        \"\"\"\n",
    "        res = 0\n",
    "        for i in range( len(p) ): \n",
    "            res += p[::-1][i] * ( v ** ( i ))\n",
    "        return res\n",
    "    \n",
    "    def printa ( a ) :\n",
    "        \"\"\"\n",
    "        Função para imprimir uma lista de coefici-\n",
    "        entes.\n",
    "        ----\n",
    "        Function to print a line of coefficients in\n",
    "        forward and reverse order.\n",
    "        \"\"\"\n",
    "        if len(a) > 0 :\n",
    "            for i in a :\n",
    "                print('%.4f\\t\\t' % round(i, 4), end='')\n",
    "            print()\n",
    "            for i in a[::-1] :\n",
    "                print('%.4f\\t\\t' % round(i, 4), end='')\n",
    "            print()\n",
    "\n",
    "    # Calcula grau do polinômio\n",
    "    n = len(p) - 1\n",
    "\n",
    "    # Verifica primeira condição\n",
    "    if eval ( p, 1 ) <= 0 :\n",
    "        print('1. Sistema instável.')\n",
    "        return\n",
    "\n",
    "    # Verifica segunda condição\n",
    "    if (((-1) ** n ) * eval ( p, -1 )) <= 0 :\n",
    "        print('2. Sistema instável.')\n",
    "        return\n",
    "\n",
    "    # Inverte a ordem dos coeficientes do polinômio\n",
    "    # para que podemos prosseguir com mais facilidade\n",
    "    p = p[::-1]\n",
    "\n",
    "    # Verifica terceira condição\n",
    "    if abs(p[0]) >= abs(p[-1]) :\n",
    "        print('3. Sistema instável.')\n",
    "        return\n",
    "\n",
    "    # Define a linha atual como os coeficientes do \n",
    "    # polinômio\n",
    "    l = p\n",
    "\n",
    "    # Caso estejamos debugando o código, imprime a \n",
    "    # linha\n",
    "    if debug :\n",
    "        printa(l)\n",
    "\n",
    "    # Itera até que tenhamos apenas 1 coeficiente\n",
    "    # restante na linha\n",
    "    for i in range ( n + 1 ) :\n",
    "        # Define nova linha\n",
    "        nl = []\n",
    "        for j in range ( len(l) - 1 ) :\n",
    "            \n",
    "            x0   = l[0]\n",
    "            xk   = l[j]\n",
    "            xn   = l[-1]\n",
    "            xn_k = l[-(j + 1)]\n",
    "\n",
    "            # Calcula o determinante e adiciona na nova linha\n",
    "            nl.append( x0 * xk - xn * xn_k )\n",
    "        \n",
    "        # Define a linha atual como a nova linha\n",
    "        l = nl\n",
    "\n",
    "        # Se o tamanho da linha for maior que 1\n",
    "        # faz o teste de estabilidade:\n",
    "        # |b0| > |bn-1|\n",
    "        # |c0| > |cn-2|\n",
    "        # |d0| > |dn-3|\n",
    "        # ...\n",
    "        if len(l) > 1 :\n",
    "            if abs(l[0]) <= abs(l[-1]) :\n",
    "                print(f'{4 + i}. System Unstable.')\n",
    "                return\n",
    "\n",
    "        # Caso estejamos debugando o código, imprime a \n",
    "        # linha\n",
    "        if debug :\n",
    "            printa(l)\n",
    "\n",
    "    # Se chegar até aqui é porque o sistema é estável\n",
    "    print('System Stable')"
   ]
  },
  {
   "cell_type": "code",
   "execution_count": 273,
   "metadata": {},
   "outputs": [
    {
     "name": "stdout",
     "output_type": "stream",
     "text": [
      "1. Sistema instável.\n"
     ]
    }
   ],
   "source": [
    "jury([-.001,.1,-.005,-.1])"
   ]
  },
  {
   "cell_type": "code",
   "execution_count": 320,
   "metadata": {},
   "outputs": [
    {
     "name": "stderr",
     "output_type": "stream",
     "text": [
      " 31%|███       | 24/77 [00:00<00:00, 227.28it/s]"
     ]
    },
    {
     "name": "stdout",
     "output_type": "stream",
     "text": [
      "1.0423985875584718\n",
      "Closed Loop max eigenvalue is: \n",
      "0.7751779616598338\n"
     ]
    },
    {
     "name": "stderr",
     "output_type": "stream",
     "text": [
      "100%|██████████| 77/77 [00:03<00:00, 21.10it/s] "
     ]
    },
    {
     "name": "stdout",
     "output_type": "stream",
     "text": [
      "[1.2836062790372798, 1.2912370263787674, 1.2935822784986422, 1.294343713504813, 1.2945969026067417, 1.2946819534011778, 1.2947106443691676, 1.2947203394675775, 1.294723617786826, 1.2947247266125466, 1.2947251016878174, 1.2947252285668243, 1.2947252714875557, 1.2947252860068945, 1.294725290918542, 1.29472529258007, 1.2947252931421367, 1.2947252933322755, 1.2947252933965918, 1.2947252934183537, 1.2947252934257123, 1.2947252934282059, 1.2947252934290452, 1.2947252934293298, 1.2947252934294324, 1.2947252934294649, 1.2947252934294764, 1.2947252934294742, 1.2947252934294773, 1.294725293429474, 1.294725293429477, 1.2947252934294802, 1.2947252934294802, 1.2947252934294753, 1.2947252934294748, 1.294725293429481, 1.294725293429478, 1.2947252934294735, 1.2947252934294766, 1.2947252934294766, 1.294725293429482, 1.29472529342948, 1.2947252934294802, 1.2947252934294755, 1.2947252934294808, 1.2947252934294764, 1.2947252934294777, 1.2947252934294766, 1.29472529342947, 1.2947252934294702, 1.2947252934294844, 1.2947252934294862, 1.29472529342948, 1.2947252934294775, 1.2947252934294784, 1.2947252934294746, 1.2947252934294604, 1.2947252934294786, 1.2947252934294728, 1.2947252934294768, 1.294725293429476, 1.2947252934294764, 1.2947252934294877, 1.2947252934294828, 1.2947252934294877, 1.2947252934294837, 1.294725293429485, 1.294725293429485, 1.2947252934294857, 1.2947252934294846, 1.2947252934294842, 1.2947252934294846, 1.2947252934294844, 1.294725293429482, 1.2947252934294833, 1.294725293429473, 1.2947252934294688]\n"
     ]
    },
    {
     "name": "stderr",
     "output_type": "stream",
     "text": [
      "\n"
     ]
    }
   ],
   "source": [
    "from tqdm import tqdm\n",
    "\n",
    "# np.random.seed(5)\n",
    "\n",
    "A_0 = .56*np.random.rand(4,4)\n",
    "B_0 = np.random.normal(0,1,(4,1))\n",
    "B_0/=np.linalg.norm(B_0)\n",
    "C_0 = np.random.normal(0,1,(1,4))\n",
    "C_0/=np.linalg.norm(C_0)\n",
    "\n",
    "print(np.max(np.abs(np.linalg.eigvals(A_0))))\n",
    "f= -1.5\n",
    "\n",
    "sys = StateSpace(A_0, B_0.reshape(len(A_0),1), C_0.reshape(1,len(A_0)), np.array([[0]]))\n",
    "        \n",
    "        \n",
    "transferFunction = tf(sys)\n",
    "\n",
    "num = transferFunction.num\n",
    "den = transferFunction.den\n",
    "\n",
    "padded_num = np.zeros(len(den))\n",
    "\n",
    "padded_num[-len(num):] = num\n",
    "\n",
    "closed_loop_char_poly = f*padded_num+den\n",
    "print('Closed Loop max eigenvalue is: ')\n",
    "print(np.max(np.abs(np.roots(closed_loop_char_poly))))\n",
    "\n",
    "#okay so this is closed loop stable,\n",
    "\n",
    "#build truncated matrix out of the markov paramaters, and see if these are mostly stable (or all stable)\n",
    "\n",
    "\n",
    "markov_params = []\n",
    "for i in range(400):\n",
    "    markov_params.append(f*C_0.dot(np.linalg.matrix_power(A_0,i).dot(B_0))[0,0])\n",
    "\n",
    "markov_params = np.array(markov_params)\n",
    "\n",
    "\n",
    "eigs = []\n",
    "\n",
    "for i in tqdm(range(15,400,5)):\n",
    "    closed_loop_mat = np.zeros((i,i))\n",
    "    closed_loop_mat[0,:] = markov_params[:i]\n",
    "    \n",
    "    closed_loop_mat[1:,:-1] = np.eye(i-1,i-1)\n",
    "    \n",
    "    eigs.append(np.max(np.abs(np.linalg.eigvals(closed_loop_mat))))\n",
    "    \n",
    "#     eigs.append(np.max(np.abs(np.roots(np.flip(np.array(list(markov_params[:i])+[1]))))))\n",
    "print(eigs)\n",
    "\n"
   ]
  },
  {
   "cell_type": "code",
   "execution_count": 319,
   "metadata": {},
   "outputs": [
    {
     "data": {
      "text/plain": [
       "[<matplotlib.lines.Line2D at 0x7f9c5d728b50>]"
      ]
     },
     "execution_count": 319,
     "metadata": {},
     "output_type": "execute_result"
    },
    {
     "data": {
      "image/png": "[encoded data removed]",
      "text/plain": [
       "<Figure size 432x288 with 1 Axes>"
      ]
     },
     "metadata": {
      "needs_background": "light"
     },
     "output_type": "display_data"
    }
   ],
   "source": [
    "plt.plot(eigs)\n"
   ]
  },
  {
   "cell_type": "code",
   "execution_count": 62,
   "metadata": {},
   "outputs": [],
   "source": [
    "a = np.array([0,1,2,3,4,5,6,7,8,9])"
   ]
  },
  {
   "cell_type": "code",
   "execution_count": 66,
   "metadata": {},
   "outputs": [
    {
     "data": {
      "text/plain": [
       "array([1, 2])"
      ]
     },
     "execution_count": 66,
     "metadata": {},
     "output_type": "execute_result"
    }
   ],
   "source": [
    "a[1:3]\n"
   ]
  },
  {
   "cell_type": "code",
   "execution_count": 67,
   "metadata": {},
   "outputs": [
    {
     "data": {
      "text/plain": [
       "array([4, 5, 6, 7, 8, 9])"
      ]
     },
     "execution_count": 67,
     "metadata": {},
     "output_type": "execute_result"
    }
   ],
   "source": [
    "a[4:]"
   ]
  },
  {
   "cell_type": "code",
   "execution_count": 124,
   "metadata": {},
   "outputs": [
    {
     "data": {
      "text/plain": [
       "array([ 0,  1,  4,  9, 16, 25, 36, 49, 64, 81])"
      ]
     },
     "execution_count": 124,
     "metadata": {},
     "output_type": "execute_result"
    }
   ],
   "source": [
    "a**2"
   ]
  },
  {
   "cell_type": "code",
   "execution_count": 244,
   "metadata": {},
   "outputs": [
    {
     "data": {
      "text/plain": [
       "array([6, 7, 8, 9])"
      ]
     },
     "execution_count": 244,
     "metadata": {},
     "output_type": "execute_result"
    }
   ],
   "source": [
    "a[-4:]\n"
   ]
  },
  {
   "cell_type": "code",
   "execution_count": null,
   "metadata": {},
   "outputs": [],
   "source": []
  }
 ],
 "metadata": {
  "kernelspec": {
   "display_name": "Python 3",
   "language": "python",
   "name": "python3"
  },
  "language_info": {
   "codemirror_mode": {
    "name": "ipython",
    "version": 3
   },
   "file_extension": ".py",
   "mimetype": "text/x-python",
   "name": "python",
   "nbconvert_exporter": "python",
   "pygments_lexer": "ipython3",
   "version": "3.8.3"
  }
 },
 "nbformat": 4,
 "nbformat_minor": 4
}
